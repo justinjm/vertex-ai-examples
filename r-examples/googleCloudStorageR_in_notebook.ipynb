{
 "cells": [
  {
   "cell_type": "markdown",
   "id": "e17cfe7f-076f-4b80-a597-fe8f0e12d32a",
   "metadata": {},
   "source": [
    "# Using googleCloudStorageR in Vertex AI Workbench Notebook\n",
    "\n",
    "Quick example of using [googleCloudStorageR](https://code.markedmondson.me/googleCloudStorageR/) in Colab or [Vertex AI Workbench Notebooks](https://cloud.google.com/vertex-ai/docs/workbench/introduction)\n"
   ]
  },
  {
   "cell_type": "markdown",
   "id": "4a90cfd6-dcb5-4969-8160-84a5e121f406",
   "metadata": {},
   "source": [
    "## Setup\n",
    "\n",
    "Use non-interactive auth via gargle in Colab or Vertex Workbench Notebook: [source](https://github.com/cloudyr/googleCloudStorageR/issues/125#issuecomment-647088468)"
   ]
  },
  {
   "cell_type": "code",
   "execution_count": null,
   "id": "12af30c9-c44a-4738-ba11-cc2c6b48521d",
   "metadata": {},
   "outputs": [],
   "source": [
    "install.packages(\"httr\")\n",
    "install.packages(\"R.utils\")\n",
    "install.packages(\"googleCloudStorageR\")"
   ]
  },
  {
   "cell_type": "code",
   "execution_count": null,
   "id": "d2ee92d5-39fb-4492-a62c-e292c8c96d66",
   "metadata": {},
   "outputs": [],
   "source": [
    "if (file.exists(\"/usr/local/lib/python3.6/dist-packages/google/colab/_ipython.py\")) {\n",
    "  library(R.utils)\n",
    "  library(httr)\n",
    "  reassignInPackage(\"is_interactive\", pkgName = \"httr\", function() return(TRUE))\n",
    "}"
   ]
  },
  {
   "cell_type": "code",
   "execution_count": null,
   "id": "6837dfbb-4682-4554-9635-116d8ebf044f",
   "metadata": {},
   "outputs": [],
   "source": [
    "library(googleCloudStorageR)\n",
    "options(\n",
    "  rlang_interactive = TRUE,\n",
    "  gargle_oauth_email = \"your-email-address\",\n",
    "  gargle_oauth_cache = TRUE\n",
    ")\n",
    "tt <- gargle::token_fetch(scopes = \"https://www.googleapis.com/auth/cloud-platform\")\n",
    "googleAuthR::gar_auth(token = tt)"
   ]
  },
  {
   "cell_type": "markdown",
   "id": "8e0ecb55-7ee8-4f53-a9ed-4b3a251fea2d",
   "metadata": {},
   "source": [
    "## Listing Buckets"
   ]
  },
  {
   "cell_type": "code",
   "execution_count": null,
   "id": "08e8d673-dc26-412b-9d96-18e36a3ba4c8",
   "metadata": {},
   "outputs": [],
   "source": [
    "project <- \"your-project-id\"\n",
    "buckets <- gcs_list_buckets(project)\n",
    "buckets"
   ]
  },
  {
   "cell_type": "markdown",
   "id": "b9c12cf1-446d-4820-a40f-4ea5a9b1a0d9",
   "metadata": {},
   "source": [
    "## Set default global bucket\n",
    "\n",
    "set global bucket so don't need to keep supplying in future calls and then list existing objects to sanity check"
   ]
  },
  {
   "cell_type": "code",
   "execution_count": null,
   "id": "ea48ea37-38a1-4793-96c6-c26d34fc098e",
   "metadata": {},
   "outputs": [],
   "source": [
    "gcs_global_bucket(\"your-bucket-name\")\n",
    "\n",
    "gcs_list_objects()"
   ]
  },
  {
   "cell_type": "markdown",
   "id": "16b1ca3c-a25e-4fe7-9eea-1a05813e31d3",
   "metadata": {},
   "source": [
    "## Download"
   ]
  },
  {
   "cell_type": "code",
   "execution_count": null,
   "id": "ddb2a075-7cc1-4278-8231-91f9e9060c66",
   "metadata": {},
   "outputs": [],
   "source": [
    "data_uri <- \"gs://cloud-samples-data/ai-platform-unified/datasets/tabular/california-housing-tabular-regression.csv\"\n",
    "\n",
    "data_raw <- gcs_get_object(object_name = data_uri)"
   ]
  },
  {
   "cell_type": "code",
   "execution_count": null,
   "id": "e06e6b15-6acf-4f00-8870-0ea2835da68b",
   "metadata": {},
   "outputs": [],
   "source": [
    "summary(data_raw)\n",
    "head(data_raw)"
   ]
  },
  {
   "cell_type": "markdown",
   "id": "8860ab71-8393-4f28-b4b5-ab5ace174b43",
   "metadata": {},
   "source": [
    "## Upload"
   ]
  },
  {
   "cell_type": "code",
   "execution_count": null,
   "id": "f2bbcf73-ffbc-4bbe-8d55-239d5b6557f0",
   "metadata": {},
   "outputs": [],
   "source": [
    "gcs_upload(data_raw,\n",
    "           name = \"california-housing-tabular-regression.csv\",\n",
    "           predefinedAcl = \"bucketLevel\")"
   ]
  },
  {
   "cell_type": "markdown",
   "id": "36349be8-0ce6-4d63-89cb-2d70226ffda1",
   "metadata": {},
   "source": [
    "## Cleanup\n",
    "\n",
    "Delete the uploaded file to \"leave no trace\" in our bucket and then list objects to make sure it's gone :) "
   ]
  },
  {
   "cell_type": "code",
   "execution_count": null,
   "id": "39c33c35-79c4-4196-a513-a43fd4a05a5a",
   "metadata": {},
   "outputs": [],
   "source": [
    "gcs_delete_object(\"gs://your-bucket-name/california-housing-tabular-regression.csv\")"
   ]
  },
  {
   "cell_type": "code",
   "execution_count": null,
   "id": "d2b3ed95-24e6-4d6d-823c-1dd7225d1463",
   "metadata": {},
   "outputs": [],
   "source": [
    "gcs_list_objects()"
   ]
  }
 ],
 "metadata": {
  "kernelspec": {
   "display_name": "Python 3",
   "language": "python",
   "name": "python3"
  },
  "language_info": {
   "codemirror_mode": "r",
   "file_extension": ".r",
   "mimetype": "text/x-r-source",
   "name": "python",
   "pygments_lexer": "r",
   "version": "3.9.6 (default, Sep 26 2022, 11:37:49) \n[Clang 14.0.0 (clang-1400.0.29.202)]"
  },
  "vscode": {
   "interpreter": {
    "hash": "31f2aee4e71d21fbe5cf8b01ff0e069b9275f58929596ceb00d14d90e3e16cd6"
   }
  }
 },
 "nbformat": 4,
 "nbformat_minor": 5
}
