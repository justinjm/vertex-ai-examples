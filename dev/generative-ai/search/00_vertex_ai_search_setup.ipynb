{
 "cells": [
  {
   "cell_type": "markdown",
   "id": "2aa2a079-f6fd-4411-bf26-b44724781e3f",
   "metadata": {
    "tags": []
   },
   "source": [
    "# 00 - Vertex AI Search - Setup"
   ]
  },
  {
   "cell_type": "markdown",
   "id": "9e716831-9570-4993-b0c1-b8c1e8758125",
   "metadata": {},
   "source": [
    "## TODO"
   ]
  },
  {
   "cell_type": "code",
   "execution_count": null,
   "id": "991567c6-d920-4e45-aab3-cc6283ee907b",
   "metadata": {},
   "outputs": [],
   "source": []
  },
  {
   "cell_type": "code",
   "execution_count": null,
   "id": "b2bff21c-9e4f-41e6-9a5a-75979d7887ca",
   "metadata": {},
   "outputs": [],
   "source": []
  },
  {
   "cell_type": "code",
   "execution_count": null,
   "id": "1f373c94-1c1f-456f-8a2e-92adc28c7015",
   "metadata": {},
   "outputs": [],
   "source": []
  },
  {
   "cell_type": "code",
   "execution_count": null,
   "id": "ab768e47-7105-4a17-9ada-376a060cb818",
   "metadata": {},
   "outputs": [],
   "source": []
  },
  {
   "cell_type": "code",
   "execution_count": null,
   "id": "4d3529b6-8705-4129-994a-63df21929165",
   "metadata": {},
   "outputs": [],
   "source": []
  },
  {
   "cell_type": "code",
   "execution_count": null,
   "id": "c5997646-2ec5-41a0-9f6e-ef8b56351525",
   "metadata": {},
   "outputs": [],
   "source": []
  }
 ],
 "metadata": {
  "environment": {
   "kernel": "python3",
   "name": "tf2-cpu.2-11.m119",
   "type": "gcloud",
   "uri": "us-docker.pkg.dev/deeplearning-platform-release/gcr.io/tf2-cpu.2-11:m119"
  },
  "kernelspec": {
   "display_name": "Python 3",
   "language": "python",
   "name": "python3"
  },
  "language_info": {
   "codemirror_mode": {
    "name": "ipython",
    "version": 3
   },
   "file_extension": ".py",
   "mimetype": "text/x-python",
   "name": "python",
   "nbconvert_exporter": "python",
   "pygments_lexer": "ipython3",
   "version": "3.10.14"
  }
 },
 "nbformat": 4,
 "nbformat_minor": 5
}
