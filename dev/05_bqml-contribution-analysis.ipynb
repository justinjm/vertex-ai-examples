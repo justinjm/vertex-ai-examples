{
 "cells": [
  {
   "cell_type": "markdown",
   "id": "0457cfb2-0d5c-4e00-9c8f-911a72804c09",
   "metadata": {},
   "source": [
    "# 05 - BigQuery ML - Contribution Analysis \n"
   ]
  },
  {
   "cell_type": "markdown",
   "id": "b872fbba-c05d-47ad-84fa-79ba876f085f",
   "metadata": {},
   "source": [
    "Status: WIP \n",
    "\n",
    "refs:\n",
    "\n",
    "* https://cloud.google.com/bigquery/docs/contribution-analysis\n",
    "* https://cloud.google.com/bigquery/docs/get-contribution-analysis-insights"
   ]
  },
  {
   "cell_type": "markdown",
   "id": "ebffecc6-ba16-49db-903d-4a6213deb428",
   "metadata": {},
   "source": [
    "## Install packages "
   ]
  },
  {
   "cell_type": "code",
   "execution_count": 1,
   "id": "2eaa05db-6902-4cb6-815b-ce02e807dfa4",
   "metadata": {
    "tags": []
   },
   "outputs": [
    {
     "name": "stdout",
     "output_type": "stream",
     "text": [
      "installing package google-cloud-bigquery-storage\n",
      "Installation of missing packages complete. Please run the next cell to restart the kernel before proceeding.\n"
     ]
    }
   ],
   "source": [
    "## ('import name', 'install name') \n",
    "packages = [\n",
    "    ('numpy', 'numpy'),\n",
    "    ('matplotlib.pyplot', 'matplotlib'),\n",
    "    ('google.cloud.aiplatform', 'google-cloud-aiplatform'),\n",
    "    ('gcsfs', 'gcsfs'),\n",
    "    ('google.cloud.bigquery', 'google-cloud-bigquery'),\n",
    "    ('google.cloud-bigquery.storage', 'google-cloud-bigquery-storage'),\n",
    "\n",
    "]\n",
    "\n",
    "import importlib\n",
    "install = False\n",
    "for package in packages:\n",
    "    try:\n",
    "        importlib.import_module(package[0])\n",
    "    except ImportError:\n",
    "        print(f'installing package {package[1]}')\n",
    "        install = True\n",
    "        !pip install {package[1]} -U -q --user\n",
    "\n",
    "if install:\n",
    "    print(\"Installation of missing packages complete. Please run the next cell to restart the kernel before proceeding.\")"
   ]
  },
  {
   "cell_type": "code",
   "execution_count": 2,
   "id": "909a662b-1734-40d3-81d1-1bd9e9f03f1d",
   "metadata": {
    "tags": []
   },
   "outputs": [
    {
     "data": {
      "text/markdown": [
       "<div class=\"alert alert-block alert-warning\">\n",
       "        <b>⚠️ The kernel is going to restart. Please wait until it is finished before continuing to the next step. The previous cells do not need to be run again⚠️</b>\n",
       "        </div>"
      ],
      "text/plain": [
       "<IPython.core.display.Markdown object>"
      ]
     },
     "metadata": {},
     "output_type": "display_data"
    }
   ],
   "source": [
    "if install:\n",
    "    import IPython\n",
    "    app = IPython.Application.instance()\n",
    "    app.kernel.do_shutdown(True)\n",
    "    IPython.display.display(IPython.display.Markdown(\"\"\"<div class=\\\"alert alert-block alert-warning\\\">\n",
    "        <b>⚠️ The kernel is going to restart. Please wait until it is finished before continuing to the next step. The previous cells do not need to be run again⚠️</b>\n",
    "        </div>\"\"\"))"
   ]
  },
  {
   "cell_type": "markdown",
   "id": "3ed4896a-b9c1-4cde-9a6d-5f66e6d550c0",
   "metadata": {},
   "source": [
    "## Setup"
   ]
  },
  {
   "cell_type": "code",
   "execution_count": 2,
   "id": "b0c3a48e-98c6-4d85-83cd-c52f712d4d98",
   "metadata": {
    "tags": []
   },
   "outputs": [
    {
     "data": {
      "text/plain": [
       "'demos-vertex-ai'"
      ]
     },
     "execution_count": 2,
     "metadata": {},
     "output_type": "execute_result"
    }
   ],
   "source": [
    "project = !gcloud config get-value project\n",
    "PROJECT_ID = project[0]\n",
    "PROJECT_ID"
   ]
  },
  {
   "cell_type": "code",
   "execution_count": 4,
   "id": "8573a46f-ca1f-4586-a180-73ee1f962eb7",
   "metadata": {
    "tags": []
   },
   "outputs": [],
   "source": [
    "REGION = 'us-central1'\n",
    "EXPERIMENT = 'contribution-analysis'\n",
    "SERIES = 'bqml'\n",
    "\n",
    "# source data\n",
    "BQ_PROJECT = PROJECT_ID\n",
    "BQ_DATASET = 'bqml_tutorial' # TODO -  need different  dataset\n",
    "BQ_TABLE = 'taxi_control_and_test' # TODO - need different  dataset\n",
    "\n",
    "# Model Training\n",
    "TARGET_METRIC = 'avg_total_fare'"
   ]
  },
  {
   "cell_type": "code",
   "execution_count": 5,
   "id": "77452619-7c5d-49ca-a054-344f501c89d2",
   "metadata": {
    "tags": []
   },
   "outputs": [],
   "source": [
    "from google.cloud import bigquery\n",
    "from google.cloud import aiplatform\n",
    "from datetime import datetime\n",
    "import matplotlib.pyplot as plt\n",
    "from sklearn import metrics\n",
    "import numpy as np\n",
    "\n",
    "from google.api import httpbody_pb2\n",
    "import json"
   ]
  },
  {
   "cell_type": "markdown",
   "id": "2de60376-bbb2-4911-8f8c-2acc5dbff143",
   "metadata": {
    "tags": []
   },
   "source": [
    "### clients"
   ]
  },
  {
   "cell_type": "code",
   "execution_count": 6,
   "id": "edde2a3f-f8ba-4ac4-b87c-dab8d9a04685",
   "metadata": {
    "tags": []
   },
   "outputs": [],
   "source": [
    "bq = bigquery.Client(project = PROJECT_ID)\n",
    "aiplatform.init(project = PROJECT_ID, location = REGION)"
   ]
  },
  {
   "cell_type": "markdown",
   "id": "789cf51b-1861-4365-8132-456294d19dde",
   "metadata": {},
   "source": [
    "### parameters"
   ]
  },
  {
   "cell_type": "code",
   "execution_count": 7,
   "id": "3443b625-a8d1-4513-986e-78f13fdb1c2f",
   "metadata": {
    "tags": []
   },
   "outputs": [],
   "source": [
    "TIMESTAMP = datetime.now().strftime(\"%Y%m%d%H%M%S\")\n",
    "BUCKET = PROJECT_ID\n",
    "URI = f\"gs://{BUCKET}/{SERIES}/{EXPERIMENT}\"\n",
    "RUN_NAME = f'run-{TIMESTAMP}'\n",
    "\n",
    "BQ_MODEL = f'{SERIES}_{EXPERIMENT}_{TIMESTAMP}'"
   ]
  },
  {
   "cell_type": "markdown",
   "id": "110ff516-12c5-4f3b-b784-ec203a45b5fd",
   "metadata": {
    "tags": []
   },
   "source": [
    "### env"
   ]
  },
  {
   "cell_type": "code",
   "execution_count": 8,
   "id": "6779034e-5400-483a-a930-c1b189fd433d",
   "metadata": {
    "tags": []
   },
   "outputs": [],
   "source": [
    "DIR = f\"temp/{EXPERIMENT}\"\n",
    "\n",
    "!rm -rf {DIR}\n",
    "!mkdir -p {DIR}"
   ]
  },
  {
   "cell_type": "code",
   "execution_count": 12,
   "id": "4818aa30-8878-499b-ba2c-5eeeb39beeb7",
   "metadata": {
    "tags": []
   },
   "outputs": [
    {
     "name": "stdout",
     "output_type": "stream",
     "text": [
      "CREATE OR REPLACE TABLE `demos-vertex-ai.bqml_tutorial.taxi_control_and_test`\n",
      "AS (\n",
      "  SELECT\n",
      "    vendor_id,\n",
      "    passenger_count,\n",
      "    payment_type,\n",
      "    pickup_location_id,\n",
      "    EXTRACT(MONTH FROM pickup_datetime) AS month,\n",
      "    AVG(total_amount) AS avg_total_fare,\n",
      "    FALSE AS is_test\n",
      "  FROM `bigquery-public-data.new_york_taxi_trips.tlc_yellow_trips_2011`\n",
      "  WHERE total_amount > 0\n",
      "  GROUP BY vendor_id, passenger_count, payment_type, pickup_location_id, month, is_test\n",
      ")\n",
      "UNION ALL\n",
      "(\n",
      "  SELECT\n",
      "    vendor_id,\n",
      "    passenger_count,\n",
      "    payment_type,\n",
      "    pickup_location_id,\n",
      "    EXTRACT(MONTH FROM pickup_datetime) AS month,\n",
      "    AVG(total_amount) AS avg_total_fare,\n",
      "    TRUE AS is_test\n",
      "  FROM `bigquery-public-data.new_york_taxi_trips.tlc_yellow_trips_2012`\n",
      "  WHERE total_amount > 0\n",
      "  GROUP BY vendor_id, passenger_count, payment_type, pickup_location_id, month, is_test\n",
      ");\n",
      "\n"
     ]
    }
   ],
   "source": [
    "query = f\"\"\"CREATE OR REPLACE TABLE `{BQ_PROJECT}.{BQ_DATASET}.{BQ_TABLE}`\n",
    "AS (\n",
    "  SELECT\n",
    "    vendor_id,\n",
    "    passenger_count,\n",
    "    payment_type,\n",
    "    pickup_location_id,\n",
    "    EXTRACT(MONTH FROM pickup_datetime) AS month,\n",
    "    AVG(total_amount) AS avg_total_fare,\n",
    "    FALSE AS is_test\n",
    "  FROM `bigquery-public-data.new_york_taxi_trips.tlc_yellow_trips_2011`\n",
    "  WHERE total_amount > 0\n",
    "  GROUP BY vendor_id, passenger_count, payment_type, pickup_location_id, month, is_test\n",
    ")\n",
    "UNION ALL\n",
    "(\n",
    "  SELECT\n",
    "    vendor_id,\n",
    "    passenger_count,\n",
    "    payment_type,\n",
    "    pickup_location_id,\n",
    "    EXTRACT(MONTH FROM pickup_datetime) AS month,\n",
    "    AVG(total_amount) AS avg_total_fare,\n",
    "    TRUE AS is_test\n",
    "  FROM `bigquery-public-data.new_york_taxi_trips.tlc_yellow_trips_2012`\n",
    "  WHERE total_amount > 0\n",
    "  GROUP BY vendor_id, passenger_count, payment_type, pickup_location_id, month, is_test\n",
    ");\n",
    "\"\"\"\n",
    "print(query)"
   ]
  },
  {
   "cell_type": "code",
   "execution_count": 13,
   "id": "9db605a6-4e5e-4143-bb66-88cbece2d20d",
   "metadata": {
    "tags": []
   },
   "outputs": [
    {
     "data": {
      "text/plain": [
       "<google.cloud.bigquery.table._EmptyRowIterator at 0x7efc96080f10>"
      ]
     },
     "execution_count": 13,
     "metadata": {},
     "output_type": "execute_result"
    }
   ],
   "source": [
    "job = bq.query(query = query)\n",
    "job.result()"
   ]
  },
  {
   "cell_type": "markdown",
   "id": "c9a0ae2c-1bbe-4dda-b673-75ef5a23ff81",
   "metadata": {},
   "source": [
    "## Review Data\n"
   ]
  },
  {
   "cell_type": "code",
   "execution_count": 32,
   "id": "ea73e8f7-f5cd-44a2-995e-9751af91a262",
   "metadata": {
    "tags": []
   },
   "outputs": [
    {
     "name": "stdout",
     "output_type": "stream",
     "text": [
      "\n",
      "    SELECT is_test, count(*) as n\n",
      "    FROM `demos-vertex-ai.bqml_tutorial.taxi_control_and_test`\n",
      "    GROUP BY is_test\n",
      "\n"
     ]
    }
   ],
   "source": [
    "query = f\"\"\"\n",
    "    SELECT is_test, count(*) as n\n",
    "    FROM `{BQ_PROJECT}.{BQ_DATASET}.{BQ_TABLE}`\n",
    "    GROUP BY is_test\n",
    "\"\"\"\n",
    "print(query)"
   ]
  },
  {
   "cell_type": "code",
   "execution_count": 33,
   "id": "ad695673-0f8c-4516-8091-8d9895122985",
   "metadata": {
    "tags": []
   },
   "outputs": [
    {
     "data": {
      "text/html": [
       "<div>\n",
       "<style scoped>\n",
       "    .dataframe tbody tr th:only-of-type {\n",
       "        vertical-align: middle;\n",
       "    }\n",
       "\n",
       "    .dataframe tbody tr th {\n",
       "        vertical-align: top;\n",
       "    }\n",
       "\n",
       "    .dataframe thead th {\n",
       "        text-align: right;\n",
       "    }\n",
       "</style>\n",
       "<table border=\"1\" class=\"dataframe\">\n",
       "  <thead>\n",
       "    <tr style=\"text-align: right;\">\n",
       "      <th></th>\n",
       "      <th>is_test</th>\n",
       "      <th>n</th>\n",
       "    </tr>\n",
       "  </thead>\n",
       "  <tbody>\n",
       "    <tr>\n",
       "      <th>0</th>\n",
       "      <td>True</td>\n",
       "      <td>72339</td>\n",
       "    </tr>\n",
       "    <tr>\n",
       "      <th>1</th>\n",
       "      <td>False</td>\n",
       "      <td>59649</td>\n",
       "    </tr>\n",
       "  </tbody>\n",
       "</table>\n",
       "</div>"
      ],
      "text/plain": [
       "   is_test      n\n",
       "0     True  72339\n",
       "1    False  59649"
      ]
     },
     "execution_count": 33,
     "metadata": {},
     "output_type": "execute_result"
    }
   ],
   "source": [
    "review = bq.query(query = query).to_dataframe()\n",
    "review"
   ]
  },
  {
   "cell_type": "markdown",
   "id": "b3e98d9b-a55a-49f0-be82-9a1b313d020d",
   "metadata": {},
   "source": [
    "## Create model  \n",
    "\n",
    "* https://cloud.google.com/bigquery/docs/contribution-analysis\n",
    "* https://cloud.google.com/bigquery/docs/reference/standard-sql/bigqueryml-syntax-create-contribution-analysis#examples - examples here "
   ]
  },
  {
   "cell_type": "code",
   "execution_count": 16,
   "id": "49b2fe86-0059-42f2-a297-eef8bbe38716",
   "metadata": {},
   "outputs": [
    {
     "name": "stdout",
     "output_type": "stream",
     "text": [
      "This run will create BQML model: demos-vertex-ai.bqml_tutorial.bqml_contribution-analysis_20240923204124\n",
      "This run will create Vertex AI model: demos-vertex-ai.bqml_tutorial.bqml_bqml_contribution-analysis\n",
      "The runs timestamp Is: 20240923204124\n"
     ]
    }
   ],
   "source": [
    "print(f'This run will create BQML model: {BQ_PROJECT}.{BQ_DATASET}.{BQ_MODEL}')\n",
    "print(f'This run will create Vertex AI model: {BQ_PROJECT}.{BQ_DATASET}.bqml_{SERIES}_{EXPERIMENT}')\n",
    "print(f'The runs timestamp Is: {TIMESTAMP}')"
   ]
  },
  {
   "cell_type": "markdown",
   "id": "9446756f-aedc-40cb-8b4e-5274729fdd40",
   "metadata": {},
   "source": [
    "## Train Model"
   ]
  },
  {
   "cell_type": "code",
   "execution_count": 19,
   "id": "2dc1f25a-6053-4306-8c43-450a86f3b7a1",
   "metadata": {
    "tags": []
   },
   "outputs": [
    {
     "name": "stdout",
     "output_type": "stream",
     "text": [
      "\n",
      "CREATE OR REPLACE MODEL `demos-vertex-ai.bqml_tutorial.bqml_contribution-analysis_20240923204124`\n",
      "  OPTIONS (\n",
      "    MODEL_TYPE = 'CONTRIBUTION_ANALYSIS',\n",
      "    CONTRIBUTION_METRIC = 'SUM(avg_total_fare)',\n",
      "    DIMENSION_ID_COLS =\n",
      "      ['vendor_id', 'passenger_count', 'pickup_location_id', 'payment_type', 'month'],\n",
      "    IS_TEST_COL = 'is_test',\n",
      "    MIN_APRIORI_SUPPORT = 0.05\n",
      "    )\n",
      "AS\n",
      "SELECT * FROM bqml_tutorial.taxi_control_and_test;\n",
      "\n"
     ]
    }
   ],
   "source": [
    "query = f\"\"\"CREATE OR REPLACE MODEL `{BQ_PROJECT}.{BQ_DATASET}.{BQ_MODEL}`\n",
    "  OPTIONS (\n",
    "    MODEL_TYPE = 'CONTRIBUTION_ANALYSIS',\n",
    "    CONTRIBUTION_METRIC = 'SUM({TARGET_METRIC})',\n",
    "    DIMENSION_ID_COLS =\n",
    "      ['vendor_id', 'passenger_count', 'pickup_location_id', 'payment_type', 'month'],\n",
    "    IS_TEST_COL = 'is_test',\n",
    "    MIN_APRIORI_SUPPORT = 0.05\n",
    "    )\n",
    "AS\n",
    "SELECT * FROM bqml_tutorial.taxi_control_and_test;\n",
    "\"\"\"\n",
    "print(query)"
   ]
  },
  {
   "cell_type": "code",
   "execution_count": 20,
   "id": "52a6ee3b-1dd9-4f2e-ba25-919746f984ed",
   "metadata": {},
   "outputs": [
    {
     "data": {
      "text/plain": [
       "<google.cloud.bigquery.table._EmptyRowIterator at 0x7efc774c26e0>"
      ]
     },
     "execution_count": 20,
     "metadata": {},
     "output_type": "execute_result"
    }
   ],
   "source": [
    "job = bq.query(query = query)\n",
    "job.result()"
   ]
  },
  {
   "cell_type": "code",
   "execution_count": 21,
   "id": "01041784-daed-45a5-bbef-988537d9c6b5",
   "metadata": {
    "tags": []
   },
   "outputs": [
    {
     "data": {
      "text/plain": [
       "30.069"
      ]
     },
     "execution_count": 21,
     "metadata": {},
     "output_type": "execute_result"
    }
   ],
   "source": [
    "(job.ended-job.started).total_seconds()"
   ]
  },
  {
   "cell_type": "code",
   "execution_count": 22,
   "id": "4cafdc22-ef43-4434-9b46-c0546ac762d2",
   "metadata": {
    "tags": []
   },
   "outputs": [
    {
     "data": {
      "text/plain": [
       "5756241"
      ]
     },
     "execution_count": 22,
     "metadata": {},
     "output_type": "execute_result"
    }
   ],
   "source": [
    "job.total_bytes_processed"
   ]
  },
  {
   "cell_type": "markdown",
   "id": "dcfdb31c-8fd1-4385-9705-d9d7dc4fa4ab",
   "metadata": {},
   "source": [
    "### add labels to model object"
   ]
  },
  {
   "cell_type": "code",
   "execution_count": 23,
   "id": "479a8c85-2766-4fe4-89fd-e12e31fd7011",
   "metadata": {
    "tags": []
   },
   "outputs": [],
   "source": [
    "model = bq.get_model(f'{BQ_PROJECT}.{BQ_DATASET}.{BQ_MODEL}')\n",
    "model.labels = {'series' : f'{SERIES}', 'experiment' : f'{EXPERIMENT}'}\n",
    "model = bq.update_model(model, ['labels'])"
   ]
  },
  {
   "cell_type": "markdown",
   "id": "d8ea1650-edca-4588-a66d-dd9199970c23",
   "metadata": {},
   "source": [
    "### view model in GUI"
   ]
  },
  {
   "cell_type": "code",
   "execution_count": null,
   "id": "25be83f7-382a-49ee-905b-92ce689ed763",
   "metadata": {},
   "outputs": [],
   "source": [
    "print(f'BigQuery Console for Project:\\nhttps://console.cloud.google.com/bigquery?project={PROJECT_ID}')"
   ]
  },
  {
   "cell_type": "markdown",
   "id": "66ce188f-d60b-42fb-acf1-2cbe26419ce8",
   "metadata": {},
   "source": [
    "## Get Insights \n",
    "\n",
    "https://cloud.google.com/bigquery/docs/get-contribution-analysis-insights"
   ]
  },
  {
   "cell_type": "code",
   "execution_count": 27,
   "id": "794c7498-7ec3-445d-9d60-c54459d121ff",
   "metadata": {
    "tags": []
   },
   "outputs": [
    {
     "name": "stdout",
     "output_type": "stream",
     "text": [
      "SELECT\n",
      "  contributors,\n",
      "  metric_test,\n",
      "  metric_control,\n",
      "  difference,\n",
      "  relative_difference,\n",
      "  unexpected_difference,\n",
      "  relative_unexpected_difference,\n",
      "  apriori_support\n",
      "FROM\n",
      "  ML.GET_INSIGHTS(\n",
      "    MODEL `demos-vertex-ai.bqml_tutorial.bqml_contribution-analysis_20240923204124`)\n",
      "WHERE relative_difference IS NOT NULL\n",
      "ORDER BY unexpected_difference DESC;\n",
      "\n"
     ]
    }
   ],
   "source": [
    "query = f\"\"\"SELECT\n",
    "  contributors,\n",
    "  metric_test,\n",
    "  metric_control,\n",
    "  difference,\n",
    "  relative_difference,\n",
    "  unexpected_difference,\n",
    "  relative_unexpected_difference,\n",
    "  apriori_support\n",
    "FROM\n",
    "  ML.GET_INSIGHTS(\n",
    "    MODEL `{BQ_PROJECT}.{BQ_DATASET}.{BQ_MODEL}`)\n",
    "WHERE relative_difference IS NOT NULL\n",
    "ORDER BY unexpected_difference DESC;\n",
    "\"\"\"\n",
    "print(query)"
   ]
  },
  {
   "cell_type": "code",
   "execution_count": 30,
   "id": "2282c1d8-8de7-43dd-9c84-a0a07712010e",
   "metadata": {
    "tags": []
   },
   "outputs": [],
   "source": [
    "insights = bq.query(query = query).to_dataframe()"
   ]
  },
  {
   "cell_type": "code",
   "execution_count": 31,
   "id": "e06eef4f-89f5-47a2-9998-355b403966b6",
   "metadata": {
    "tags": []
   },
   "outputs": [
    {
     "data": {
      "text/html": [
       "<div>\n",
       "<style scoped>\n",
       "    .dataframe tbody tr th:only-of-type {\n",
       "        vertical-align: middle;\n",
       "    }\n",
       "\n",
       "    .dataframe tbody tr th {\n",
       "        vertical-align: top;\n",
       "    }\n",
       "\n",
       "    .dataframe thead th {\n",
       "        text-align: right;\n",
       "    }\n",
       "</style>\n",
       "<table border=\"1\" class=\"dataframe\">\n",
       "  <thead>\n",
       "    <tr style=\"text-align: right;\">\n",
       "      <th></th>\n",
       "      <th>contributors</th>\n",
       "      <th>metric_test</th>\n",
       "      <th>metric_control</th>\n",
       "      <th>difference</th>\n",
       "      <th>relative_difference</th>\n",
       "      <th>unexpected_difference</th>\n",
       "      <th>relative_unexpected_difference</th>\n",
       "      <th>apriori_support</th>\n",
       "    </tr>\n",
       "  </thead>\n",
       "  <tbody>\n",
       "    <tr>\n",
       "      <th>0</th>\n",
       "      <td>[all]</td>\n",
       "      <td>1305121.630946658</td>\n",
       "      <td>983978.603443601</td>\n",
       "      <td>321143.027503057</td>\n",
       "      <td>0.326371962</td>\n",
       "      <td>321143.027503057</td>\n",
       "      <td>0.326371962</td>\n",
       "      <td>1.000000000</td>\n",
       "    </tr>\n",
       "    <tr>\n",
       "      <th>1</th>\n",
       "      <td>[payment_type=5]</td>\n",
       "      <td>82996.993070950</td>\n",
       "      <td>138.260000000</td>\n",
       "      <td>82858.733070950</td>\n",
       "      <td>599.296492629</td>\n",
       "      <td>82825.246757081</td>\n",
       "      <td>482.253417818</td>\n",
       "      <td>0.063593301</td>\n",
       "    </tr>\n",
       "    <tr>\n",
       "      <th>2</th>\n",
       "      <td>[vendor_id=1]</td>\n",
       "      <td>651674.026105812</td>\n",
       "      <td>475749.798118647</td>\n",
       "      <td>175924.227987165</td>\n",
       "      <td>0.369783085</td>\n",
       "      <td>39985.820410250</td>\n",
       "      <td>0.065369611</td>\n",
       "      <td>0.499320531</td>\n",
       "    </tr>\n",
       "    <tr>\n",
       "      <th>3</th>\n",
       "      <td>[passenger_count=1]</td>\n",
       "      <td>304615.252142054</td>\n",
       "      <td>214839.058249037</td>\n",
       "      <td>89776.193893017</td>\n",
       "      <td>0.417876501</td>\n",
       "      <td>25149.907437652</td>\n",
       "      <td>0.089992940</td>\n",
       "      <td>0.233399895</td>\n",
       "    </tr>\n",
       "    <tr>\n",
       "      <th>4</th>\n",
       "      <td>[passenger_count=6]</td>\n",
       "      <td>106980.236314059</td>\n",
       "      <td>64751.247894565</td>\n",
       "      <td>42228.988419494</td>\n",
       "      <td>0.652172580</td>\n",
       "      <td>22582.018639759</td>\n",
       "      <td>0.267565108</td>\n",
       "      <td>0.081969553</td>\n",
       "    </tr>\n",
       "    <tr>\n",
       "      <th>5</th>\n",
       "      <td>[passenger_count=1, vendor_id=1]</td>\n",
       "      <td>169184.643740000</td>\n",
       "      <td>114583.997774386</td>\n",
       "      <td>54600.645965614</td>\n",
       "      <td>0.476511965</td>\n",
       "      <td>19471.037967023</td>\n",
       "      <td>0.130055237</td>\n",
       "      <td>0.129631323</td>\n",
       "    </tr>\n",
       "    <tr>\n",
       "      <th>6</th>\n",
       "      <td>[month=10]</td>\n",
       "      <td>125499.822773923</td>\n",
       "      <td>84169.515779731</td>\n",
       "      <td>41330.306994192</td>\n",
       "      <td>0.491036530</td>\n",
       "      <td>15156.197935889</td>\n",
       "      <td>0.137354539</td>\n",
       "      <td>0.096159484</td>\n",
       "    </tr>\n",
       "    <tr>\n",
       "      <th>7</th>\n",
       "      <td>[passenger_count=2, vendor_id=1]</td>\n",
       "      <td>156456.340431637</td>\n",
       "      <td>108337.644898706</td>\n",
       "      <td>48118.695532931</td>\n",
       "      <td>0.444154897</td>\n",
       "      <td>14339.082097738</td>\n",
       "      <td>0.100896135</td>\n",
       "      <td>0.119878743</td>\n",
       "    </tr>\n",
       "    <tr>\n",
       "      <th>8</th>\n",
       "      <td>[passenger_count=6, vendor_id=2]</td>\n",
       "      <td>97561.899343064</td>\n",
       "      <td>63464.886089009</td>\n",
       "      <td>34097.013254055</td>\n",
       "      <td>0.537257929</td>\n",
       "      <td>14306.604620684</td>\n",
       "      <td>0.171840172</td>\n",
       "      <td>0.074753109</td>\n",
       "    </tr>\n",
       "    <tr>\n",
       "      <th>9</th>\n",
       "      <td>[month=11]</td>\n",
       "      <td>123306.319251865</td>\n",
       "      <td>83189.102370695</td>\n",
       "      <td>40117.216881170</td>\n",
       "      <td>0.482241252</td>\n",
       "      <td>14164.111406941</td>\n",
       "      <td>0.129776665</td>\n",
       "      <td>0.094478795</td>\n",
       "    </tr>\n",
       "  </tbody>\n",
       "</table>\n",
       "</div>"
      ],
      "text/plain": [
       "                       contributors        metric_test    metric_control  \\\n",
       "0                             [all]  1305121.630946658  983978.603443601   \n",
       "1                  [payment_type=5]    82996.993070950     138.260000000   \n",
       "2                     [vendor_id=1]   651674.026105812  475749.798118647   \n",
       "3               [passenger_count=1]   304615.252142054  214839.058249037   \n",
       "4               [passenger_count=6]   106980.236314059   64751.247894565   \n",
       "5  [passenger_count=1, vendor_id=1]   169184.643740000  114583.997774386   \n",
       "6                        [month=10]   125499.822773923   84169.515779731   \n",
       "7  [passenger_count=2, vendor_id=1]   156456.340431637  108337.644898706   \n",
       "8  [passenger_count=6, vendor_id=2]    97561.899343064   63464.886089009   \n",
       "9                        [month=11]   123306.319251865   83189.102370695   \n",
       "\n",
       "         difference relative_difference unexpected_difference  \\\n",
       "0  321143.027503057         0.326371962      321143.027503057   \n",
       "1   82858.733070950       599.296492629       82825.246757081   \n",
       "2  175924.227987165         0.369783085       39985.820410250   \n",
       "3   89776.193893017         0.417876501       25149.907437652   \n",
       "4   42228.988419494         0.652172580       22582.018639759   \n",
       "5   54600.645965614         0.476511965       19471.037967023   \n",
       "6   41330.306994192         0.491036530       15156.197935889   \n",
       "7   48118.695532931         0.444154897       14339.082097738   \n",
       "8   34097.013254055         0.537257929       14306.604620684   \n",
       "9   40117.216881170         0.482241252       14164.111406941   \n",
       "\n",
       "  relative_unexpected_difference apriori_support  \n",
       "0                    0.326371962     1.000000000  \n",
       "1                  482.253417818     0.063593301  \n",
       "2                    0.065369611     0.499320531  \n",
       "3                    0.089992940     0.233399895  \n",
       "4                    0.267565108     0.081969553  \n",
       "5                    0.130055237     0.129631323  \n",
       "6                    0.137354539     0.096159484  \n",
       "7                    0.100896135     0.119878743  \n",
       "8                    0.171840172     0.074753109  \n",
       "9                    0.129776665     0.094478795  "
      ]
     },
     "execution_count": 31,
     "metadata": {},
     "output_type": "execute_result"
    }
   ],
   "source": [
    "insights.head(10)"
   ]
  }
 ],
 "metadata": {
  "environment": {
   "kernel": "conda-base-py",
   "name": "workbench-notebooks.m124",
   "type": "gcloud",
   "uri": "us-docker.pkg.dev/deeplearning-platform-release/gcr.io/workbench-notebooks:m124"
  },
  "kernelspec": {
   "display_name": "Python 3 (ipykernel) (Local)",
   "language": "python",
   "name": "conda-base-py"
  },
  "language_info": {
   "codemirror_mode": {
    "name": "ipython",
    "version": 3
   },
   "file_extension": ".py",
   "mimetype": "text/x-python",
   "name": "python",
   "nbconvert_exporter": "python",
   "pygments_lexer": "ipython3",
   "version": "3.10.14"
  }
 },
 "nbformat": 4,
 "nbformat_minor": 5
}
