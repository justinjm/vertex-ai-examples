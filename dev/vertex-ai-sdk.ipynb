{
 "cells": [
  {
   "cell_type": "markdown",
   "metadata": {},
   "source": [
    "# Vertex AI SDK \n",
    "\n",
    "A collection of snippets using the Vertex Python SDK\n",
    "\n",
    "\n",
    "refs\n",
    "\n",
    "* https://cloud.google.com/vertex-ai/docs/python-sdk/use-vertex-ai-python-sdk\n",
    "* https://github.com/statmike/vertex-ai-mlops\n"
   ]
  },
  {
   "cell_type": "markdown",
   "metadata": {},
   "source": [
    "## Setup"
   ]
  },
  {
   "cell_type": "code",
   "execution_count": 1,
   "metadata": {},
   "outputs": [
    {
     "name": "stdout",
     "output_type": "stream",
     "text": [
      "Updated property [core/project].\n",
      "\n",
      "\n",
      "Updates are available for some Google Cloud CLI components.  To install them,\n",
      "please run:\n",
      "  $ gcloud components update\n",
      "\n"
     ]
    }
   ],
   "source": [
    "PROJECT_ID = \"demos-vertex-ai\"  # @param {type:\"string\"}\n",
    "\n",
    "# Set the project id\n",
    "! gcloud config set project {PROJECT_ID}"
   ]
  },
  {
   "cell_type": "code",
   "execution_count": null,
   "metadata": {},
   "outputs": [],
   "source": [
    "REGION = \"us-central1\"  # @param {type: \"string\"}"
   ]
  },
  {
   "cell_type": "code",
   "execution_count": null,
   "metadata": {},
   "outputs": [],
   "source": [
    "from google.cloud import aiplatform"
   ]
  },
  {
   "cell_type": "code",
   "execution_count": null,
   "metadata": {},
   "outputs": [],
   "source": [
    "aiplatform.init(project=PROJECT_ID, staging_bucket=BUCKET_URI)"
   ]
  },
  {
   "cell_type": "markdown",
   "metadata": {},
   "source": [
    "## Datasets\n"
   ]
  },
  {
   "cell_type": "markdown",
   "metadata": {},
   "source": [
    "## Models\n"
   ]
  },
  {
   "cell_type": "code",
   "execution_count": null,
   "metadata": {},
   "outputs": [],
   "source": [
    "# Get model resource ID using the display_name\n",
    "models = aiplatform.Model.list(filter=\"display_name=MODEL-DISPLAY-NAME\")\n",
    "\n",
    "if len(models) != 0:\n",
    "\n",
    "    # Get the model object\n",
    "    model_rsc_name = models[0].resource_name\n",
    "    print(\"Model resource name:\", model_rsc_name)\n",
    "    model = aiplatform.Model(model_rsc_name)\n",
    "\n",
    "    # Print the model evaluation\n",
    "    model_eval = model.get_model_evaluation()\n",
    "    print(model_eval.to_dict())"
   ]
  },
  {
   "cell_type": "markdown",
   "metadata": {},
   "source": [
    "## Batch Predictions \n",
    "\n",
    "https://cloud.google.com/python/docs/reference/aiplatform/latest/google.cloud.aiplatform.BatchPredictionJob#google_cloud_aiplatform_BatchPredictionJob_list\n"
   ]
  },
  {
   "cell_type": "code",
   "execution_count": null,
   "metadata": {},
   "outputs": [],
   "source": [
    "# Get batch job resource ID using the display_name\n",
    "batch_prediction_jobs = aiplatform.BatchPredictionJob.list(filter=\"display_name=BATCH-JOB-DISPLAY-NAME\")\n",
    "\n",
    "if len(batch_prediction_jobs) != 0:\n",
    "\n",
    "    # Get the model object\n",
    "    batch_job_rsc_name = batch_prediction_jobs[0].resource_name\n",
    "    print(\"Batch Job resource name:\", batch_job_rsc_name)\n",
    "    batch_predict_job = aiplatform.BatchPredictionJob(batch_prediction_job_name=batch_job_rsc_name)\n",
    "\n",
    "    # Print \n",
    "    print(batch_predict_job)"
   ]
  }
 ],
 "metadata": {
  "kernelspec": {
   "display_name": "Python 3",
   "language": "python",
   "name": "python3"
  },
  "language_info": {
   "codemirror_mode": {
    "name": "ipython",
    "version": 3
   },
   "file_extension": ".py",
   "mimetype": "text/x-python",
   "name": "python",
   "nbconvert_exporter": "python",
   "pygments_lexer": "ipython3",
   "version": "3.9.6"
  }
 },
 "nbformat": 4,
 "nbformat_minor": 2
}
