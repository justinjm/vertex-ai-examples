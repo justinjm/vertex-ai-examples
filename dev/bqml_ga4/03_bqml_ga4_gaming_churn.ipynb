{
 "cells": [
  {
   "attachments": {},
   "cell_type": "markdown",
   "id": "39cf2b60-f115-48f1-a240-b9a194a0a6cf",
   "metadata": {},
   "source": [
    "# BigQuery ML - Google Analytics 4 Propensity to Churn (Simplified)\n",
    "\n",
    "Somewhat simplified example from official Google Cloud example notebooks: \n",
    "\n",
    "* [analytics-componentized-patterns/bqml\\_ga4\\_gaming\\_propensity\\_to\\_churn.ipynb](https://github.com/GoogleCloudPlatform/analytics-componentized-patterns/blob/master/gaming/propensity-model/bqml/bqml_ga4_gaming_propensity_to_churn.ipynb)  - expanded data preparation for model training, batch prediction output \n",
    "* [training-data-analyst/lab\\_exercise.ipynb](https://github.com/GoogleCloudPlatform/training-data-analyst/blob/master/quests/vertex-ai/vertex-bqml/lab_exercise.ipynb)  - train and tune a BQML XGBoost propensity model to predict customer churn, online prediction (no longer required to manually export saved model from BQ ML to deploy)\n",
    "* [devrel-demos/vertex-ai-first-model-deployed.ipynb](https://github.com/GoogleCloudPlatform/devrel-demos/blob/main/ai-ml/vertex-ai-first-model-in-production/vertex-ai-first-model-deployed.ipynb) - simplifed data preparation model training and deployment with Vertex AI Pipelines, online prediction output "
   ]
  },
  {
   "attachments": {},
   "cell_type": "markdown",
   "id": "132f2d6c",
   "metadata": {},
   "source": [
    "### Summary\n",
    "\n",
    "1. Setup \n",
    "2. Create training dataset\n",
    "3. Train model with BQML (logistic regression)\n",
    "4. Evaluate model\n",
    "5. Create predictions (batch)\n",
    "6. Export predictions from BigQuery to Cloud Storage \n"
   ]
  },
  {
   "attachments": {},
   "cell_type": "markdown",
   "id": "cca8e935",
   "metadata": {},
   "source": [
    "## Setup\n",
    "\n",
    "Set variables below for use in the code throughout the notebook"
   ]
  },
  {
   "cell_type": "code",
   "execution_count": null,
   "id": "91983bf2",
   "metadata": {},
   "outputs": [],
   "source": [
    "PROJECT_ID = \"YOUR-PROJECT-ID\"  # replace with your project id\n",
    "REGION = 'US'"
   ]
  },
  {
   "attachments": {},
   "cell_type": "markdown",
   "id": "684d8816",
   "metadata": {},
   "source": [
    "### Create Google Cloud stroage bucket \n",
    "\n",
    "for exporting prediction results "
   ]
  },
  {
   "cell_type": "code",
   "execution_count": null,
   "id": "827be01c",
   "metadata": {},
   "outputs": [],
   "source": [
    "! gsutil mb -l us-central1 gs://$PROJECT_ID-bqmlga4-demo"
   ]
  },
  {
   "attachments": {},
   "cell_type": "markdown",
   "id": "6e828bbc",
   "metadata": {},
   "source": [
    "## Create Training dataset\n",
    "\n",
    "First we create 3 views for joining together into a training dataset:\n",
    "\n",
    "1. Returning users\n",
    "2. User Demographics\n",
    "3. User Behavior "
   ]
  },
  {
   "attachments": {},
   "cell_type": "markdown",
   "id": "14a5a08d",
   "metadata": {},
   "source": [
    "### Create BigQuery dataset \n",
    "\n",
    "For creating training dataset and locating ML model trained with BQML"
   ]
  },
  {
   "cell_type": "code",
   "execution_count": null,
   "id": "7c6ba68c",
   "metadata": {},
   "outputs": [],
   "source": [
    "%%bigquery --project $PROJECT_ID\n",
    "\n",
    "CREATE SCHEMA `demos-vertex-ai.bqmlga4_demo`\n",
    "OPTIONS(\n",
    "    location='US'\n",
    ")"
   ]
  },
  {
   "attachments": {},
   "cell_type": "markdown",
   "id": "a77f9686",
   "metadata": {},
   "source": [
    "### returning users \n",
    "\n",
    "Query to obtain returning users based on first engagement date "
   ]
  },
  {
   "cell_type": "code",
   "execution_count": null,
   "id": "6afb85ae",
   "metadata": {},
   "outputs": [],
   "source": [
    "%%bigquery --project $PROJECT_ID\n",
    "CREATE OR REPLACE VIEW bqmlga4_demo.returningusers AS(\n",
    "    WITH firstlasttouch AS(\n",
    "        SELECT\n",
    "        user_pseudo_id,\n",
    "        MIN(event_timestamp) AS user_first_engagement,\n",
    "        MAX(event_timestamp) AS user_last_engagement\n",
    "        FROM\n",
    "      `firebase-public-project.analytics_153293282.events_ *`\n",
    "        WHERE event_name=\"user_engagement\"\n",
    "        GROUP BY\n",
    "        user_pseudo_id\n",
    "\n",
    "    )\n",
    "    SELECT\n",
    "    user_pseudo_id,\n",
    "    user_first_engagement,\n",
    "    user_last_engagement,\n",
    "    EXTRACT(MONTH from TIMESTAMP_MICROS(user_first_engagement)) as month,\n",
    "    EXTRACT(DAYOFYEAR from TIMESTAMP_MICROS(user_first_engagement)) as julianday,\n",
    "    EXTRACT(DAYOFWEEK from TIMESTAMP_MICROS(user_first_engagement)) as dayofweek,\n",
    "\n",
    "    -- add 24 hr to user's first touch\n",
    "    (user_first_engagement + 86400000000) AS ts_24hr_after_first_engagement,\n",
    "\n",
    "    -- churned=1 if last_touch within 24 hr of app installation, else 0\n",
    "    IF(user_last_engagement < (user_first_engagement + 86400000000),\n",
    "        1,\n",
    "        0) AS churned,\n",
    "\n",
    "    -- bounced=1 if last_touch within 10 min, else 0\n",
    "    IF(user_last_engagement <= (user_first_engagement + 600000000),\n",
    "        1,\n",
    "        0) AS bounced,\n",
    "    FROM\n",
    "    firstlasttouch\n",
    "    GROUP BY\n",
    "    1, 2, 3\n",
    ")\n",
    "\n",
    "SELECT\n",
    "*\n",
    "FROM\n",
    "bqmlga4_demo.returningusers\n",
    "LIMIT 100\n"
   ]
  },
  {
   "attachments": {},
   "cell_type": "markdown",
   "id": "f0822bd3",
   "metadata": {},
   "source": [
    "### demographics \n",
    "\n",
    "Query to get user demographic data "
   ]
  },
  {
   "cell_type": "code",
   "execution_count": null,
   "id": "7810bb83",
   "metadata": {},
   "outputs": [],
   "source": [
    "%%bigquery --project $PROJECT_ID\n",
    "\n",
    "CREATE OR REPLACE VIEW bqmlga4_demo.user_demographics AS(\n",
    "\n",
    "    WITH first_values AS(\n",
    "        SELECT\n",
    "        user_pseudo_id,\n",
    "        geo.country as country,\n",
    "        device.operating_system as operating_system,\n",
    "        device.language as language,\n",
    "        ROW_NUMBER() OVER(PARTITION BY user_pseudo_id ORDER BY event_timestamp DESC) AS row_num\n",
    "        FROM `firebase-public-project.analytics_153293282.events_ *`\n",
    "        WHERE event_name=\"user_engagement\"\n",
    "    )\n",
    "    SELECT * EXCEPT(row_num)\n",
    "    FROM first_values\n",
    "    WHERE row_num=1\n",
    ")\n",
    "\n",
    "SELECT\n",
    "*\n",
    "FROM\n",
    "bqmlga4_demo.user_demographics\n",
    "LIMIT 10\n"
   ]
  },
  {
   "attachments": {},
   "cell_type": "markdown",
   "id": "073dde4a",
   "metadata": {},
   "source": [
    "### behaviorial \n",
    "\n",
    "Query for user behavor features \n"
   ]
  },
  {
   "cell_type": "code",
   "execution_count": null,
   "id": "6efc1920",
   "metadata": {},
   "outputs": [],
   "source": [
    "%%bigquery --project $PROJECT_ID\n",
    "\n",
    "CREATE OR REPLACE VIEW bqmlga4_demo.user_aggregate_behavior AS(\n",
    "    WITH\n",
    "    events_first24hr AS(\n",
    "        # select user data only from first 24 hr of using the app\n",
    "        SELECT\n",
    "        e.*\n",
    "        FROM\n",
    "        `firebase-public-project.analytics_153293282.events_ *` e\n",
    "        JOIN\n",
    "        bqmlga4_demo.returningusers r\n",
    "        ON\n",
    "        e.user_pseudo_id=r.user_pseudo_id\n",
    "        WHERE\n",
    "        e.event_timestamp <= r.ts_24hr_after_first_engagement\n",
    "    )\n",
    "    SELECT\n",
    "    user_pseudo_id,\n",
    "    SUM(IF(event_name='user_engagement', 1, 0)) AS cnt_user_engagement,\n",
    "    SUM(IF(event_name='level_start_quickplay', 1, 0)) AS cnt_level_start_quickplay,\n",
    "    SUM(IF(event_name='level_end_quickplay', 1, 0)) AS cnt_level_end_quickplay,\n",
    "    SUM(IF(event_name='level_complete_quickplay', 1, 0)) AS cnt_level_complete_quickplay,\n",
    "    SUM(IF(event_name='level_reset_quickplay', 1, 0)) AS cnt_level_reset_quickplay,\n",
    "    SUM(IF(event_name='post_score', 1, 0)) AS cnt_post_score,\n",
    "    SUM(IF(event_name='spend_virtual_currency', 1, 0)) AS cnt_spend_virtual_currency,\n",
    "    SUM(IF(event_name='ad_reward', 1, 0)) AS cnt_ad_reward,\n",
    "    SUM(IF(event_name='challenge_a_friend', 1, 0)) AS cnt_challenge_a_friend,\n",
    "    SUM(IF(event_name='completed_5_levels', 1, 0)) AS cnt_completed_5_levels,\n",
    "    SUM(IF(event_name='use_extra_steps', 1, 0)) AS cnt_use_extra_steps,\n",
    "    FROM\n",
    "    events_first24hr\n",
    "    GROUP BY\n",
    "    1\n",
    ")\n",
    "\n",
    "SELECT\n",
    "*\n",
    "FROM\n",
    "bqmlga4_demo.user_aggregate_behavior\n",
    "LIMIT 10\n"
   ]
  },
  {
   "attachments": {},
   "cell_type": "markdown",
   "id": "2bd3ae25",
   "metadata": {},
   "source": [
    "### training data \n",
    "\n",
    "Finally, join the 3 previously created datasets into the model-ready training dataset "
   ]
  },
  {
   "cell_type": "code",
   "execution_count": null,
   "id": "20235c7a",
   "metadata": {},
   "outputs": [],
   "source": [
    "%%bigquery --project $PROJECT_ID\n",
    "\n",
    "CREATE OR REPLACE VIEW bqmlga4_demo.train AS(\n",
    "\n",
    "    SELECT\n",
    "    dem.*,\n",
    "    IFNULL(beh.cnt_user_engagement, 0) AS cnt_user_engagement,\n",
    "    IFNULL(beh.cnt_level_start_quickplay, 0) AS cnt_level_start_quickplay,\n",
    "    IFNULL(beh.cnt_level_end_quickplay, 0) AS cnt_level_end_quickplay,\n",
    "    IFNULL(beh.cnt_level_complete_quickplay, 0) AS cnt_level_complete_quickplay,\n",
    "    IFNULL(beh.cnt_level_reset_quickplay, 0) AS cnt_level_reset_quickplay,\n",
    "    IFNULL(beh.cnt_post_score, 0) AS cnt_post_score,\n",
    "    IFNULL(beh.cnt_spend_virtual_currency, 0) AS cnt_spend_virtual_currency,\n",
    "    IFNULL(beh.cnt_ad_reward, 0) AS cnt_ad_reward,\n",
    "    IFNULL(beh.cnt_challenge_a_friend, 0) AS cnt_challenge_a_friend,\n",
    "    IFNULL(beh.cnt_completed_5_levels, 0) AS cnt_completed_5_levels,\n",
    "    IFNULL(beh.cnt_use_extra_steps, 0) AS cnt_use_extra_steps,\n",
    "    ret.user_first_engagement,\n",
    "    ret.month,\n",
    "    ret.julianday,\n",
    "    ret.dayofweek,\n",
    "    ret.churned\n",
    "    FROM\n",
    "    bqmlga4_demo.returningusers ret\n",
    "    LEFT OUTER JOIN\n",
    "    bqmlga4_demo.user_demographics dem\n",
    "    ON\n",
    "    ret.user_pseudo_id=dem.user_pseudo_id\n",
    "    LEFT OUTER JOIN\n",
    "    bqmlga4_demo.user_aggregate_behavior beh\n",
    "    ON\n",
    "    ret.user_pseudo_id=beh.user_pseudo_id\n",
    "    WHERE ret.bounced=0\n",
    ")\n",
    "\n",
    "SELECT\n",
    "*\n",
    "FROM\n",
    "bqmlga4_demo.train\n",
    "LIMIT 10\n"
   ]
  },
  {
   "attachments": {},
   "cell_type": "markdown",
   "id": "02cc1726",
   "metadata": {},
   "source": [
    "## Train model - logistic regression\n",
    "\n",
    "The `MODEL_REGISTRY` and `VERTEX_AI_MODEL_VERSION_ALIASES` parameters will add the resulting model to Vertex AI Model Registry, see more details at the links below:\n",
    "\n",
    "* https://cloud.google.com/blog/topics/developers-practitioners/mlops-bigquery-ml-vertex-ai-model-registry\n",
    "* https://cloud.google.com/bigquery-ml/docs/managing-models-vertex "
   ]
  },
  {
   "cell_type": "code",
   "execution_count": null,
   "id": "d52a5005",
   "metadata": {},
   "outputs": [],
   "source": [
    "%%bigquery --project $PROJECT_ID\n",
    "\n",
    "CREATE OR REPLACE MODEL bqmlga4_demo.churn_logreg\n",
    "\n",
    "OPTIONS(\n",
    "    MODEL_TYPE=\"LOGISTIC_REG\",\n",
    "    INPUT_LABEL_COLS=[\"churned\"],\n",
    "    MODEL_REGISTRY=\"vertex_ai\",\n",
    "    VERTEX_AI_MODEL_VERSION_ALIASES=['logistic_reg', 'demo']\n",
    ") AS\n",
    "\n",
    "SELECT\n",
    "*\n",
    "FROM\n",
    "bqmlga4_demo.train\n"
   ]
  },
  {
   "attachments": {},
   "cell_type": "markdown",
   "id": "da7182b6",
   "metadata": {},
   "source": [
    "## Create predictions \n",
    "\n",
    "For propensity modeling, the most important output is the probability of a behavior occuring. The following query returns the probability that the user will return after 24 hrs. The higher the probability and closer it is to 1, the more likely the user is predicted to churn, and the closer it is to 0, the more likely the user is predicted to return.\n"
   ]
  },
  {
   "cell_type": "code",
   "execution_count": null,
   "id": "46b19978",
   "metadata": {},
   "outputs": [],
   "source": [
    "%%bigquery --project $PROJECT_ID\n",
    "\n",
    "CREATE OR REPLACE TABLE bqmlga4_demo.predictions AS(\n",
    "    SELECT\n",
    "    user_pseudo_id,\n",
    "    churned,\n",
    "    predicted_churned,\n",
    "    predicted_churned_probs[OFFSET(0)].prob as probability_churned\n",
    "\n",
    "    FROM\n",
    "    ML.PREDICT(MODEL bqmlga4_demo.churn_logreg,\n",
    "               (SELECT * FROM bqmlga4_demo.train)) - -can be replaced with a proper test dataset\n",
    ")\n",
    "\n",
    "SELECT\n",
    "*\n",
    "FROM\n",
    "bqmlga4_demo.predictions\n"
   ]
  },
  {
   "attachments": {},
   "cell_type": "markdown",
   "id": "ce0d0274",
   "metadata": {},
   "source": [
    "## Export model predictions out of BigQuery\n",
    "\n",
    "### Export predictions to GCS "
   ]
  },
  {
   "cell_type": "code",
   "execution_count": null,
   "id": "3ed70848",
   "metadata": {},
   "outputs": [],
   "source": [
    "%%bigquery --project $PROJECT_ID\n",
    "\n",
    "EXPORT DATA OPTIONS(\n",
    "    uri='gs://demos-vertex-ai-bqmlga4-demo/churn_predictions*.csv',\n",
    "    format='CSV',\n",
    "    overwrite=TRUE\n",
    ") AS\n",
    "SELECT\n",
    "*\n",
    "FROM\n",
    "bqmlga4_demo.predictions"
   ]
  },
  {
   "attachments": {},
   "cell_type": "markdown",
   "id": "e22d98a4",
   "metadata": {},
   "source": [
    "## Activate/Operationalize Model Predictions\n",
    "\n",
    "Once you have the model predictions, there are different steps you can take based on your business objective.\n",
    "\n",
    "In our analysis, we used `user_pseudo_id` as the user identifier. However, ideally, your app should send back the `user_id` from your app to Google Analytics. This will help you to:\n",
    "\n",
    "* join any first-party data you have for model predictions\n",
    "* joins the model predictions with your first-party data\n",
    "\n",
    "Once you have this join capability, you can:\n",
    "\n",
    "* Export the model predictions back into Google Analytics as user attribute. This can be done using [Data Import feature](https://support.google.com/analytics/answer/10071301) in Google Analytics 4.\n",
    "  * Based on the prediction values you can [Create and edit audiences](https://support.google.com/analytics/answer/2611404) and also do [Audience targeting](https://support.google.com/optimize/answer/6283435). For example, an audience can be users with prediction probability between 0.4 and 0.7, to represent users who are predicted to be \"on the fence\" between churning and returning.\n",
    "* Adjust the user experience for targeted users within your app. For Firebase Apps, you can use the [Import segmentments](https://firebase.google.com/docs/projects/import-segments) feature. You can tailor user experience by targeting your identified users through Firebase services such as Remote Config, Cloud Messaging, and In-App Messaging. This will involve importing the segment data from BigQuery into Firebase. After that you can send notifications to the users, configure the app for them, or follow the user journeys across devices.\n",
    "* Run targeted marketing campaigns via CRMs like Salesforce, e.g. send out reminder emails.\n"
   ]
  },
  {
   "attachments": {},
   "cell_type": "markdown",
   "id": "b5f283d9",
   "metadata": {},
   "source": [
    "## Online Prediction \n",
    "\n",
    "We will deploy and perform an online prediction with the Python SDK for Vertex AI. \n",
    "\n",
    "### Initialize SDK\n",
    "\n",
    "First we initialize the SDK:"
   ]
  },
  {
   "cell_type": "code",
   "execution_count": null,
   "id": "82b95685-80dc-4923-a3c4-c6f567c98fab",
   "metadata": {},
   "outputs": [],
   "source": [
    "from google.cloud import aiplatform\n",
    "\n",
    "aiplatform.init(project = \"demos-vertex-ai\", location = \"us-central1\")"
   ]
  },
  {
   "attachments": {},
   "cell_type": "markdown",
   "id": "3a2f1841",
   "metadata": {},
   "source": [
    "Next, we  list models to obtain the model `resource_name` for deploying in the next command"
   ]
  },
  {
   "cell_type": "code",
   "execution_count": null,
   "id": "dcb8e85d-6939-40b5-bc2e-987f0c9e5ace",
   "metadata": {},
   "outputs": [],
   "source": [
    "models = aiplatform.Model.list(filter = \"display_name=churn_logreg\")\n",
    "model = aiplatform.Model(model_name = models[0].resource_name)\n",
    "model"
   ]
  },
  {
   "attachments": {},
   "cell_type": "markdown",
   "id": "58e19775",
   "metadata": {},
   "source": [
    "### create endpoint "
   ]
  },
  {
   "cell_type": "code",
   "execution_count": null,
   "id": "99be8da8-b05e-4b7e-970a-e41165760d79",
   "metadata": {},
   "outputs": [],
   "source": [
    "endpoint = aiplatform.Endpoint.create(display_name='bqmlga4')"
   ]
  },
  {
   "cell_type": "code",
   "execution_count": null,
   "id": "b3abb053-f215-42a9-b297-0436e4e7da64",
   "metadata": {},
   "outputs": [],
   "source": [
    "# deploy model to endpoint \n",
    "endpoint.deploy(model,\n",
    "                min_replica_count=1,\n",
    "                max_replica_count=5,\n",
    "                machine_type='n1-standard-4')"
   ]
  },
  {
   "cell_type": "code",
   "execution_count": null,
   "id": "fa47e558-c9a2-4922-831e-d9e58eb67d02",
   "metadata": {},
   "outputs": [],
   "source": [
    "# create sample of for online prediction \n",
    "test_instance={\n",
    "    \"user_pseudo_id\": \"71746D859E4E6D655FEE8FFBC3B6C7E9\",\n",
    "    \"country\": \"United States\",\n",
    "    \"operating_system\": \"ANDROID\",\n",
    "    \"language\": \"en-us\",\n",
    "    \"cnt_user_engagement\": 1,\n",
    "    \"cnt_level_start_quickplay\": 0,\n",
    "    \"cnt_level_end_quickplay\": 0,\n",
    "    \"cnt_level_complete_quickplay\": 0,\n",
    "    \"cnt_level_reset_quickplay\": 0,\n",
    "    \"cnt_post_score\": 0,\n",
    "    \"cnt_spend_virtual_currency\": 0,\n",
    "    \"cnt_ad_reward\": 0,\n",
    "    \"cnt_challenge_a_friend\": 0,\n",
    "    \"cnt_completed_5_levels\": 0,\n",
    "    \"cnt_use_extra_steps\": 0,\n",
    "    \"user_first_engagement\": 1529165922877000,\n",
    "    \"month\": 6,\n",
    "    \"julianday\": 167,\n",
    "    \"dayofweek\": 7\n",
    "\n",
    "}\n",
    "\n",
    "response = endpoint.predict([test_instance])\n",
    "\n",
    "print('API response: ', response)\n",
    "\n",
    "# https://cloud.google.com/vertex-ai/docs/tabular-data/classification-regression/get-online-predictions#aiplatform_create_endpoint_sample-python\n",
    "# https://cloud.google.com/vertex-ai/docs/datasets/data-types-tabular#format-for-prediction"
   ]
  },
  {
   "cell_type": "code",
   "execution_count": null,
   "id": "960de8a0-4b15-46ce-9874-dce1f5866f3e",
   "metadata": {},
   "outputs": [],
   "source": [
    "# cleanup\n",
    "endpoint.undeploy_all()\n",
    "endpoint.delete()"
   ]
  },
  {
   "cell_type": "markdown",
   "id": "f78454c4-130e-4e22-a8df-40d2affc07c4",
   "metadata": {},
   "source": [
    "## Appendix \n",
    "\n",
    "### Example set of online predictions \n",
    "\n",
    "Copy and paste the following into the UI/GCP console or use via REST (gcloud SDK + curl) or via Python\n",
    "\n",
    "```json\n",
    "{\n",
    "  \"instances\": [{   \n",
    "    \"user_pseudo_id\": \"71746D859E4E6D655FEE8FFBC3B6C7E9\",\n",
    "    \"country\": \"United States\",\n",
    "    \"operating_system\": \"ANDROID\",\n",
    "    \"language\": \"en-us\",\n",
    "    \"cnt_user_engagement\": 1,\n",
    "    \"cnt_level_start_quickplay\": 0,\n",
    "    \"cnt_level_end_quickplay\": 0,\n",
    "    \"cnt_level_complete_quickplay\": 0,\n",
    "    \"cnt_level_reset_quickplay\": 0,\n",
    "    \"cnt_post_score\": 0,\n",
    "    \"cnt_spend_virtual_currency\": 0,\n",
    "    \"cnt_ad_reward\": 0,\n",
    "    \"cnt_challenge_a_friend\": 0,\n",
    "    \"cnt_completed_5_levels\": 0,\n",
    "    \"cnt_use_extra_steps\": 0,\n",
    "    \"user_first_engagement\": 1529165922877000,\n",
    "    \"month\": 6,\n",
    "    \"julianday\": 167,\n",
    "    \"dayofweek\": 7\n",
    "    }]\n",
    "  }\n",
    "```"
   ]
  }
 ],
 "metadata": {
  "environment": {
   "kernel": "python3",
   "name": "common-cpu.m103",
   "type": "gcloud",
   "uri": "gcr.io/deeplearning-platform-release/base-cpu:m103"
  },
  "kernelspec": {
   "display_name": "Python 3",
   "language": "python",
   "name": "python3"
  },
  "language_info": {
   "codemirror_mode": {
    "name": "ipython",
    "version": 3
   },
   "file_extension": ".py",
   "mimetype": "text/x-python",
   "name": "python",
   "nbconvert_exporter": "python",
   "pygments_lexer": "ipython3",
   "version": "3.7.12"
  }
 },
 "nbformat": 4,
 "nbformat_minor": 5
}
