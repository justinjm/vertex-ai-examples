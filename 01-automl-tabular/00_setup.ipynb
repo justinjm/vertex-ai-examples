{
 "cells": [
  {
   "cell_type": "markdown",
   "id": "f266c52a-15b9-46bc-851e-6cc3cb1eb33a",
   "metadata": {},
   "source": [
    "# 1 - Setup Environment "
   ]
  },
  {
   "cell_type": "markdown",
   "id": "31359b60-6c0b-4807-8d75-f9dfe9b926be",
   "metadata": {},
   "source": [
    "This notebook will guide you through setting up a Google Cloud Platform environment."
   ]
  },
  {
   "cell_type": "code",
   "execution_count": 7,
   "id": "02cb4497-79cb-40cb-9979-3bd2ac394121",
   "metadata": {},
   "outputs": [],
   "source": [
    "REGION = 'us-central1'\n",
    "PROJECT_ID = 'demos-vertex-ai'\n",
    "DATANAME = 'propensity'\n",
    "\n",
    "BQ_SOURCE = f\"{PROJECT_ID}.{DATANAME}.training_data\""
   ]
  },
  {
   "cell_type": "markdown",
   "id": "fca93e66-66bc-4187-ace1-5d9dfacb1bd1",
   "metadata": {},
   "source": [
    "## Setup\n",
    "inputs:"
   ]
  },
  {
   "cell_type": "code",
   "execution_count": 10,
   "id": "09cc9099-5d6c-4ba7-a072-e553b5661444",
   "metadata": {},
   "outputs": [],
   "source": [
    "from google.cloud import storage\n",
    "from google.cloud import bigquery\n",
    "\n",
    "import pandas as pd\n",
    "from sklearn import datasets"
   ]
  },
  {
   "cell_type": "code",
   "execution_count": 11,
   "id": "4dd903c9-057b-4c45-81e2-7fa389c6f1b9",
   "metadata": {},
   "outputs": [],
   "source": [
    "bq = bigquery.Client(project = PROJECT_ID)"
   ]
  },
  {
   "cell_type": "markdown",
   "id": "b630c66b-d8c3-4eec-9bec-8433a4675bda",
   "metadata": {},
   "source": [
    "parameters:"
   ]
  },
  {
   "cell_type": "code",
   "execution_count": 12,
   "id": "5bc84c4d-9330-4f64-9e1e-47f275222134",
   "metadata": {},
   "outputs": [],
   "source": [
    "BUCKET = PROJECT_ID"
   ]
  },
  {
   "cell_type": "markdown",
   "id": "2c2b960f-deaf-46f1-a273-d38e71f09b33",
   "metadata": {},
   "source": [
    "## Create Storage Bucket"
   ]
  },
  {
   "cell_type": "code",
   "execution_count": 13,
   "id": "82afc5c2-005b-4e8c-a076-c2362ce03eff",
   "metadata": {},
   "outputs": [],
   "source": [
    "gcs = storage.Client(project = PROJECT_ID)"
   ]
  },
  {
   "cell_type": "code",
   "execution_count": 14,
   "id": "fe5c9507-e7da-4158-a15e-df03d02206b9",
   "metadata": {},
   "outputs": [
    {
     "name": "stdout",
     "output_type": "stream",
     "text": [
      "<Bucket: demos-vertex-ai>\n"
     ]
    }
   ],
   "source": [
    "if not gcs.lookup_bucket(BUCKET):\n",
    "    bucketDef = gcs.bucket(BUCKET)\n",
    "    bucket = gcs.create_bucket(bucketDef, project=PROJECT_ID, location=REGION)\n",
    "    print(bucket)\n",
    "else:\n",
    "    print(gcs.lookup_bucket(BUCKET))"
   ]
  },
  {
   "cell_type": "markdown",
   "id": "c8a374ff-6b39-4bc5-a3eb-f3ef700e1f28",
   "metadata": {},
   "source": [
    "## Store data in Storage Bucket\n",
    "\n",
    "* export from bigquery table to GCS bucket as CSV (the table is referenced in the BQ_SOURCE variable at the top of this notebook)\n",
    "* More details here: [Exporting table data  |  BigQuery  |  Google Cloud](https://cloud.google.com/bigquery/docs/exporting-data#python)"
   ]
  },
  {
   "cell_type": "markdown",
   "id": "988b9d7e-b282-43a3-9563-89fc15ca4f2b",
   "metadata": {},
   "source": [
    "### Save training data as BigQuery table for export to GCS "
   ]
  },
  {
   "cell_type": "code",
   "execution_count": 15,
   "id": "93f99e93-f15e-4e45-98eb-8376c2f153ca",
   "metadata": {},
   "outputs": [
    {
     "name": "stdout",
     "output_type": "stream",
     "text": [
      "Query results loaded to the table demos-vertex-ai.propensity.training_data\n"
     ]
    }
   ],
   "source": [
    "table_id = BQ_SOURCE\n",
    "\n",
    "job_config = bigquery.QueryJobConfig(destination=table_id,\n",
    "                                    write_disposition = 'WRITE_TRUNCATE')\n",
    "\n",
    "sql = \"\"\"\n",
    "  SELECT\n",
    "    fullVisitorId,\n",
    "    bounces,\n",
    "    time_on_site,\n",
    "    will_buy_on_return_visit\n",
    "  FROM (\n",
    "        # select features\n",
    "        SELECT\n",
    "          fullVisitorId,\n",
    "          IFNULL(totals.bounces, 0) AS bounces,\n",
    "          IFNULL(totals.timeOnSite, 0) AS time_on_site\n",
    "        FROM\n",
    "          `data-to-insights.ecommerce.web_analytics`\n",
    "        WHERE\n",
    "          totals.newVisits = 1\n",
    "        AND date BETWEEN '20160801' # train on first 9 months of data\n",
    "        AND '20170430'\n",
    "       )\n",
    "  JOIN (\n",
    "        SELECT\n",
    "          fullvisitorid,\n",
    "          IF (\n",
    "              COUNTIF (\n",
    "                       totals.transactions > 0\n",
    "                       AND totals.newVisits IS NULL\n",
    "                      ) > 0,\n",
    "              1,\n",
    "              0\n",
    "             ) AS will_buy_on_return_visit\n",
    "        FROM\n",
    "          `bigquery-public-data.google_analytics_sample.*`\n",
    "        GROUP BY\n",
    "          fullvisitorid\n",
    "       )\n",
    "  USING (fullVisitorId)\n",
    "  ORDER BY time_on_site DESC\n",
    "\"\"\"\n",
    "\n",
    "# Start the query, passing in the extra configuration.\n",
    "query_job = bq.query(sql, job_config=job_config)  # Make an API request.\n",
    "query_job.result()  # Wait for the job to complete.\n",
    "\n",
    "print(\"Query results loaded to the table {}\".format(table_id))"
   ]
  },
  {
   "cell_type": "code",
   "execution_count": 17,
   "id": "b42ad6f6-17d9-44c4-ba05-92ea695f0303",
   "metadata": {},
   "outputs": [],
   "source": [
    "bq = bigquery.Client(project = PROJECT_ID)\n",
    "destination = f\"gs://{BUCKET}/{DATANAME}/data/{DATANAME}.csv\"\n",
    "source = bigquery.TableReference.from_string(BQ_SOURCE)\n",
    "extract = bq.extract_table(source, destination)"
   ]
  }
 ],
 "metadata": {
  "environment": {
   "kernel": "python3",
   "name": "common-cpu.m100",
   "type": "gcloud",
   "uri": "gcr.io/deeplearning-platform-release/base-cpu:m100"
  },
  "kernelspec": {
   "display_name": "Python 3",
   "language": "python",
   "name": "python3"
  },
  "language_info": {
   "codemirror_mode": {
    "name": "ipython",
    "version": 3
   },
   "file_extension": ".py",
   "mimetype": "text/x-python",
   "name": "python",
   "nbconvert_exporter": "python",
   "pygments_lexer": "ipython3",
   "version": "3.7.12"
  }
 },
 "nbformat": 4,
 "nbformat_minor": 5
}
