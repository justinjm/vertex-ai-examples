{
 "cells": [
  {
   "cell_type": "markdown",
   "id": "ba622aaa-295b-4d6a-870f-7b33c41caef6",
   "metadata": {},
   "source": [
    "# 01 - Intro - Vertex AI SDK \n",
    "\n",
    "A quick intro on how to use the Vertex AI SDK and helpful links "
   ]
  },
  {
   "cell_type": "code",
   "execution_count": null,
   "id": "0f594e87-8d68-437e-b58f-72b0d049adda",
   "metadata": {},
   "outputs": [],
   "source": [
    "PROJECT_ID = 'demos-vertex-ai'\n",
    "REGION = 'us-central1'\n",
    "MODEL = 'model_03_fe'\n"
   ]
  },
  {
   "cell_type": "code",
   "execution_count": null,
   "id": "f1bd201b-b74a-4430-95cf-bc5b97053d34",
   "metadata": {},
   "outputs": [],
   "source": [
    "from google.cloud import aiplatform"
   ]
  },
  {
   "cell_type": "code",
   "execution_count": null,
   "id": "df850a6d-1aa9-403a-b06b-dddd672feb73",
   "metadata": {},
   "outputs": [],
   "source": [
    "aiplatform.init(project = PROJECT_ID, location = REGION)"
   ]
  },
  {
   "cell_type": "code",
   "execution_count": null,
   "id": "52bfd1b1-c087-44da-9584-493afe8c3596",
   "metadata": {},
   "outputs": [],
   "source": [
    "model_list = aiplatform.Model.list()\n",
    "model_list"
   ]
  },
  {
   "cell_type": "code",
   "execution_count": null,
   "id": "2760c51d",
   "metadata": {},
   "outputs": [],
   "source": [
    "# set dynmically from MODEL set above\n",
    "models = aiplatform.Model.list(filter=f'display_name={MODEL}')\n",
    "model = aiplatform.Model(model_name=models[0].resource_name)\n",
    "model\n"
   ]
  },
  {
   "cell_type": "code",
   "execution_count": null,
   "id": "ee8f2a15-65fb-4a22-9516-62eb630fb81d",
   "metadata": {},
   "outputs": [],
   "source": [
    "# manually set by hard-coded resource name\n",
    "model = aiplatform.Model(\n",
    "    f'projects/{PROJECT_ID}/locations/us-central1/models/{MODEL}')\n",
    "model"
   ]
  },
  {
   "cell_type": "code",
   "execution_count": null,
   "id": "3c2f9548-1b8e-4bba-bc5b-7977520b9311",
   "metadata": {},
   "outputs": [],
   "source": [
    "model.resource_name"
   ]
  },
  {
   "cell_type": "markdown",
   "id": "994d13c7-ec4b-4bca-81fb-b5f7129942ae",
   "metadata": {},
   "source": [
    "## Get Model Evaluations\n",
    "\n",
    "While the model above was trained using AutoML with the API, it is still possible to review the evaluation metrics directly in the Google Cloud Console. Just visit the Models section of Vertex AI service and select the model and it will present the evaluation metrics with many helpful visuals.\n",
    "\n",
    "It is also possible to retrieve the evaluation metrics for you model using the API. This section shows how to use the API.\n",
    "\n",
    "Source: [vertex-ai-mlops/02b - Vertex AI - AutoML with clients (code).ipynb](https://github.com/statmike/vertex-ai-mlops/blob/main/02%20-%20Vertex%20AI%20AutoML/02b%20-%20Vertex%20AI%20-%20AutoML%20with%20clients%20(code).ipynb)"
   ]
  },
  {
   "cell_type": "code",
   "execution_count": null,
   "id": "81c51a7d-84fb-44b8-b9f0-5eb11c18b5ff",
   "metadata": {},
   "outputs": [],
   "source": [
    "model_client = aiplatform.gapic.ModelServiceClient(\n",
    "    client_options = {\n",
    "        'api_endpoint' : f'{REGION}-aiplatform.googleapis.com'\n",
    "    }\n",
    ")"
   ]
  },
  {
   "cell_type": "code",
   "execution_count": null,
   "id": "b68dcf71-acfd-44ad-91c1-16efd32e6d79",
   "metadata": {},
   "outputs": [],
   "source": [
    "evaluations = model_client.list_model_evaluations(parent = model.resource_name)\n",
    "evals = iter(evaluations)\n",
    "eval_id = next(evals).name\n",
    "geteval = model_client.get_model_evaluation(name = eval_id)"
   ]
  },
  {
   "cell_type": "code",
   "execution_count": null,
   "id": "4d9fdea0-a4c5-47c0-8360-4aa9d7fb3e07",
   "metadata": {},
   "outputs": [],
   "source": [
    "geteval.metrics['auRoc']"
   ]
  },
  {
   "cell_type": "markdown",
   "id": "5963e5bb-c2d7-4c41-9bbf-9f3f135f9319",
   "metadata": {},
   "source": [
    "## Helpful Links\n",
    "\n",
    "* [googleapis/python-aiplatform](https://github.com/googleapis/python-aiplatform) - A Python SDK for Vertex AI, a fully managed, end-to-end platform for data science and machine learning.\n"
   ]
  }
 ],
 "metadata": {
  "environment": {
   "kernel": "python3",
   "name": "common-cpu.m100",
   "type": "gcloud",
   "uri": "gcr.io/deeplearning-platform-release/base-cpu:m100"
  },
  "kernelspec": {
   "display_name": "Python 3",
   "language": "python",
   "name": "python3"
  },
  "language_info": {
   "codemirror_mode": {
    "name": "ipython",
    "version": 3
   },
   "file_extension": ".py",
   "mimetype": "text/x-python",
   "name": "python",
   "nbconvert_exporter": "python",
   "pygments_lexer": "ipython3",
   "version": "3.9.6"
  }
 },
 "nbformat": 4,
 "nbformat_minor": 5
}
