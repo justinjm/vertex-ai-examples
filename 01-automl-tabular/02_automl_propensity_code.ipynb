{
 "cells": [
  {
   "cell_type": "markdown",
   "id": "bdf1621f-2d2a-4662-8843-10bc0783066b",
   "metadata": {},
   "source": [
    "# AutoML Propensity to Purchase with code\n",
    "\n",
    "Use the Vertex AI Python Client to recreate a no-code approach with code (Python). This builds a custom model with AutoML and executes a batch prediction \n",
    "\n",
    "Based on the original source [vertex-ai-mlops/02b - Vertex AI - AutoML with clients (code).ipynb](https://github.com/statmike/vertex-ai-mlops/blob/main/02b%20-%20Vertex%20AI%20-%20AutoML%20with%20clients%20(code).ipynb) by fellow Googler, Mike Henderson [statmike](https://github.com/statmike)"
   ]
  },
  {
   "cell_type": "markdown",
   "id": "cc7025e9-9c09-45fd-b0c9-b37bf2e3ee2c",
   "metadata": {},
   "source": [
    "## Setup\n",
    "Inputs:"
   ]
  },
  {
   "cell_type": "code",
   "execution_count": null,
   "id": "ff597e66-fab5-4856-a6fb-c21cf40d74d4",
   "metadata": {},
   "outputs": [],
   "source": [
    "PROJECT_ID = 'demos-vertex-ai'\n",
    "REGION = 'us-central1'\n",
    "DATANAME = 'propensity'\n",
    "NOTEBOOK = 'automl-propensity-code'\n",
    "\n",
    "# Resources\n",
    "DEPLOY_COMPUTE = 'n1-standard-4'\n",
    "\n",
    "# Model Training\n",
    "VAR_TARGET = 'will_buy_on_return_visit'\n",
    "VAR_OMIT = 'fullVisitorId' # add more variables to the string with space delimiters"
   ]
  },
  {
   "cell_type": "markdown",
   "id": "08ea72c9-3bf9-406d-9381-41f846c92b55",
   "metadata": {},
   "source": [
    "packages:"
   ]
  },
  {
   "cell_type": "code",
   "execution_count": null,
   "id": "73e06530-f957-48cb-98b1-7ed78bc8290e",
   "metadata": {},
   "outputs": [],
   "source": [
    "from google.cloud import aiplatform\n",
    "from datetime import datetime\n",
    "\n",
    "from google.cloud import bigquery\n",
    "from google.protobuf import json_format\n",
    "from google.protobuf.struct_pb2 import Value\n",
    "import json\n",
    "import numpy as np"
   ]
  },
  {
   "cell_type": "markdown",
   "id": "3f19fe09-5d3f-4e94-8915-98326f73203b",
   "metadata": {},
   "source": [
    "clients: "
   ]
  },
  {
   "cell_type": "code",
   "execution_count": null,
   "id": "e3f5f5e9-f095-461e-a2fd-75f47cfd622f",
   "metadata": {},
   "outputs": [],
   "source": [
    "aiplatform.init(project=PROJECT_ID, location=REGION)\n",
    "bq = bigquery.Client(project = PROJECT_ID)"
   ]
  },
  {
   "cell_type": "markdown",
   "id": "1237c0e9-92a6-4c39-aeeb-be11db29310d",
   "metadata": {},
   "source": [
    "parameters:"
   ]
  },
  {
   "cell_type": "code",
   "execution_count": null,
   "id": "929cad28-53a5-4739-a294-706d68903a31",
   "metadata": {},
   "outputs": [],
   "source": [
    "TIMESTAMP = datetime.now().strftime(\"%Y%m%d%H%M%S\")\n",
    "DIR = f\"temp/{NOTEBOOK}\""
   ]
  },
  {
   "cell_type": "markdown",
   "id": "e8c61054-9bb0-41e0-ab1f-3ee7e96c4dc8",
   "metadata": {},
   "source": [
    "environment:"
   ]
  },
  {
   "cell_type": "code",
   "execution_count": null,
   "id": "f6846ca0-b003-4628-94e9-d3beba0df86e",
   "metadata": {},
   "outputs": [],
   "source": [
    "!rm -rf {DIR}\n",
    "!mkdir -p {DIR}"
   ]
  },
  {
   "cell_type": "markdown",
   "id": "b339ad78-9ac8-4a1b-92c0-f909cd3db9a7",
   "metadata": {},
   "source": [
    "## Create BigQuery Dataset\n",
    "List BQ datasets in the project first to see"
   ]
  },
  {
   "cell_type": "code",
   "execution_count": null,
   "id": "5ba6c3ad-12bd-40d6-bb0e-d075b31b29bd",
   "metadata": {},
   "outputs": [],
   "source": [
    "query = f\"\"\"\n",
    "SELECT schema_name\n",
    "FROM `{PROJECT_ID}.INFORMATION_SCHEMA.SCHEMATA`\n",
    "\"\"\"\n",
    "bq.query(query = query).to_dataframe()"
   ]
  },
  {
   "cell_type": "markdown",
   "id": "74ae3b1c-c6c9-4bc9-a308-06669f4e433b",
   "metadata": {},
   "source": [
    "Create dataset if missing"
   ]
  },
  {
   "cell_type": "code",
   "execution_count": null,
   "id": "e4b77366-16a0-4093-b51b-6c4a0d63c511",
   "metadata": {},
   "outputs": [],
   "source": [
    "query = f\"\"\"\n",
    "CREATE SCHEMA IF NOT EXISTS `{PROJECT_ID}.{DATANAME}`\n",
    "OPTIONS(\n",
    "    location = 'US',\n",
    "    labels = [('notebook','{NOTEBOOK}')]\n",
    ")\n",
    "\"\"\"\n",
    "job = bq.query(query = query)\n",
    "job.result()"
   ]
  },
  {
   "cell_type": "code",
   "execution_count": null,
   "id": "11980a1c-913a-4fd8-939c-7df3d8d4879a",
   "metadata": {},
   "outputs": [],
   "source": [
    "(job.ended-job.started).total_seconds()"
   ]
  },
  {
   "cell_type": "markdown",
   "id": "bff19c95-6b4f-4f6e-9c84-cbd15a9c6259",
   "metadata": {},
   "source": [
    "list BQ datasets again to confirm creation:"
   ]
  },
  {
   "cell_type": "code",
   "execution_count": null,
   "id": "15e76d46-a857-4597-a9e0-602eb1e2e506",
   "metadata": {},
   "outputs": [],
   "source": [
    "query = f\"\"\"\n",
    "SELECT schema_name\n",
    "FROM `{PROJECT_ID}.INFORMATION_SCHEMA.SCHEMATA`\n",
    "\"\"\"\n",
    "bq.query(query = query).to_dataframe()"
   ]
  },
  {
   "cell_type": "markdown",
   "id": "aae98149-6d16-4b57-b814-ecb404fd60cc",
   "metadata": {},
   "source": [
    "## Create BigQuery Table "
   ]
  },
  {
   "cell_type": "markdown",
   "id": "d144c0c3-7d59-4855-a943-d76485986ab5",
   "metadata": {},
   "source": [
    "Submit job to save query results to a table via Python [Writing query results  |  BigQuery  |  Google Cloud](https://cloud.google.com/bigquery/docs/writing-results#writing_query_results)"
   ]
  },
  {
   "cell_type": "code",
   "execution_count": null,
   "id": "1d842527-ba01-4b69-8fbe-dea62bf47b87",
   "metadata": {},
   "outputs": [],
   "source": [
    "table_id = f\"{PROJECT_ID}.{DATANAME}.{DATANAME}\"\n",
    "\n",
    "job_config = bigquery.QueryJobConfig(destination=table_id,\n",
    "                                    write_disposition = 'WRITE_TRUNCATE')\n",
    "\n",
    "sql = \"\"\"\n",
    "  SELECT\n",
    "    fullVisitorId,\n",
    "    bounces,\n",
    "    time_on_site,\n",
    "    will_buy_on_return_visit\n",
    "  FROM (\n",
    "        # select features\n",
    "        SELECT\n",
    "          fullVisitorId,\n",
    "          IFNULL(totals.bounces, 0) AS bounces,\n",
    "          IFNULL(totals.timeOnSite, 0) AS time_on_site\n",
    "        FROM\n",
    "          `data-to-insights.ecommerce.web_analytics`\n",
    "        WHERE\n",
    "          totals.newVisits = 1\n",
    "        AND date BETWEEN '20160801' # train on first 9 months of data\n",
    "        AND '20170430'\n",
    "       )\n",
    "  JOIN (\n",
    "        SELECT\n",
    "          fullvisitorid,\n",
    "          IF (\n",
    "              COUNTIF (\n",
    "                       totals.transactions > 0\n",
    "                       AND totals.newVisits IS NULL\n",
    "                      ) > 0,\n",
    "              1,\n",
    "              0\n",
    "             ) AS will_buy_on_return_visit\n",
    "        FROM\n",
    "          `bigquery-public-data.google_analytics_sample.*`\n",
    "        GROUP BY\n",
    "          fullvisitorid\n",
    "       )\n",
    "  USING (fullVisitorId)\n",
    "  ORDER BY time_on_site DESC\n",
    "\"\"\"\n",
    "\n",
    "# Start the query, passing in the extra configuration.\n",
    "query_job = bq.query(sql, job_config=job_config)  # Make an API request.\n",
    "query_job.result()  # Wait for the job to complete.\n",
    "\n",
    "print(\"Query results loaded to the table {}\".format(table_id))"
   ]
  },
  {
   "cell_type": "markdown",
   "id": "68f2197e-a3b8-42f4-bccf-5e33f5c4f8c0",
   "metadata": {},
   "source": [
    "# Create AutoML Dataset (link to BigQuery table)"
   ]
  },
  {
   "cell_type": "code",
   "execution_count": null,
   "id": "75de5882-b39b-4450-8599-78b919dc0a0f",
   "metadata": {},
   "outputs": [],
   "source": [
    "dataset = aiplatform.TabularDataset.create(\n",
    "    display_name = f'{NOTEBOOK}_{DATANAME}_{TIMESTAMP}', \n",
    "    bq_source = f'bq://{PROJECT_ID}.{DATANAME}.{DATANAME}',\n",
    "    labels = {'notebook':f'{NOTEBOOK}'}\n",
    ")"
   ]
  },
  {
   "cell_type": "markdown",
   "id": "7b91a7ff-c617-4bb4-a35e-fb52d963c433",
   "metadata": {},
   "source": [
    "# Train Model with AutoML "
   ]
  },
  {
   "cell_type": "code",
   "execution_count": null,
   "id": "2a6a1b8b-3eb7-4ea2-9e80-c5e6d7f85d32",
   "metadata": {},
   "outputs": [],
   "source": [
    "column_specs = list(set(dataset.column_names) - set(VAR_OMIT.split()) - set([VAR_TARGET, 'splits']))"
   ]
  },
  {
   "cell_type": "code",
   "execution_count": null,
   "id": "ed312677-819f-40f6-8c08-51bc873a760e",
   "metadata": {},
   "outputs": [],
   "source": [
    "column_specs = dict.fromkeys(column_specs, 'auto')"
   ]
  },
  {
   "cell_type": "code",
   "execution_count": null,
   "id": "a9775dd8-a9da-4c2d-b3c3-fbf7575c2d7d",
   "metadata": {},
   "outputs": [],
   "source": [
    "print(column_specs)"
   ]
  },
  {
   "cell_type": "markdown",
   "id": "4eedbc11-fc6d-4e5a-b9b8-1c2d16e47ecd",
   "metadata": {},
   "source": [
    "Define a Job:\n",
    "\n",
    "* Consider Weighting\n",
    "* Model Type\n",
    "* Optimization Objective\n",
    "\n",
    "https://googleapis.dev/python/aiplatform/latest/aiplatform.html#google.cloud.aiplatform.AutoMLTabularTrainingJob"
   ]
  },
  {
   "cell_type": "code",
   "execution_count": null,
   "id": "8d04fd9b-82cf-4927-9736-e5a0b2cc8839",
   "metadata": {},
   "outputs": [],
   "source": [
    "tabular_classification_job = aiplatform.AutoMLTabularTrainingJob(\n",
    "    display_name = f'{NOTEBOOK}_{DATANAME}_{TIMESTAMP}',\n",
    "    optimization_prediction_type = 'classification',\n",
    "    optimization_objective = 'maximize-au-prc',\n",
    "    column_specs = column_specs,\n",
    "    labels = {'notebook':f'{NOTEBOOK}'}\n",
    ")"
   ]
  },
  {
   "cell_type": "code",
   "execution_count": null,
   "id": "364eea7f-6e9d-430c-88c8-6f8d938a25bb",
   "metadata": {},
   "outputs": [],
   "source": [
    "model = tabular_classification_job.run(\n",
    "    dataset = dataset,\n",
    "    target_column = VAR_TARGET,\n",
    "    # predefined_split_column_name = 'splits',\n",
    "    #    training_fraction_split = 0.8,\n",
    "    #    validation_fraction_split = 0.1,\n",
    "    #    test_fraction_split = 0.1,\n",
    "    budget_milli_node_hours = 1000,\n",
    "    model_display_name = f'{NOTEBOOK}_{DATANAME}_{TIMESTAMP}',\n",
    "    disable_early_stopping = False,\n",
    "    model_labels = {'notebook':f'{NOTEBOOK}'}\n",
    ")"
   ]
  },
  {
   "cell_type": "markdown",
   "id": "ccf7bac2-f05e-4ef4-b6a0-3861398d90e6",
   "metadata": {},
   "source": [
    "# Evaluation \n",
    "One can evaluate the model in 2 ways \n",
    "\n",
    "1. within the Cloud Console under [Vertex AI > Models](https://console.cloud.google.com/vertex-ai/models) \n",
    "2. via the API \n"
   ]
  },
  {
   "cell_type": "markdown",
   "id": "f33b5520-b0d4-4b22-aba6-4f9a467bd6a3",
   "metadata": {},
   "source": [
    "Setup a model client for the model created by this notebook:"
   ]
  },
  {
   "cell_type": "code",
   "execution_count": null,
   "id": "1e98543b-609f-4a94-9313-2d14aaa0d11c",
   "metadata": {},
   "outputs": [],
   "source": [
    "# model = aiplatform.Model('projects/746038361521/locations/us-central1/models/298666940522561536')\n",
    "model.resource_name"
   ]
  },
  {
   "cell_type": "code",
   "execution_count": null,
   "id": "94974cb8-7633-4c28-96bf-b235b47f62b5",
   "metadata": {},
   "outputs": [],
   "source": [
    "model_client = aiplatform.gapic.ModelServiceClient(\n",
    "    client_options = {\n",
    "        'api_endpoint' : f'{REGION}-aiplatform.googleapis.com'\n",
    "    }\n",
    ")"
   ]
  },
  {
   "cell_type": "markdown",
   "id": "ed8234b3-4050-4b21-96ea-685eebc2dffc",
   "metadata": {},
   "source": [
    "Retrives the aggregate model evalution metrics for the model as a whole. First, use `.list_model_evaluations` to retrieve the evaluation id, then use `.get_model_evaluation` for the evaluation id:"
   ]
  },
  {
   "cell_type": "code",
   "execution_count": null,
   "id": "1c79a74c-30e8-4ce5-9077-f0d885fe6906",
   "metadata": {},
   "outputs": [],
   "source": [
    "evaluations = model_client.list_model_evaluations(parent = model.resource_name)\n",
    "evals = iter(evaluations)\n",
    "eval_id = next(evals).name\n",
    "geteval = model_client.get_model_evaluation(name = eval_id)"
   ]
  },
  {
   "cell_type": "code",
   "execution_count": null,
   "id": "85d7a00f-7ccb-40b5-adf0-b2c4c5539401",
   "metadata": {},
   "outputs": [],
   "source": [
    "geteval.metrics['auPrc']"
   ]
  },
  {
   "cell_type": "code",
   "execution_count": null,
   "id": "be04185b-cbe3-4432-ab28-12311afff2da",
   "metadata": {},
   "outputs": [],
   "source": [
    "for i in range(len(geteval.metrics['confusionMatrix']['annotationSpecs'])):\n",
    "    print('True Label = ', \n",
    "          geteval.metrics['confusionMatrix']['annotationSpecs'][i]['displayName'], \n",
    "          ' has Predicted labels = ', \n",
    "          geteval.metrics['confusionMatrix']['rows'][i])\n"
   ]
  },
  {
   "cell_type": "code",
   "execution_count": null,
   "id": "caf60d54-098d-4121-b205-13e47e5a1b4a",
   "metadata": {},
   "outputs": [],
   "source": [
    "slices = model_client.list_model_evaluation_slices(parent = eval_id)\n",
    "for slice in slices:\n",
    "    print('Label = ', slice.slice_.value, 'has auPrc = ', slice.metrics['auPrc'])"
   ]
  },
  {
   "cell_type": "markdown",
   "id": "d3b65d1c-79cf-410c-99d8-483502820703",
   "metadata": {},
   "source": [
    "# Batch Prediction"
   ]
  },
  {
   "cell_type": "markdown",
   "id": "35d466aa-3df4-485d-84e0-9a96b4ba868c",
   "metadata": {},
   "source": [
    "## Create sample batch input (BigQuery table)\n",
    "From original dataset for a simplified demonstration"
   ]
  },
  {
   "cell_type": "code",
   "execution_count": null,
   "id": "a3d634b5-9aa8-45bc-892f-b070bb98699c",
   "metadata": {
    "tags": []
   },
   "outputs": [],
   "source": [
    "table_id = f\"{PROJECT_ID}.{DATANAME}.batch_01\"\n",
    "\n",
    "job_config = bigquery.QueryJobConfig(destination=table_id,\n",
    "                                    write_disposition = 'WRITE_TRUNCATE')\n",
    "\n",
    "sql = f\"\"\"\n",
    "  SELECT * FROM {PROJECT_ID}.{DATANAME}.{DATANAME} WHERE RAND() < 10/555987\n",
    "\"\"\"\n",
    "\n",
    "# Start the query, passing in the extra configuration.\n",
    "query_job = bq.query(sql, job_config=job_config)  # Make an API request.\n",
    "query_job.result()  # Wait for the job to complete.\n",
    "\n",
    "print(\"Query results loaded to the table {}\".format(table_id))"
   ]
  },
  {
   "cell_type": "markdown",
   "id": "9f6b9a4d-509e-4594-b582-d01dbc3c26a4",
   "metadata": {},
   "source": [
    "## Batch Prediction from BigQuery source to BigQuery Destination, with Explanations"
   ]
  },
  {
   "cell_type": "code",
   "execution_count": null,
   "id": "5075f7cc-65fe-4796-b03a-4b0879442edd",
   "metadata": {},
   "outputs": [],
   "source": [
    "batch = aiplatform.BatchPredictionJob.create(\n",
    "    job_display_name = f'{NOTEBOOK}_{DATANAME}_{TIMESTAMP}',\n",
    "    model_name = model.name,\n",
    "    instances_format = \"bigquery\",\n",
    "    predictions_format = \"bigquery\",\n",
    "    bigquery_source = f'bq://{PROJECT_ID}.{DATANAME}.batch_01',\n",
    "    bigquery_destination_prefix = f\"{PROJECT_ID}\",\n",
    "    generate_explanation = True,\n",
    "    labels = {'notebook':f'{NOTEBOOK}'}\n",
    ")"
   ]
  },
  {
   "cell_type": "markdown",
   "id": "4473d751-00c5-436c-aae9-959310b69048",
   "metadata": {},
   "source": [
    "## View batch prediction output table for downstream use\n",
    "\n",
    "In remarketing, email or other outreach as part of customer loyalty program.\n"
   ]
  },
  {
   "cell_type": "markdown",
   "id": "4b65104c-cd24-424c-8e27-5a0daf2cda81",
   "metadata": {},
   "source": [
    "check for name of batch prediction output to BigQuery then query to view results\n",
    "[Get batch predictions  |  Vertex AI  |  Google Cloud](https://cloud.google.com/vertex-ai/docs/predictions/batch-predictions#tabular)\n"
   ]
  },
  {
   "cell_type": "code",
   "execution_count": null,
   "id": "e788893c-06a6-4af6-b82f-3e0b689a1d2f",
   "metadata": {},
   "outputs": [],
   "source": [
    "query = f\"\"\"\n",
    "SELECT schema_name\n",
    "FROM `{PROJECT_ID}.INFORMATION_SCHEMA.SCHEMATA`\n",
    "\"\"\"\n",
    "bq.query(query = query, location = 'us-central1').to_dataframe()"
   ]
  },
  {
   "attachments": {},
   "cell_type": "markdown",
   "id": "6bf5807e-8efd-41e8-b7dc-46bb963eaa6e",
   "metadata": {},
   "source": [
    "Query to view probability of purchase by user id `fullVisitorId`:\n",
    "\n",
    "```sql\n",
    "SELECT\n",
    "  fullVisitorId,\n",
    "  predicted_will_buy_on_return_visit.classes[OFFSET(1)] AS purchaseYN,\n",
    "  predicted_will_buy_on_return_visit.scores[OFFSET(1)] AS purchasePropensity\n",
    "FROM \n",
    "    `demos-vertex-ai.prediction_automl_propensity_code_propensity_20220321145617_2022_03_21T12_38_12_306Z.predictions_2022_03_21T12_38_12_306Z`\n",
    "```"
   ]
  },
  {
   "cell_type": "code",
   "execution_count": null,
   "id": "e2e6f81c-2fe3-4dd9-b440-c298a761d06f",
   "metadata": {},
   "outputs": [],
   "source": [
    "# The following two lines are only necessary to run once.\n",
    "# Comment out otherwise for speed-up.\n",
    "from google.cloud.bigquery import Client, QueryJobConfig\n",
    "client = Client()\n",
    "\n",
    "query = \"\"\"SELECT\n",
    "  fullVisitorId,\n",
    "  predicted_will_buy_on_return_visit.classes[OFFSET(1)] AS purchaseYN,\n",
    "  predicted_will_buy_on_return_visit.scores[OFFSET(1)] AS purchasePropensity\n",
    "FROM \n",
    "    `demos-vertex-ai.prediction_automl_propensity_code_propensity_20220321145617_2022_03_21T12_38_12_306Z.predictions_2022_03_21T12_38_12_306Z`\"\"\"\n",
    "job = client.query(query)\n",
    "df = job.to_dataframe()\n",
    "df"
   ]
  },
  {
   "cell_type": "markdown",
   "id": "9d93dcdd-c370-4d67-92b8-7889018de800",
   "metadata": {},
   "source": [
    "### Conclusion\n",
    "\n",
    "If we assume our threshold of .5, all of these customers are not likely to purchase on their next visit."
   ]
  }
 ],
 "metadata": {
  "environment": {
   "kernel": "python3",
   "name": "managed-notebooks.m90",
   "type": "gcloud",
   "uri": "gcr.io/deeplearning-platform-release/base-cu110:latest"
  },
  "kernelspec": {
   "display_name": "Python [conda env:root] * (Local)",
   "language": "python",
   "name": "local-conda-root-base"
  },
  "language_info": {
   "codemirror_mode": {
    "name": "ipython",
    "version": 3
   },
   "file_extension": ".py",
   "mimetype": "text/x-python",
   "name": "python",
   "nbconvert_exporter": "python",
   "pygments_lexer": "ipython3",
   "version": "3.7.12"
  }
 },
 "nbformat": 4,
 "nbformat_minor": 5
}
