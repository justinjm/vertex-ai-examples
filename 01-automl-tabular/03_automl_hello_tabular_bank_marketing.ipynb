{
 "cells": [
  {
   "cell_type": "markdown",
   "id": "964ecea0-0bb5-48c6-b07d-7fb9b7010bcf",
   "metadata": {},
   "source": [
    "# AutoML Hello tabular - bank Marketing\n"
   ]
  },
  {
   "cell_type": "markdown",
   "id": "d396297c-91d9-4f8c-91a5-223d40074294",
   "metadata": {},
   "source": [
    "## Summary\n",
    "\n",
    "This notebook walks through an example of creating a model with Vertex AI AutoML Tabular with low code. \n",
    "\n",
    "We will use the publicly available [Bank marketing](https://datahub.io/machine-learning/bank-marketing) open-source dataset, which is available through a Creative Commons CCO: Public Domain license. The column names have been updated for clarity.\n",
    "\n",
    "Source: [Hello tabular data  |  Vertex AI  |  Google Cloud](https://cloud.google.com/vertex-ai/docs/tutorials/tabular-automl/overview)\n",
    "\n",
    "Other helpful links:\n",
    "\n",
    "* [Introduction to tabular data  |  Vertex AI  |  Google Cloud](https://cloud.google.com/vertex-ai/docs/tabular-data/tabular101)"
   ]
  },
  {
   "cell_type": "markdown",
   "id": "6fb907bf-27ed-4c3a-9396-2f551366b8b2",
   "metadata": {},
   "source": [
    "## Summary \n",
    "\n",
    "### Objective \n",
    "\n",
    "Predict whether a customer will buy a term deposit (investment) using features like age, income profession. \n",
    "\n",
    "### Challenge(s)\n",
    "\n",
    "* data: too much data for a rules-based system (e.g. - users who sign up have X attributes and then do Y with us)\n",
    "* time & resource constraints: limited programming and SQL knowledge, limited time to spend building ML models \n",
    "\n",
    "### Outcome(s)\n",
    "\n",
    "* A list of customers with probability of buying a term deposit for outreach via phone call, email or website personalization  \n",
    "* Generate additional revenue from customers as result of outreach \n",
    "\n",
    "### Solution \n",
    "\n",
    "Train an ML model using Vertex AI AutoML (Tabular)s\n"
   ]
  },
  {
   "cell_type": "markdown",
   "id": "1a3b8791-4131-48e8-b9f0-e0297c971173",
   "metadata": {},
   "source": [
    "## Steps\n",
    "\n",
    "We will perform the following steps: \n",
    "\n",
    "1. Create a dataset (tabular) \n",
    "2. Analyze the dataset \n",
    "3. Train an AutoML classification model\n",
    "5. Deploy the model and request online prediction (UI and SDK)\n",
    "6. Batch prediction job \n"
   ]
  },
  {
   "cell_type": "markdown",
   "id": "4322506f-541c-4526-8c31-08b24173b481",
   "metadata": {},
   "source": [
    "### 0. Copy raw data to bucket \n",
    "\n",
    "Copy publicly available dataset to a bucket you own.\n",
    "\n",
    "First, we create a bucket:"
   ]
  },
  {
   "cell_type": "code",
   "execution_count": null,
   "id": "7e33c901-6120-4cef-97a6-4278c1172f6f",
   "metadata": {},
   "outputs": [],
   "source": [
    "! gsutil mb -l us-central1 gs://demos-vertex-ai-hello-tabular-bank-marketing"
   ]
  },
  {
   "cell_type": "markdown",
   "id": "ca06f0d3-5c9b-4310-b3e4-9112ee88df85",
   "metadata": {},
   "source": [
    "Then we copy the data file:"
   ]
  },
  {
   "cell_type": "code",
   "execution_count": null,
   "id": "bec9690b-a383-4933-b9ac-e51913d57385",
   "metadata": {},
   "outputs": [],
   "source": [
    "! gsutil cp gs://cloud-ml-tables-data/bank-marketing.csv \\\n",
    "    gs://demos-vertex-ai-hello-tabular-bank-marketing/bank-marketing.csv"
   ]
  },
  {
   "cell_type": "markdown",
   "id": "d2129c5f-a2b1-4895-967a-f42c678a18af",
   "metadata": {},
   "source": [
    "### 1. Create dataset \n",
    "\n",
    "Open Google Cloud console and navigate to [datasets](https://console.cloud.google.com/vertex-ai/datasets) and click \"Create\" at the top.\n",
    "\n",
    "Then add the following:\n",
    "\n",
    "* dataset name: `hello_tabular_bank_marketing`\n",
    "* data type and objective: `regression/classification`\n",
    "* region: `us-central1`\n",
    "\n",
    "Next, on the \"source\" screen that appears we'll add our dataset by doing the following:\n",
    "\n",
    "* Select a data source: `Select CSV from Cloud Storage` \n",
    "* Cloud storage import file path: `demos-vertex-ai-hello-tabular-bank-marketing/bank-marketing.csv`\n",
    "\n",
    "Then click continue "
   ]
  },
  {
   "cell_type": "markdown",
   "id": "782642b5-0ff6-44ae-ab31-07f6893c23a9",
   "metadata": {},
   "source": [
    "### 2. Analyze dataset \n",
    "\n",
    "Click generate statistics to sanity check our data before training a model (e.g. - missing or NULL values)\n",
    "\n",
    "Because our dataset is formatted correctly for this tutorial, you don't need to do anything on this page and can skip this section.\n",
    "\n",
    "1.  **Optional**. Click **Generate statistics** to view the number of missing or NULL values in the dataset. This can take 10 minutes or longer.\n",
    "    \n",
    "2.  **Optional**. Click on one of the feature columns to learn more about the data values."
   ]
  },
  {
   "cell_type": "markdown",
   "id": "450f8cb6-9ee8-4b88-93f8-d05411d9efc6",
   "metadata": {},
   "source": [
    "### 4. Train an AutoML classification model\n",
    "\n",
    "* Click \"train new model\"\n",
    "* Select \"Other\"\n",
    "\n",
    "Then fill out the following:\n",
    "\n",
    "* Objective: \"Classification\" \n",
    "* Model training method: AutoML\n",
    "\n",
    "Next, fill out the Model details page:\n",
    "\n",
    "* name: `hello_tabular_bank_marketing`\n",
    "* Target column: `Deposit` - The target column is what we're training the model to predict. For the bank-marketing.csv dataset, the Deposit column indicates whether the client purchased a term deposit (2 = yes, 1 = no).\n",
    "\n",
    "then click continue \n",
    "\n",
    "For Compute and pricing page set the following: \n",
    "\n",
    "* Budget `1` - The training budget determines actual training time, but the time to complete training includes other activities, so the entire process can take longer than one hour. When the model finishes training, it is displayed in the model tab as a live link, with a green checkmark status icon.\n",
    "* enable early stopping - turned on \n",
    "\n",
    "Finally, click \"Start training\"  **NOTE: this will take an hour or more to complete**"
   ]
  },
  {
   "cell_type": "markdown",
   "id": "2f7b94ee-32f9-41aa-b0a2-a4de7fbf5db1",
   "metadata": {},
   "source": [
    "### 5. Deploy model and request a prediction - UI\n",
    "\n",
    "When model finished training, it can be viewed in the [models page](https://console.cloud.google.com/vertex-ai/models)\n",
    "\n",
    "#### Evaluate model \n",
    "\n",
    "Click on the recently trained model and then the version number `1` to view the evaluation page \n",
    "\n",
    "* evaluation metrics\n",
    "* confusion matrix \n",
    "* feature importance\n"
   ]
  },
  {
   "cell_type": "markdown",
   "id": "f543fccd-fc22-46de-93db-3ce3942208b6",
   "metadata": {},
   "source": [
    "#### Deploy model to an endpoint"
   ]
  },
  {
   "cell_type": "markdown",
   "id": "ec46adb3-08ad-4c72-b732-8ca158f0d491",
   "metadata": {},
   "source": [
    "To test a model or make online predictions, we first must deploy it to an endpoint:\n",
    "\n",
    "First, click deploy to endpoint and then fill out the following:\n",
    "\n",
    "* define your endpoint\n",
    "    * Endpoint name: `hello_tabular_bank_marketing`\n",
    "* model settings:\n",
    "    * explainability: enable\n",
    "    * leave rest as default\n",
    "* model monitoring: disable for this tutorial\n",
    "\n",
    "Then click \"Deploy\". This operation will take roughly 5 minutes to complete."
   ]
  },
  {
   "attachments": {},
   "cell_type": "markdown",
   "id": "4009c663-60b4-40e9-a406-424ba83b96c5",
   "metadata": {},
   "source": [
    "#### Request a prediction \n",
    "\n",
    "After model deployed, test the model within the UI. There are random  prefilled values in the \"test your model section\" below.\n",
    "\n",
    "See below for how to use the Python SDK to perform the same workflow."
   ]
  },
  {
   "cell_type": "markdown",
   "id": "c382e6db-83d8-4dc6-b3aa-2e05fe450be6",
   "metadata": {},
   "source": [
    "### 5.2 Deploy model and request prediction - SDK\n",
    "\n",
    "The code below will perform the following steps:\n",
    "\n",
    "1. initialize Python SDK\n",
    "2. Create endpoint\n",
    "3. List models and get model for deploying\n",
    "4. deploy model to endpoint\n",
    "5. submit sample online prediction\n",
    "6. cleanup - undeploy model and delete endpoint resource"
   ]
  },
  {
   "cell_type": "code",
   "execution_count": null,
   "id": "34dc8940-7d27-4ef0-88ec-cd07268ff44e",
   "metadata": {},
   "outputs": [],
   "source": [
    "from google.cloud import aiplatform\n",
    "\n",
    "aiplatform.init(project = \"demos-vertex-ai\", location = \"us-central1\")"
   ]
  },
  {
   "cell_type": "code",
   "execution_count": null,
   "id": "d3de1d98-37be-4a88-8df4-00d931f88759",
   "metadata": {},
   "outputs": [],
   "source": [
    "# create endpoint \n",
    "endpoint = aiplatform.Endpoint.create(display_name='hello_tabular_bank_marketing')"
   ]
  },
  {
   "cell_type": "code",
   "execution_count": null,
   "id": "2e6c0601-ebad-49b7-9655-97f80be7627b",
   "metadata": {},
   "outputs": [],
   "source": [
    "# list models to obtain name for deploying\n",
    "models = aiplatform.Model.list(filter = \"display_name=hello_tabular_bank_marketing\")\n",
    "model = aiplatform.Model(model_name = models[0].resource_name)\n",
    "model"
   ]
  },
  {
   "cell_type": "code",
   "execution_count": null,
   "id": "4d39c4e1-ed6c-4b6a-a468-8126eb8d8c13",
   "metadata": {},
   "outputs": [],
   "source": [
    "# deploy model to endpoint \n",
    "endpoint.deploy(model,\n",
    "                min_replica_count=1,\n",
    "                max_replica_count=5,\n",
    "                machine_type='n1-standard-4')"
   ]
  },
  {
   "cell_type": "code",
   "execution_count": null,
   "id": "11b077a9-18f1-4a6f-92fc-d2d2c127ea80",
   "metadata": {},
   "outputs": [],
   "source": [
    "## To use this Endpoint in another session if already created/resuming work:\n",
    "### dynamically set \n",
    "endpoint_display_name = f\"hello_tabular_bank_marketing\"\n",
    "filter = f'display_name=\"{endpoint_display_name}\"'\n",
    "\n",
    "for endpoint_info in aiplatform.Endpoint.list(filter=filter):\n",
    "    print(\n",
    "        f\"Endpoint display name = {endpoint_info.display_name} resource id = {endpoint_info.resource_name} \"\n",
    "    )\n",
    "endpoint = aiplatform.Endpoint(endpoint_info.resource_name)\n",
    "\n",
    "### manually set\n",
    "# endpoint = aiplatform.Endpoint(\n",
    "#     endpoint_name=\"projects/746038361521/locations/us-central1/endpoints/123456\")\n",
    "# endpoint"
   ]
  },
  {
   "cell_type": "code",
   "execution_count": null,
   "id": "6b385a63-57e0-437f-9742-638b54555905",
   "metadata": {},
   "outputs": [],
   "source": [
    "# create sample of for online prediction \n",
    "test_instance={\n",
    "    \"Age\": \"39.0\", \n",
    "    \"Job\": \"blue-collar\", \n",
    "    \"MaritalStatus\": \"married\", \n",
    "    \"Education\": \"secondary\", \n",
    "    \"Default\": \"no\",\n",
    "    \"Balance\": \"450.0\", \n",
    "    \"Housing\": \"yes\", \n",
    "    \"Loan\": \"no\", \n",
    "    \"Contact\": \"cellular\", \n",
    "    \"Day\": \"16.0\", \n",
    "    \"Month\": \"may\", \n",
    "    \"Duration\": \"180.0\", \n",
    "    \"Campaign\": \"2.0\", \n",
    "    \"PDays\": \"-1.0\", \n",
    "    \"Previous\": \"0.0\", \n",
    "    \"POutcome\": \"unknown\", \n",
    "    \"Deposit\": \"1\"\n",
    "}\n",
    "\n",
    "response = endpoint.predict([test_instance])\n",
    "\n",
    "print('API response: ', response)"
   ]
  },
  {
   "cell_type": "code",
   "execution_count": null,
   "id": "316082ed-7562-4b2c-9d41-bade3937a8e5",
   "metadata": {},
   "outputs": [],
   "source": [
    "# cleanup\n",
    "endpoint.undeploy_all()\n",
    "endpoint.delete()"
   ]
  },
  {
   "cell_type": "markdown",
   "id": "49624f4b-a5fd-4f7a-9ef8-d231cc5a450c",
   "metadata": {},
   "source": [
    "### 6. Batch predictions (optional)\n",
    "\n",
    "You can also perform a batch prediction, follow the steps below to create a sample file, upload to GCS so that your meodel can perform a batch prediction job. "
   ]
  },
  {
   "cell_type": "markdown",
   "id": "475b3634-79ee-4af5-9a19-f66cd9b242e6",
   "metadata": {},
   "source": [
    "#### Create a sample batch prediction file"
   ]
  },
  {
   "cell_type": "code",
   "execution_count": null,
   "id": "6ab46bac-296b-4f4a-aef6-ae3dcd73d179",
   "metadata": {},
   "outputs": [],
   "source": [
    "# download locally for slicing by rows\n",
    "! gsutil cp gs://cloud-ml-tables-data/bank-marketing.csv \\\n",
    "    ./bank-marketing.csv"
   ]
  },
  {
   "cell_type": "code",
   "execution_count": null,
   "id": "db5a9b01-34b8-4629-b2ae-14d394f63186",
   "metadata": {},
   "outputs": [],
   "source": [
    "# visually check for sanity \n",
    "! head ./bank-marketing.csv"
   ]
  },
  {
   "cell_type": "code",
   "execution_count": null,
   "id": "cf67d8a0-9a40-4790-b92b-1e03e21710f6",
   "metadata": {},
   "outputs": [],
   "source": [
    "# create sample batch file from csv\n",
    "! head -n 25  ./bank-marketing.csv > ./bank-marketing-batch01.csv"
   ]
  },
  {
   "cell_type": "code",
   "execution_count": null,
   "id": "b7e526eb-18a6-427e-8019-1bea87ff6ef6",
   "metadata": {},
   "outputs": [],
   "source": [
    "# upload to GCS \n",
    "! gsutil cp ./bank-marketing-batch01.csv gs://demos-vertex-ai-hello-tabular-bank-marketing/bank-marketing-batch01.csv"
   ]
  },
  {
   "cell_type": "markdown",
   "id": "8c15b4f1-5e5e-4115-8970-86dd52ea78b5",
   "metadata": {},
   "source": [
    "#### 6.1 Submit batch prediction job\n",
    "\n",
    "Goto model > batch prediction job and specify:\n",
    "\n",
    "input: `gs://demos-vertex-ai-hello-tabular-bank-marketing/bank-marketing-batch01.csv`\n",
    "output: `demos-vertex-ai.hello_tabular_bank_marketing`\n",
    "\n"
   ]
  },
  {
   "cell_type": "markdown",
   "id": "12e5c3c5-bafb-44d2-a6bd-f14140da7237",
   "metadata": {},
   "source": [
    "#### 6.2 View batch prediction results  \n",
    "\n",
    "Once complete, view results in BigQuery below\n",
    "\n",
    "As a reminder, the target column is what we're training the model to predict. For the bank-marketing.csv dataset, the Deposit column indicates whether the client purchased a term deposit (2 = yes, 1 = no).\n",
    "\n",
    "Query to show all prediction results (predicted class and their class probabilities): \n",
    "\n",
    "```sql\n",
    "SELECT predicted_Deposit.classes AS classes,\n",
    "predicted_Deposit.scores AS scores\n",
    "FROM hello_tabular_bank_marketing.predictions_2023_03_03T13_10_29_819Z_030\n",
    "```\n",
    "https://cloud.google.com/vertex-ai/docs/tabular-data/classification-regression/get-batch-predictions#retrieve-batch-results\n",
    "\n",
    "\n",
    " Query to show customers and the likelihood to purchase a term deposit (the bigger the value the better)\n",
    " \n",
    "```sql\n",
    "SELECT\n",
    "  predicted_Deposit.classes[OFFSET(1)] AS depositYN,\n",
    "  predicted_Deposit.scores[OFFSET(1)] AS depositPropensity\n",
    "FROM `demos-vertex-ai.hello_tabular_bank_marketing.predictions_2023_03_03T13_10_29_819Z_030`\n",
    "ORDER BY\n",
    "  CAST(predicted_Deposit.scores[OFFSET(1)] AS FLOAT64) DESC\n",
    "\n",
    "```\n"
   ]
  },
  {
   "cell_type": "markdown",
   "id": "5df5a65e-b7c9-44a0-9dc0-f092419473ff",
   "metadata": {},
   "source": [
    "## Appendix \n",
    "\n",
    "### Example set of online predictions \n",
    "\n",
    "Copy and paste the following into the UI/GCP console or use via REST (gcloud SDK + curl) or via Python\n",
    "\n",
    "```json\n",
    "{\n",
    "  \"instances\": [{   \n",
    "    \"Age\": \"39.0\", \n",
    "    \"Job\": \"blue-collar\", \n",
    "    \"MaritalStatus\": \"married\", \n",
    "    \"Education\": \"secondary\", \n",
    "    \"Default\": \"no\",\n",
    "    \"Balance\": \"450.0\", \n",
    "    \"Housing\": \"yes\", \n",
    "    \"Loan\": \"no\", \n",
    "    \"Contact\": \"cellular\", \n",
    "    \"Day\": \"16.0\", \n",
    "    \"Month\": \"may\", \n",
    "    \"Duration\": \"180.0\", \n",
    "    \"Campaign\": \"2.0\", \n",
    "    \"PDays\": \"-1.0\", \n",
    "    \"Previous\": \"0.0\", \n",
    "    \"POutcome\": \"unknown\", \n",
    "    \"Deposit\": \"1\"\n",
    "    }]\n",
    "  }\n",
    "```"
   ]
  },
  {
   "cell_type": "code",
   "execution_count": null,
   "id": "cc888279-b59e-4cfb-91bf-cbbfe32a9d09",
   "metadata": {},
   "outputs": [],
   "source": []
  }
 ],
 "metadata": {
  "environment": {
   "kernel": "python3",
   "name": "common-cpu.m103",
   "type": "gcloud",
   "uri": "gcr.io/deeplearning-platform-release/base-cpu:m103"
  },
  "kernelspec": {
   "display_name": "Python 3",
   "language": "python",
   "name": "python3"
  },
  "language_info": {
   "codemirror_mode": {
    "name": "ipython",
    "version": 3
   },
   "file_extension": ".py",
   "mimetype": "text/x-python",
   "name": "python",
   "nbconvert_exporter": "python",
   "pygments_lexer": "ipython3",
   "version": "3.7.12"
  },
  "vscode": {
   "interpreter": {
    "hash": "31f2aee4e71d21fbe5cf8b01ff0e069b9275f58929596ceb00d14d90e3e16cd6"
   }
  }
 },
 "nbformat": 4,
 "nbformat_minor": 5
}
