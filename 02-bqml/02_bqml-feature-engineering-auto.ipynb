{
 "cells": [
  {
   "attachments": {},
   "cell_type": "markdown",
   "id": "320be11c-027a-4d79-b9a1-07c52414738f",
   "metadata": {},
   "source": [
    "# BigQuery ML (BQML) - Feature Engineering\n"
   ]
  },
  {
   "cell_type": "markdown",
   "id": "e17afa66-4bea-484e-aeba-835c6be7a393",
   "metadata": {},
   "source": [
    "---\n",
    "## Colab Setup\n",
    "\n",
    "\n",
    "[![Open In Colab](https://colab.research.google.com/assets/colab-badge.svg)](https://colab.research.google.com/github/statmike/vertex-ai-mlops/blob/main/Dev/BQML%20Feature%20Engineering.ipynb)"
   ]
  },
  {
   "cell_type": "code",
   "execution_count": null,
   "id": "5e1c27de-aba9-48ea-a99a-65f2818a7fc3",
   "metadata": {},
   "outputs": [],
   "source": [
    "try:\n",
    "    import google.colab\n",
    "    !pip install --upgrade witwidget -q\n",
    "    !pip install --upgrade google-cloud-aiplatform -q\n",
    "    !pip install --upgrade google-cloud-bigquery -q\n",
    "    !pip install --upgrade google-cloud-bigquery-storage -q\n",
    "    from google.colab import auth\n",
    "    auth.authenticate_user()\n",
    "except Exception:\n",
    "    pass"
   ]
  },
  {
   "cell_type": "code",
   "execution_count": null,
   "id": "87192944-6c60-4973-9437-f7cad05917ae",
   "metadata": {},
   "outputs": [],
   "source": [
    "PROJECT_ID = 'statmike-mlops-349915'\n",
    "!gcloud config set project {PROJECT_ID}"
   ]
  },
  {
   "cell_type": "markdown",
   "id": "b9472481-40b9-42b5-b312-70bbe7f4424c",
   "metadata": {},
   "source": [
    "---\n",
    "## Setup"
   ]
  },
  {
   "cell_type": "markdown",
   "id": "9898fe14-2759-4725-8788-44d7172c623c",
   "metadata": {},
   "source": [
    "inputs:"
   ]
  },
  {
   "cell_type": "code",
   "execution_count": 1,
   "id": "10c2e0b7-31c4-43bb-a0f3-357f1147bb46",
   "metadata": {},
   "outputs": [
    {
     "data": {
      "text/plain": [
       "'statmike-mlops-349915'"
      ]
     },
     "execution_count": 1,
     "metadata": {},
     "output_type": "execute_result"
    }
   ],
   "source": [
    "project = !gcloud config get-value project\n",
    "PROJECT_ID = project[0]\n",
    "PROJECT_ID"
   ]
  },
  {
   "cell_type": "code",
   "execution_count": 51,
   "id": "93c9f9bb-77db-4874-b5b2-50ae62d305f3",
   "metadata": {},
   "outputs": [],
   "source": [
    "REGION = 'us-central1'\n",
    "EXPERIMENT = 'fe'\n",
    "SERIES = '03'\n",
    "\n",
    "# source data\n",
    "BQ_PROJECT = PROJECT_ID\n",
    "BQ_DATASET = 'feature_engineering'\n",
    "BQ_TABLE = 'fraud'\n",
    "\n",
    "# Resources for serving BigQuery Model Exports\n",
    "DEPLOY_COMPUTE = 'n1-standard-4'\n",
    "\n",
    "# Model Training\n",
    "VAR_TARGET = 'Class'"
   ]
  },
  {
   "cell_type": "markdown",
   "id": "8a61432f-3879-4047-b60c-d6866e87a83b",
   "metadata": {},
   "source": [
    "packages:"
   ]
  },
  {
   "cell_type": "code",
   "execution_count": 85,
   "id": "46dd5f64-6633-45e8-a886-5dd3c2fb8437",
   "metadata": {},
   "outputs": [],
   "source": [
    "from google.cloud import aiplatform\n",
    "from google.cloud import bigquery\n",
    "\n",
    "from datetime import datetime\n",
    "import matplotlib.pyplot as plt\n",
    "from sklearn import metrics\n",
    "import numpy as np\n",
    "import json\n",
    "\n",
    "from google.protobuf import json_format\n",
    "from google.protobuf.struct_pb2 import Value"
   ]
  },
  {
   "cell_type": "markdown",
   "id": "c96caca5-9d6a-42b9-952e-3ba9c6076d56",
   "metadata": {},
   "source": [
    "clients:"
   ]
  },
  {
   "cell_type": "code",
   "execution_count": 13,
   "id": "8e845d29-f0bb-496b-bd9a-adb85e1a5b9f",
   "metadata": {},
   "outputs": [],
   "source": [
    "aiplatform.init(project=PROJECT_ID, location=REGION)\n",
    "bq = bigquery.Client(project=PROJECT_ID)"
   ]
  },
  {
   "cell_type": "markdown",
   "id": "60e34b0c-4a7a-4213-b57f-dc8c0556d3f0",
   "metadata": {},
   "source": [
    "parameters:"
   ]
  },
  {
   "cell_type": "code",
   "execution_count": 26,
   "id": "aec366d0-c1fa-44ac-8f85-8d604ad1b2df",
   "metadata": {},
   "outputs": [],
   "source": [
    "TIMESTAMP = datetime.now().strftime(\"%Y%m%d%H%M%S\")\n",
    "BUCKET = PROJECT_ID\n",
    "URI = f\"gs://{BUCKET}/{SERIES}/{EXPERIMENT}\"\n",
    "RUN_NAME = f'run-{TIMESTAMP}'\n",
    "\n",
    "BQ_MODEL = f'{SERIES}_{EXPERIMENT}_{TIMESTAMP}'"
   ]
  },
  {
   "cell_type": "markdown",
   "id": "edd608d4-eded-4a26-b1cd-9bf82e570632",
   "metadata": {},
   "source": [
    "environment:"
   ]
  },
  {
   "cell_type": "code",
   "execution_count": 83,
   "id": "033c6f41-43c9-43c9-9b56-a60bbf15d9f1",
   "metadata": {},
   "outputs": [],
   "source": [
    "DIR = f\"temp/{EXPERIMENT}\"\n",
    "!rm -rf {DIR}\n",
    "!mkdir -p {DIR}"
   ]
  },
  {
   "cell_type": "markdown",
   "id": "90b1ef9f-2d9a-4c39-b3a5-d2c433e67f49",
   "metadata": {
    "tags": []
   },
   "source": [
    "---\n",
    "## Create BigQuery Dataset"
   ]
  },
  {
   "cell_type": "code",
   "execution_count": 15,
   "id": "84572c8e-c4c5-450d-8b68-6bd04b81c643",
   "metadata": {},
   "outputs": [
    {
     "name": "stdout",
     "output_type": "stream",
     "text": [
      "applied_forecasting\n",
      "explained_columns\n",
      "forecasting_8_tournament\n",
      "fraud\n",
      "model_deployment_monitoring_1961322035766362112\n"
     ]
    }
   ],
   "source": [
    "datasets = list(bq.list_datasets())\n",
    "for d in datasets:\n",
    "    print(d.dataset_id)"
   ]
  },
  {
   "cell_type": "markdown",
   "id": "fe47315f-bc92-4900-8399-7a51cc810301",
   "metadata": {},
   "source": [
    "Create the dataset if missing:"
   ]
  },
  {
   "cell_type": "code",
   "execution_count": 16,
   "id": "1ea2c1e6-836c-40de-a53f-10fb195d27bb",
   "metadata": {},
   "outputs": [],
   "source": [
    "ds = bigquery.Dataset(f\"{BQ_PROJECT}.{BQ_DATASET}\")\n",
    "ds.location = 'us' #REGION\n",
    "ds.labels = {'experiment': f'{EXPERIMENT}'}\n",
    "ds = bq.create_dataset(dataset = ds, exists_ok = True)"
   ]
  },
  {
   "cell_type": "markdown",
   "id": "77659610-1f1b-4b96-add1-a08eb0ef8ee5",
   "metadata": {},
   "source": [
    "List BigQuery datasets in the project:"
   ]
  },
  {
   "cell_type": "code",
   "execution_count": 17,
   "id": "ccf621f1-d5b8-4e12-85b1-318ecaab57db",
   "metadata": {},
   "outputs": [
    {
     "name": "stdout",
     "output_type": "stream",
     "text": [
      "applied_forecasting\n",
      "explained_columns\n",
      "feature_engineering\n",
      "forecasting_8_tournament\n",
      "fraud\n",
      "model_deployment_monitoring_1961322035766362112\n"
     ]
    }
   ],
   "source": [
    "datasets = list(bq.list_datasets())\n",
    "for d in datasets:\n",
    "    print(d.dataset_id)"
   ]
  },
  {
   "cell_type": "markdown",
   "id": "307ad003-3d9e-4ac9-8c76-1f80ed5bc3ec",
   "metadata": {},
   "source": [
    "---\n",
    "## Create BigQuery Table"
   ]
  },
  {
   "cell_type": "code",
   "execution_count": 18,
   "id": "3cb0559e-beef-4ff0-aa3a-9ef7e86250c9",
   "metadata": {},
   "outputs": [],
   "source": [
    "query = f\"\"\"\n",
    "CREATE TABLE `{BQ_PROJECT}.{BQ_DATASET}.{BQ_TABLE}` AS\n",
    "    SELECT *\n",
    "    FROM `bigquery-public-data.ml_datasets.ulb_fraud_detection`\n",
    "\"\"\"\n",
    "job = bq.query(query = query)"
   ]
  },
  {
   "cell_type": "code",
   "execution_count": 19,
   "id": "74ba166b-d139-4aa7-a5cd-64bb16128466",
   "metadata": {},
   "outputs": [
    {
     "data": {
      "text/plain": [
       "6.08"
      ]
     },
     "execution_count": 19,
     "metadata": {},
     "output_type": "execute_result"
    }
   ],
   "source": [
    "job.result()\n",
    "(job.ended-job.started).total_seconds()"
   ]
  },
  {
   "cell_type": "markdown",
   "id": "25d017cd-b5dc-4a5d-bf45-508ce60d128f",
   "metadata": {},
   "source": [
    "### Check out this table in BigQuery Console:\n",
    "- Click: https://console.cloud.google.com/bigquery\n",
    "- Make sure project selected is the one from this notebook\n",
    "- Under Explore, expand this project and review the dataset and table"
   ]
  },
  {
   "cell_type": "code",
   "execution_count": 20,
   "id": "209246e6-e917-44f4-98e4-8d5e50299cf2",
   "metadata": {},
   "outputs": [
    {
     "name": "stdout",
     "output_type": "stream",
     "text": [
      "Direct Link To This Project In BigQuery:\n",
      "https://console.cloud.google.com/bigquery?project=statmike-mlops-349915\n"
     ]
    }
   ],
   "source": [
    "print(f\"Direct Link To This Project In BigQuery:\\nhttps://console.cloud.google.com/bigquery?project={PROJECT_ID}\")"
   ]
  },
  {
   "cell_type": "markdown",
   "id": "876654f3-7c48-4b23-8e27-52bd6ddf4564",
   "metadata": {},
   "source": [
    "---\n",
    "## Review Data in BigQuery\n",
    "Additional SQL queries could be used to review the data.  This section shows moving the table to a Pandas dataframe for local review in Python:\n",
    "\n",
    "> **Note:** <p>This query only selects one column.  This means BigQuery scans less data as it does not process the other columns.  </p>"
   ]
  },
  {
   "cell_type": "code",
   "execution_count": 21,
   "id": "c66fd4c0-36aa-4f57-8e1e-916f443d5216",
   "metadata": {},
   "outputs": [],
   "source": [
    "query = f\"\"\"\n",
    "SELECT {VAR_TARGET}\n",
    "FROM `{BQ_PROJECT}.{BQ_DATASET}.{BQ_TABLE}`\n",
    "\"\"\"\n",
    "df = bq.query(query = query).to_dataframe()"
   ]
  },
  {
   "cell_type": "code",
   "execution_count": 22,
   "id": "06c0544f-2cce-4b37-a0d3-5a3bec6e7569",
   "metadata": {},
   "outputs": [
    {
     "data": {
      "text/plain": [
       "0    284315\n",
       "1       492\n",
       "Name: Class, dtype: Int64"
      ]
     },
     "execution_count": 22,
     "metadata": {},
     "output_type": "execute_result"
    }
   ],
   "source": [
    "df['Class'].value_counts()"
   ]
  },
  {
   "cell_type": "code",
   "execution_count": 27,
   "id": "58494c2e-8e20-45a4-9f08-d2535a10786f",
   "metadata": {},
   "outputs": [
    {
     "data": {
      "text/plain": [
       "0    0.998273\n",
       "1    0.001727\n",
       "Name: Class, dtype: Float64"
      ]
     },
     "execution_count": 27,
     "metadata": {},
     "output_type": "execute_result"
    }
   ],
   "source": [
    "df['Class'].value_counts(normalize=True)"
   ]
  },
  {
   "cell_type": "markdown",
   "id": "3c6b56cc-85f3-40d2-a03a-4b1bd8a1944e",
   "metadata": {},
   "source": [
    "---\n",
    "## Train Model - Automatic Feature Engineering\n",
    "\n",
    "Use BigQuery ML to train multiclass logistic regression model:\n",
    "- [Logistic Regression](https://cloud.google.com/bigquery-ml/docs/reference/standard-sql/bigqueryml-syntax-create-glm) with BigQuery ML (BQML)"
   ]
  },
  {
   "cell_type": "code",
   "execution_count": 29,
   "id": "8ec35834",
   "metadata": {},
   "outputs": [
    {
     "data": {
      "text/plain": [
       "<google.cloud.bigquery.table._EmptyRowIterator at 0x7f2a371c2c90>"
      ]
     },
     "execution_count": 29,
     "metadata": {},
     "output_type": "execute_result"
    }
   ],
   "source": [
    "query = f\"\"\"\n",
    "CREATE MODEL `{BQ_PROJECT}.{BQ_DATASET}.{BQ_MODEL}`\n",
    "OPTIONS (\n",
    "        model_type = 'LOGISTIC_REG',\n",
    "        auto_class_weights = TRUE,\n",
    "        input_label_cols = ['{VAR_TARGET}'],\n",
    "        enable_global_explain = TRUE,\n",
    "        data_split_method = 'AUTO_SPLIT',\n",
    "        MODEL_REGISTRY = 'VERTEX_AI',\n",
    "        VERTEX_AI_MODEL_ID = 'model_{SERIES}_{EXPERIMENT}',\n",
    "        VERTEX_AI_MODEL_VERSION_ALIASES = ['{RUN_NAME}']\n",
    "    ) AS\n",
    "SELECT *\n",
    "FROM `{BQ_PROJECT}.{BQ_DATASET}.{BQ_TABLE}`\n",
    "\"\"\"\n",
    "job = bq.query(query = query)\n",
    "job.result()"
   ]
  },
  {
   "cell_type": "code",
   "execution_count": 30,
   "id": "e3a6b5f1",
   "metadata": {},
   "outputs": [
    {
     "data": {
      "text/plain": [
       "170.744"
      ]
     },
     "execution_count": 30,
     "metadata": {},
     "output_type": "execute_result"
    }
   ],
   "source": [
    "(job.ended-job.started).total_seconds()"
   ]
  },
  {
   "cell_type": "code",
   "execution_count": 39,
   "id": "6867ee90-60d0-4413-8e39-38cecc7e8d81",
   "metadata": {},
   "outputs": [
    {
     "data": {
      "text/plain": [
       "70632136"
      ]
     },
     "execution_count": 39,
     "metadata": {},
     "output_type": "execute_result"
    }
   ],
   "source": [
    "job.total_bytes_processed"
   ]
  },
  {
   "cell_type": "markdown",
   "id": "bf6209c9-5e45-4da2-a4fc-ec7c759c8bbb",
   "metadata": {},
   "source": [
    "Add labels to the model in BigQuery:"
   ]
  },
  {
   "cell_type": "code",
   "execution_count": 31,
   "id": "13d696f2-a277-422c-9cb0-f2ea8b5b242f",
   "metadata": {},
   "outputs": [],
   "source": [
    "model = bq.get_model(f'{BQ_PROJECT}.{BQ_DATASET}.{BQ_MODEL}')\n",
    "model.labels = {'series' : f'{SERIES}', 'experiment' : f'{EXPERIMENT}'}\n",
    "model = bq.update_model(model, ['labels'])"
   ]
  },
  {
   "cell_type": "markdown",
   "id": "76bec6dc-7312-4676-8018-fd1b9b842dc0",
   "metadata": {},
   "source": [
    "Review the Model Inputs, the feature information, with [ML.FEATURE_INFO](https://cloud.google.com/bigquery-ml/docs/reference/standard-sql/bigqueryml-syntax-feature):"
   ]
  },
  {
   "cell_type": "code",
   "execution_count": 32,
   "id": "1100435a-f279-4ebe-9fd0-85d6eb88b225",
   "metadata": {},
   "outputs": [
    {
     "data": {
      "text/html": [
       "<div>\n",
       "<style scoped>\n",
       "    .dataframe tbody tr th:only-of-type {\n",
       "        vertical-align: middle;\n",
       "    }\n",
       "\n",
       "    .dataframe tbody tr th {\n",
       "        vertical-align: top;\n",
       "    }\n",
       "\n",
       "    .dataframe thead th {\n",
       "        text-align: right;\n",
       "    }\n",
       "</style>\n",
       "<table border=\"1\" class=\"dataframe\">\n",
       "  <thead>\n",
       "    <tr style=\"text-align: right;\">\n",
       "      <th></th>\n",
       "      <th>input</th>\n",
       "      <th>min</th>\n",
       "      <th>max</th>\n",
       "      <th>mean</th>\n",
       "      <th>median</th>\n",
       "      <th>stddev</th>\n",
       "      <th>category_count</th>\n",
       "      <th>null_count</th>\n",
       "      <th>dimension</th>\n",
       "    </tr>\n",
       "  </thead>\n",
       "  <tbody>\n",
       "    <tr>\n",
       "      <th>0</th>\n",
       "      <td>Time</td>\n",
       "      <td>0.000000</td>\n",
       "      <td>172792.000000</td>\n",
       "      <td>94819.368821</td>\n",
       "      <td>86044.000000</td>\n",
       "      <td>47471.724979</td>\n",
       "      <td>&lt;NA&gt;</td>\n",
       "      <td>0</td>\n",
       "      <td>&lt;NA&gt;</td>\n",
       "    </tr>\n",
       "    <tr>\n",
       "      <th>1</th>\n",
       "      <td>V1</td>\n",
       "      <td>-46.855047</td>\n",
       "      <td>2.454930</td>\n",
       "      <td>0.000906</td>\n",
       "      <td>-0.041542</td>\n",
       "      <td>1.953269</td>\n",
       "      <td>&lt;NA&gt;</td>\n",
       "      <td>0</td>\n",
       "      <td>&lt;NA&gt;</td>\n",
       "    </tr>\n",
       "    <tr>\n",
       "      <th>2</th>\n",
       "      <td>V2</td>\n",
       "      <td>-63.344698</td>\n",
       "      <td>22.057729</td>\n",
       "      <td>0.000080</td>\n",
       "      <td>0.048752</td>\n",
       "      <td>1.643143</td>\n",
       "      <td>&lt;NA&gt;</td>\n",
       "      <td>0</td>\n",
       "      <td>&lt;NA&gt;</td>\n",
       "    </tr>\n",
       "    <tr>\n",
       "      <th>3</th>\n",
       "      <td>V3</td>\n",
       "      <td>-48.325589</td>\n",
       "      <td>9.382558</td>\n",
       "      <td>-0.000548</td>\n",
       "      <td>0.193006</td>\n",
       "      <td>1.514012</td>\n",
       "      <td>&lt;NA&gt;</td>\n",
       "      <td>0</td>\n",
       "      <td>&lt;NA&gt;</td>\n",
       "    </tr>\n",
       "    <tr>\n",
       "      <th>4</th>\n",
       "      <td>V4</td>\n",
       "      <td>-5.683171</td>\n",
       "      <td>16.875344</td>\n",
       "      <td>-0.000894</td>\n",
       "      <td>0.002292</td>\n",
       "      <td>1.414922</td>\n",
       "      <td>&lt;NA&gt;</td>\n",
       "      <td>0</td>\n",
       "      <td>&lt;NA&gt;</td>\n",
       "    </tr>\n",
       "    <tr>\n",
       "      <th>5</th>\n",
       "      <td>V5</td>\n",
       "      <td>-113.743307</td>\n",
       "      <td>34.099309</td>\n",
       "      <td>0.000092</td>\n",
       "      <td>-0.050779</td>\n",
       "      <td>1.378868</td>\n",
       "      <td>&lt;NA&gt;</td>\n",
       "      <td>0</td>\n",
       "      <td>&lt;NA&gt;</td>\n",
       "    </tr>\n",
       "    <tr>\n",
       "      <th>6</th>\n",
       "      <td>V6</td>\n",
       "      <td>-23.496714</td>\n",
       "      <td>73.301626</td>\n",
       "      <td>0.000223</td>\n",
       "      <td>-0.306716</td>\n",
       "      <td>1.331745</td>\n",
       "      <td>&lt;NA&gt;</td>\n",
       "      <td>0</td>\n",
       "      <td>&lt;NA&gt;</td>\n",
       "    </tr>\n",
       "    <tr>\n",
       "      <th>7</th>\n",
       "      <td>V7</td>\n",
       "      <td>-43.557242</td>\n",
       "      <td>120.589494</td>\n",
       "      <td>0.000765</td>\n",
       "      <td>0.033950</td>\n",
       "      <td>1.236094</td>\n",
       "      <td>&lt;NA&gt;</td>\n",
       "      <td>0</td>\n",
       "      <td>&lt;NA&gt;</td>\n",
       "    </tr>\n",
       "    <tr>\n",
       "      <th>8</th>\n",
       "      <td>V8</td>\n",
       "      <td>-73.216718</td>\n",
       "      <td>20.007208</td>\n",
       "      <td>-0.000559</td>\n",
       "      <td>0.020415</td>\n",
       "      <td>1.195511</td>\n",
       "      <td>&lt;NA&gt;</td>\n",
       "      <td>0</td>\n",
       "      <td>&lt;NA&gt;</td>\n",
       "    </tr>\n",
       "    <tr>\n",
       "      <th>9</th>\n",
       "      <td>V9</td>\n",
       "      <td>-13.320155</td>\n",
       "      <td>15.594995</td>\n",
       "      <td>-0.000346</td>\n",
       "      <td>-0.049993</td>\n",
       "      <td>1.098277</td>\n",
       "      <td>&lt;NA&gt;</td>\n",
       "      <td>0</td>\n",
       "      <td>&lt;NA&gt;</td>\n",
       "    </tr>\n",
       "    <tr>\n",
       "      <th>10</th>\n",
       "      <td>V10</td>\n",
       "      <td>-24.588262</td>\n",
       "      <td>23.745136</td>\n",
       "      <td>-0.000434</td>\n",
       "      <td>-0.105840</td>\n",
       "      <td>1.086693</td>\n",
       "      <td>&lt;NA&gt;</td>\n",
       "      <td>0</td>\n",
       "      <td>&lt;NA&gt;</td>\n",
       "    </tr>\n",
       "    <tr>\n",
       "      <th>11</th>\n",
       "      <td>V11</td>\n",
       "      <td>-4.797473</td>\n",
       "      <td>12.018913</td>\n",
       "      <td>0.000434</td>\n",
       "      <td>-0.018523</td>\n",
       "      <td>1.019805</td>\n",
       "      <td>&lt;NA&gt;</td>\n",
       "      <td>0</td>\n",
       "      <td>&lt;NA&gt;</td>\n",
       "    </tr>\n",
       "    <tr>\n",
       "      <th>12</th>\n",
       "      <td>V12</td>\n",
       "      <td>-18.683715</td>\n",
       "      <td>7.848392</td>\n",
       "      <td>0.000230</td>\n",
       "      <td>0.151160</td>\n",
       "      <td>0.998216</td>\n",
       "      <td>&lt;NA&gt;</td>\n",
       "      <td>0</td>\n",
       "      <td>&lt;NA&gt;</td>\n",
       "    </tr>\n",
       "    <tr>\n",
       "      <th>13</th>\n",
       "      <td>V13</td>\n",
       "      <td>-5.791881</td>\n",
       "      <td>7.126883</td>\n",
       "      <td>0.000489</td>\n",
       "      <td>-0.007708</td>\n",
       "      <td>0.995167</td>\n",
       "      <td>&lt;NA&gt;</td>\n",
       "      <td>0</td>\n",
       "      <td>&lt;NA&gt;</td>\n",
       "    </tr>\n",
       "    <tr>\n",
       "      <th>14</th>\n",
       "      <td>V14</td>\n",
       "      <td>-19.214325</td>\n",
       "      <td>10.526766</td>\n",
       "      <td>0.000601</td>\n",
       "      <td>0.067935</td>\n",
       "      <td>0.957745</td>\n",
       "      <td>&lt;NA&gt;</td>\n",
       "      <td>0</td>\n",
       "      <td>&lt;NA&gt;</td>\n",
       "    </tr>\n",
       "    <tr>\n",
       "      <th>15</th>\n",
       "      <td>V15</td>\n",
       "      <td>-4.498945</td>\n",
       "      <td>8.877742</td>\n",
       "      <td>0.000365</td>\n",
       "      <td>0.047068</td>\n",
       "      <td>0.914939</td>\n",
       "      <td>&lt;NA&gt;</td>\n",
       "      <td>0</td>\n",
       "      <td>&lt;NA&gt;</td>\n",
       "    </tr>\n",
       "    <tr>\n",
       "      <th>16</th>\n",
       "      <td>V16</td>\n",
       "      <td>-14.129855</td>\n",
       "      <td>17.315112</td>\n",
       "      <td>-0.000328</td>\n",
       "      <td>0.072093</td>\n",
       "      <td>0.875577</td>\n",
       "      <td>&lt;NA&gt;</td>\n",
       "      <td>0</td>\n",
       "      <td>&lt;NA&gt;</td>\n",
       "    </tr>\n",
       "    <tr>\n",
       "      <th>17</th>\n",
       "      <td>V17</td>\n",
       "      <td>-25.162799</td>\n",
       "      <td>9.253526</td>\n",
       "      <td>0.000068</td>\n",
       "      <td>-0.075949</td>\n",
       "      <td>0.847579</td>\n",
       "      <td>&lt;NA&gt;</td>\n",
       "      <td>0</td>\n",
       "      <td>&lt;NA&gt;</td>\n",
       "    </tr>\n",
       "    <tr>\n",
       "      <th>18</th>\n",
       "      <td>V18</td>\n",
       "      <td>-9.498746</td>\n",
       "      <td>5.041069</td>\n",
       "      <td>0.000101</td>\n",
       "      <td>-0.017655</td>\n",
       "      <td>0.837851</td>\n",
       "      <td>&lt;NA&gt;</td>\n",
       "      <td>0</td>\n",
       "      <td>&lt;NA&gt;</td>\n",
       "    </tr>\n",
       "    <tr>\n",
       "      <th>19</th>\n",
       "      <td>V19</td>\n",
       "      <td>-7.213527</td>\n",
       "      <td>5.591971</td>\n",
       "      <td>0.000004</td>\n",
       "      <td>0.012246</td>\n",
       "      <td>0.814124</td>\n",
       "      <td>&lt;NA&gt;</td>\n",
       "      <td>0</td>\n",
       "      <td>&lt;NA&gt;</td>\n",
       "    </tr>\n",
       "    <tr>\n",
       "      <th>20</th>\n",
       "      <td>V20</td>\n",
       "      <td>-54.497720</td>\n",
       "      <td>39.420904</td>\n",
       "      <td>-0.000100</td>\n",
       "      <td>-0.059950</td>\n",
       "      <td>0.769048</td>\n",
       "      <td>&lt;NA&gt;</td>\n",
       "      <td>0</td>\n",
       "      <td>&lt;NA&gt;</td>\n",
       "    </tr>\n",
       "    <tr>\n",
       "      <th>21</th>\n",
       "      <td>V21</td>\n",
       "      <td>-34.830382</td>\n",
       "      <td>27.202839</td>\n",
       "      <td>0.000246</td>\n",
       "      <td>-0.035366</td>\n",
       "      <td>0.737267</td>\n",
       "      <td>&lt;NA&gt;</td>\n",
       "      <td>0</td>\n",
       "      <td>&lt;NA&gt;</td>\n",
       "    </tr>\n",
       "    <tr>\n",
       "      <th>22</th>\n",
       "      <td>V22</td>\n",
       "      <td>-10.933144</td>\n",
       "      <td>10.503090</td>\n",
       "      <td>-0.000136</td>\n",
       "      <td>0.000002</td>\n",
       "      <td>0.725722</td>\n",
       "      <td>&lt;NA&gt;</td>\n",
       "      <td>0</td>\n",
       "      <td>&lt;NA&gt;</td>\n",
       "    </tr>\n",
       "    <tr>\n",
       "      <th>23</th>\n",
       "      <td>V23</td>\n",
       "      <td>-44.807735</td>\n",
       "      <td>22.528412</td>\n",
       "      <td>0.000147</td>\n",
       "      <td>-0.009334</td>\n",
       "      <td>0.624187</td>\n",
       "      <td>&lt;NA&gt;</td>\n",
       "      <td>0</td>\n",
       "      <td>&lt;NA&gt;</td>\n",
       "    </tr>\n",
       "    <tr>\n",
       "      <th>24</th>\n",
       "      <td>V24</td>\n",
       "      <td>-2.836627</td>\n",
       "      <td>4.584549</td>\n",
       "      <td>-0.000150</td>\n",
       "      <td>0.033711</td>\n",
       "      <td>0.605674</td>\n",
       "      <td>&lt;NA&gt;</td>\n",
       "      <td>0</td>\n",
       "      <td>&lt;NA&gt;</td>\n",
       "    </tr>\n",
       "    <tr>\n",
       "      <th>25</th>\n",
       "      <td>V25</td>\n",
       "      <td>-10.295397</td>\n",
       "      <td>7.519589</td>\n",
       "      <td>0.000201</td>\n",
       "      <td>0.007738</td>\n",
       "      <td>0.521183</td>\n",
       "      <td>&lt;NA&gt;</td>\n",
       "      <td>0</td>\n",
       "      <td>&lt;NA&gt;</td>\n",
       "    </tr>\n",
       "    <tr>\n",
       "      <th>26</th>\n",
       "      <td>V26</td>\n",
       "      <td>-2.604551</td>\n",
       "      <td>3.517346</td>\n",
       "      <td>0.000087</td>\n",
       "      <td>-0.050536</td>\n",
       "      <td>0.482340</td>\n",
       "      <td>&lt;NA&gt;</td>\n",
       "      <td>0</td>\n",
       "      <td>&lt;NA&gt;</td>\n",
       "    </tr>\n",
       "    <tr>\n",
       "      <th>27</th>\n",
       "      <td>V27</td>\n",
       "      <td>-22.565679</td>\n",
       "      <td>31.612198</td>\n",
       "      <td>-0.000095</td>\n",
       "      <td>0.003180</td>\n",
       "      <td>0.404236</td>\n",
       "      <td>&lt;NA&gt;</td>\n",
       "      <td>0</td>\n",
       "      <td>&lt;NA&gt;</td>\n",
       "    </tr>\n",
       "    <tr>\n",
       "      <th>28</th>\n",
       "      <td>V28</td>\n",
       "      <td>-15.430084</td>\n",
       "      <td>22.620072</td>\n",
       "      <td>-0.000066</td>\n",
       "      <td>0.011255</td>\n",
       "      <td>0.324088</td>\n",
       "      <td>&lt;NA&gt;</td>\n",
       "      <td>0</td>\n",
       "      <td>&lt;NA&gt;</td>\n",
       "    </tr>\n",
       "    <tr>\n",
       "      <th>29</th>\n",
       "      <td>Amount</td>\n",
       "      <td>0.000000</td>\n",
       "      <td>25691.160000</td>\n",
       "      <td>88.394934</td>\n",
       "      <td>22.560000</td>\n",
       "      <td>250.037640</td>\n",
       "      <td>&lt;NA&gt;</td>\n",
       "      <td>0</td>\n",
       "      <td>&lt;NA&gt;</td>\n",
       "    </tr>\n",
       "  </tbody>\n",
       "</table>\n",
       "</div>"
      ],
      "text/plain": [
       "     input         min            max          mean        median  \\\n",
       "0     Time    0.000000  172792.000000  94819.368821  86044.000000   \n",
       "1       V1  -46.855047       2.454930      0.000906     -0.041542   \n",
       "2       V2  -63.344698      22.057729      0.000080      0.048752   \n",
       "3       V3  -48.325589       9.382558     -0.000548      0.193006   \n",
       "4       V4   -5.683171      16.875344     -0.000894      0.002292   \n",
       "5       V5 -113.743307      34.099309      0.000092     -0.050779   \n",
       "6       V6  -23.496714      73.301626      0.000223     -0.306716   \n",
       "7       V7  -43.557242     120.589494      0.000765      0.033950   \n",
       "8       V8  -73.216718      20.007208     -0.000559      0.020415   \n",
       "9       V9  -13.320155      15.594995     -0.000346     -0.049993   \n",
       "10     V10  -24.588262      23.745136     -0.000434     -0.105840   \n",
       "11     V11   -4.797473      12.018913      0.000434     -0.018523   \n",
       "12     V12  -18.683715       7.848392      0.000230      0.151160   \n",
       "13     V13   -5.791881       7.126883      0.000489     -0.007708   \n",
       "14     V14  -19.214325      10.526766      0.000601      0.067935   \n",
       "15     V15   -4.498945       8.877742      0.000365      0.047068   \n",
       "16     V16  -14.129855      17.315112     -0.000328      0.072093   \n",
       "17     V17  -25.162799       9.253526      0.000068     -0.075949   \n",
       "18     V18   -9.498746       5.041069      0.000101     -0.017655   \n",
       "19     V19   -7.213527       5.591971      0.000004      0.012246   \n",
       "20     V20  -54.497720      39.420904     -0.000100     -0.059950   \n",
       "21     V21  -34.830382      27.202839      0.000246     -0.035366   \n",
       "22     V22  -10.933144      10.503090     -0.000136      0.000002   \n",
       "23     V23  -44.807735      22.528412      0.000147     -0.009334   \n",
       "24     V24   -2.836627       4.584549     -0.000150      0.033711   \n",
       "25     V25  -10.295397       7.519589      0.000201      0.007738   \n",
       "26     V26   -2.604551       3.517346      0.000087     -0.050536   \n",
       "27     V27  -22.565679      31.612198     -0.000095      0.003180   \n",
       "28     V28  -15.430084      22.620072     -0.000066      0.011255   \n",
       "29  Amount    0.000000   25691.160000     88.394934     22.560000   \n",
       "\n",
       "          stddev  category_count  null_count  dimension  \n",
       "0   47471.724979            <NA>           0       <NA>  \n",
       "1       1.953269            <NA>           0       <NA>  \n",
       "2       1.643143            <NA>           0       <NA>  \n",
       "3       1.514012            <NA>           0       <NA>  \n",
       "4       1.414922            <NA>           0       <NA>  \n",
       "5       1.378868            <NA>           0       <NA>  \n",
       "6       1.331745            <NA>           0       <NA>  \n",
       "7       1.236094            <NA>           0       <NA>  \n",
       "8       1.195511            <NA>           0       <NA>  \n",
       "9       1.098277            <NA>           0       <NA>  \n",
       "10      1.086693            <NA>           0       <NA>  \n",
       "11      1.019805            <NA>           0       <NA>  \n",
       "12      0.998216            <NA>           0       <NA>  \n",
       "13      0.995167            <NA>           0       <NA>  \n",
       "14      0.957745            <NA>           0       <NA>  \n",
       "15      0.914939            <NA>           0       <NA>  \n",
       "16      0.875577            <NA>           0       <NA>  \n",
       "17      0.847579            <NA>           0       <NA>  \n",
       "18      0.837851            <NA>           0       <NA>  \n",
       "19      0.814124            <NA>           0       <NA>  \n",
       "20      0.769048            <NA>           0       <NA>  \n",
       "21      0.737267            <NA>           0       <NA>  \n",
       "22      0.725722            <NA>           0       <NA>  \n",
       "23      0.624187            <NA>           0       <NA>  \n",
       "24      0.605674            <NA>           0       <NA>  \n",
       "25      0.521183            <NA>           0       <NA>  \n",
       "26      0.482340            <NA>           0       <NA>  \n",
       "27      0.404236            <NA>           0       <NA>  \n",
       "28      0.324088            <NA>           0       <NA>  \n",
       "29    250.037640            <NA>           0       <NA>  "
      ]
     },
     "execution_count": 32,
     "metadata": {},
     "output_type": "execute_result"
    }
   ],
   "source": [
    "feature_info = bq.query(\n",
    "    query = f\"\"\"\n",
    "        SELECT *\n",
    "        FROM ML.FEATURE_INFO(MODEL `{BQ_PROJECT}.{BQ_DATASET}.{BQ_MODEL}`)\n",
    "        \"\"\"\n",
    ").to_dataframe()\n",
    "feature_info"
   ]
  },
  {
   "cell_type": "markdown",
   "id": "321078f6-393a-4abd-9d5e-b2068a795068",
   "metadata": {},
   "source": [
    "Review the iterations from training with [ML.TRAINING_INFO](https://cloud.google.com/bigquery-ml/docs/reference/standard-sql/bigqueryml-syntax-train):"
   ]
  },
  {
   "cell_type": "code",
   "execution_count": 33,
   "id": "14d2757d",
   "metadata": {},
   "outputs": [
    {
     "data": {
      "text/html": [
       "<div>\n",
       "<style scoped>\n",
       "    .dataframe tbody tr th:only-of-type {\n",
       "        vertical-align: middle;\n",
       "    }\n",
       "\n",
       "    .dataframe tbody tr th {\n",
       "        vertical-align: top;\n",
       "    }\n",
       "\n",
       "    .dataframe thead th {\n",
       "        text-align: right;\n",
       "    }\n",
       "</style>\n",
       "<table border=\"1\" class=\"dataframe\">\n",
       "  <thead>\n",
       "    <tr style=\"text-align: right;\">\n",
       "      <th></th>\n",
       "      <th>training_run</th>\n",
       "      <th>iteration</th>\n",
       "      <th>loss</th>\n",
       "      <th>eval_loss</th>\n",
       "      <th>learning_rate</th>\n",
       "      <th>duration_ms</th>\n",
       "    </tr>\n",
       "  </thead>\n",
       "  <tbody>\n",
       "    <tr>\n",
       "      <th>0</th>\n",
       "      <td>0</td>\n",
       "      <td>0</td>\n",
       "      <td>0.683058</td>\n",
       "      <td>0.686816</td>\n",
       "      <td>0.2</td>\n",
       "      <td>10975</td>\n",
       "    </tr>\n",
       "    <tr>\n",
       "      <th>1</th>\n",
       "      <td>0</td>\n",
       "      <td>1</td>\n",
       "      <td>0.644951</td>\n",
       "      <td>0.649081</td>\n",
       "      <td>0.4</td>\n",
       "      <td>9718</td>\n",
       "    </tr>\n",
       "    <tr>\n",
       "      <th>2</th>\n",
       "      <td>0</td>\n",
       "      <td>2</td>\n",
       "      <td>0.577088</td>\n",
       "      <td>0.581807</td>\n",
       "      <td>0.8</td>\n",
       "      <td>9832</td>\n",
       "    </tr>\n",
       "    <tr>\n",
       "      <th>3</th>\n",
       "      <td>0</td>\n",
       "      <td>3</td>\n",
       "      <td>0.469349</td>\n",
       "      <td>0.474834</td>\n",
       "      <td>1.6</td>\n",
       "      <td>11112</td>\n",
       "    </tr>\n",
       "    <tr>\n",
       "      <th>4</th>\n",
       "      <td>0</td>\n",
       "      <td>4</td>\n",
       "      <td>0.332700</td>\n",
       "      <td>0.338950</td>\n",
       "      <td>3.2</td>\n",
       "      <td>10998</td>\n",
       "    </tr>\n",
       "    <tr>\n",
       "      <th>5</th>\n",
       "      <td>0</td>\n",
       "      <td>5</td>\n",
       "      <td>0.214496</td>\n",
       "      <td>0.221454</td>\n",
       "      <td>6.4</td>\n",
       "      <td>10561</td>\n",
       "    </tr>\n",
       "    <tr>\n",
       "      <th>6</th>\n",
       "      <td>0</td>\n",
       "      <td>6</td>\n",
       "      <td>0.155707</td>\n",
       "      <td>0.163524</td>\n",
       "      <td>12.8</td>\n",
       "      <td>12274</td>\n",
       "    </tr>\n",
       "    <tr>\n",
       "      <th>7</th>\n",
       "      <td>0</td>\n",
       "      <td>7</td>\n",
       "      <td>0.115863</td>\n",
       "      <td>0.123349</td>\n",
       "      <td>25.6</td>\n",
       "      <td>12597</td>\n",
       "    </tr>\n",
       "  </tbody>\n",
       "</table>\n",
       "</div>"
      ],
      "text/plain": [
       "   training_run  iteration      loss  eval_loss  learning_rate  duration_ms\n",
       "0             0          0  0.683058   0.686816            0.2        10975\n",
       "1             0          1  0.644951   0.649081            0.4         9718\n",
       "2             0          2  0.577088   0.581807            0.8         9832\n",
       "3             0          3  0.469349   0.474834            1.6        11112\n",
       "4             0          4  0.332700   0.338950            3.2        10998\n",
       "5             0          5  0.214496   0.221454            6.4        10561\n",
       "6             0          6  0.155707   0.163524           12.8        12274\n",
       "7             0          7  0.115863   0.123349           25.6        12597"
      ]
     },
     "execution_count": 33,
     "metadata": {},
     "output_type": "execute_result"
    }
   ],
   "source": [
    "history = bq.query(\n",
    "    query = f\"\"\"\n",
    "        SELECT *\n",
    "        FROM ML.TRAINING_INFO(MODEL `{BQ_PROJECT}.{BQ_DATASET}.{BQ_MODEL}`)\n",
    "        ORDER BY iteration\"\"\"\n",
    ").to_dataframe()\n",
    "history"
   ]
  },
  {
   "cell_type": "markdown",
   "id": "2eab84ea-beef-49a8-b538-8fbda2a32001",
   "metadata": {},
   "source": [
    "Plot the loss history:"
   ]
  },
  {
   "cell_type": "code",
   "execution_count": 34,
   "id": "7b20cc72-f5c1-4ed0-95d2-89d7a6ff4a6a",
   "metadata": {},
   "outputs": [
    {
     "data": {
      "text/plain": [
       "<AxesSubplot:xlabel='iteration'>"
      ]
     },
     "execution_count": 34,
     "metadata": {},
     "output_type": "execute_result"
    },
    {
     "data": {
      "image/png": "[encoded data removed]",
      "text/plain": [
       "<Figure size 720x360 with 1 Axes>"
      ]
     },
     "metadata": {
      "needs_background": "light"
     },
     "output_type": "display_data"
    }
   ],
   "source": [
    "history.plot(x = 'iteration', y = ['loss','eval_loss'], figsize = (10, 5), grid = True)"
   ]
  },
  {
   "cell_type": "markdown",
   "id": "01705331-bb4a-48b0-93eb-e352623afd21",
   "metadata": {},
   "source": [
    "### Check out this model in BigQuery Console:\n",
    "- Make sure project selected is the one from this notebook\n",
    "- Under Explore, expand this project and dataset\n",
    "- Expand Models and select the model create here"
   ]
  },
  {
   "cell_type": "code",
   "execution_count": 35,
   "id": "2e612ea8-ff94-4100-8293-5e2d691cfc69",
   "metadata": {},
   "outputs": [
    {
     "name": "stdout",
     "output_type": "stream",
     "text": [
      "BigQuery Console for Project:\n",
      "https://console.cloud.google.com/bigquery?project=statmike-mlops-349915\n"
     ]
    }
   ],
   "source": [
    "print(f'BigQuery Console for Project:\\nhttps://console.cloud.google.com/bigquery?project={PROJECT_ID}')"
   ]
  },
  {
   "cell_type": "code",
   "execution_count": 36,
   "id": "a70136c5-da05-4083-b45e-1c19d4a32c3c",
   "metadata": {},
   "outputs": [
    {
     "name": "stdout",
     "output_type": "stream",
     "text": [
      "Direct link to the model in BigQuery:\n",
      "https://console.cloud.google.com/bigquery?project=statmike-mlops-349915&ws=!1m5!1m4!5m3!1sstatmike-mlops-349915!2sfeature_engineering!3s03_fe_20221109002538\n"
     ]
    }
   ],
   "source": [
    "print(f'Direct link to the model in BigQuery:\\nhttps://console.cloud.google.com/bigquery?project={PROJECT_ID}&ws=!1m5!1m4!5m3!1s{PROJECT_ID}!2s{BQ_DATASET}!3s{BQ_MODEL}')"
   ]
  },
  {
   "cell_type": "markdown",
   "id": "780ff15a-9af1-4842-95ff-0afc33c2e86b",
   "metadata": {},
   "source": [
    "---\n",
    "## Train Model - Advanced Feature Engineering\n",
    "\n",
    "Use BigQuery ML to train multiclass logistic regression model:\n",
    "- [Logistic Regression](https://cloud.google.com/bigquery-ml/docs/reference/standard-sql/bigqueryml-syntax-create-glm) with BigQuery ML (BQML)\n",
    "\n",
    "Feature Pre-Processing with the `TRANSFORM` statement:\n",
    "- [TRANSFORM](https://cloud.google.com/bigquery-ml/docs/reference/standard-sql/bigqueryml-syntax-create#transform)"
   ]
  },
  {
   "cell_type": "code",
   "execution_count": null,
   "id": "abc3ce86-97e5-42d0-b99e-bf70e6029d0a",
   "metadata": {},
   "outputs": [],
   "source": [
    "query = f\"\"\"\n",
    "CREATE MODEL `{BQ_PROJECT}.{BQ_DATASET}.{BQ_MODEL}_AFE`\n",
    "TRANSFORM (* EXCEPT(V1, V2, V3),\n",
    "    #ML.MAX_ABS_SCALER(V1) OVER() as V1,\n",
    "    #ML.ROBUST_SCALER(V2) OVER() as V2,\n",
    "    #ML.NORMALIZER(V3) OVER() as V3\n",
    ")\n",
    "OPTIONS (\n",
    "        model_type = 'LOGISTIC_REG',\n",
    "        auto_class_weights = TRUE,\n",
    "        input_label_cols = ['{VAR_TARGET}'],\n",
    "        enable_global_explain = TRUE,\n",
    "        data_split_method = 'AUTO_SPLIT',\n",
    "        MODEL_REGISTRY = 'VERTEX_AI',\n",
    "        VERTEX_AI_MODEL_ID = 'model_{SERIES}_{EXPERIMENT}',\n",
    "        VERTEX_AI_MODEL_VERSION_ALIASES = ['{RUN_NAME}']\n",
    "    ) AS\n",
    "SELECT *\n",
    "FROM `{BQ_PROJECT}.{BQ_DATASET}.{BQ_TABLE}`\n",
    "\"\"\"\n",
    "job = bq.query(query = query)\n",
    "job.result()"
   ]
  },
  {
   "cell_type": "code",
   "execution_count": 30,
   "id": "22302e0d-9bb3-4548-8b05-33bc4a2970cf",
   "metadata": {},
   "outputs": [
    {
     "data": {
      "text/plain": [
       "170.744"
      ]
     },
     "execution_count": 30,
     "metadata": {},
     "output_type": "execute_result"
    }
   ],
   "source": [
    "(job.ended-job.started).total_seconds()"
   ]
  },
  {
   "cell_type": "code",
   "execution_count": 39,
   "id": "fe58f96b-aa33-494e-aa74-73dbfd83e632",
   "metadata": {},
   "outputs": [
    {
     "data": {
      "text/plain": [
       "70632136"
      ]
     },
     "execution_count": 39,
     "metadata": {},
     "output_type": "execute_result"
    }
   ],
   "source": [
    "job.total_bytes_processed"
   ]
  },
  {
   "cell_type": "markdown",
   "id": "adad4b1a-18cf-400b-8c60-c5ce336b5244",
   "metadata": {},
   "source": [
    "Add labels to the model in BigQuery:"
   ]
  },
  {
   "cell_type": "code",
   "execution_count": 31,
   "id": "1bd8bcf6-c33c-4d5a-8332-a92461951dee",
   "metadata": {},
   "outputs": [],
   "source": [
    "model = bq.get_model(f'{BQ_PROJECT}.{BQ_DATASET}.{BQ_MODEL}_AFE')\n",
    "model.labels = {'series' : f'{SERIES}', 'experiment' : f'{EXPERIMENT}'}\n",
    "model = bq.update_model(model, ['labels'])"
   ]
  },
  {
   "cell_type": "markdown",
   "id": "db3a3d30-6804-4f75-9148-49a8833cf604",
   "metadata": {},
   "source": [
    "Review the Model Inputs, the feature information, with [ML.FEATURE_INFO](https://cloud.google.com/bigquery-ml/docs/reference/standard-sql/bigqueryml-syntax-feature):"
   ]
  },
  {
   "cell_type": "code",
   "execution_count": 32,
   "id": "5ff8311c-12c5-4fcd-83f6-70eefbe118ac",
   "metadata": {},
   "outputs": [
    {
     "data": {
      "text/html": [
       "<div>\n",
       "<style scoped>\n",
       "    .dataframe tbody tr th:only-of-type {\n",
       "        vertical-align: middle;\n",
       "    }\n",
       "\n",
       "    .dataframe tbody tr th {\n",
       "        vertical-align: top;\n",
       "    }\n",
       "\n",
       "    .dataframe thead th {\n",
       "        text-align: right;\n",
       "    }\n",
       "</style>\n",
       "<table border=\"1\" class=\"dataframe\">\n",
       "  <thead>\n",
       "    <tr style=\"text-align: right;\">\n",
       "      <th></th>\n",
       "      <th>input</th>\n",
       "      <th>min</th>\n",
       "      <th>max</th>\n",
       "      <th>mean</th>\n",
       "      <th>median</th>\n",
       "      <th>stddev</th>\n",
       "      <th>category_count</th>\n",
       "      <th>null_count</th>\n",
       "      <th>dimension</th>\n",
       "    </tr>\n",
       "  </thead>\n",
       "  <tbody>\n",
       "    <tr>\n",
       "      <th>0</th>\n",
       "      <td>Time</td>\n",
       "      <td>0.000000</td>\n",
       "      <td>172792.000000</td>\n",
       "      <td>94819.368821</td>\n",
       "      <td>86044.000000</td>\n",
       "      <td>47471.724979</td>\n",
       "      <td>&lt;NA&gt;</td>\n",
       "      <td>0</td>\n",
       "      <td>&lt;NA&gt;</td>\n",
       "    </tr>\n",
       "    <tr>\n",
       "      <th>1</th>\n",
       "      <td>V1</td>\n",
       "      <td>-46.855047</td>\n",
       "      <td>2.454930</td>\n",
       "      <td>0.000906</td>\n",
       "      <td>-0.041542</td>\n",
       "      <td>1.953269</td>\n",
       "      <td>&lt;NA&gt;</td>\n",
       "      <td>0</td>\n",
       "      <td>&lt;NA&gt;</td>\n",
       "    </tr>\n",
       "    <tr>\n",
       "      <th>2</th>\n",
       "      <td>V2</td>\n",
       "      <td>-63.344698</td>\n",
       "      <td>22.057729</td>\n",
       "      <td>0.000080</td>\n",
       "      <td>0.048752</td>\n",
       "      <td>1.643143</td>\n",
       "      <td>&lt;NA&gt;</td>\n",
       "      <td>0</td>\n",
       "      <td>&lt;NA&gt;</td>\n",
       "    </tr>\n",
       "    <tr>\n",
       "      <th>3</th>\n",
       "      <td>V3</td>\n",
       "      <td>-48.325589</td>\n",
       "      <td>9.382558</td>\n",
       "      <td>-0.000548</td>\n",
       "      <td>0.193006</td>\n",
       "      <td>1.514012</td>\n",
       "      <td>&lt;NA&gt;</td>\n",
       "      <td>0</td>\n",
       "      <td>&lt;NA&gt;</td>\n",
       "    </tr>\n",
       "    <tr>\n",
       "      <th>4</th>\n",
       "      <td>V4</td>\n",
       "      <td>-5.683171</td>\n",
       "      <td>16.875344</td>\n",
       "      <td>-0.000894</td>\n",
       "      <td>0.002292</td>\n",
       "      <td>1.414922</td>\n",
       "      <td>&lt;NA&gt;</td>\n",
       "      <td>0</td>\n",
       "      <td>&lt;NA&gt;</td>\n",
       "    </tr>\n",
       "    <tr>\n",
       "      <th>5</th>\n",
       "      <td>V5</td>\n",
       "      <td>-113.743307</td>\n",
       "      <td>34.099309</td>\n",
       "      <td>0.000092</td>\n",
       "      <td>-0.050779</td>\n",
       "      <td>1.378868</td>\n",
       "      <td>&lt;NA&gt;</td>\n",
       "      <td>0</td>\n",
       "      <td>&lt;NA&gt;</td>\n",
       "    </tr>\n",
       "    <tr>\n",
       "      <th>6</th>\n",
       "      <td>V6</td>\n",
       "      <td>-23.496714</td>\n",
       "      <td>73.301626</td>\n",
       "      <td>0.000223</td>\n",
       "      <td>-0.306716</td>\n",
       "      <td>1.331745</td>\n",
       "      <td>&lt;NA&gt;</td>\n",
       "      <td>0</td>\n",
       "      <td>&lt;NA&gt;</td>\n",
       "    </tr>\n",
       "    <tr>\n",
       "      <th>7</th>\n",
       "      <td>V7</td>\n",
       "      <td>-43.557242</td>\n",
       "      <td>120.589494</td>\n",
       "      <td>0.000765</td>\n",
       "      <td>0.033950</td>\n",
       "      <td>1.236094</td>\n",
       "      <td>&lt;NA&gt;</td>\n",
       "      <td>0</td>\n",
       "      <td>&lt;NA&gt;</td>\n",
       "    </tr>\n",
       "    <tr>\n",
       "      <th>8</th>\n",
       "      <td>V8</td>\n",
       "      <td>-73.216718</td>\n",
       "      <td>20.007208</td>\n",
       "      <td>-0.000559</td>\n",
       "      <td>0.020415</td>\n",
       "      <td>1.195511</td>\n",
       "      <td>&lt;NA&gt;</td>\n",
       "      <td>0</td>\n",
       "      <td>&lt;NA&gt;</td>\n",
       "    </tr>\n",
       "    <tr>\n",
       "      <th>9</th>\n",
       "      <td>V9</td>\n",
       "      <td>-13.320155</td>\n",
       "      <td>15.594995</td>\n",
       "      <td>-0.000346</td>\n",
       "      <td>-0.049993</td>\n",
       "      <td>1.098277</td>\n",
       "      <td>&lt;NA&gt;</td>\n",
       "      <td>0</td>\n",
       "      <td>&lt;NA&gt;</td>\n",
       "    </tr>\n",
       "    <tr>\n",
       "      <th>10</th>\n",
       "      <td>V10</td>\n",
       "      <td>-24.588262</td>\n",
       "      <td>23.745136</td>\n",
       "      <td>-0.000434</td>\n",
       "      <td>-0.105840</td>\n",
       "      <td>1.086693</td>\n",
       "      <td>&lt;NA&gt;</td>\n",
       "      <td>0</td>\n",
       "      <td>&lt;NA&gt;</td>\n",
       "    </tr>\n",
       "    <tr>\n",
       "      <th>11</th>\n",
       "      <td>V11</td>\n",
       "      <td>-4.797473</td>\n",
       "      <td>12.018913</td>\n",
       "      <td>0.000434</td>\n",
       "      <td>-0.018523</td>\n",
       "      <td>1.019805</td>\n",
       "      <td>&lt;NA&gt;</td>\n",
       "      <td>0</td>\n",
       "      <td>&lt;NA&gt;</td>\n",
       "    </tr>\n",
       "    <tr>\n",
       "      <th>12</th>\n",
       "      <td>V12</td>\n",
       "      <td>-18.683715</td>\n",
       "      <td>7.848392</td>\n",
       "      <td>0.000230</td>\n",
       "      <td>0.151160</td>\n",
       "      <td>0.998216</td>\n",
       "      <td>&lt;NA&gt;</td>\n",
       "      <td>0</td>\n",
       "      <td>&lt;NA&gt;</td>\n",
       "    </tr>\n",
       "    <tr>\n",
       "      <th>13</th>\n",
       "      <td>V13</td>\n",
       "      <td>-5.791881</td>\n",
       "      <td>7.126883</td>\n",
       "      <td>0.000489</td>\n",
       "      <td>-0.007708</td>\n",
       "      <td>0.995167</td>\n",
       "      <td>&lt;NA&gt;</td>\n",
       "      <td>0</td>\n",
       "      <td>&lt;NA&gt;</td>\n",
       "    </tr>\n",
       "    <tr>\n",
       "      <th>14</th>\n",
       "      <td>V14</td>\n",
       "      <td>-19.214325</td>\n",
       "      <td>10.526766</td>\n",
       "      <td>0.000601</td>\n",
       "      <td>0.067935</td>\n",
       "      <td>0.957745</td>\n",
       "      <td>&lt;NA&gt;</td>\n",
       "      <td>0</td>\n",
       "      <td>&lt;NA&gt;</td>\n",
       "    </tr>\n",
       "    <tr>\n",
       "      <th>15</th>\n",
       "      <td>V15</td>\n",
       "      <td>-4.498945</td>\n",
       "      <td>8.877742</td>\n",
       "      <td>0.000365</td>\n",
       "      <td>0.047068</td>\n",
       "      <td>0.914939</td>\n",
       "      <td>&lt;NA&gt;</td>\n",
       "      <td>0</td>\n",
       "      <td>&lt;NA&gt;</td>\n",
       "    </tr>\n",
       "    <tr>\n",
       "      <th>16</th>\n",
       "      <td>V16</td>\n",
       "      <td>-14.129855</td>\n",
       "      <td>17.315112</td>\n",
       "      <td>-0.000328</td>\n",
       "      <td>0.072093</td>\n",
       "      <td>0.875577</td>\n",
       "      <td>&lt;NA&gt;</td>\n",
       "      <td>0</td>\n",
       "      <td>&lt;NA&gt;</td>\n",
       "    </tr>\n",
       "    <tr>\n",
       "      <th>17</th>\n",
       "      <td>V17</td>\n",
       "      <td>-25.162799</td>\n",
       "      <td>9.253526</td>\n",
       "      <td>0.000068</td>\n",
       "      <td>-0.075949</td>\n",
       "      <td>0.847579</td>\n",
       "      <td>&lt;NA&gt;</td>\n",
       "      <td>0</td>\n",
       "      <td>&lt;NA&gt;</td>\n",
       "    </tr>\n",
       "    <tr>\n",
       "      <th>18</th>\n",
       "      <td>V18</td>\n",
       "      <td>-9.498746</td>\n",
       "      <td>5.041069</td>\n",
       "      <td>0.000101</td>\n",
       "      <td>-0.017655</td>\n",
       "      <td>0.837851</td>\n",
       "      <td>&lt;NA&gt;</td>\n",
       "      <td>0</td>\n",
       "      <td>&lt;NA&gt;</td>\n",
       "    </tr>\n",
       "    <tr>\n",
       "      <th>19</th>\n",
       "      <td>V19</td>\n",
       "      <td>-7.213527</td>\n",
       "      <td>5.591971</td>\n",
       "      <td>0.000004</td>\n",
       "      <td>0.012246</td>\n",
       "      <td>0.814124</td>\n",
       "      <td>&lt;NA&gt;</td>\n",
       "      <td>0</td>\n",
       "      <td>&lt;NA&gt;</td>\n",
       "    </tr>\n",
       "    <tr>\n",
       "      <th>20</th>\n",
       "      <td>V20</td>\n",
       "      <td>-54.497720</td>\n",
       "      <td>39.420904</td>\n",
       "      <td>-0.000100</td>\n",
       "      <td>-0.059950</td>\n",
       "      <td>0.769048</td>\n",
       "      <td>&lt;NA&gt;</td>\n",
       "      <td>0</td>\n",
       "      <td>&lt;NA&gt;</td>\n",
       "    </tr>\n",
       "    <tr>\n",
       "      <th>21</th>\n",
       "      <td>V21</td>\n",
       "      <td>-34.830382</td>\n",
       "      <td>27.202839</td>\n",
       "      <td>0.000246</td>\n",
       "      <td>-0.035366</td>\n",
       "      <td>0.737267</td>\n",
       "      <td>&lt;NA&gt;</td>\n",
       "      <td>0</td>\n",
       "      <td>&lt;NA&gt;</td>\n",
       "    </tr>\n",
       "    <tr>\n",
       "      <th>22</th>\n",
       "      <td>V22</td>\n",
       "      <td>-10.933144</td>\n",
       "      <td>10.503090</td>\n",
       "      <td>-0.000136</td>\n",
       "      <td>0.000002</td>\n",
       "      <td>0.725722</td>\n",
       "      <td>&lt;NA&gt;</td>\n",
       "      <td>0</td>\n",
       "      <td>&lt;NA&gt;</td>\n",
       "    </tr>\n",
       "    <tr>\n",
       "      <th>23</th>\n",
       "      <td>V23</td>\n",
       "      <td>-44.807735</td>\n",
       "      <td>22.528412</td>\n",
       "      <td>0.000147</td>\n",
       "      <td>-0.009334</td>\n",
       "      <td>0.624187</td>\n",
       "      <td>&lt;NA&gt;</td>\n",
       "      <td>0</td>\n",
       "      <td>&lt;NA&gt;</td>\n",
       "    </tr>\n",
       "    <tr>\n",
       "      <th>24</th>\n",
       "      <td>V24</td>\n",
       "      <td>-2.836627</td>\n",
       "      <td>4.584549</td>\n",
       "      <td>-0.000150</td>\n",
       "      <td>0.033711</td>\n",
       "      <td>0.605674</td>\n",
       "      <td>&lt;NA&gt;</td>\n",
       "      <td>0</td>\n",
       "      <td>&lt;NA&gt;</td>\n",
       "    </tr>\n",
       "    <tr>\n",
       "      <th>25</th>\n",
       "      <td>V25</td>\n",
       "      <td>-10.295397</td>\n",
       "      <td>7.519589</td>\n",
       "      <td>0.000201</td>\n",
       "      <td>0.007738</td>\n",
       "      <td>0.521183</td>\n",
       "      <td>&lt;NA&gt;</td>\n",
       "      <td>0</td>\n",
       "      <td>&lt;NA&gt;</td>\n",
       "    </tr>\n",
       "    <tr>\n",
       "      <th>26</th>\n",
       "      <td>V26</td>\n",
       "      <td>-2.604551</td>\n",
       "      <td>3.517346</td>\n",
       "      <td>0.000087</td>\n",
       "      <td>-0.050536</td>\n",
       "      <td>0.482340</td>\n",
       "      <td>&lt;NA&gt;</td>\n",
       "      <td>0</td>\n",
       "      <td>&lt;NA&gt;</td>\n",
       "    </tr>\n",
       "    <tr>\n",
       "      <th>27</th>\n",
       "      <td>V27</td>\n",
       "      <td>-22.565679</td>\n",
       "      <td>31.612198</td>\n",
       "      <td>-0.000095</td>\n",
       "      <td>0.003180</td>\n",
       "      <td>0.404236</td>\n",
       "      <td>&lt;NA&gt;</td>\n",
       "      <td>0</td>\n",
       "      <td>&lt;NA&gt;</td>\n",
       "    </tr>\n",
       "    <tr>\n",
       "      <th>28</th>\n",
       "      <td>V28</td>\n",
       "      <td>-15.430084</td>\n",
       "      <td>22.620072</td>\n",
       "      <td>-0.000066</td>\n",
       "      <td>0.011255</td>\n",
       "      <td>0.324088</td>\n",
       "      <td>&lt;NA&gt;</td>\n",
       "      <td>0</td>\n",
       "      <td>&lt;NA&gt;</td>\n",
       "    </tr>\n",
       "    <tr>\n",
       "      <th>29</th>\n",
       "      <td>Amount</td>\n",
       "      <td>0.000000</td>\n",
       "      <td>25691.160000</td>\n",
       "      <td>88.394934</td>\n",
       "      <td>22.560000</td>\n",
       "      <td>250.037640</td>\n",
       "      <td>&lt;NA&gt;</td>\n",
       "      <td>0</td>\n",
       "      <td>&lt;NA&gt;</td>\n",
       "    </tr>\n",
       "  </tbody>\n",
       "</table>\n",
       "</div>"
      ],
      "text/plain": [
       "     input         min            max          mean        median  \\\n",
       "0     Time    0.000000  172792.000000  94819.368821  86044.000000   \n",
       "1       V1  -46.855047       2.454930      0.000906     -0.041542   \n",
       "2       V2  -63.344698      22.057729      0.000080      0.048752   \n",
       "3       V3  -48.325589       9.382558     -0.000548      0.193006   \n",
       "4       V4   -5.683171      16.875344     -0.000894      0.002292   \n",
       "5       V5 -113.743307      34.099309      0.000092     -0.050779   \n",
       "6       V6  -23.496714      73.301626      0.000223     -0.306716   \n",
       "7       V7  -43.557242     120.589494      0.000765      0.033950   \n",
       "8       V8  -73.216718      20.007208     -0.000559      0.020415   \n",
       "9       V9  -13.320155      15.594995     -0.000346     -0.049993   \n",
       "10     V10  -24.588262      23.745136     -0.000434     -0.105840   \n",
       "11     V11   -4.797473      12.018913      0.000434     -0.018523   \n",
       "12     V12  -18.683715       7.848392      0.000230      0.151160   \n",
       "13     V13   -5.791881       7.126883      0.000489     -0.007708   \n",
       "14     V14  -19.214325      10.526766      0.000601      0.067935   \n",
       "15     V15   -4.498945       8.877742      0.000365      0.047068   \n",
       "16     V16  -14.129855      17.315112     -0.000328      0.072093   \n",
       "17     V17  -25.162799       9.253526      0.000068     -0.075949   \n",
       "18     V18   -9.498746       5.041069      0.000101     -0.017655   \n",
       "19     V19   -7.213527       5.591971      0.000004      0.012246   \n",
       "20     V20  -54.497720      39.420904     -0.000100     -0.059950   \n",
       "21     V21  -34.830382      27.202839      0.000246     -0.035366   \n",
       "22     V22  -10.933144      10.503090     -0.000136      0.000002   \n",
       "23     V23  -44.807735      22.528412      0.000147     -0.009334   \n",
       "24     V24   -2.836627       4.584549     -0.000150      0.033711   \n",
       "25     V25  -10.295397       7.519589      0.000201      0.007738   \n",
       "26     V26   -2.604551       3.517346      0.000087     -0.050536   \n",
       "27     V27  -22.565679      31.612198     -0.000095      0.003180   \n",
       "28     V28  -15.430084      22.620072     -0.000066      0.011255   \n",
       "29  Amount    0.000000   25691.160000     88.394934     22.560000   \n",
       "\n",
       "          stddev  category_count  null_count  dimension  \n",
       "0   47471.724979            <NA>           0       <NA>  \n",
       "1       1.953269            <NA>           0       <NA>  \n",
       "2       1.643143            <NA>           0       <NA>  \n",
       "3       1.514012            <NA>           0       <NA>  \n",
       "4       1.414922            <NA>           0       <NA>  \n",
       "5       1.378868            <NA>           0       <NA>  \n",
       "6       1.331745            <NA>           0       <NA>  \n",
       "7       1.236094            <NA>           0       <NA>  \n",
       "8       1.195511            <NA>           0       <NA>  \n",
       "9       1.098277            <NA>           0       <NA>  \n",
       "10      1.086693            <NA>           0       <NA>  \n",
       "11      1.019805            <NA>           0       <NA>  \n",
       "12      0.998216            <NA>           0       <NA>  \n",
       "13      0.995167            <NA>           0       <NA>  \n",
       "14      0.957745            <NA>           0       <NA>  \n",
       "15      0.914939            <NA>           0       <NA>  \n",
       "16      0.875577            <NA>           0       <NA>  \n",
       "17      0.847579            <NA>           0       <NA>  \n",
       "18      0.837851            <NA>           0       <NA>  \n",
       "19      0.814124            <NA>           0       <NA>  \n",
       "20      0.769048            <NA>           0       <NA>  \n",
       "21      0.737267            <NA>           0       <NA>  \n",
       "22      0.725722            <NA>           0       <NA>  \n",
       "23      0.624187            <NA>           0       <NA>  \n",
       "24      0.605674            <NA>           0       <NA>  \n",
       "25      0.521183            <NA>           0       <NA>  \n",
       "26      0.482340            <NA>           0       <NA>  \n",
       "27      0.404236            <NA>           0       <NA>  \n",
       "28      0.324088            <NA>           0       <NA>  \n",
       "29    250.037640            <NA>           0       <NA>  "
      ]
     },
     "execution_count": 32,
     "metadata": {},
     "output_type": "execute_result"
    }
   ],
   "source": [
    "feature_info = bq.query(\n",
    "    query = f\"\"\"\n",
    "        SELECT *\n",
    "        FROM ML.FEATURE_INFO(MODEL `{BQ_PROJECT}.{BQ_DATASET}.{BQ_MODEL}_AFE`)\n",
    "        \"\"\"\n",
    ").to_dataframe()\n",
    "feature_info"
   ]
  },
  {
   "cell_type": "markdown",
   "id": "a911183c-9b7b-4216-ad6e-2839bff0f9fc",
   "metadata": {},
   "source": [
    "Review the iterations from training with [ML.TRAINING_INFO](https://cloud.google.com/bigquery-ml/docs/reference/standard-sql/bigqueryml-syntax-train):"
   ]
  },
  {
   "cell_type": "code",
   "execution_count": 33,
   "id": "faccec62-d66a-4720-9a1c-db7159fa7e39",
   "metadata": {},
   "outputs": [
    {
     "data": {
      "text/html": [
       "<div>\n",
       "<style scoped>\n",
       "    .dataframe tbody tr th:only-of-type {\n",
       "        vertical-align: middle;\n",
       "    }\n",
       "\n",
       "    .dataframe tbody tr th {\n",
       "        vertical-align: top;\n",
       "    }\n",
       "\n",
       "    .dataframe thead th {\n",
       "        text-align: right;\n",
       "    }\n",
       "</style>\n",
       "<table border=\"1\" class=\"dataframe\">\n",
       "  <thead>\n",
       "    <tr style=\"text-align: right;\">\n",
       "      <th></th>\n",
       "      <th>training_run</th>\n",
       "      <th>iteration</th>\n",
       "      <th>loss</th>\n",
       "      <th>eval_loss</th>\n",
       "      <th>learning_rate</th>\n",
       "      <th>duration_ms</th>\n",
       "    </tr>\n",
       "  </thead>\n",
       "  <tbody>\n",
       "    <tr>\n",
       "      <th>0</th>\n",
       "      <td>0</td>\n",
       "      <td>0</td>\n",
       "      <td>0.683058</td>\n",
       "      <td>0.686816</td>\n",
       "      <td>0.2</td>\n",
       "      <td>10975</td>\n",
       "    </tr>\n",
       "    <tr>\n",
       "      <th>1</th>\n",
       "      <td>0</td>\n",
       "      <td>1</td>\n",
       "      <td>0.644951</td>\n",
       "      <td>0.649081</td>\n",
       "      <td>0.4</td>\n",
       "      <td>9718</td>\n",
       "    </tr>\n",
       "    <tr>\n",
       "      <th>2</th>\n",
       "      <td>0</td>\n",
       "      <td>2</td>\n",
       "      <td>0.577088</td>\n",
       "      <td>0.581807</td>\n",
       "      <td>0.8</td>\n",
       "      <td>9832</td>\n",
       "    </tr>\n",
       "    <tr>\n",
       "      <th>3</th>\n",
       "      <td>0</td>\n",
       "      <td>3</td>\n",
       "      <td>0.469349</td>\n",
       "      <td>0.474834</td>\n",
       "      <td>1.6</td>\n",
       "      <td>11112</td>\n",
       "    </tr>\n",
       "    <tr>\n",
       "      <th>4</th>\n",
       "      <td>0</td>\n",
       "      <td>4</td>\n",
       "      <td>0.332700</td>\n",
       "      <td>0.338950</td>\n",
       "      <td>3.2</td>\n",
       "      <td>10998</td>\n",
       "    </tr>\n",
       "    <tr>\n",
       "      <th>5</th>\n",
       "      <td>0</td>\n",
       "      <td>5</td>\n",
       "      <td>0.214496</td>\n",
       "      <td>0.221454</td>\n",
       "      <td>6.4</td>\n",
       "      <td>10561</td>\n",
       "    </tr>\n",
       "    <tr>\n",
       "      <th>6</th>\n",
       "      <td>0</td>\n",
       "      <td>6</td>\n",
       "      <td>0.155707</td>\n",
       "      <td>0.163524</td>\n",
       "      <td>12.8</td>\n",
       "      <td>12274</td>\n",
       "    </tr>\n",
       "    <tr>\n",
       "      <th>7</th>\n",
       "      <td>0</td>\n",
       "      <td>7</td>\n",
       "      <td>0.115863</td>\n",
       "      <td>0.123349</td>\n",
       "      <td>25.6</td>\n",
       "      <td>12597</td>\n",
       "    </tr>\n",
       "  </tbody>\n",
       "</table>\n",
       "</div>"
      ],
      "text/plain": [
       "   training_run  iteration      loss  eval_loss  learning_rate  duration_ms\n",
       "0             0          0  0.683058   0.686816            0.2        10975\n",
       "1             0          1  0.644951   0.649081            0.4         9718\n",
       "2             0          2  0.577088   0.581807            0.8         9832\n",
       "3             0          3  0.469349   0.474834            1.6        11112\n",
       "4             0          4  0.332700   0.338950            3.2        10998\n",
       "5             0          5  0.214496   0.221454            6.4        10561\n",
       "6             0          6  0.155707   0.163524           12.8        12274\n",
       "7             0          7  0.115863   0.123349           25.6        12597"
      ]
     },
     "execution_count": 33,
     "metadata": {},
     "output_type": "execute_result"
    }
   ],
   "source": [
    "history = bq.query(\n",
    "    query = f\"\"\"\n",
    "        SELECT *\n",
    "        FROM ML.TRAINING_INFO(MODEL `{BQ_PROJECT}.{BQ_DATASET}.{BQ_MODEL}_AFE`)\n",
    "        ORDER BY iteration\"\"\"\n",
    ").to_dataframe()\n",
    "history"
   ]
  },
  {
   "cell_type": "markdown",
   "id": "cb0c73e5-4198-4e59-beb6-e18a1b9a15aa",
   "metadata": {},
   "source": [
    "Plot the loss history:"
   ]
  },
  {
   "cell_type": "code",
   "execution_count": 34,
   "id": "6df62055-4ebd-4726-8ac3-294c85aee31a",
   "metadata": {},
   "outputs": [
    {
     "data": {
      "text/plain": [
       "<AxesSubplot:xlabel='iteration'>"
      ]
     },
     "execution_count": 34,
     "metadata": {},
     "output_type": "execute_result"
    },
    {
     "data": {
      "image/png": "[encoded data removed]",
      "text/plain": [
       "<Figure size 720x360 with 1 Axes>"
      ]
     },
     "metadata": {
      "needs_background": "light"
     },
     "output_type": "display_data"
    }
   ],
   "source": [
    "history.plot(x = 'iteration', y = ['loss','eval_loss'], figsize = (10, 5), grid = True)"
   ]
  },
  {
   "cell_type": "markdown",
   "id": "64292d85-2109-445c-8066-a077b2a9fede",
   "metadata": {},
   "source": [
    "### Check out this model in BigQuery Console:\n",
    "- Make sure project selected is the one from this notebook\n",
    "- Under Explore, expand this project and dataset\n",
    "- Expand Models and select the model create here"
   ]
  },
  {
   "cell_type": "code",
   "execution_count": 35,
   "id": "69ddded0-355a-4977-af91-37dab88ebfc8",
   "metadata": {},
   "outputs": [
    {
     "name": "stdout",
     "output_type": "stream",
     "text": [
      "BigQuery Console for Project:\n",
      "https://console.cloud.google.com/bigquery?project=statmike-mlops-349915\n"
     ]
    }
   ],
   "source": [
    "print(f'BigQuery Console for Project:\\nhttps://console.cloud.google.com/bigquery?project={PROJECT_ID}')"
   ]
  },
  {
   "cell_type": "code",
   "execution_count": 36,
   "id": "2fc7421d-d6ea-42ba-ba3f-bb23d42230f1",
   "metadata": {},
   "outputs": [
    {
     "name": "stdout",
     "output_type": "stream",
     "text": [
      "Direct link to the model in BigQuery:\n",
      "https://console.cloud.google.com/bigquery?project=statmike-mlops-349915&ws=!1m5!1m4!5m3!1sstatmike-mlops-349915!2sfeature_engineering!3s03_fe_20221109002538\n"
     ]
    }
   ],
   "source": [
    "print(f'Direct link to the model in BigQuery:\\nhttps://console.cloud.google.com/bigquery?project={PROJECT_ID}&ws=!1m5!1m4!5m3!1s{PROJECT_ID}!2s{BQ_DATASET}!3s{BQ_MODEL}_AFE')"
   ]
  },
  {
   "cell_type": "markdown",
   "id": "6d64b59c-65d8-46e3-9d74-e01f7dfcb467",
   "metadata": {},
   "source": [
    "---\n",
    "## Serving"
   ]
  },
  {
   "cell_type": "markdown",
   "id": "5f93b212-a130-4fcf-a969-1bc17148f740",
   "metadata": {},
   "source": [
    "### Vertex AI Model Registry - Get Model\n",
    "\n",
    "References:\n",
    "- [aiplatform.Model()](https://cloud.google.com/python/docs/reference/aiplatform/latest/google.cloud.aiplatform.Model)"
   ]
  },
  {
   "cell_type": "code",
   "execution_count": 44,
   "id": "a20718ab-73f8-41fc-9028-59b0db561ea9",
   "metadata": {},
   "outputs": [],
   "source": [
    "model = aiplatform.Model(model_name = f'model_{SERIES}_{EXPERIMENT}')"
   ]
  },
  {
   "cell_type": "code",
   "execution_count": 45,
   "id": "c8b1abc4-623e-498e-8ea7-9ae498cde726",
   "metadata": {},
   "outputs": [
    {
     "data": {
      "text/plain": [
       "'projects/1026793852137/locations/us-central1/models/model_03_fe@1'"
      ]
     },
     "execution_count": 45,
     "metadata": {},
     "output_type": "execute_result"
    }
   ],
   "source": [
    "model.versioned_resource_name"
   ]
  },
  {
   "cell_type": "markdown",
   "id": "c6dbb3ac-ae06-42a0-89ba-4fa7d3ff39df",
   "metadata": {},
   "source": [
    "### Vertex AI Endpoint - Create or Retrieve\n",
    "\n",
    "References:\n",
    "- [aiplatform.Endpoint()](https://cloud.google.com/python/docs/reference/aiplatform/latest/google.cloud.aiplatform.Endpoint)"
   ]
  },
  {
   "cell_type": "code",
   "execution_count": 46,
   "id": "bd66fc34-0275-45f2-a9c0-9609dc6934bb",
   "metadata": {},
   "outputs": [
    {
     "name": "stdout",
     "output_type": "stream",
     "text": [
      "Creating Endpoint\n",
      "Create Endpoint backing LRO: projects/1026793852137/locations/us-central1/endpoints/6193790891820318720/operations/3825061658653360128\n",
      "Endpoint created. Resource name: projects/1026793852137/locations/us-central1/endpoints/6193790891820318720\n",
      "To use this Endpoint in another session:\n",
      "endpoint = aiplatform.Endpoint('projects/1026793852137/locations/us-central1/endpoints/6193790891820318720')\n",
      "Endpoint Created: projects/1026793852137/locations/us-central1/endpoints/6193790891820318720\n",
      "Review the Endpoint in the Console:\n",
      "https://console.cloud.google.com/vertex-ai/locations/us-central1/endpoints/6193790891820318720?project=statmike-mlops-349915\n"
     ]
    }
   ],
   "source": [
    "endpoints = aiplatform.Endpoint.list(filter = f\"labels.series={SERIES}\")\n",
    "if endpoints:\n",
    "    endpoint = endpoints[0]\n",
    "    print(f\"Endpoint Exists: {endpoints[0].resource_name}\")\n",
    "else:\n",
    "    endpoint = aiplatform.Endpoint.create(\n",
    "        display_name = f\"{SERIES}\",\n",
    "        labels = {'series' : f\"{SERIES}\"}    \n",
    "    )\n",
    "    print(f\"Endpoint Created: {endpoint.resource_name}\")\n",
    "\n",
    "print(f'Review the Endpoint in the Console:\\nhttps://console.cloud.google.com/vertex-ai/locations/{REGION}/endpoints/{endpoint.name}?project={PROJECT_ID}')"
   ]
  },
  {
   "cell_type": "code",
   "execution_count": 47,
   "id": "59271b28-ee7f-44b4-ba08-f7f1b878cd2e",
   "metadata": {},
   "outputs": [
    {
     "data": {
      "text/plain": [
       "'03'"
      ]
     },
     "execution_count": 47,
     "metadata": {},
     "output_type": "execute_result"
    }
   ],
   "source": [
    "endpoint.display_name"
   ]
  },
  {
   "cell_type": "code",
   "execution_count": 48,
   "id": "eb6a538b-64a3-4909-b0bb-0e0774d0a33d",
   "metadata": {},
   "outputs": [
    {
     "data": {
      "text/plain": [
       "{}"
      ]
     },
     "execution_count": 48,
     "metadata": {},
     "output_type": "execute_result"
    }
   ],
   "source": [
    "endpoint.traffic_split"
   ]
  },
  {
   "cell_type": "code",
   "execution_count": 49,
   "id": "a3b29fbf-666b-426f-bc5c-78ad40e5b194",
   "metadata": {},
   "outputs": [],
   "source": [
    "deployed_models = endpoint.list_models()\n",
    "#deployed_models"
   ]
  },
  {
   "cell_type": "markdown",
   "id": "57e353af-ccfd-4aac-ae29-495526c53aa4",
   "metadata": {},
   "source": [
    "### Deploy Model To Vertex AI Endpoint"
   ]
  },
  {
   "cell_type": "code",
   "execution_count": 52,
   "id": "2446adc7-a2f0-4dae-99ff-5803b4fd1960",
   "metadata": {},
   "outputs": [
    {
     "name": "stdout",
     "output_type": "stream",
     "text": [
      "Deploying model with 100% of traffic...\n",
      "Deploying Model projects/1026793852137/locations/us-central1/models/model_03_fe to Endpoint : projects/1026793852137/locations/us-central1/endpoints/6193790891820318720\n",
      "Deploy Endpoint model backing LRO: projects/1026793852137/locations/us-central1/endpoints/6193790891820318720/operations/6761408615698923520\n",
      "Endpoint model deployed. Resource name: projects/1026793852137/locations/us-central1/endpoints/6193790891820318720\n"
     ]
    }
   ],
   "source": [
    "if (model.display_name, model.version_id) not in [(deployed_model.display_name, deployed_model.model_version_id) for deployed_model in endpoint.list_models()]:\n",
    "    print(f'Deploying model with 100% of traffic...')\n",
    "    endpoint.deploy(\n",
    "        model = model,\n",
    "        deployed_model_display_name = model.display_name,\n",
    "        traffic_percentage = 100,\n",
    "        machine_type = DEPLOY_COMPUTE,\n",
    "        min_replica_count = 1,\n",
    "        max_replica_count = 1\n",
    "    )\n",
    "else: \n",
    "    print(f'The current model/version is already deployed.')"
   ]
  },
  {
   "cell_type": "markdown",
   "id": "bd917c61-291d-4cf3-abba-6a60a78c874e",
   "metadata": {},
   "source": [
    "### Remove Deployed Models without Traffic"
   ]
  },
  {
   "cell_type": "code",
   "execution_count": 53,
   "id": "75d4653a-add8-4abd-bebb-c481706367f4",
   "metadata": {},
   "outputs": [
    {
     "name": "stdout",
     "output_type": "stream",
     "text": [
      "Model model_03_fe with version 1 has traffic = 100\n"
     ]
    }
   ],
   "source": [
    "for deployed_model in endpoint.list_models():\n",
    "    if deployed_model.id in endpoint.traffic_split:\n",
    "        print(f\"Model {deployed_model.display_name} with version {deployed_model.model_version_id} has traffic = {endpoint.traffic_split[deployed_model.id]}\")\n",
    "    else:\n",
    "        endpoint.undeploy(deployed_model_id = deployed_model.id)\n",
    "        print(f\"Undeploying {deployed_model.display_name} with version {deployed_model.model_version_id} because it has no traffic.\")"
   ]
  },
  {
   "cell_type": "code",
   "execution_count": 54,
   "id": "981f26f5-5814-4259-8886-df6b8dc47f38",
   "metadata": {},
   "outputs": [
    {
     "data": {
      "text/plain": [
       "{'6895982997783183360': 100}"
      ]
     },
     "execution_count": 54,
     "metadata": {},
     "output_type": "execute_result"
    }
   ],
   "source": [
    "endpoint.traffic_split"
   ]
  },
  {
   "cell_type": "code",
   "execution_count": 55,
   "id": "56e95a11-ec83-4bc0-ab9d-bf28d68e4403",
   "metadata": {},
   "outputs": [],
   "source": [
    "#endpoint.list_models()"
   ]
  },
  {
   "cell_type": "markdown",
   "id": "ecf9e01b-984a-4bfd-bdb4-e090e40023dd",
   "metadata": {},
   "source": [
    "---\n",
    "## Prediction"
   ]
  },
  {
   "cell_type": "markdown",
   "id": "587f87c8-9a36-476b-99f8-5923fc35027a",
   "metadata": {},
   "source": [
    "### Retrieve Records For Prediction"
   ]
  },
  {
   "cell_type": "code",
   "execution_count": 58,
   "id": "f06920aa-b15f-4b3a-9bad-70e48258f202",
   "metadata": {},
   "outputs": [],
   "source": [
    "n = 10\n",
    "pred = bq.query(query = f\"SELECT * FROM {BQ_PROJECT}.{BQ_DATASET}.{BQ_TABLE} LIMIT {n}\").to_dataframe()"
   ]
  },
  {
   "cell_type": "code",
   "execution_count": 59,
   "id": "fbe27666-ad78-4e29-9a3f-5e485bdb5306",
   "metadata": {},
   "outputs": [
    {
     "data": {
      "text/html": [
       "<div>\n",
       "<style scoped>\n",
       "    .dataframe tbody tr th:only-of-type {\n",
       "        vertical-align: middle;\n",
       "    }\n",
       "\n",
       "    .dataframe tbody tr th {\n",
       "        vertical-align: top;\n",
       "    }\n",
       "\n",
       "    .dataframe thead th {\n",
       "        text-align: right;\n",
       "    }\n",
       "</style>\n",
       "<table border=\"1\" class=\"dataframe\">\n",
       "  <thead>\n",
       "    <tr style=\"text-align: right;\">\n",
       "      <th></th>\n",
       "      <th>Time</th>\n",
       "      <th>V1</th>\n",
       "      <th>V2</th>\n",
       "      <th>V3</th>\n",
       "      <th>V4</th>\n",
       "      <th>V5</th>\n",
       "      <th>V6</th>\n",
       "      <th>V7</th>\n",
       "      <th>V8</th>\n",
       "      <th>V9</th>\n",
       "      <th>...</th>\n",
       "      <th>V21</th>\n",
       "      <th>V22</th>\n",
       "      <th>V23</th>\n",
       "      <th>V24</th>\n",
       "      <th>V25</th>\n",
       "      <th>V26</th>\n",
       "      <th>V27</th>\n",
       "      <th>V28</th>\n",
       "      <th>Amount</th>\n",
       "      <th>Class</th>\n",
       "    </tr>\n",
       "  </thead>\n",
       "  <tbody>\n",
       "    <tr>\n",
       "      <th>0</th>\n",
       "      <td>37294.0</td>\n",
       "      <td>1.168909</td>\n",
       "      <td>-0.139981</td>\n",
       "      <td>-0.095518</td>\n",
       "      <td>1.735426</td>\n",
       "      <td>1.699903</td>\n",
       "      <td>4.646212</td>\n",
       "      <td>-1.191502</td>\n",
       "      <td>1.205700</td>\n",
       "      <td>0.333882</td>\n",
       "      <td>...</td>\n",
       "      <td>-0.033003</td>\n",
       "      <td>0.114218</td>\n",
       "      <td>-0.163863</td>\n",
       "      <td>1.045593</td>\n",
       "      <td>0.775343</td>\n",
       "      <td>0.228745</td>\n",
       "      <td>0.050846</td>\n",
       "      <td>0.020019</td>\n",
       "      <td>0.0</td>\n",
       "      <td>0</td>\n",
       "    </tr>\n",
       "    <tr>\n",
       "      <th>1</th>\n",
       "      <td>48695.0</td>\n",
       "      <td>-0.945317</td>\n",
       "      <td>2.018842</td>\n",
       "      <td>1.779540</td>\n",
       "      <td>2.340482</td>\n",
       "      <td>0.624353</td>\n",
       "      <td>0.059572</td>\n",
       "      <td>1.167144</td>\n",
       "      <td>-0.374930</td>\n",
       "      <td>-0.810309</td>\n",
       "      <td>...</td>\n",
       "      <td>-0.703688</td>\n",
       "      <td>-1.473276</td>\n",
       "      <td>-0.107746</td>\n",
       "      <td>-0.234128</td>\n",
       "      <td>0.061720</td>\n",
       "      <td>-0.197649</td>\n",
       "      <td>0.299470</td>\n",
       "      <td>-0.117605</td>\n",
       "      <td>0.0</td>\n",
       "      <td>0</td>\n",
       "    </tr>\n",
       "    <tr>\n",
       "      <th>2</th>\n",
       "      <td>66175.0</td>\n",
       "      <td>1.068135</td>\n",
       "      <td>0.153241</td>\n",
       "      <td>1.620380</td>\n",
       "      <td>2.652865</td>\n",
       "      <td>-0.918265</td>\n",
       "      <td>0.331406</td>\n",
       "      <td>-0.712275</td>\n",
       "      <td>0.345064</td>\n",
       "      <td>-0.035753</td>\n",
       "      <td>...</td>\n",
       "      <td>-0.031012</td>\n",
       "      <td>-0.012003</td>\n",
       "      <td>0.068278</td>\n",
       "      <td>0.501400</td>\n",
       "      <td>0.211693</td>\n",
       "      <td>-0.070294</td>\n",
       "      <td>0.033991</td>\n",
       "      <td>0.025698</td>\n",
       "      <td>0.0</td>\n",
       "      <td>0</td>\n",
       "    </tr>\n",
       "    <tr>\n",
       "      <th>3</th>\n",
       "      <td>87939.0</td>\n",
       "      <td>2.152846</td>\n",
       "      <td>0.138200</td>\n",
       "      <td>-2.556943</td>\n",
       "      <td>0.410630</td>\n",
       "      <td>0.876571</td>\n",
       "      <td>-1.333338</td>\n",
       "      <td>0.859437</td>\n",
       "      <td>-0.476419</td>\n",
       "      <td>0.057148</td>\n",
       "      <td>...</td>\n",
       "      <td>0.244421</td>\n",
       "      <td>0.806456</td>\n",
       "      <td>-0.126303</td>\n",
       "      <td>0.734384</td>\n",
       "      <td>0.645127</td>\n",
       "      <td>0.700713</td>\n",
       "      <td>-0.134631</td>\n",
       "      <td>-0.090770</td>\n",
       "      <td>0.0</td>\n",
       "      <td>0</td>\n",
       "    </tr>\n",
       "    <tr>\n",
       "      <th>4</th>\n",
       "      <td>131288.0</td>\n",
       "      <td>1.967256</td>\n",
       "      <td>0.727108</td>\n",
       "      <td>-1.087221</td>\n",
       "      <td>3.851212</td>\n",
       "      <td>0.675885</td>\n",
       "      <td>-0.576084</td>\n",
       "      <td>0.636685</td>\n",
       "      <td>-0.299253</td>\n",
       "      <td>-1.143070</td>\n",
       "      <td>...</td>\n",
       "      <td>-0.023855</td>\n",
       "      <td>0.043501</td>\n",
       "      <td>0.102387</td>\n",
       "      <td>0.026050</td>\n",
       "      <td>0.222577</td>\n",
       "      <td>0.018297</td>\n",
       "      <td>-0.060855</td>\n",
       "      <td>-0.061035</td>\n",
       "      <td>0.0</td>\n",
       "      <td>0</td>\n",
       "    </tr>\n",
       "  </tbody>\n",
       "</table>\n",
       "<p>5 rows × 31 columns</p>\n",
       "</div>"
      ],
      "text/plain": [
       "       Time        V1        V2        V3        V4        V5        V6  \\\n",
       "0   37294.0  1.168909 -0.139981 -0.095518  1.735426  1.699903  4.646212   \n",
       "1   48695.0 -0.945317  2.018842  1.779540  2.340482  0.624353  0.059572   \n",
       "2   66175.0  1.068135  0.153241  1.620380  2.652865 -0.918265  0.331406   \n",
       "3   87939.0  2.152846  0.138200 -2.556943  0.410630  0.876571 -1.333338   \n",
       "4  131288.0  1.967256  0.727108 -1.087221  3.851212  0.675885 -0.576084   \n",
       "\n",
       "         V7        V8        V9  ...       V21       V22       V23       V24  \\\n",
       "0 -1.191502  1.205700  0.333882  ... -0.033003  0.114218 -0.163863  1.045593   \n",
       "1  1.167144 -0.374930 -0.810309  ... -0.703688 -1.473276 -0.107746 -0.234128   \n",
       "2 -0.712275  0.345064 -0.035753  ... -0.031012 -0.012003  0.068278  0.501400   \n",
       "3  0.859437 -0.476419  0.057148  ...  0.244421  0.806456 -0.126303  0.734384   \n",
       "4  0.636685 -0.299253 -1.143070  ... -0.023855  0.043501  0.102387  0.026050   \n",
       "\n",
       "        V25       V26       V27       V28  Amount  Class  \n",
       "0  0.775343  0.228745  0.050846  0.020019     0.0      0  \n",
       "1  0.061720 -0.197649  0.299470 -0.117605     0.0      0  \n",
       "2  0.211693 -0.070294  0.033991  0.025698     0.0      0  \n",
       "3  0.645127  0.700713 -0.134631 -0.090770     0.0      0  \n",
       "4  0.222577  0.018297 -0.060855 -0.061035     0.0      0  \n",
       "\n",
       "[5 rows x 31 columns]"
      ]
     },
     "execution_count": 59,
     "metadata": {},
     "output_type": "execute_result"
    }
   ],
   "source": [
    "pred.head()"
   ]
  },
  {
   "cell_type": "markdown",
   "id": "0a2ac232-d692-4166-9e04-d23332c85ec2",
   "metadata": {},
   "source": [
    "Shape as instances: dictionaries of key:value pairs for only features used in model"
   ]
  },
  {
   "cell_type": "code",
   "execution_count": 61,
   "id": "10a2a545-5590-4ef9-9782-b4d94d972e34",
   "metadata": {},
   "outputs": [],
   "source": [
    "newobs = pred[pred.columns[~pred.columns.isin([VAR_TARGET])]].to_dict(orient='records')\n",
    "#newobs[0]"
   ]
  },
  {
   "cell_type": "code",
   "execution_count": 62,
   "id": "2f5e521d-4b14-4118-a662-c4fd61447bef",
   "metadata": {},
   "outputs": [
    {
     "data": {
      "text/plain": [
       "10"
      ]
     },
     "execution_count": 62,
     "metadata": {},
     "output_type": "execute_result"
    }
   ],
   "source": [
    "len(newobs)"
   ]
  },
  {
   "cell_type": "code",
   "execution_count": 63,
   "id": "e8da0a6d-f55c-4710-8663-7893a77f0e80",
   "metadata": {},
   "outputs": [
    {
     "data": {
      "text/plain": [
       "{'Time': 37294.0,\n",
       " 'V1': 1.1689085895338,\n",
       " 'V2': -0.139981145657757,\n",
       " 'V3': -0.095518471489871,\n",
       " 'V4': 1.7354261527226698,\n",
       " 'V5': 1.6999032220861598,\n",
       " 'V6': 4.64621174854514,\n",
       " 'V7': -1.1915020802253,\n",
       " 'V8': 1.2056999126741101,\n",
       " 'V9': 0.333882136042143,\n",
       " 'V10': 0.445892376640398,\n",
       " 'V11': -1.13915797098511,\n",
       " 'V12': 0.131478997864883,\n",
       " 'V13': -0.21300435713576701,\n",
       " 'V14': -0.574543656752157,\n",
       " 'V15': -1.29448382329134,\n",
       " 'V16': 0.35821793406784797,\n",
       " 'V17': -0.493553806335129,\n",
       " 'V18': 0.14011509156796803,\n",
       " 'V19': -0.19333259123795105,\n",
       " 'V20': -0.0671614045807908,\n",
       " 'V21': -0.0330034889037295,\n",
       " 'V22': 0.11421779751978099,\n",
       " 'V23': -0.163862790897918,\n",
       " 'V24': 1.04559307565716,\n",
       " 'V25': 0.7753427063516221,\n",
       " 'V26': 0.22874539817184697,\n",
       " 'V27': 0.0508464765501748,\n",
       " 'V28': 0.0200185496706404,\n",
       " 'Amount': 0.0}"
      ]
     },
     "execution_count": 63,
     "metadata": {},
     "output_type": "execute_result"
    }
   ],
   "source": [
    "newobs[0]"
   ]
  },
  {
   "cell_type": "code",
   "execution_count": 64,
   "id": "6726541f-fb86-4c1b-ae19-974f5ad8f096",
   "metadata": {},
   "outputs": [],
   "source": [
    "instances = [json_format.ParseDict(newobs[0], Value())]"
   ]
  },
  {
   "cell_type": "markdown",
   "id": "0f0a8911-b954-422a-a6ed-f33e72ac1fc3",
   "metadata": {},
   "source": [
    "### Get Predictions: Python Client"
   ]
  },
  {
   "cell_type": "code",
   "execution_count": 74,
   "id": "5fc3b01a",
   "metadata": {},
   "outputs": [
    {
     "data": {
      "text/plain": [
       "Prediction(predictions=[{'Class_values': ['1', '0'], 'predicted_Class': ['0'], 'Class_probs': [0.09128659808702194, 0.9087134019129781]}], deployed_model_id='6895982997783183360', model_version_id='1', model_resource_name='projects/1026793852137/locations/us-central1/models/model_03_fe', explanations=None)"
      ]
     },
     "execution_count": 74,
     "metadata": {},
     "output_type": "execute_result"
    }
   ],
   "source": [
    "prediction = endpoint.predict(instances = instances)\n",
    "prediction"
   ]
  },
  {
   "cell_type": "code",
   "execution_count": 78,
   "id": "e3f07649",
   "metadata": {},
   "outputs": [
    {
     "data": {
      "text/plain": [
       "{'Class_values': ['1', '0'],\n",
       " 'predicted_Class': ['0'],\n",
       " 'Class_probs': [0.09128659808702194, 0.9087134019129781]}"
      ]
     },
     "execution_count": 78,
     "metadata": {},
     "output_type": "execute_result"
    }
   ],
   "source": [
    "prediction.predictions[0]"
   ]
  },
  {
   "cell_type": "code",
   "execution_count": 79,
   "id": "f17445dd-0ff6-4239-a855-478e171d24c3",
   "metadata": {},
   "outputs": [
    {
     "data": {
      "text/plain": [
       "[0.09128659808702194, 0.9087134019129781]"
      ]
     },
     "execution_count": 79,
     "metadata": {},
     "output_type": "execute_result"
    }
   ],
   "source": [
    "prediction.predictions[0]['Class_probs']"
   ]
  },
  {
   "cell_type": "code",
   "execution_count": 81,
   "id": "5f5912e3",
   "metadata": {},
   "outputs": [
    {
     "data": {
      "text/plain": [
       "'0'"
      ]
     },
     "execution_count": 81,
     "metadata": {},
     "output_type": "execute_result"
    }
   ],
   "source": [
    "prediction.predictions[0]['Class_values'][np.argmax(prediction.predictions[0]['Class_probs'])]"
   ]
  },
  {
   "cell_type": "markdown",
   "id": "a85b5e68-d7f7-4eff-9968-09e26b5068dc",
   "metadata": {},
   "source": [
    "### Get Predictions: REST"
   ]
  },
  {
   "cell_type": "code",
   "execution_count": 87,
   "id": "5581722e",
   "metadata": {},
   "outputs": [],
   "source": [
    "with open(f'{DIR}/request.json','w') as file:\n",
    "    file.write(json.dumps({\"instances\": [newobs[0]]}))"
   ]
  },
  {
   "cell_type": "code",
   "execution_count": 88,
   "id": "a0d079e9",
   "metadata": {},
   "outputs": [
    {
     "name": "stdout",
     "output_type": "stream",
     "text": [
      "{\n",
      "  \"predictions\": [\n",
      "    {\n",
      "      \"Class_probs\": [\n",
      "        0.091286598087021942,\n",
      "        0.90871340191297811\n",
      "      ],\n",
      "      \"Class_values\": [\n",
      "        \"1\",\n",
      "        \"0\"\n",
      "      ],\n",
      "      \"predicted_Class\": [\n",
      "        \"0\"\n",
      "      ]\n",
      "    }\n",
      "  ],\n",
      "  \"deployedModelId\": \"6895982997783183360\",\n",
      "  \"model\": \"projects/1026793852137/locations/us-central1/models/model_03_fe\",\n",
      "  \"modelDisplayName\": \"model_03_fe\",\n",
      "  \"modelVersionId\": \"1\"\n",
      "}\n"
     ]
    }
   ],
   "source": [
    "!curl -X POST \\\n",
    "-H \"Authorization: Bearer \"$(gcloud auth application-default print-access-token) \\\n",
    "-H \"Content-Type: application/json; charset=utf-8\" \\\n",
    "-d @{DIR}/request.json \\\n",
    "https://{REGION}-aiplatform.googleapis.com/v1/{endpoint.resource_name}:predict"
   ]
  },
  {
   "cell_type": "markdown",
   "id": "7756f68c-fb26-4cd3-a980-867429d65e99",
   "metadata": {},
   "source": [
    "### Get Predictions: gcloud (CLI)"
   ]
  },
  {
   "cell_type": "code",
   "execution_count": 89,
   "id": "adfee93d",
   "metadata": {},
   "outputs": [
    {
     "name": "stdout",
     "output_type": "stream",
     "text": [
      "Using endpoint [https://us-central1-prediction-aiplatform.googleapis.com/]\n",
      "[{'Class_probs': [0.09128659808702194, 0.9087134019129781], 'Class_values': ['1', '0'], 'predicted_Class': ['0']}]\n"
     ]
    }
   ],
   "source": [
    "!gcloud beta ai endpoints predict {endpoint.name.rsplit('/',1)[-1]} --region={REGION} --json-request={DIR}/request.json"
   ]
  }
 ],
 "metadata": {
  "environment": {
   "kernel": "python3",
   "name": "tf2-gpu.2-3.m94",
   "type": "gcloud",
   "uri": "gcr.io/deeplearning-platform-release/tf2-gpu.2-3:m94"
  },
  "kernelspec": {
   "display_name": "Python 3",
   "language": "python",
   "name": "python3"
  },
  "language_info": {
   "codemirror_mode": {
    "name": "ipython",
    "version": 3
   },
   "file_extension": ".py",
   "mimetype": "text/x-python",
   "name": "python",
   "nbconvert_exporter": "python",
   "pygments_lexer": "ipython3",
   "version": "3.9.6"
  },
  "vscode": {
   "interpreter": {
    "hash": "31f2aee4e71d21fbe5cf8b01ff0e069b9275f58929596ceb00d14d90e3e16cd6"
   }
  }
 },
 "nbformat": 4,
 "nbformat_minor": 5
}
