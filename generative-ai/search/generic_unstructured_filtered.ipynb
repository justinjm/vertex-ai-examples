{
 "cells": [
  {
   "cell_type": "markdown",
   "id": "e065677e-1a1e-436d-8c23-7eb1b4722c9c",
   "metadata": {},
   "source": [
    "# Vertex AI Search - Generic Search Filter Demo"
   ]
  },
  {
   "cell_type": "markdown",
   "id": "57b53763-806e-4f64-a9dc-75e4caf29a8d",
   "metadata": {},
   "source": [
    "A demo of how to filter search results \n",
    "\n",
    "Following this official example here: https://github.com/GoogleCloudPlatform/generative-ai/blob/main/search/search_filters_metadata.ipynb\n",
    "\n",
    "\n",
    "Refs \n",
    "\n",
    "* https://cloud.google.com/generative-ai-app-builder/docs/filter-search-metadata\n"
   ]
  },
  {
   "cell_type": "markdown",
   "id": "6737ce8b-a3dc-473f-bf8c-749d30764db2",
   "metadata": {},
   "source": [
    "## Summary of steps\n",
    "\n",
    "\n",
    "* obtain sample data files (PDFs)\n",
    "* define users and access rules for sample data files\n",
    "* map rules to filter criteria for search \n",
    "* run filtered search query"
   ]
  },
  {
   "cell_type": "markdown",
   "id": "7d4058eb-32e6-4328-9f83-98da2f155770",
   "metadata": {
    "tags": []
   },
   "source": [
    "## Objective\n",
    "\n",
    "This notebook shows how to use [filters and metadata](https://cloud.google.com/generative-ai-app-builder/docs/filter-search-metadata) in search requests to [Vertex AI Search](https://cloud.google.com/generative-ai-app-builder/docs/introduction).\n",
    "\n",
    "This works with unstructrued apps that contain metadata. You can use metadata fields to restrict your search to a specific set of documents.\n",
    "\n",
    "Services used in the notebook:\n",
    "\n",
    "*   ✅ Vertex AI Search for document search and retrieval\n"
   ]
  },
  {
   "cell_type": "markdown",
   "id": "fd5e85e9-eaf6-405a-aa93-a4fc18b4365a",
   "metadata": {
    "tags": []
   },
   "source": [
    "## Installs \n"
   ]
  },
  {
   "cell_type": "code",
   "execution_count": null,
   "id": "fdd6a037-a7cb-485d-a96a-ff22e635898e",
   "metadata": {
    "tags": []
   },
   "outputs": [],
   "source": [
    "# tuples of (import name, install name, min_version)\n",
    "packages = [\n",
    "    ('google.cloud.aiplatform', 'google-cloud-aiplatform'),\n",
    "    ('google.cloud.storage', 'google-cloud-storage'),\n",
    "    ('google.cloud.discoveryengine','google-cloud-discoveryengine')\n",
    "]\n",
    "\n",
    "import importlib\n",
    "install = False\n",
    "for package in packages:\n",
    "    if not importlib.util.find_spec(package[0]):\n",
    "        print(f'installing package {package[1]}')\n",
    "        install = True\n",
    "        !pip install {package[1]} -U -q --user\n",
    "    elif len(package) == 3:\n",
    "        if importlib.metadata.version(package[0]) < package[2]:\n",
    "            print(f'updating package {package[1]}')\n",
    "            install = True\n",
    "            !pip install {package[1]} -U -q --user"
   ]
  },
  {
   "cell_type": "markdown",
   "id": "fa75f422-2137-4fcf-8868-deb47cf3a0fa",
   "metadata": {
    "tags": []
   },
   "source": [
    "### Restart Kernel (If Installs Occured)\n",
    "\n",
    "After a kernel restart the code submission can start with the next cell after this one.\n"
   ]
  },
  {
   "cell_type": "code",
   "execution_count": null,
   "id": "9b592bc5-a2f7-4732-a89c-c6158696889c",
   "metadata": {
    "tags": []
   },
   "outputs": [],
   "source": [
    "if install:\n",
    "    import IPython\n",
    "    app = IPython.Application.instance()\n",
    "    app.kernel.do_shutdown(True)"
   ]
  },
  {
   "cell_type": "markdown",
   "id": "4924620a-ce68-4bb0-9c8a-4f192f11060b",
   "metadata": {},
   "source": [
    "## Setup\n",
    "inputs:"
   ]
  },
  {
   "cell_type": "code",
   "execution_count": null,
   "id": "32431780-fcc4-4892-a992-32ff30410332",
   "metadata": {
    "tags": []
   },
   "outputs": [],
   "source": [
    "project = !gcloud config get-value project\n",
    "PROJECT_ID = project[0]\n",
    "print(PROJECT_ID)"
   ]
  },
  {
   "cell_type": "code",
   "execution_count": null,
   "id": "0760dfa1-8479-47a2-bdea-4b6952df010c",
   "metadata": {},
   "outputs": [],
   "source": [
    "from google.cloud import storage\n",
    "\n",
    "import json\n",
    "\n",
    "from google.cloud import discoveryengine_v1alpha as discoveryengine\n",
    "from google.api_core.client_options import ClientOptions"
   ]
  },
  {
   "cell_type": "code",
   "execution_count": null,
   "id": "570b470a-af94-4d37-8751-f8e2d9be7493",
   "metadata": {},
   "outputs": [],
   "source": [
    "# PROJECT_ID = '' # set above\n",
    "REGION = 'us-central1'\n",
    "EXPERIMENT = 'search-alphabet-investor-pdfs'\n",
    "SERIES = \"generative-ai\"\n",
    "\n",
    "LOCATION=\"global\""
   ]
  },
  {
   "cell_type": "code",
   "execution_count": null,
   "id": "9ba52e6a-03fd-44ee-a106-80eef93c09bb",
   "metadata": {},
   "outputs": [],
   "source": [
    "BUCKET = SERIES + EXPERIMENT \n",
    "BUCKET_URI = f\"gs://{BUCKET}\""
   ]
  },
  {
   "cell_type": "code",
   "execution_count": null,
   "id": "df68b265-ff15-48da-b963-bcd32322b92b",
   "metadata": {
    "tags": []
   },
   "outputs": [],
   "source": [
    "LOCATION = \"global\"  # Replace with your data store location\n",
    "# The datastore name can only contain lowercase letters, numbers, and hyphens\n",
    "# DATASTORE_NAME = EXPERIMENT\n",
    "DATASTORE_NAME = \"test-data-store\"\n",
    "DATASTORE_ID = f\"{DATASTORE_NAME}-id\""
   ]
  },
  {
   "cell_type": "markdown",
   "id": "070f653f-3f20-4cb1-b13e-c44fb64b312e",
   "metadata": {},
   "source": [
    "## Create GCS Bucket "
   ]
  },
  {
   "cell_type": "code",
   "execution_count": null,
   "id": "c0c95a83-27d8-40bc-96be-9ef1b5e37422",
   "metadata": {},
   "outputs": [],
   "source": [
    "gcs = storage.Client(project = PROJECT_ID)"
   ]
  },
  {
   "cell_type": "code",
   "execution_count": null,
   "id": "e0c0812c-f690-4c29-b61a-d68b04a3da07",
   "metadata": {},
   "outputs": [],
   "source": [
    "if not gcs.lookup_bucket(BUCKET):\n",
    "    print(\"Bucket does not exist, creating it now...\")\n",
    "    bucketDef = gcs.bucket(BUCKET)\n",
    "    bucket = gcs.create_bucket(bucketDef, project=PROJECT_ID, location=REGION)\n",
    "    print(bucket)\n",
    "else:\n",
    "    print(\"Bucket already exists:\")\n",
    "    print(gcs.lookup_bucket(BUCKET))"
   ]
  },
  {
   "cell_type": "markdown",
   "id": "ee22a5c2-70e9-459d-bd39-8a9b213de8a5",
   "metadata": {
    "tags": []
   },
   "source": [
    "## Ingest sample data"
   ]
  },
  {
   "cell_type": "code",
   "execution_count": null,
   "id": "a98c561f-9aae-4687-b3a8-226fd03f799c",
   "metadata": {},
   "outputs": [],
   "source": [
    "# ! gsutil -m cp gs://cloud-samples-data/gen-app-builder/search/alphabet-investor-pdfs/* $BUCKET_URI # TODO - all pdfs \n",
    "! gsutil cp gs://cloud-samples-data/gen-app-builder/search/alphabet-investor-pdfs/20040630_google_10Q.pdf $BUCKET_URI\n",
    "! gsutil cp gs://cloud-samples-data/gen-app-builder/search/alphabet-investor-pdfs/20040930_google_10Q.pdf $BUCKET_URI"
   ]
  },
  {
   "cell_type": "markdown",
   "id": "ebbd1754-849f-4ee2-9fc2-f6a5704fac9c",
   "metadata": {},
   "source": [
    "## Create metadata file\n"
   ]
  },
  {
   "cell_type": "code",
   "execution_count": null,
   "id": "db564a73-96d6-4f22-aea5-a3acd2e0d5ab",
   "metadata": {},
   "outputs": [],
   "source": [
    "# TODO - update to be correct sample\n",
    "# metadata = [\n",
    "#     {\n",
    "#    \"id\": \"\",\n",
    "#    \"jsonData\": \"\",\n",
    "#    \"content\": {\n",
    "#      \"mimeType\": \"<application/pdf>\",\n",
    "#      \"uri\": \"gs://generative-aisearch-alphabet-investor-pdfs/20040630_google_10Q.pdf\"\n",
    "#    },\n",
    "#    \"acl_info\": {\n",
    "#      \"readers\": [\n",
    "#        {\n",
    "#          \"principals\": [\n",
    "#            { \"user_id\": \"bruce@justinjm.altostrat.com\"}\n",
    "#          ]\n",
    "#        }\n",
    "#      ]\n",
    "#    }\n",
    "#     },\n",
    "#      {\n",
    "#    \"id\": \"\",\n",
    "#    \"jsonData\": \"\",\n",
    "#    \"content\": {\n",
    "#      \"mimeType\": \"<application/pdf>\",\n",
    "#      \"uri\": \"gs://generative-aisearch-alphabet-investor-pdfs/20040930_google_10Q.pdf\"\n",
    "#    },\n",
    "#    \"acl_info\": {\n",
    "#      \"readers\": [\n",
    "#        {\n",
    "#          \"principals\": [\n",
    "#            { \"user_id\": \"admin@justinjm.altostrat.com\"},\n",
    "#          ]\n",
    "#        }\n",
    "#      ]\n",
    "#    }\n",
    "#  }\n",
    "    \n",
    "    \n",
    "# ]\n",
    "   \n"
   ]
  },
  {
   "cell_type": "markdown",
   "id": "daf5a9da-7932-4209-8bd6-a00dc4d506ee",
   "metadata": {
    "tags": []
   },
   "source": [
    "### Write metadata  to a local file"
   ]
  },
  {
   "cell_type": "code",
   "execution_count": null,
   "id": "698e9de3-6fe9-45a8-9a4a-0f9ba972f612",
   "metadata": {},
   "outputs": [],
   "source": [
    "# metadata_filename = \"metadata.jsonl\"\n",
    "\n",
    "# # Write to a .jsonl file\n",
    "# with open(metadata_filename,  'w') as file:\n",
    "#     for item in metadata:\n",
    "#         json_string = json.dumps(item)\n",
    "#         file.write(json_string + '\\n')"
   ]
  },
  {
   "cell_type": "markdown",
   "id": "a1b65eb7-decd-42f4-9fa7-0decfc3255d3",
   "metadata": {},
   "source": [
    "### Upload metadata to cloud storage"
   ]
  },
  {
   "cell_type": "code",
   "execution_count": null,
   "id": "19d3e4e7-bc98-448a-8cd6-3bbf56ecb939",
   "metadata": {},
   "outputs": [],
   "source": [
    "# ! gsutil -m cp $metadata_filename $BUCKET_URI/$metadata_filename"
   ]
  },
  {
   "cell_type": "markdown",
   "id": "3c3e2070-d6fd-4c7d-8de0-79ec4042477c",
   "metadata": {},
   "source": [
    "## Create Datastore"
   ]
  },
  {
   "cell_type": "code",
   "execution_count": null,
   "id": "e5626966-8529-4e66-88ca-8fb5c647515f",
   "metadata": {},
   "outputs": [],
   "source": [
    "def create_data_store(\n",
    "    project_id: str, location: str, data_store_name: str, data_store_id: str\n",
    "):\n",
    "    # Create a client\n",
    "    client_options = (\n",
    "        ClientOptions(api_endpoint=f\"{location}-discoveryengine.googleapis.com\")\n",
    "        if location != \"global\"\n",
    "        else None\n",
    "    )\n",
    "    client = discoveryengine.DataStoreServiceClient(client_options=client_options)\n",
    "\n",
    "    # Initialize request argument(s)\n",
    "    data_store = discoveryengine.DataStore(\n",
    "        display_name=data_store_name,\n",
    "        industry_vertical=\"GENERIC\",\n",
    "        content_config=\"CONTENT_REQUIRED\"\n",
    "    )\n",
    "\n",
    "    request = discoveryengine.CreateDataStoreRequest(\n",
    "        parent=discoveryengine.DataStoreServiceClient.collection_path(\n",
    "            project_id, location, \"default_collection\"\n",
    "        ),\n",
    "        data_store=data_store,\n",
    "        data_store_id=data_store_id,\n",
    "    )\n",
    "    operation = client.create_data_store(request=request)\n",
    "\n",
    "    # Make the request\n",
    "    # The try block is necessary to prevent execution from haulting due to an error being thrown when the datastore takes a while to instantiate\n",
    "    try:\n",
    "        response = operation.result(timeout=90)\n",
    "    except:\n",
    "        print(\"long-running operation\")"
   ]
  },
  {
   "cell_type": "code",
   "execution_count": null,
   "id": "e3ecc7f1-df7a-4cd5-b59f-26d9e020dcb7",
   "metadata": {},
   "outputs": [],
   "source": [
    "create_data_store(PROJECT_ID, LOCATION, DATASTORE_NAME, DATASTORE_ID)"
   ]
  },
  {
   "cell_type": "markdown",
   "id": "33a1faad-0273-4075-b5d9-b1b37f6de73f",
   "metadata": {},
   "source": [
    "## Import documents to datastore"
   ]
  },
  {
   "cell_type": "code",
   "execution_count": null,
   "id": "1fc5bfbf-b595-4daf-91a9-c4eadfdc6b1b",
   "metadata": {},
   "outputs": [],
   "source": [
    "# def import_documents(\n",
    "#     project_id: str,\n",
    "#     location: str,\n",
    "#     data_store_id: str,\n",
    "#     gcs_uri: str,\n",
    "# ):\n",
    "#     # Create a client\n",
    "#     client_options = (\n",
    "#         ClientOptions(api_endpoint=f\"{location}-discoveryengine.googleapis.com\")\n",
    "#         if location != \"global\"\n",
    "#         else None\n",
    "#     )\n",
    "#     client = discoveryengine.DocumentServiceClient(client_options=client_options)\n",
    "\n",
    "#     # The full resource name of the search engine branch.\n",
    "#     # e.g. projects/{project}/locations/{location}/dataStores/{data_store_id}/branches/{branch}\n",
    "#     parent = client.branch_path(\n",
    "#         project=project_id,\n",
    "#         location=location,\n",
    "#         data_store=data_store_id,\n",
    "#         branch=\"default_branch\",\n",
    "#     )\n",
    "\n",
    "#     source_documents = [f\"{gcs_uri}/*\"]\n",
    "\n",
    "#     request = discoveryengine.ImportDocumentsRequest(\n",
    "#         parent=parent,\n",
    "#         gcs_source=discoveryengine.GcsSource(\n",
    "#             input_uris=source_documents, data_schema=\"content\"\n",
    "#         ),\n",
    "#         # Options: `FULL`, `INCREMENTAL`\n",
    "#         reconciliation_mode=discoveryengine.ImportDocumentsRequest.ReconciliationMode.INCREMENTAL,\n",
    "#     )\n",
    "\n",
    "#     # Make the request\n",
    "#     operation = client.import_documents(request=request)\n",
    "\n",
    "#     response = operation.result()\n",
    "\n",
    "#     # Once the operation is complete,\n",
    "#     # get information from operation metadata\n",
    "#     metadata = discoveryengine.ImportDocumentsMetadata(operation.metadata)\n",
    "\n",
    "#     # Handle the response\n",
    "#     return operation.operation.name"
   ]
  },
  {
   "cell_type": "code",
   "execution_count": null,
   "id": "d1b807a8-02b1-4a19-a2fa-fe8f28c7a624",
   "metadata": {},
   "outputs": [],
   "source": [
    "# import_documents(PROJECT_ID, LOCATION, DATASTORE_ID, BUCKET_URI)"
   ]
  },
  {
   "cell_type": "markdown",
   "id": "89fddc63-d0b0-4963-841b-211b044c04b7",
   "metadata": {},
   "source": [
    "## query documents"
   ]
  },
  {
   "cell_type": "markdown",
   "id": "5742f272-1908-4937-a1be-c475d87253de",
   "metadata": {
    "tags": []
   },
   "source": [
    "### Helper function"
   ]
  },
  {
   "cell_type": "code",
   "execution_count": null,
   "id": "af126eb9-9f49-4efd-ab54-1d0a75d0c488",
   "metadata": {
    "tags": []
   },
   "outputs": [],
   "source": [
    "# def search_data_store(\n",
    "#     project_id: str,\n",
    "#     location: str,\n",
    "#     data_store_id: str,\n",
    "#     search_query: str,\n",
    "#     filter_str: str,\n",
    "# ) -> discoveryengine.SearchResponse:\n",
    "#     #  For more information, refer to:\n",
    "#     # https://cloud.google.com/generative-ai-app-builder/docs/locations#specify_a_multi-region_for_your_data_store\n",
    "#     client_options = (\n",
    "#         ClientOptions(api_endpoint=f\"{location}-discoveryengine.googleapis.com\")\n",
    "#         if location != \"global\"\n",
    "#         else None\n",
    "#     )\n",
    "\n",
    "#     # Create a client\n",
    "#     client = discoveryengine.SearchServiceClient(client_options=client_options)\n",
    "\n",
    "#     # The full resource name of the search engine serving config\n",
    "#     # e.g. projects/{project_id}/locations/{location}/dataStores/{data_store_id}/servingConfigs/{serving_config_id}\n",
    "#     serving_config = client.serving_config_path(\n",
    "#         project=project_id,\n",
    "#         location=location,\n",
    "#         data_store=data_store_id,\n",
    "#         serving_config=\"default_config\",\n",
    "#     )\n",
    "\n",
    "#     # Optional: Configuration options for search\n",
    "#     # Refer to the `ContentSearchSpec` reference for all supported fields:\n",
    "#     # https://cloud.google.com/python/docs/reference/discoveryengine/latest/google.cloud.discoveryengine_v1.types.SearchRequest.ContentSearchSpec\n",
    "#     content_search_spec = discoveryengine.SearchRequest.ContentSearchSpec(\n",
    "#         # For information about snippets, refer to:\n",
    "#         # https://cloud.google.com/generative-ai-app-builder/docs/snippets\n",
    "#         snippet_spec=discoveryengine.SearchRequest.ContentSearchSpec.SnippetSpec(\n",
    "#             return_snippet=True\n",
    "#         ),\n",
    "#         extractive_content_spec=discoveryengine.SearchRequest.ContentSearchSpec.ExtractiveContentSpec(\n",
    "#             max_extractive_answer_count=5,\n",
    "#             max_extractive_segment_count=1,\n",
    "#         ),\n",
    "#         # For information about search summaries, refer to:\n",
    "#         # https://cloud.google.com/generative-ai-app-builder/docs/get-search-summaries\n",
    "#         summary_spec=discoveryengine.SearchRequest.ContentSearchSpec.SummarySpec(\n",
    "#             summary_result_count=5,\n",
    "#             include_citations=True,\n",
    "#             ignore_adversarial_query=False,\n",
    "#             ignore_non_summary_seeking_query=False,\n",
    "#         ),\n",
    "#     )\n",
    "\n",
    "#     # Refer to the `SearchRequest` reference for all supported fields:\n",
    "#     # https://cloud.google.com/python/docs/reference/discoveryengine/latest/google.cloud.discoveryengine_v1.types.SearchRequest\n",
    "#     request = discoveryengine.SearchRequest(\n",
    "#         serving_config=serving_config,\n",
    "#         query=search_query,\n",
    "#         filter=filter_str,\n",
    "#         page_size=5,\n",
    "#         content_search_spec=content_search_spec,\n",
    "#         query_expansion_spec=discoveryengine.SearchRequest.QueryExpansionSpec(\n",
    "#             condition=discoveryengine.SearchRequest.QueryExpansionSpec.Condition.AUTO,\n",
    "#         ),\n",
    "#         spell_correction_spec=discoveryengine.SearchRequest.SpellCorrectionSpec(\n",
    "#             mode=discoveryengine.SearchRequest.SpellCorrectionSpec.Mode.AUTO\n",
    "#         ),\n",
    "#     )\n",
    "\n",
    "#     response = client.search(request)\n",
    "#     return response"
   ]
  },
  {
   "cell_type": "markdown",
   "id": "c1458786-8163-4c15-8c28-d3a1ce67bc84",
   "metadata": {},
   "source": [
    "### Example 1 - simple"
   ]
  },
  {
   "cell_type": "code",
   "execution_count": null,
   "id": "e041a51f-f8b2-4d8e-84a7-4cbd41ef1980",
   "metadata": {
    "tags": []
   },
   "outputs": [],
   "source": [
    "# search_query = \"how to process a claim\"\n",
    "# filter_str = 'name: ANY(\"Document1\")'\n",
    "\n",
    "# results = search_data_store(\n",
    "#     PROJECT_ID, LOCATION, DATA_STORE_ID, search_query, filter_str\n",
    "# )\n",
    "\n",
    "# print(f\"\\nQuestion: '{search_query}'\\n\\n\")\n",
    "# print(\"Summary\" + \"-\" * 40)\n",
    "# print(results.summary.summary_text)\n",
    "\n",
    "# print(\"Raw Results\" + \"-\" * 40)\n",
    "# print(results)"
   ]
  },
  {
   "cell_type": "markdown",
   "id": "647eccdf-185f-45d1-bcba-013b0885fa41",
   "metadata": {},
   "source": [
    "### Example 2 - more complex"
   ]
  },
  {
   "cell_type": "code",
   "execution_count": null,
   "id": "fdf49428-d3c1-4190-993d-f0f8575d9c76",
   "metadata": {},
   "outputs": [],
   "source": [
    "# search_query = \"how to process a claim\"\n",
    "# filter_str = 'name: ANY(\"Document1\") AND category: ANY(\"PersonaA\")'\n",
    "\n",
    "# results = search_data_store(\n",
    "#     PROJECT_ID, LOCATION, DATA_STORE_ID, search_query, filter_str\n",
    "# )\n",
    "\n",
    "# print(f\"\\nQuestion: '{search_query}'\\n\\n\")\n",
    "# print(\"Summary\" + \"-\" * 40)\n",
    "# print(results.summary.summary_text)\n",
    "\n",
    "# print(\"Raw Results\" + \"-\" * 40)\n",
    "# print(results)"
   ]
  },
  {
   "cell_type": "code",
   "execution_count": null,
   "id": "a7f58c92-7511-4770-85fc-de66c2af82fd",
   "metadata": {},
   "outputs": [],
   "source": [
    "## Inp"
   ]
  },
  {
   "cell_type": "code",
   "execution_count": null,
   "id": "3525d571-9f5e-4369-9f4b-f02bfb4e8b96",
   "metadata": {},
   "outputs": [],
   "source": []
  },
  {
   "cell_type": "code",
   "execution_count": null,
   "id": "1c753c89-1b4a-4da7-b723-c711ae15d31f",
   "metadata": {
    "tags": []
   },
   "outputs": [],
   "source": [
    "from google.api_core.client_options import ClientOptions\n",
    "from google.cloud import discoveryengine_v1beta as discoveryengine\n",
    "\n",
    "\n",
    "def search_data_store(\n",
    "    project_id: str,\n",
    "    location: str,\n",
    "    data_store_id: str,\n",
    "    search_query: str,\n",
    "    filter_str: str,\n",
    ") -> discoveryengine.SearchResponse:\n",
    "    #  For more information, refer to:\n",
    "    # https://cloud.google.com/generative-ai-app-builder/docs/locations#specify_a_multi-region_for_your_data_store\n",
    "    client_options = (\n",
    "        ClientOptions(api_endpoint=f\"{location}-discoveryengine.googleapis.com\")\n",
    "        if location != \"global\"\n",
    "        else None\n",
    "    )\n",
    "\n",
    "    # Create a client\n",
    "    client = discoveryengine.SearchServiceClient(client_options=client_options)\n",
    "\n",
    "    # The full resource name of the search engine serving config\n",
    "    # e.g. projects/{project_id}/locations/{location}/dataStores/{data_store_id}/servingConfigs/{serving_config_id}\n",
    "    serving_config = client.serving_config_path(\n",
    "        project=project_id,\n",
    "        location=location,\n",
    "        data_store=data_store_id,\n",
    "        serving_config=\"default_config\",\n",
    "    )\n",
    "\n",
    "    # Optional: Configuration options for search\n",
    "    # Refer to the `ContentSearchSpec` reference for all supported fields:\n",
    "    # https://cloud.google.com/python/docs/reference/discoveryengine/latest/google.cloud.discoveryengine_v1.types.SearchRequest.ContentSearchSpec\n",
    "    content_search_spec = discoveryengine.SearchRequest.ContentSearchSpec(\n",
    "        # For information about snippets, refer to:\n",
    "        # https://cloud.google.com/generative-ai-app-builder/docs/snippets\n",
    "        snippet_spec=discoveryengine.SearchRequest.ContentSearchSpec.SnippetSpec(\n",
    "            return_snippet=True\n",
    "        ),\n",
    "        extractive_content_spec=discoveryengine.SearchRequest.ContentSearchSpec.ExtractiveContentSpec(\n",
    "            max_extractive_answer_count=5,\n",
    "            max_extractive_segment_count=1,\n",
    "        ),\n",
    "        # For information about search summaries, refer to:\n",
    "        # https://cloud.google.com/generative-ai-app-builder/docs/get-search-summaries\n",
    "        summary_spec=discoveryengine.SearchRequest.ContentSearchSpec.SummarySpec(\n",
    "            summary_result_count=5,\n",
    "            include_citations=True,\n",
    "            ignore_adversarial_query=False,\n",
    "            ignore_non_summary_seeking_query=False,\n",
    "        ),\n",
    "    )\n",
    "\n",
    "    # Refer to the `SearchRequest` reference for all supported fields:\n",
    "    # https://cloud.google.com/python/docs/reference/discoveryengine/latest/google.cloud.discoveryengine_v1.types.SearchRequest\n",
    "    request = discoveryengine.SearchRequest(\n",
    "        serving_config=serving_config,\n",
    "        query=search_query,\n",
    "        filter=filter_str,\n",
    "        page_size=5,\n",
    "        content_search_spec=content_search_spec,\n",
    "        query_expansion_spec=discoveryengine.SearchRequest.QueryExpansionSpec(\n",
    "            condition=discoveryengine.SearchRequest.QueryExpansionSpec.Condition.AUTO,\n",
    "        ),\n",
    "        spell_correction_spec=discoveryengine.SearchRequest.SpellCorrectionSpec(\n",
    "            mode=discoveryengine.SearchRequest.SpellCorrectionSpec.Mode.AUTO\n",
    "        ),\n",
    "    )\n",
    "\n",
    "    response = client.search(request)\n",
    "    return response"
   ]
  }
 ],
 "metadata": {
  "environment": {
   "kernel": "python3",
   "name": "tf2-cpu.2-11.m119",
   "type": "gcloud",
   "uri": "us-docker.pkg.dev/deeplearning-platform-release/gcr.io/tf2-cpu.2-11:m119"
  },
  "kernelspec": {
   "display_name": "Python 3",
   "language": "python",
   "name": "python3"
  },
  "language_info": {
   "codemirror_mode": {
    "name": "ipython",
    "version": 3
   },
   "file_extension": ".py",
   "mimetype": "text/x-python",
   "name": "python",
   "nbconvert_exporter": "python",
   "pygments_lexer": "ipython3",
   "version": "3.10.14"
  }
 },
 "nbformat": 4,
 "nbformat_minor": 5
}
