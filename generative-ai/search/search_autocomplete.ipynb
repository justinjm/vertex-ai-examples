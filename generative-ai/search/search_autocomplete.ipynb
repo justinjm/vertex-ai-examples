{
 "cells": [
  {
   "cell_type": "markdown",
   "id": "4d01c380-4fc3-4bb3-88db-b33c6e7c13aa",
   "metadata": {},
   "source": [
    "# Vertex AI Search - Autocomplete\n",
    "\n"
   ]
  },
  {
   "cell_type": "markdown",
   "id": "6f723ff5-e7be-4170-a4cf-bae042197d8b",
   "metadata": {},
   "source": [
    "## Refs\n",
    "\n",
    "* [Use text models and the Vertex AI SDK  |  Generative AI on Vertex AI  |  Google Cloud](https://cloud.google.com/vertex-ai/generative-ai/docs/sdk-for-llm/sdk-use-text-models)\n",
    "* [Introduction to language model classes in the Vertex AI SDK  |  Generative AI on Vertex AI  |  Google Cloud](https://cloud.google.com/vertex-ai/generative-ai/docs/sdk-for-llm/llm-sdk-overview)\n",
    "\n",
    "\n",
    "* [Discovery Engine v1beta API - Class SearchRequest (1.0.0-beta09)  |  .NET client library  |  Google Cloud](https://cloud.google.com/dotnet/docs/reference/Google.Cloud.DiscoveryEngine.V1Beta/latest/Google.Cloud.DiscoveryEngine.V1Beta.SearchRequest)\n",
    "* [Package google.cloud.discoveryengine.v1alpha  |  Vertex AI Search and Conversation  |  Google Cloud](https://cloud.google.com/generative-ai-app-builder/docs/reference/rpc/google.cloud.discoveryengine.v1alpha#searchrequest)\n",
    "\n",
    "* [SearchResponse  |  Vertex AI Search and Conversation  |  Google Cloud](https://cloud.google.com/generative-ai-app-builder/docs/reference/rest/v1alpha/SearchResponse)\n",
    "\n",
    "\n",
    "\n",
    "* [Model versions and lifecycle  |  Generative AI on Vertex AI  |  Google Cloud](https://cloud.google.com/vertex-ai/generative-ai/docs/learn/model-versioning)"
   ]
  },
  {
   "cell_type": "code",
   "execution_count": null,
   "id": "791a1fc1-3c19-4600-9458-1b13223330a5",
   "metadata": {},
   "outputs": [],
   "source": []
  }
 ],
 "metadata": {
  "environment": {
   "kernel": "conda-root-py",
   "name": "workbench-notebooks.m119",
   "type": "gcloud",
   "uri": "us-docker.pkg.dev/deeplearning-platform-release/gcr.io/workbench-notebooks:m119"
  },
  "kernelspec": {
   "display_name": "Python 3 (ipykernel) (Local)",
   "language": "python",
   "name": "conda-root-py"
  },
  "language_info": {
   "codemirror_mode": {
    "name": "ipython",
    "version": 3
   },
   "file_extension": ".py",
   "mimetype": "text/x-python",
   "name": "python",
   "nbconvert_exporter": "python",
   "pygments_lexer": "ipython3",
   "version": "3.10.14"
  }
 },
 "nbformat": 4,
 "nbformat_minor": 5
}
