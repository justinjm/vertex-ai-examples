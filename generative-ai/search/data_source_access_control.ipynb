{
 "cells": [
  {
   "cell_type": "markdown",
   "id": "ecb2bdeb-0e10-47dd-8d3e-ef19cd7626fa",
   "metadata": {},
   "source": [
    "## Vertex AI Search > Data Source Access Control\n",
    "\n"
   ]
  },
  {
   "cell_type": "markdown",
   "id": "0320e505-1e8d-46a6-9914-c07d18a4b497",
   "metadata": {},
   "source": [
    "Refs:\n",
    "\n",
    "* https://github.com/GoogleCloudPlatform/generative-ai/blob/main/search/create_datastore_and_search.ipynb \n",
    "* https://cloud.google.com/generative-ai-app-builder/docs/data-source-access-control#acl-storage-unstructured\n",
    "\n"
   ]
  },
  {
   "cell_type": "markdown",
   "id": "8427b3fa-4e19-4053-801b-db27dabd983f",
   "metadata": {
    "tags": []
   },
   "source": [
    "## Pre-requisites \n",
    "\n",
    "TODO"
   ]
  },
  {
   "cell_type": "markdown",
   "id": "4e4cbc1f-fe62-480e-91cb-5ba848e52984",
   "metadata": {
    "jp-MarkdownHeadingCollapsed": true,
    "tags": []
   },
   "source": [
    "* * *\n",
    "\n",
    "## Colab Setup\n",
    "\n",
    "To run this notebook in Colab click [![Open In Colab]() and run the cells in this section. Otherwise, skip this section.\n",
    "\n",
    "This cell will authenticate to GCP (follow prompts in the popup)."
   ]
  },
  {
   "cell_type": "markdown",
   "id": "7e0cf9d1-004e-4404-9184-6f5fdfa851af",
   "metadata": {
    "tags": []
   },
   "source": [
    "## Installs \n"
   ]
  },
  {
   "cell_type": "code",
   "execution_count": 1,
   "id": "c0c53500-a793-4cf0-9442-6c0bdf101ed7",
   "metadata": {
    "tags": []
   },
   "outputs": [
    {
     "name": "stdout",
     "output_type": "stream",
     "text": [
      "installing package google-cloud-discoveryengine\n"
     ]
    }
   ],
   "source": [
    "# tuples of (import name, install name, min_version)\n",
    "packages = [\n",
    "    ('google.cloud.aiplatform', 'google-cloud-aiplatform'),\n",
    "    ('google.cloud.storage', 'google-cloud-storage'),\n",
    "    ('google.cloud.discoveryengine','google-cloud-discoveryengine')\n",
    "]\n",
    "\n",
    "import importlib\n",
    "install = False\n",
    "for package in packages:\n",
    "    if not importlib.util.find_spec(package[0]):\n",
    "        print(f'installing package {package[1]}')\n",
    "        install = True\n",
    "        !pip install {package[1]} -U -q --user\n",
    "    elif len(package) == 3:\n",
    "        if importlib.metadata.version(package[0]) < package[2]:\n",
    "            print(f'updating package {package[1]}')\n",
    "            install = True\n",
    "            !pip install {package[1]} -U -q --user"
   ]
  },
  {
   "cell_type": "markdown",
   "id": "3de38a32-52c7-49a1-9ca0-e9894538a416",
   "metadata": {
    "tags": []
   },
   "source": [
    "### Restart Kernel (If Installs Occured)\n",
    "\n",
    "After a kernel restart the code submission can start with the next cell after this one.\n"
   ]
  },
  {
   "cell_type": "code",
   "execution_count": 2,
   "id": "3f509adf-a7e2-4a89-bf2e-5190f78a7278",
   "metadata": {
    "tags": []
   },
   "outputs": [],
   "source": [
    "if install:\n",
    "    import IPython\n",
    "    app = IPython.Application.instance()\n",
    "    app.kernel.do_shutdown(True)"
   ]
  },
  {
   "cell_type": "markdown",
   "id": "b47ce6ee-3f4c-4ecb-8c57-12ddb407466d",
   "metadata": {},
   "source": [
    "## Setup\n",
    "inputs:"
   ]
  },
  {
   "cell_type": "code",
   "execution_count": 1,
   "id": "257280c8-cb0f-4460-905f-aeb46fe96007",
   "metadata": {
    "tags": []
   },
   "outputs": [
    {
     "name": "stdout",
     "output_type": "stream",
     "text": [
      "demos-vertex-ai\n"
     ]
    }
   ],
   "source": [
    "project = !gcloud config get-value project\n",
    "PROJECT_ID = project[0]\n",
    "print(PROJECT_ID)"
   ]
  },
  {
   "cell_type": "code",
   "execution_count": 2,
   "id": "d4c10413-0055-4400-9b5b-c61d7af4ebd1",
   "metadata": {
    "tags": []
   },
   "outputs": [],
   "source": [
    "from google.cloud import storage\n",
    "\n",
    "import json\n",
    "\n",
    "from google.cloud import discoveryengine_v1alpha as discoveryengine\n",
    "from google.api_core.client_options import ClientOptions\n"
   ]
  },
  {
   "cell_type": "markdown",
   "id": "3ef3c8c2-b985-4f22-8503-e1056ad2361f",
   "metadata": {},
   "source": [
    "### parameters:"
   ]
  },
  {
   "cell_type": "code",
   "execution_count": 3,
   "id": "feb1280a-08c9-4ecd-9d51-65e6aca0f0b6",
   "metadata": {
    "tags": []
   },
   "outputs": [],
   "source": [
    "# PROJECT_ID = '' # set above\n",
    "REGION = 'us-central1'\n",
    "EXPERIMENT = 'search-alphabet-investor-pdfs'\n",
    "SERIES = \"generative-ai\"\n",
    "\n",
    "LOCATION=\"global\""
   ]
  },
  {
   "cell_type": "code",
   "execution_count": 4,
   "id": "d45e8d7c-a359-4b5d-9c80-a3de870bbde0",
   "metadata": {
    "tags": []
   },
   "outputs": [],
   "source": [
    "BUCKET = SERIES + EXPERIMENT \n",
    "BUCKET_URI = f\"gs://{BUCKET}\""
   ]
  },
  {
   "cell_type": "markdown",
   "id": "46ae62a6-0924-4db1-81e3-bd6dd24307fa",
   "metadata": {
    "tags": []
   },
   "source": [
    "### Clinets"
   ]
  },
  {
   "cell_type": "code",
   "execution_count": 5,
   "id": "2f496f08-787c-42af-83a2-1ba34da6e54d",
   "metadata": {
    "tags": []
   },
   "outputs": [],
   "source": [
    "gcs = storage.Client(project = PROJECT_ID)"
   ]
  },
  {
   "cell_type": "markdown",
   "id": "de24d099-e583-4585-bc77-3007d7e83128",
   "metadata": {
    "tags": []
   },
   "source": [
    "### Create Storage Bucket"
   ]
  },
  {
   "cell_type": "code",
   "execution_count": 6,
   "id": "b4ee8abb-b1f2-45d3-ab2d-cd97423ffedf",
   "metadata": {
    "tags": []
   },
   "outputs": [
    {
     "name": "stdout",
     "output_type": "stream",
     "text": [
      "Bucket already exists:\n",
      "<Bucket: generative-aisearch-alphabet-investor-pdfs>\n"
     ]
    }
   ],
   "source": [
    "if not gcs.lookup_bucket(BUCKET):\n",
    "    print(\"Bucket does not exist, creating it now...\")\n",
    "    bucketDef = gcs.bucket(BUCKET)\n",
    "    bucket = gcs.create_bucket(bucketDef, project=PROJECT_ID, location=REGION)\n",
    "    print(bucket)\n",
    "else:\n",
    "    print(\"Bucket already exists:\")\n",
    "    print(gcs.lookup_bucket(BUCKET))"
   ]
  },
  {
   "cell_type": "markdown",
   "id": "a6a0a2cf-7c4a-48d9-a8ea-e5104b05cb9c",
   "metadata": {},
   "source": [
    "## ingest data into GCS\n",
    "\n"
   ]
  },
  {
   "cell_type": "markdown",
   "id": "b022c232-fd46-44e5-9ca3-ef4ead095f93",
   "metadata": {
    "tags": []
   },
   "source": [
    "### Upload  PDFs from public folder \n",
    "\n",
    "Copy PDFs from public gcs folder to the one we created. We'll use `gs://cloud-samples-data/gen-app-builder/search/alphabet-investor-pdfs` for demonsttration purposes."
   ]
  },
  {
   "cell_type": "code",
   "execution_count": 7,
   "id": "57f4b80c-392e-40e6-a09e-648851810fd5",
   "metadata": {
    "scrolled": true,
    "tags": []
   },
   "outputs": [
    {
     "name": "stdout",
     "output_type": "stream",
     "text": [
      "Copying gs://cloud-samples-data/gen-app-builder/search/alphabet-investor-pdfs/20040630_google_10Q.pdf [Content-Type=application/pdf]...\n",
      "/ [1 files][265.6 KiB/265.6 KiB]                                                \n",
      "Operation completed over 1 objects/265.6 KiB.                                    \n",
      "Copying gs://cloud-samples-data/gen-app-builder/search/alphabet-investor-pdfs/20040930_google_10Q.pdf [Content-Type=application/pdf]...\n",
      "/ [1 files][962.2 KiB/962.2 KiB]                                                \n",
      "Operation completed over 1 objects/962.2 KiB.                                    \n"
     ]
    }
   ],
   "source": [
    "# ! gsutil -m cp gs://cloud-samples-data/gen-app-builder/search/alphabet-investor-pdfs/* $BUCKET_URI # TODO - all pdfs \n",
    "! gsutil cp gs://cloud-samples-data/gen-app-builder/search/alphabet-investor-pdfs/20040630_google_10Q.pdf $BUCKET_URI\n",
    "! gsutil cp gs://cloud-samples-data/gen-app-builder/search/alphabet-investor-pdfs/20040930_google_10Q.pdf $BUCKET_URI"
   ]
  },
  {
   "cell_type": "markdown",
   "id": "7eb72d4f-d886-452b-8b28-ab0c5759943f",
   "metadata": {
    "tags": []
   },
   "source": [
    "### metadata \n",
    "\n",
    "To set ACLs  for Vertex Search, we include the permissions in the metadata. \n",
    "\n",
    "The following is an example of a single record to show the format\n",
    "\n",
    "```json\n",
    "metadata = {\n",
    "   \"id\": \"\",\n",
    "   \"jsonData\": \"\",\n",
    "   \"content\": {\n",
    "     \"mimeType\": \"<application/pdf>\",\n",
    "     \"uri\": \"gs://generative-aisearch-alphabet-investor-pdfs/20040630_google_10Q.pdf\"\n",
    "   },\n",
    "   \"acl_info\": {\n",
    "     \"readers\": [\n",
    "       {\n",
    "         \"principals\": [\n",
    "           { \"group_id\": \"group_1\" },\n",
    "           { \"user_id\": \"user_1\" }\n",
    "         ]\n",
    "       }\n",
    "     ]\n",
    "   }\n",
    " }\n",
    "```\n",
    "https://cloud.google.com/generative-ai-app-builder/docs/data-source-access-control#acl-storage-unstructured"
   ]
  },
  {
   "cell_type": "markdown",
   "id": "96249296-53ae-404c-b894-20bf1d837c50",
   "metadata": {},
   "source": [
    "#### Create JSON metadata file \n",
    "\n",
    "Create JSON file of metadata for setting acl rules. \n",
    "\n",
    "To start, we simply specify ACLs for a single file.\n",
    "\n",
    "https://cloud.google.com/generative-ai-app-builder/docs/data-source-access-control#acl-storage-unstructured"
   ]
  },
  {
   "cell_type": "code",
   "execution_count": 8,
   "id": "14e52d04-38b1-4432-a713-35c96261148c",
   "metadata": {
    "tags": []
   },
   "outputs": [],
   "source": [
    "# TODO - fix format and filename to be correct\n",
    "metadata_filename = \"metadata.jsonl\"\n",
    "\n",
    "metadata = [\n",
    "    {\n",
    "   \"id\": \"\",\n",
    "   \"jsonData\": \"\",\n",
    "   \"content\": {\n",
    "     \"mimeType\": \"<application/pdf>\",\n",
    "     \"uri\": \"gs://generative-aisearch-alphabet-investor-pdfs/20040630_google_10Q.pdf\"\n",
    "   },\n",
    "   \"acl_info\": {\n",
    "     \"readers\": [\n",
    "       {\n",
    "         \"principals\": [\n",
    "           { \"user_id\": \"bruce@justinjm.altostrat.com\"}\n",
    "         ]\n",
    "       }\n",
    "     ]\n",
    "   }\n",
    "    },\n",
    "     {\n",
    "   \"id\": \"\",\n",
    "   \"jsonData\": \"\",\n",
    "   \"content\": {\n",
    "     \"mimeType\": \"<application/pdf>\",\n",
    "     \"uri\": \"gs://generative-aisearch-alphabet-investor-pdfs/20040930_google_10Q.pdf\"\n",
    "   },\n",
    "   \"acl_info\": {\n",
    "     \"readers\": [\n",
    "       {\n",
    "         \"principals\": [\n",
    "           { \"user_id\": \"admin@justinjm.altostrat.com\"},\n",
    "         ]\n",
    "       }\n",
    "     ]\n",
    "   }\n",
    " }\n",
    "    \n",
    "    \n",
    "]\n",
    "   \n",
    "# Write to a .jsonl file\n",
    "with open(metadata_filename,  'w') as file:\n",
    "    for item in metadata:\n",
    "        json_string = json.dumps(item)\n",
    "        file.write(json_string + '\\n')"
   ]
  },
  {
   "cell_type": "code",
   "execution_count": 9,
   "id": "245cbee6-70da-476b-ac13-c4e3db199e1e",
   "metadata": {
    "tags": []
   },
   "outputs": [],
   "source": [
    "\n",
    "# TODO - add ACL for all files \n",
    "## get list of files from GCS \n",
    "## pick 5 files to be \"secret\"\n",
    "## add bruce to all except \"secret\"\n",
    "## save file\n",
    "## upload file\n",
    "## create new datastore and search App"
   ]
  },
  {
   "cell_type": "markdown",
   "id": "e50e57c4-ed77-47dc-b726-587c176eccbf",
   "metadata": {},
   "source": [
    "#### upload metadata file just created"
   ]
  },
  {
   "cell_type": "code",
   "execution_count": 10,
   "id": "19807933-89f6-4721-9011-d73f4dd96957",
   "metadata": {
    "tags": []
   },
   "outputs": [
    {
     "name": "stdout",
     "output_type": "stream",
     "text": [
      "Copying file://metadata.jsonl [Content-Type=application/octet-stream]...\n",
      "/ [1/1 files][  490.0 B/  490.0 B] 100% Done                                    \n",
      "Operation completed over 1 objects/490.0 B.                                      \n"
     ]
    }
   ],
   "source": [
    "! gsutil -m cp $metadata_filename $BUCKET_URI/$metadata_filename"
   ]
  },
  {
   "cell_type": "markdown",
   "id": "b85632f2-1fa4-4bff-be3f-f6ec00e577fa",
   "metadata": {
    "tags": []
   },
   "source": [
    "## Create Vertex AI Search Datastore\n",
    "\n",
    "TODO - API:When creating data store, include the flag \"aclEnabled\": \"true\" in your JSON payload. https://cloud.google.com/generative-ai-app-builder/docs/data-source-access-control#acl-storage-unstructured\n",
    "\n",
    "* https://cloud.google.com/generative-ai-app-builder/docs/create-data-store-es#cloud-storage\n",
    "* https://cloud.google.com/generative-ai-app-builder/docs/reference/rest/v1/projects.locations.collections.dataStores/create\n",
    "* https://github.com/GoogleCloudPlatform/generative-ai/blob/main/search/create_datastore_and_search.ipynb\n"
   ]
  },
  {
   "cell_type": "code",
   "execution_count": 19,
   "id": "3fd50089-63c4-4943-8d1f-5aaa285b0535",
   "metadata": {
    "tags": []
   },
   "outputs": [],
   "source": [
    "def create_data_store(\n",
    "    project_id: str, location: str, data_store_name: str, data_store_id: str\n",
    "):\n",
    "    # Create a client\n",
    "    client_options = (\n",
    "        ClientOptions(api_endpoint=f\"{location}-discoveryengine.googleapis.com\")\n",
    "        if location != \"global\"\n",
    "        else None\n",
    "    )\n",
    "    client = discoveryengine.DataStoreServiceClient(client_options=client_options)\n",
    "\n",
    "    # Initialize request argument(s)\n",
    "    data_store = discoveryengine.DataStore(\n",
    "        display_name=data_store_name,\n",
    "        industry_vertical=\"GENERIC\",\n",
    "        content_config=\"CONTENT_REQUIRED\"\n",
    "    )\n",
    "\n",
    "    request = discoveryengine.CreateDataStoreRequest(\n",
    "        parent=discoveryengine.DataStoreServiceClient.collection_path(\n",
    "            project_id, location, \"default_collection\"\n",
    "        ),\n",
    "        data_store=data_store,\n",
    "        data_store_id=data_store_id,\n",
    "    )\n",
    "    operation = client.create_data_store(request=request)\n",
    "\n",
    "    # Make the request\n",
    "    # The try block is necessary to prevent execution from haulting due to an error being thrown when the datastore takes a while to instantiate\n",
    "    try:\n",
    "        response = operation.result(timeout=90)\n",
    "    except:\n",
    "        print(\"long-running operation\")"
   ]
  },
  {
   "cell_type": "code",
   "execution_count": 20,
   "id": "290b4659-3cbf-43b0-a075-a19039175e78",
   "metadata": {
    "tags": []
   },
   "outputs": [],
   "source": [
    "# The datastore name can only contain lowercase letters, numbers, and hyphens\n",
    "# DATASTORE_NAME = EXPERIMENT\n",
    "DATASTORE_NAME = \"test-data-store\"\n",
    "DATASTORE_ID = f\"{DATASTORE_NAME}-id\"\n",
    "\n",
    "create_data_store(PROJECT_ID, LOCATION, DATASTORE_NAME, DATASTORE_ID)"
   ]
  },
  {
   "cell_type": "markdown",
   "id": "24a71148-77bb-4eee-9e4e-75bce5622a29",
   "metadata": {},
   "source": [
    "## Ingest data from Cloud Storage \n",
    "\n"
   ]
  },
  {
   "cell_type": "markdown",
   "id": "d23baf65-83e1-4ba9-a0e2-6c1cdc29029e",
   "metadata": {},
   "source": [
    "Refs\n",
    "\n",
    "* https://cloud.google.com/generative-ai-app-builder/docs/create-data-store-es#discoveryengine_v1_generated_DocumentService_ImportDocuments_sync-python"
   ]
  },
  {
   "cell_type": "markdown",
   "id": "85ca476c-5559-47ca-97f0-398be4401daa",
   "metadata": {},
   "source": [
    "helper function to import data \n",
    "\n",
    "TODO - When following the steps for data import in Create a search data store, make sure to do the following:\n",
    "\n",
    "If using the API, set GcsSource.dataSchema to document\n",
    "\n",
    "https://cloud.google.com/generative-ai-app-builder/docs/data-source-access-control#before-you-begin:~:text=your%20JSON%20payload.-,When%20following%20the%20steps%20for%20data%20import%20in%20Create%20a%20search,If%20using%20the%20API%2C%20set%20GcsSource.dataSchema%20to%20document,-Structured%20data%20from\n"
   ]
  },
  {
   "cell_type": "code",
   "execution_count": null,
   "id": "4482113f-9517-4c57-b6d9-9a8481e9fe8b",
   "metadata": {},
   "outputs": [],
   "source": [
    "def import_documents(\n",
    "    project_id: str,\n",
    "    location: str,\n",
    "    data_store_id: str,\n",
    "    gcs_uri: str,\n",
    "):\n",
    "    # Create a client\n",
    "    client_options = (\n",
    "        ClientOptions(api_endpoint=f\"{location}-discoveryengine.googleapis.com\")\n",
    "        if location != \"global\"\n",
    "        else None\n",
    "    )\n",
    "    client = discoveryengine.DocumentServiceClient(client_options=client_options)\n",
    "\n",
    "    # The full resource name of the search engine branch.\n",
    "    # e.g. projects/{project}/locations/{location}/dataStores/{data_store_id}/branches/{branch}\n",
    "    parent = client.branch_path(\n",
    "        project=project_id,\n",
    "        location=location,\n",
    "        data_store=data_store_id,\n",
    "        branch=\"default_branch\",\n",
    "    )\n",
    "\n",
    "    source_documents = [f\"{gcs_uri}/*\"]\n",
    "\n",
    "    request = discoveryengine.ImportDocumentsRequest(\n",
    "        parent=parent,\n",
    "        gcs_source=discoveryengine.GcsSource(\n",
    "            input_uris=source_documents, data_schema=\"content\"\n",
    "        ),\n",
    "        # Options: `FULL`, `INCREMENTAL`\n",
    "        reconciliation_mode=discoveryengine.ImportDocumentsRequest.ReconciliationMode.INCREMENTAL,\n",
    "    )\n",
    "\n",
    "    # Make the request\n",
    "    operation = client.import_documents(request=request)\n",
    "\n",
    "    response = operation.result()\n",
    "\n",
    "    # Once the operation is complete,\n",
    "    # get information from operation metadata\n",
    "    metadata = discoveryengine.ImportDocumentsMetadata(operation.metadata)\n",
    "\n",
    "    # Handle the response\n",
    "    return operation.operation.name"
   ]
  },
  {
   "cell_type": "code",
   "execution_count": null,
   "id": "78cd14ff-5953-472e-ace2-4ba41821a9ea",
   "metadata": {},
   "outputs": [],
   "source": [
    "# import_documents(PROJECT_ID, LOCATION, DATASTORE_ID, BUCKET_URI)"
   ]
  },
  {
   "cell_type": "markdown",
   "id": "173e7219-52bc-4015-95ae-028889c53d85",
   "metadata": {
    "tags": []
   },
   "source": [
    "## Create Vertex AI Search Engine \n",
    "\n",
    "TODO\n",
    "\n",
    "* https://cloud.google.com/generative-ai-app-builder/docs/create-engine-es\n"
   ]
  },
  {
   "cell_type": "code",
   "execution_count": null,
   "id": "25abaa7b-f6ba-4f9e-bff9-616b2e9c9235",
   "metadata": {},
   "outputs": [],
   "source": [
    "# def create_engine(\n",
    "#     project_id: str, location: str, data_store_name: str, data_store_id: str\n",
    "# ):\n",
    "#     # Create a client\n",
    "#     client_options = (\n",
    "#         ClientOptions(api_endpoint=f\"{location}-discoveryengine.googleapis.com\")\n",
    "#         if location != \"global\"\n",
    "#         else None\n",
    "#     )\n",
    "#     client = discoveryengine.EngineServiceClient(client_options=client_options)\n",
    "\n",
    "#     # Initialize request argument(s)\n",
    "#     config = discoveryengine.Engine.SearchEngineConfig(\n",
    "#         search_tier=\"SEARCH_TIER_ENTERPRISE\", search_add_ons=[\"SEARCH_ADD_ON_LLM\"]\n",
    "#     )\n",
    "\n",
    "#     engine = discoveryengine.Engine(\n",
    "#         display_name=data_store_name,\n",
    "#         solution_type=\"SOLUTION_TYPE_SEARCH\",\n",
    "#         industry_vertical=\"GENERIC\",\n",
    "#         data_store_ids=[data_store_id],\n",
    "#         search_engine_config=config,\n",
    "#     )\n",
    "\n",
    "#     request = discoveryengine.CreateEngineRequest(\n",
    "#         parent=discoveryengine.DataStoreServiceClient.collection_path(\n",
    "#             project_id, location, \"default_collection\"\n",
    "#         ),\n",
    "#         engine=engine,\n",
    "#         engine_id=engine.display_name,\n",
    "#     )\n",
    "\n",
    "#     # Make the request\n",
    "#     operation = client.create_engine(request=request)\n",
    "#     response = operation.result(timeout=90)"
   ]
  },
  {
   "cell_type": "code",
   "execution_count": null,
   "id": "c92e1d3d-f7dc-4266-b2e9-b08847916070",
   "metadata": {},
   "outputs": [],
   "source": [
    "# create_engine(PROJECT_ID, LOCATION, DATASTORE_NAME, DATASTORE_ID)"
   ]
  },
  {
   "cell_type": "markdown",
   "id": "8a610e91-0cc8-44b6-a6c8-e4372bf2a665",
   "metadata": {},
   "source": [
    "### Query your datastore"
   ]
  },
  {
   "cell_type": "code",
   "execution_count": 14,
   "id": "39013d74-629c-4bb6-8b71-23de19691d3c",
   "metadata": {
    "tags": []
   },
   "outputs": [],
   "source": [
    "# from typing import List\n",
    "\n",
    "\n",
    "# def search_sample(\n",
    "#     project_id: str,\n",
    "#     location: str,\n",
    "#     data_store_id: str,\n",
    "#     search_query: str,\n",
    "# ) -> List[discoveryengine.SearchResponse]:\n",
    "#     #  For more information, refer to:\n",
    "#     # https://cloud.google.com/generative-ai-app-builder/docs/locations#specify_a_multi-region_for_your_data_store\n",
    "#     client_options = (\n",
    "#         ClientOptions(api_endpoint=f\"{location}-discoveryengine.googleapis.com\")\n",
    "#         if LOCATION != \"global\"\n",
    "#         else None\n",
    "#     )\n",
    "\n",
    "#     # Create a client\n",
    "#     client = discoveryengine.SearchServiceClient(client_options=client_options)\n",
    "\n",
    "#     # The full resource name of the search engine serving config\n",
    "#     # e.g. projects/{project_id}/locations/{location}/dataStores/{data_store_id}/servingConfigs/{serving_config_id}\n",
    "#     serving_config = client.serving_config_path(\n",
    "#         project=project_id,\n",
    "#         location=location,\n",
    "#         data_store=data_store_id,\n",
    "#         serving_config=\"default_config\",\n",
    "#     )\n",
    "\n",
    "#     # Optional: Configuration options for search\n",
    "#     # Refer to the `ContentSearchSpec` reference for all supported fields:\n",
    "#     # https://cloud.google.com/python/docs/reference/discoveryengine/latest/google.cloud.discoveryengine_v1.types.SearchRequest.ContentSearchSpec\n",
    "#     content_search_spec = discoveryengine.SearchRequest.ContentSearchSpec(\n",
    "#         # For information about snippets, refer to:\n",
    "#         # https://cloud.google.com/generative-ai-app-builder/docs/snippets\n",
    "#         snippet_spec=discoveryengine.SearchRequest.ContentSearchSpec.SnippetSpec(\n",
    "#             return_snippet=True\n",
    "#         ),\n",
    "#         # For information about search summaries, refer to:\n",
    "#         # https://cloud.google.com/generative-ai-app-builder/docs/get-search-summaries\n",
    "#         summary_spec=discoveryengine.SearchRequest.ContentSearchSpec.SummarySpec(\n",
    "#             summary_result_count=5,\n",
    "#             include_citations=True,\n",
    "#             ignore_adversarial_query=True,\n",
    "#             ignore_non_summary_seeking_query=True,\n",
    "#         ),\n",
    "#     )\n",
    "\n",
    "#     # Refer to the `SearchRequest` reference for all supported fields:\n",
    "#     # https://cloud.google.com/python/docs/reference/discoveryengine/latest/google.cloud.discoveryengine_v1.types.SearchRequest\n",
    "#     request = discoveryengine.SearchRequest(\n",
    "#         serving_config=serving_config,\n",
    "#         query=search_query,\n",
    "#         page_size=10,\n",
    "#         content_search_spec=content_search_spec,\n",
    "#         query_expansion_spec=discoveryengine.SearchRequest.QueryExpansionSpec(\n",
    "#             condition=discoveryengine.SearchRequest.QueryExpansionSpec.Condition.AUTO,\n",
    "#         ),\n",
    "#         spell_correction_spec=discoveryengine.SearchRequest.SpellCorrectionSpec(\n",
    "#             mode=discoveryengine.SearchRequest.SpellCorrectionSpec.Mode.AUTO\n",
    "#         ),\n",
    "#     )\n",
    "\n",
    "#     response = client.search(request)\n",
    "#     return response"
   ]
  },
  {
   "cell_type": "code",
   "execution_count": null,
   "id": "e8139911-7882-4fb1-ab77-d6ef0d165b17",
   "metadata": {},
   "outputs": [],
   "source": [
    "# query = \"Who is the CEO of Google?\"\n",
    "\n",
    "# print(search_sample(PROJECT_ID, LOCATION, DATASTORE_ID, query).summary.summary_text)"
   ]
  }
 ],
 "metadata": {
  "environment": {
   "kernel": "python3",
   "name": "tf2-cpu.2-11.m119",
   "type": "gcloud",
   "uri": "us-docker.pkg.dev/deeplearning-platform-release/gcr.io/tf2-cpu.2-11:m119"
  },
  "kernelspec": {
   "display_name": "Python 3",
   "language": "python",
   "name": "python3"
  },
  "language_info": {
   "codemirror_mode": {
    "name": "ipython",
    "version": 3
   },
   "file_extension": ".py",
   "mimetype": "text/x-python",
   "name": "python",
   "nbconvert_exporter": "python",
   "pygments_lexer": "ipython3",
   "version": "3.10.14"
  }
 },
 "nbformat": 4,
 "nbformat_minor": 5
}
