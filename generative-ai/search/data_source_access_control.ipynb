{
 "cells": [
  {
   "cell_type": "markdown",
   "id": "ecb2bdeb-0e10-47dd-8d3e-ef19cd7626fa",
   "metadata": {},
   "source": [
    "## Vertex AI Search > Data Source Access Control\n",
    "\n"
   ]
  },
  {
   "cell_type": "markdown",
   "id": "0320e505-1e8d-46a6-9914-c07d18a4b497",
   "metadata": {},
   "source": [
    "Refs:\n",
    "\n",
    "https://cloud.google.com/generative-ai-app-builder/docs/data-source-access-control#acl-storage-unstructured\n",
    "\n"
   ]
  },
  {
   "cell_type": "markdown",
   "id": "8427b3fa-4e19-4053-801b-db27dabd983f",
   "metadata": {
    "tags": []
   },
   "source": [
    "## Pre-requisites \n",
    "\n",
    "* Setup GCP\n",
    "\n",
    "\n"
   ]
  },
  {
   "cell_type": "markdown",
   "id": "b47ce6ee-3f4c-4ecb-8c57-12ddb407466d",
   "metadata": {},
   "source": [
    "## Setup\n",
    "inputs:"
   ]
  },
  {
   "cell_type": "code",
   "execution_count": 5,
   "id": "257280c8-cb0f-4460-905f-aeb46fe96007",
   "metadata": {
    "tags": []
   },
   "outputs": [
    {
     "name": "stdout",
     "output_type": "stream",
     "text": [
      "demos-vertex-ai\n"
     ]
    }
   ],
   "source": [
    "project = !gcloud config get-value project\n",
    "PROJECT_ID = project[0]\n",
    "print(PROJECT_ID)"
   ]
  },
  {
   "cell_type": "code",
   "execution_count": 6,
   "id": "d4c10413-0055-4400-9b5b-c61d7af4ebd1",
   "metadata": {},
   "outputs": [],
   "source": [
    "from google.cloud import storage\n",
    "\n",
    "import json\n",
    "\n",
    "import requests\n",
    "import os\n"
   ]
  },
  {
   "cell_type": "markdown",
   "id": "3ef3c8c2-b985-4f22-8503-e1056ad2361f",
   "metadata": {},
   "source": [
    "parameters:"
   ]
  },
  {
   "cell_type": "code",
   "execution_count": 7,
   "id": "feb1280a-08c9-4ecd-9d51-65e6aca0f0b6",
   "metadata": {},
   "outputs": [],
   "source": [
    "# PROJECT_ID = '' # set above\n",
    "REGION = 'us-central1'\n",
    "EXPERIMENT = 'search-alphabet-investor-pdfs'\n",
    "SERIES = \"generative-ai\""
   ]
  },
  {
   "cell_type": "code",
   "execution_count": 8,
   "id": "d45e8d7c-a359-4b5d-9c80-a3de870bbde0",
   "metadata": {},
   "outputs": [],
   "source": [
    "BUCKET = SERIES + EXPERIMENT \n",
    "BUCKET_URI = f\"gs://{BUCKET}\""
   ]
  },
  {
   "cell_type": "markdown",
   "id": "de24d099-e583-4585-bc77-3007d7e83128",
   "metadata": {
    "tags": []
   },
   "source": [
    "### Create Storage Bucket"
   ]
  },
  {
   "cell_type": "code",
   "execution_count": 9,
   "id": "2f496f08-787c-42af-83a2-1ba34da6e54d",
   "metadata": {},
   "outputs": [],
   "source": [
    "gcs = storage.Client(project = PROJECT_ID)"
   ]
  },
  {
   "cell_type": "code",
   "execution_count": 10,
   "id": "b4ee8abb-b1f2-45d3-ab2d-cd97423ffedf",
   "metadata": {},
   "outputs": [
    {
     "name": "stdout",
     "output_type": "stream",
     "text": [
      "<Bucket: generative-aisearch-alphabet-investor-pdfs>\n"
     ]
    }
   ],
   "source": [
    "if not gcs.lookup_bucket(BUCKET):\n",
    "    bucketDef = gcs.bucket(BUCKET)\n",
    "    bucket = gcs.create_bucket(bucketDef, project=PROJECT_ID, location=REGION)\n",
    "    print(bucket)\n",
    "else:\n",
    "    print(gcs.lookup_bucket(BUCKET))"
   ]
  },
  {
   "cell_type": "markdown",
   "id": "a6a0a2cf-7c4a-48d9-a8ea-e5104b05cb9c",
   "metadata": {},
   "source": [
    "## ingest data into GCS\n",
    "\n"
   ]
  },
  {
   "cell_type": "markdown",
   "id": "b022c232-fd46-44e5-9ca3-ef4ead095f93",
   "metadata": {
    "tags": []
   },
   "source": [
    "### PDFs \n",
    "\n",
    "TODO - copy from public gcs folder to one we created\n",
    "\n",
    "gs://cloud-samples-data/gen-app-builder/search/alphabet-investor-pdfs\n",
    "\n",
    "#### Upload"
   ]
  },
  {
   "cell_type": "code",
   "execution_count": 11,
   "id": "57f4b80c-392e-40e6-a09e-648851810fd5",
   "metadata": {
    "scrolled": true,
    "tags": []
   },
   "outputs": [
    {
     "name": "stdout",
     "output_type": "stream",
     "text": [
      "Copying gs://cloud-samples-data/gen-app-builder/search/alphabet-investor-pdfs/20040630_google_10Q.pdf [Content-Type=application/pdf]...\n",
      "/ [1 files][265.6 KiB/265.6 KiB]                                                \n",
      "Operation completed over 1 objects/265.6 KiB.                                    \n",
      "Copying gs://cloud-samples-data/gen-app-builder/search/alphabet-investor-pdfs/20040930_google_10Q.pdf [Content-Type=application/pdf]...\n",
      "/ [1 files][962.2 KiB/962.2 KiB]                                                \n",
      "Operation completed over 1 objects/962.2 KiB.                                    \n"
     ]
    }
   ],
   "source": [
    "# ! gsutil -m cp gs://cloud-samples-data/gen-app-builder/search/alphabet-investor-pdfs/* $BUCKET_URI\n",
    "\n",
    "! gsutil cp gs://cloud-samples-data/gen-app-builder/search/alphabet-investor-pdfs/20040630_google_10Q.pdf $BUCKET_URI\n",
    "! gsutil cp gs://cloud-samples-data/gen-app-builder/search/alphabet-investor-pdfs/20040930_google_10Q.pdf $BUCKET_URI"
   ]
  },
  {
   "cell_type": "markdown",
   "id": "7eb72d4f-d886-452b-8b28-ab0c5759943f",
   "metadata": {
    "tags": []
   },
   "source": [
    "### metadata \n",
    "\n",
    "#### format\n",
    "\n",
    "following format\n",
    "\n",
    "https://cloud.google.com/generative-ai-app-builder/docs/data-source-access-control#acl-storage-unstructured\n",
    "\n",
    "```json\n",
    "metadata = {\n",
    "   \"id\": \"\",\n",
    "   \"jsonData\": \"\",\n",
    "   \"content\": {\n",
    "     \"mimeType\": \"<application/pdf>\",\n",
    "     \"uri\": \"gs://generative-aisearch-alphabet-investor-pdfs/20040630_google_10Q.pdf\"\n",
    "   },\n",
    "   \"acl_info\": {\n",
    "     \"readers\": [\n",
    "       {\n",
    "         \"principals\": [\n",
    "           { \"group_id\": \"group_1\" },\n",
    "           { \"user_id\": \"user_1\" }\n",
    "         ]\n",
    "       }\n",
    "     ]\n",
    "   }\n",
    " }\n",
    "```\n"
   ]
  },
  {
   "cell_type": "markdown",
   "id": "96249296-53ae-404c-b894-20bf1d837c50",
   "metadata": {},
   "source": [
    "#### Create JSON meta data \n",
    "\n",
    "Create JSON file of metadata for setting acl rules.\n",
    "\n",
    "To start, we simply specify ACLs for a single file.\n",
    "\n",
    "https://cloud.google.com/generative-ai-app-builder/docs/data-source-access-control#acl-storage-unstructured"
   ]
  },
  {
   "cell_type": "code",
   "execution_count": 12,
   "id": "245cbee6-70da-476b-ac13-c4e3db199e1e",
   "metadata": {
    "tags": []
   },
   "outputs": [],
   "source": [
    "# TODO - add ACL for all files \n",
    "## get list of files from GCS \n",
    "## pick 5 files to be \"secret\"\n",
    "## add bruce to all except \"secret\"\n",
    "## save file\n",
    "## upload file\n",
    "## create new datastore and search App"
   ]
  },
  {
   "cell_type": "code",
   "execution_count": 13,
   "id": "14e52d04-38b1-4432-a713-35c96261148c",
   "metadata": {
    "tags": []
   },
   "outputs": [],
   "source": [
    "metadata_filename = \"metadata.jsonl\"\n",
    "\n",
    "metadata = [\n",
    "    {\n",
    "   \"id\": \"\",\n",
    "   \"jsonData\": \"\",\n",
    "   \"content\": {\n",
    "     \"mimeType\": \"<application/pdf>\",\n",
    "     \"uri\": \"gs://generative-aisearch-alphabet-investor-pdfs/20040630_google_10Q.pdf\"\n",
    "   },\n",
    "   \"acl_info\": {\n",
    "     \"readers\": [\n",
    "       {\n",
    "         \"principals\": [\n",
    "           { \"user_id\": \"bruce@justinjm.altostrat.com\"}\n",
    "         ]\n",
    "       }\n",
    "     ]\n",
    "   }\n",
    "    },\n",
    "     {\n",
    "   \"id\": \"\",\n",
    "   \"jsonData\": \"\",\n",
    "   \"content\": {\n",
    "     \"mimeType\": \"<application/pdf>\",\n",
    "     \"uri\": \"gs://generative-aisearch-alphabet-investor-pdfs/20040930_google_10Q.pdf\"\n",
    "   },\n",
    "   \"acl_info\": {\n",
    "     \"readers\": [\n",
    "       {\n",
    "         \"principals\": [\n",
    "           { \"user_id\": \"admin@justinjm.altostrat.com\"},\n",
    "         ]\n",
    "       }\n",
    "     ]\n",
    "   }\n",
    " }\n",
    "    \n",
    "    \n",
    "]\n",
    "   \n",
    "# Write to a .jsonl file\n",
    "with open(metadata_filename,  'w') as file:\n",
    "    for item in metadata:\n",
    "        json_string = json.dumps(item)\n",
    "        file.write(json_string + '\\n')"
   ]
  },
  {
   "cell_type": "markdown",
   "id": "e50e57c4-ed77-47dc-b726-587c176eccbf",
   "metadata": {},
   "source": [
    "#### upload\n",
    "\n",
    "upload metadata file just created"
   ]
  },
  {
   "cell_type": "code",
   "execution_count": 14,
   "id": "19807933-89f6-4721-9011-d73f4dd96957",
   "metadata": {
    "tags": []
   },
   "outputs": [
    {
     "name": "stdout",
     "output_type": "stream",
     "text": [
      "Copying file://metadata.jsonl [Content-Type=application/octet-stream]...\n",
      "/ [1/1 files][  490.0 B/  490.0 B] 100% Done                                    \n",
      "Operation completed over 1 objects/490.0 B.                                      \n"
     ]
    }
   ],
   "source": [
    "! gsutil -m cp $metadata_filename $BUCKET_URI/$metadata_filename"
   ]
  },
  {
   "cell_type": "markdown",
   "id": "b85632f2-1fa4-4bff-be3f-f6ec00e577fa",
   "metadata": {
    "tags": []
   },
   "source": [
    "## Create Vertex AI Search Datastore\n",
    "\n",
    "\n",
    "TODO - Create via API or GUI?\n",
    "\n",
    "example curl request:\n",
    "\n",
    "\n",
    "```sh\n",
    "curl -X POST \\\n",
    "-H \"Authorization: Bearer $(gcloud auth print-access-token)\" \\\n",
    "-H \"Content-Type: application/json\" \\\n",
    "-H \"X-Goog-User-Project: PROJECT_ID\" \\\n",
    "\"https://discoveryengine.googleapis.com/v1alpha/projects/PROJECT_ID/locations/global/collections/default_collection/dataStores?dataStoreId=DATA_STORE_ID\" \\\n",
    "-d '{\n",
    "  \"displayName\": \"DATA_STORE_DISPLAY_NAME\",\n",
    "  \"industryVertical\": \"GENERIC\",\n",
    "  \"solutionTypes\": [\"SOLUTION_TYPE_SEARCH\"]\n",
    "}'\n",
    "```\n",
    "\n",
    "\n",
    "https://cloud.google.com/generative-ai-app-builder/docs/create-data-store-es#cloud-storage\n"
   ]
  },
  {
   "cell_type": "code",
   "execution_count": 15,
   "id": "0d950423-a382-4949-986d-1adb903ced2d",
   "metadata": {
    "tags": []
   },
   "outputs": [],
   "source": [
    "# helper function\n",
    "def create_vertex_datastore(project_id, data_store_id, display_name):\n",
    "    \"\"\"\n",
    "    Creates a data store in Vertex Search.\n",
    "\n",
    "    Args:\n",
    "        project_id (str): Your Google Cloud project ID.\n",
    "        data_store_id (str): The ID for the new data store.\n",
    "        display_name (str): The display name for the data store.\n",
    "\n",
    "    Returns:\n",
    "        requests.Response: The response from the API call.\n",
    "    \"\"\"\n",
    "\n",
    "    # Get an OAuth access token using gcloud\n",
    "    access_token = os.popen(\"gcloud auth print-access-token\").read().strip()\n",
    "\n",
    "    # Construct the API endpoint URL\n",
    "    url = (\n",
    "        f\"https://discoveryengine.googleapis.com/v1alpha/projects/{project_id}/\"\n",
    "        f\"locations/global/collections/default_collection/dataStores\"\n",
    "        f\"?dataStoreId={data_store_id}\"\n",
    "    )\n",
    "\n",
    "    # Payload for the request\n",
    "    data = {\n",
    "        \"displayName\": display_name,\n",
    "        \"industryVertical\": \"GENERIC\",\n",
    "        \"solutionTypes\": [\"SOLUTION_TYPE_SEARCH\"]\n",
    "    }\n",
    "\n",
    "    # Headers for authorization and content type\n",
    "    headers = {\n",
    "        \"Authorization\": f\"Bearer {access_token}\",\n",
    "        \"Content-Type\": \"application/json\",\n",
    "        \"X-Goog-User-Project\": project_id\n",
    "    }\n",
    "\n",
    "    # Make the POST request\n",
    "    response = requests.post(url, headers=headers, json=data)\n",
    "\n",
    "    # Return the response for further handling, if needed\n",
    "    return response\n",
    "\n",
    "\n"
   ]
  },
  {
   "cell_type": "code",
   "execution_count": 16,
   "id": "bc873624-f6b2-453a-9818-c21cd7661cec",
   "metadata": {
    "tags": []
   },
   "outputs": [
    {
     "name": "stdout",
     "output_type": "stream",
     "text": [
      "Data store created successfully!\n"
     ]
    }
   ],
   "source": [
    "# Example usage (replace with your values)\n",
    "project_id = PROJECT_ID\n",
    "data_store_id = EXPERIMENT\n",
    "display_name = \"Test Data Store\"\n",
    "\n",
    "response = create_vertex_datastore(project_id, data_store_id, display_name)\n",
    "\n",
    "if response.status_code == 200:\n",
    "    print(\"Data store created successfully!\")\n",
    "else:\n",
    "    print(f\"Failed to create data store. Response: {response.text}\")"
   ]
  },
  {
   "cell_type": "markdown",
   "id": "24a71148-77bb-4eee-9e4e-75bce5622a29",
   "metadata": {},
   "source": [
    "### Ingest data from Cloud Storage \n",
    "\n",
    "Create datastore via UI\n",
    "\n",
    "* https://cloud.google.com/generative-ai-app-builder/docs/create-data-store-es#cloud-storage\n",
    "* https://cloud.google.com/generative-ai-app-builder/docs/create-data-store-es#discoveryengine_v1_generated_DocumentService_ImportDocuments_sync-python\n",
    "\n",
    "TODO - update SCRIPT to create datastore"
   ]
  },
  {
   "cell_type": "code",
   "execution_count": null,
   "id": "e17ccf49-a6fe-4b80-8814-9c41cb9c81e6",
   "metadata": {},
   "outputs": [],
   "source": [
    "# # TODO  API:When creating data store, include the flag \"aclEnabled\": \"true\" in your JSON payload.\n",
    "# # https://cloud.google.com/generative-ai-app-builder/docs/data-source-access-control#acl-storage-unstructured\n",
    "\n",
    "# from typing import Optional\n",
    "\n",
    "# from google.api_core.client_options import ClientOptions\n",
    "# from google.cloud import discoveryengine\n",
    "\n",
    "# # TODO(developer): Uncomment these variables before running the sample.\n",
    "# # project_id = \"YOUR_PROJECT_ID\"\n",
    "# # location = \"YOUR_LOCATION\" # Values: \"global\"\n",
    "# # data_store_id = \"YOUR_DATA_STORE_ID\"\n",
    "\n",
    "# # Must specify either `gcs_uri` or (`bigquery_dataset` and `bigquery_table`)\n",
    "# # Format: `gs://bucket/directory/object.json` or `gs://bucket/directory/*.json`\n",
    "# # gcs_uri = \"YOUR_GCS_PATH\"\n",
    "# # bigquery_dataset = \"YOUR_BIGQUERY_DATASET\"\n",
    "# # bigquery_table = \"YOUR_BIGQUERY_TABLE\"\n",
    "\n",
    "\n",
    "# def import_documents_sample(\n",
    "#     project_id: str,\n",
    "#     location: str,\n",
    "#     data_store_id: str,\n",
    "#     gcs_uri: Optional[str] = None,\n",
    "#     bigquery_dataset: Optional[str] = None,\n",
    "#     bigquery_table: Optional[str] = None,\n",
    "# ) -> str:\n",
    "#     #  For more information, refer to:\n",
    "#     # https://cloud.google.com/generative-ai-app-builder/docs/locations#specify_a_multi-region_for_your_data_store\n",
    "#     client_options = (\n",
    "#         ClientOptions(api_endpoint=f\"{location}-discoveryengine.googleapis.com\")\n",
    "#         if location != \"global\"\n",
    "#         else None\n",
    "#     )\n",
    "\n",
    "#     # Create a client\n",
    "#     client = discoveryengine.DocumentServiceClient(client_options=client_options)\n",
    "\n",
    "#     # The full resource name of the search engine branch.\n",
    "#     # e.g. projects/{project}/locations/{location}/dataStores/{data_store_id}/branches/{branch}\n",
    "#     parent = client.branch_path(\n",
    "#         project=project_id,\n",
    "#         location=location,\n",
    "#         data_store=data_store_id,\n",
    "#         branch=\"default_branch\",\n",
    "#     )\n",
    "\n",
    "#     if gcs_uri:\n",
    "#         request = discoveryengine.ImportDocumentsRequest(\n",
    "#             parent=parent,\n",
    "#             gcs_source=discoveryengine.GcsSource(\n",
    "#                 input_uris=[gcs_uri], data_schema=\"custom\"\n",
    "#             ),\n",
    "#             # Options: `FULL`, `INCREMENTAL`\n",
    "#             reconciliation_mode=discoveryengine.ImportDocumentsRequest.ReconciliationMode.INCREMENTAL,\n",
    "#         )\n",
    "#     else:\n",
    "#         request = discoveryengine.ImportDocumentsRequest(\n",
    "#             parent=parent,\n",
    "#             bigquery_source=discoveryengine.BigQuerySource(\n",
    "#                 project_id=project_id,\n",
    "#                 dataset_id=bigquery_dataset,\n",
    "#                 table_id=bigquery_table,\n",
    "#                 data_schema=\"custom\",\n",
    "#             ),\n",
    "#             # Options: `FULL`, `INCREMENTAL`\n",
    "#             reconciliation_mode=discoveryengine.ImportDocumentsRequest.ReconciliationMode.INCREMENTAL,\n",
    "#         )\n",
    "\n",
    "#     # Make the request\n",
    "#     operation = client.import_documents(request=request)\n",
    "\n",
    "#     print(f\"Waiting for operation to complete: {operation.operation.name}\")\n",
    "#     response = operation.result()\n",
    "\n",
    "#     # Once the operation is complete,\n",
    "#     # get information from operation metadata\n",
    "#     metadata = discoveryengine.ImportDocumentsMetadata(operation.metadata)\n",
    "\n",
    "#     # Handle the response\n",
    "#     print(response)\n",
    "#     print(metadata)\n",
    "\n",
    "#     return operation.operation.name\n"
   ]
  },
  {
   "cell_type": "code",
   "execution_count": null,
   "id": "8ee53582-7216-4be6-aa0e-ecbd8d361707",
   "metadata": {},
   "outputs": [],
   "source": [
    "## https://cloud.google.com/python/docs/reference/discoveryengine/latest/google.cloud.discoveryengine_v1.services.document_service.DocumentServiceClient#google_cloud_discoveryengine_v1_services_document_service_DocumentServiceClient_import_documents\n",
    "# This snippet has been automatically generated and should be regarded as a\n",
    "# code template only.\n",
    "# It will require modifications to work:\n",
    "# - It may require correct/in-range values for request initialization.\n",
    "# - It may require specifying regional endpoints when creating the service\n",
    "#   client as shown in:\n",
    "#   https://googleapis.dev/python/google-api-core/latest/client_options.html\n",
    "# from google.cloud import discoveryengine_v1\n",
    "\n",
    "# def sample_import_documents():\n",
    "#     # Create a client\n",
    "#     client = discoveryengine_v1.DocumentServiceClient()\n",
    "\n",
    "#     # Initialize request argument(s)\n",
    "#     request = discoveryengine_v1.ImportDocumentsRequest(\n",
    "#         parent=\"parent_value\",\n",
    "#     )\n",
    "\n",
    "#     # Make the request\n",
    "#     operation = client.import_documents(request=request)\n",
    "\n",
    "#     print(\"Waiting for operation to complete...\")\n",
    "\n",
    "#     response = operation.result()\n",
    "\n",
    "#     # Handle the response\n",
    "#     print(response)"
   ]
  },
  {
   "cell_type": "markdown",
   "id": "173e7219-52bc-4015-95ae-028889c53d85",
   "metadata": {
    "tags": []
   },
   "source": [
    "## Create Vertex AI Search App "
   ]
  },
  {
   "cell_type": "markdown",
   "id": "2f9962bf-8398-49cd-9249-04c8229f40b8",
   "metadata": {},
   "source": [
    "TODO - console\n",
    "\n",
    "\n",
    "* https://cloud.google.com/generative-ai-app-builder/docs/create-engine-es\n",
    "\n"
   ]
  },
  {
   "cell_type": "code",
   "execution_count": null,
   "id": "25abaa7b-f6ba-4f9e-bff9-616b2e9c9235",
   "metadata": {},
   "outputs": [],
   "source": []
  }
 ],
 "metadata": {
  "environment": {
   "kernel": "conda-root-py",
   "name": "workbench-notebooks.m119",
   "type": "gcloud",
   "uri": "us-docker.pkg.dev/deeplearning-platform-release/gcr.io/workbench-notebooks:m119"
  },
  "kernelspec": {
   "display_name": "Python 3 (ipykernel) (Local)",
   "language": "python",
   "name": "conda-root-py"
  },
  "language_info": {
   "codemirror_mode": {
    "name": "ipython",
    "version": 3
   },
   "file_extension": ".py",
   "mimetype": "text/x-python",
   "name": "python",
   "nbconvert_exporter": "python",
   "pygments_lexer": "ipython3",
   "version": "3.10.14"
  }
 },
 "nbformat": 4,
 "nbformat_minor": 5
}
