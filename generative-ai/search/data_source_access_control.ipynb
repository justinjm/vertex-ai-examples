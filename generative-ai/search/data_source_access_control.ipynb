{
 "cells": [
  {
   "cell_type": "markdown",
   "id": "ecb2bdeb-0e10-47dd-8d3e-ef19cd7626fa",
   "metadata": {},
   "source": [
    "## Vertex AI Search > Data Source Access Control\n",
    "\n"
   ]
  },
  {
   "cell_type": "markdown",
   "id": "0320e505-1e8d-46a6-9914-c07d18a4b497",
   "metadata": {},
   "source": [
    "Refs:\n",
    "\n",
    "https://cloud.google.com/generative-ai-app-builder/docs/data-source-access-control#acl-storage-unstructured\n",
    "\n"
   ]
  },
  {
   "cell_type": "markdown",
   "id": "8427b3fa-4e19-4053-801b-db27dabd983f",
   "metadata": {
    "tags": []
   },
   "source": [
    "## Pre-requisites \n",
    "\n",
    "* Setup GCP\n",
    "\n",
    "\n"
   ]
  },
  {
   "cell_type": "code",
   "execution_count": 7,
   "id": "feb1280a-08c9-4ecd-9d51-65e6aca0f0b6",
   "metadata": {},
   "outputs": [],
   "source": [
    "REGION = 'us-central1'\n",
    "PROJECT_ID = 'demos-vertex-ai'\n",
    "DATANAME = 'propensity'\n",
    "\n",
    "BQ_SOURCE = f\"{PROJECT_ID}.{DATANAME}.training_data\""
   ]
  },
  {
   "cell_type": "markdown",
   "id": "b47ce6ee-3f4c-4ecb-8c57-12ddb407466d",
   "metadata": {},
   "source": [
    "## Setup\n",
    "inputs:"
   ]
  },
  {
   "cell_type": "code",
   "execution_count": 10,
   "id": "d4c10413-0055-4400-9b5b-c61d7af4ebd1",
   "metadata": {},
   "outputs": [],
   "source": [
    "from google.cloud import storage\n",
    "from google.cloud import bigquery\n",
    "\n",
    "import pandas as pd\n",
    "from sklearn import datasets"
   ]
  },
  {
   "cell_type": "code",
   "execution_count": 11,
   "id": "ce79c8b1-700b-4909-ae3a-14c3cc88246e",
   "metadata": {},
   "outputs": [],
   "source": []
  },
  {
   "cell_type": "markdown",
   "id": "3ef3c8c2-b985-4f22-8503-e1056ad2361f",
   "metadata": {},
   "source": [
    "parameters:"
   ]
  },
  {
   "cell_type": "code",
   "execution_count": 12,
   "id": "d45e8d7c-a359-4b5d-9c80-a3de870bbde0",
   "metadata": {},
   "outputs": [],
   "source": [
    "BUCKET = PROJECT_ID"
   ]
  },
  {
   "cell_type": "markdown",
   "id": "de24d099-e583-4585-bc77-3007d7e83128",
   "metadata": {
    "tags": []
   },
   "source": [
    "## Create Storage Bucket"
   ]
  },
  {
   "cell_type": "code",
   "execution_count": 13,
   "id": "2f496f08-787c-42af-83a2-1ba34da6e54d",
   "metadata": {},
   "outputs": [],
   "source": [
    "gcs = storage.Client(project = PROJECT_ID)"
   ]
  },
  {
   "cell_type": "code",
   "execution_count": 14,
   "id": "b4ee8abb-b1f2-45d3-ab2d-cd97423ffedf",
   "metadata": {},
   "outputs": [
    {
     "name": "stdout",
     "output_type": "stream",
     "text": [
      "<Bucket: demos-vertex-ai>\n"
     ]
    }
   ],
   "source": [
    "if not gcs.lookup_bucket(BUCKET):\n",
    "    bucketDef = gcs.bucket(BUCKET)\n",
    "    bucket = gcs.create_bucket(bucketDef, project=PROJECT_ID, location=REGION)\n",
    "    print(bucket)\n",
    "else:\n",
    "    print(gcs.lookup_bucket(BUCKET))"
   ]
  },
  {
   "cell_type": "markdown",
   "id": "1fafb95b-8d13-497f-a53e-1d0577d6b0f4",
   "metadata": {},
   "source": [
    "## Create GCS Bucket\n",
    "\n",
    "\n"
   ]
  },
  {
   "cell_type": "code",
   "execution_count": null,
   "id": "d498ff67-428e-43a3-ba8f-105c55fd047c",
   "metadata": {},
   "outputs": [],
   "source": [
    "if not gcs.lookup_bucket(BUCKET):\n",
    "    bucketDef = gcs.bucket(BUCKET)\n",
    "    bucket = gcs.create_bucket(bucketDef, project=PROJECT_ID, location=REGION)\n",
    "    print(bucket)\n",
    "else:\n",
    "    print(gcs.lookup_bucket(BUCKET))"
   ]
  },
  {
   "cell_type": "markdown",
   "id": "96249296-53ae-404c-b894-20bf1d837c50",
   "metadata": {},
   "source": [
    "## Create JSON meta data "
   ]
  },
  {
   "cell_type": "code",
   "execution_count": null,
   "id": "c38899c7-2e54-445b-bfe9-38556c11cc73",
   "metadata": {},
   "outputs": [],
   "source": [
    "## Create JSON file of metadata \n",
    "\n",
    "json_metadata = {\n",
    "   \"id\": \"<your-id>\",\n",
    "   \"jsonData\": \"<JSON string>\",\n",
    "   \"content\": {\n",
    "     \"mimeType\": \"<application/pdf or text/html>\",\n",
    "     \"uri\": \"gs://<your-gcs-bucket>/directory/filename.pdf\"\n",
    "   }\n",
    "   \"acl_info\": {\n",
    "     \"readers\": [\n",
    "       {\n",
    "         \"principals\": [\n",
    "           { \"group_id\": \"group_1\" },\n",
    "           { \"user_id\": \"user_1\" }\n",
    "         ]\n",
    "       }\n",
    "     ]\n",
    "   }\n",
    " }"
   ]
  },
  {
   "cell_type": "markdown",
   "id": "a6a0a2cf-7c4a-48d9-a8ea-e5104b05cb9c",
   "metadata": {},
   "source": [
    "## ingest data into GCS\n",
    "\n"
   ]
  },
  {
   "cell_type": "markdown",
   "id": "b022c232-fd46-44e5-9ca3-ef4ead095f93",
   "metadata": {
    "tags": []
   },
   "source": [
    "### PDFs "
   ]
  },
  {
   "cell_type": "markdown",
   "id": "7eb72d4f-d886-452b-8b28-ab0c5759943f",
   "metadata": {
    "tags": []
   },
   "source": [
    "### metadata "
   ]
  },
  {
   "cell_type": "markdown",
   "id": "b85632f2-1fa4-4bff-be3f-f6ec00e577fa",
   "metadata": {
    "tags": []
   },
   "source": [
    "## Create Vertex AI Search Datastore\n"
   ]
  },
  {
   "cell_type": "markdown",
   "id": "173e7219-52bc-4015-95ae-028889c53d85",
   "metadata": {
    "tags": []
   },
   "source": [
    "## Create Vertex AI Search App "
   ]
  },
  {
   "cell_type": "markdown",
   "id": "2f9962bf-8398-49cd-9249-04c8229f40b8",
   "metadata": {},
   "source": []
  }
 ],
 "metadata": {
  "environment": {
   "kernel": "conda-root-py",
   "name": "workbench-notebooks.m119",
   "type": "gcloud",
   "uri": "us-docker.pkg.dev/deeplearning-platform-release/gcr.io/workbench-notebooks:m119"
  },
  "kernelspec": {
   "display_name": "Python 3 (ipykernel) (Local)",
   "language": "python",
   "name": "conda-root-py"
  },
  "language_info": {
   "codemirror_mode": {
    "name": "ipython",
    "version": 3
   },
   "file_extension": ".py",
   "mimetype": "text/x-python",
   "name": "python",
   "nbconvert_exporter": "python",
   "pygments_lexer": "ipython3",
   "version": "3.10.14"
  }
 },
 "nbformat": 4,
 "nbformat_minor": 5
}
