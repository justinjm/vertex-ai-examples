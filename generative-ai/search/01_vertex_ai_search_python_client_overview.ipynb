{
 "cells": [
  {
   "cell_type": "markdown",
   "id": "0d996f53-e08a-402a-b6a3-edb69203aed4",
   "metadata": {},
   "source": [
    "# Vertex AI Search Python Client Overview"
   ]
  },
  {
   "cell_type": "markdown",
   "id": "7a85cb28-1366-4cc4-8c08-a39a158eb811",
   "metadata": {},
   "source": [
    "## TODO \n",
    "\n",
    "https://github.com/statmike/vertex-ai-mlops/blob/e7092c381656dc119c5fb1a3dbb78523a4905dd2/Applied%20GenAI/Vertex%20AI%20Search/Vertex%20AI%20Search%20Python%20Client%20Overview.ipynb\n"
   ]
  }
 ],
 "metadata": {
  "environment": {
   "kernel": "python3",
   "name": "tf2-cpu.2-11.m119",
   "type": "gcloud",
   "uri": "us-docker.pkg.dev/deeplearning-platform-release/gcr.io/tf2-cpu.2-11:m119"
  },
  "kernelspec": {
   "display_name": "Python 3",
   "language": "python",
   "name": "python3"
  },
  "language_info": {
   "codemirror_mode": {
    "name": "ipython",
    "version": 3
   },
   "file_extension": ".py",
   "mimetype": "text/x-python",
   "name": "python",
   "nbconvert_exporter": "python",
   "pygments_lexer": "ipython3",
   "version": "3.10.14"
  }
 },
 "nbformat": 4,
 "nbformat_minor": 5
}
