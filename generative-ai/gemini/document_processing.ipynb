{
  "cells": [
    {
      "cell_type": "markdown",
      "metadata": {
        "id": "VEqbX8OhE8y9"
      },
      "source": [
        "# Document Processing with Gemini"
      ]
    },
    {
      "cell_type": "markdown",
      "metadata": {
        "id": "fb49ff2efb96"
      },
      "source": [
        "| | |\n",
        "|-|-|\n",
        "|Author(s) | [Justin Marciszewski](https://github.com/justinjm) |"
      ]
    },
    {
      "cell_type": "markdown",
      "metadata": {
        "id": "CkHPv2myT2cx"
      },
      "source": [
        "## Overview\n",
        "\n",
        "In today's information-driven world, the volume of digital documents generated daily is staggering. From emails and reports to legal contracts and scientific papers, businesses and individuals alike are inundated with vast amounts of textual data. Extracting meaningful insights from these documents efficiently and accurately has become a paramount challenge.\n",
        "\n",
        "Document processing involves a range of tasks, including text extraction, classification, summarization, and translation, among others. Traditional methods often rely on rule-based algorithms or statistical models, which may struggle with the nuances and complexities of natural language.\n",
        "\n",
        "Generative AI offers a promising alternative to understand, generate, and manipulate text using natural language prompting. Gemini on Vertex AI allows these models to be used in a scalable manner through:\n",
        "\n",
        "- [Vertex AI Studio](https://cloud.google.com/generative-ai-studio) in the Cloud Console\n",
        "- [Vertex AI REST API](https://cloud.google.com/vertex-ai/docs/reference/rest)\n",
        "- [Vertex AI SDK for Python](https://cloud.google.com/vertex-ai/docs/python-sdk/use-vertex-ai-python-sdk-ref)\n",
        "- [Other client libraries](https://cloud.google.com/vertex-ai/docs/start/client-libraries)\n",
        "\n",
        "This notebook focuses on using the **Vertex AI SDK for Python** to call the Vertex AI Gemini API with the Gemini 1.5 Flash model.\n",
        "\n",
        "For more information, see the [Generative AI on Vertex AI](https://cloud.google.com/vertex-ai/docs/generative-ai/learn/overview) documentation.\n"
      ]
    },
    {
      "cell_type": "markdown",
      "metadata": {
        "id": "DrkcqHrrwMAo"
      },
      "source": [
        "### Objectives\n",
        "\n",
        "In this tutorial, you will learn how to use the Vertex AI Gemini API with the Vertex AI SDK for Python to process PDF documents.\n",
        "\n",
        "You will complete the following tasks:\n",
        "\n",
        "- Install the Vertex AI SDK for Python\n",
        "- Use the Vertex AI Gemini API to interact with Gemini 1.5 Flash (`gemini-1.5-flash`) model:\n",
        "  - Extract structured entities from an unstructured document\n",
        "  - Classify document types\n",
        "  - Combine classification and entity extraction into a single workflow\n",
        "  - Summarize documents\n"
      ]
    },
    {
      "cell_type": "markdown",
      "metadata": {
        "id": "C9nEPojogw-g"
      },
      "source": [
        "### Costs\n",
        "\n",
        "This tutorial uses billable components of Google Cloud:\n",
        "\n",
        "- Vertex AI\n",
        "\n",
        "Learn about [Vertex AI pricing](https://cloud.google.com/vertex-ai/pricing) and use the [Pricing Calculator](https://cloud.google.com/products/calculator/) to generate a cost estimate based on your projected usage.\n"
      ]
    },
    {
      "cell_type": "markdown",
      "metadata": {
        "id": "r11Gu7qNgx1p"
      },
      "source": [
        "## Getting Started\n"
      ]
    },
    {
      "cell_type": "markdown",
      "metadata": {
        "id": "No17Cw5hgx12"
      },
      "source": [
        "### Install Vertex AI SDK for Python\n"
      ]
    },
    {
      "cell_type": "code",
      "execution_count": null,
      "metadata": {
        "id": "tFy3H3aPgx12"
      },
      "outputs": [],
      "source": [
        "%pip install --upgrade --user --quiet google-cloud-aiplatform"
      ]
    },
    {
      "cell_type": "markdown",
      "metadata": {
        "id": "R5Xep4W9lq-Z"
      },
      "source": [
        "### Restart current runtime\n",
        "\n",
        "To use the newly installed packages in this Jupyter runtime, you must restart the runtime. You can do this by running the cell below, which will restart the current kernel."
      ]
    },
    {
      "cell_type": "code",
      "execution_count": null,
      "metadata": {
        "id": "XRvKdaPDTznN"
      },
      "outputs": [],
      "source": [
        "# Restart kernel after installs so that your environment can access the new packages\n",
        "import IPython\n",
        "\n",
        "app = IPython.Application.instance()\n",
        "app.kernel.do_shutdown(True)"
      ]
    },
    {
      "cell_type": "markdown",
      "metadata": {
        "id": "SbmM4z7FOBpM"
      },
      "source": [
        "<div class=\"alert alert-block alert-warning\">\n",
        "<b>⚠️ The kernel is going to restart. Please wait until it is finished before continuing to the next step. ⚠️</b>\n",
        "</div>\n"
      ]
    },
    {
      "cell_type": "markdown",
      "metadata": {
        "id": "dmWOrTJ3gx13"
      },
      "source": [
        "### Authenticate your notebook environment (Colab only)\n",
        "\n",
        "If you are running this notebook on Google Colab, run the following cell to authenticate your environment. This step is not required if you are using [Vertex AI Workbench](https://cloud.google.com/vertex-ai-workbench).\n"
      ]
    },
    {
      "cell_type": "code",
      "execution_count": null,
      "metadata": {
        "id": "NyKGtVQjgx13"
      },
      "outputs": [],
      "source": [
        "import sys\n",
        "\n",
        "# Additional authentication is required for Google Colab\n",
        "if \"google.colab\" in sys.modules:\n",
        "    # Authenticate user to Google Cloud\n",
        "    from google.colab import auth\n",
        "\n",
        "    auth.authenticate_user()"
      ]
    },
    {
      "cell_type": "markdown",
      "metadata": {
        "id": "DF4l8DTdWgPY"
      },
      "source": [
        "### Set Google Cloud project information and initialize Vertex AI SDK\n",
        "\n",
        "To get started using Vertex AI, you must have an existing Google Cloud project and [enable the Vertex AI API](https://console.cloud.google.com/flows/enableapi?apiid=aiplatform.googleapis.com).\n",
        "\n",
        "Learn more about [setting up a project and a development environment](https://cloud.google.com/vertex-ai/docs/start/cloud-environment)."
      ]
    },
    {
      "cell_type": "code",
      "execution_count": 1,
      "metadata": {},
      "outputs": [],
      "source": [
        "project = !gcloud config get-value project\n",
        "PROJECT_ID = project[0]"
      ]
    },
    {
      "cell_type": "code",
      "execution_count": 2,
      "metadata": {
        "id": "Nqwi-5ufWp_B"
      },
      "outputs": [],
      "source": [
        "# Define project information\n",
        "# PROJECT_ID = \"YOUR_PROJECT_ID\"  # @param {type:\"string\"}\n",
        "LOCATION = \"us-central1\"  # @param {type:\"string\"}a\n",
        "\n",
        "# Initialize Vertex AI\n",
        "import vertexai\n",
        "\n",
        "vertexai.init(project=PROJECT_ID, location=LOCATION)"
      ]
    },
    {
      "cell_type": "markdown",
      "metadata": {
        "id": "jXHfaVS66_01"
      },
      "source": [
        "### Import libraries\n"
      ]
    },
    {
      "cell_type": "code",
      "execution_count": 3,
      "metadata": {
        "id": "lslYAvw37JGQ"
      },
      "outputs": [],
      "source": [
        "import json\n",
        "\n",
        "from IPython.display import Markdown, display_pdf\n",
        "from vertexai.generative_models import (\n",
        "    GenerationConfig,\n",
        "    GenerativeModel,\n",
        "    HarmBlockThreshold,\n",
        "    HarmCategory,\n",
        "    Part,\n",
        ")"
      ]
    },
    {
      "cell_type": "markdown",
      "metadata": {
        "id": "FTMywdzUORIA"
      },
      "source": [
        "### Load the Gemini 1.5 Flash model\n",
        "\n",
        "Gemini 1.5 Flash (`gemini-1.5-flash`) is a multimodal model that supports multimodal prompts. You can include text, image(s), and video in your prompt requests and get text or code responses."
      ]
    },
    {
      "cell_type": "code",
      "execution_count": 4,
      "metadata": {
        "id": "lRyTw2iPhEXG"
      },
      "outputs": [],
      "source": [
        "model = GenerativeModel(\n",
        "    \"gemini-1.5-flash\",\n",
        "    safety_settings={\n",
        "        HarmCategory.HARM_CATEGORY_DANGEROUS_CONTENT: HarmBlockThreshold.BLOCK_ONLY_HIGH\n",
        "    },\n",
        ")\n",
        "# This Generation Config sets the model to respond in JSON format.\n",
        "generation_config = GenerationConfig(\n",
        "    temperature=0.0, response_mime_type=\"application/json\"\n",
        ")"
      ]
    },
    {
      "cell_type": "markdown",
      "metadata": {
        "id": "lwvfMDEDVyKI"
      },
      "source": [
        "### Define helper function\n",
        "\n",
        "Define helper function to print the multimodal prompt"
      ]
    },
    {
      "cell_type": "code",
      "execution_count": 5,
      "metadata": {
        "id": "NQS13DI6Pjp6"
      },
      "outputs": [],
      "source": [
        "PDF_MIME_TYPE = \"application/pdf\"\n",
        "\n",
        "\n",
        "def print_multimodal_prompt(contents: list) -> None:\n",
        "    \"\"\"\n",
        "    Given contents that would be sent to Gemini,\n",
        "    output the full multimodal prompt for ease of readability.\n",
        "    \"\"\"\n",
        "    for content in contents:\n",
        "        if not isinstance(content, Part):\n",
        "            print(content)\n",
        "        elif content.inline_data:\n",
        "            display_pdf(content.inline_data.data)\n",
        "        elif content.file_data:\n",
        "            gcs_url = (\n",
        "                \"https://storage.googleapis.com/\"\n",
        "                + content.file_data.file_uri.replace(\"gs://\", \"\").replace(\" \", \"%20\")\n",
        "            )\n",
        "            print(f\"PDF URL: {gcs_url}\")\n",
        "\n",
        "\n",
        "# Send Google Cloud Storage Document to Vertex AI\n",
        "def process_document(\n",
        "    prompt: str,\n",
        "    file_uri: str,\n",
        "    mime_type: str = PDF_MIME_TYPE,\n",
        "    generation_config: GenerationConfig | None = None,\n",
        "    print_prompt: bool = False,\n",
        "    print_raw_response: bool = False,\n",
        ") -> str:\n",
        "    # Load file directly from Google Cloud Storage\n",
        "    file_part = Part.from_uri(\n",
        "        uri=file_uri,\n",
        "        mime_type=mime_type,\n",
        "    )\n",
        "\n",
        "    # Load contents\n",
        "    contents = [file_part, prompt]\n",
        "\n",
        "    # Send to Gemini\n",
        "    response = model.generate_content(contents, generation_config=generation_config)\n",
        "\n",
        "    if print_prompt:\n",
        "        print(\"-------Prompt--------\")\n",
        "        print_multimodal_prompt(contents)\n",
        "\n",
        "    if print_raw_response:\n",
        "        print(\"\\n-------Raw Response--------\")\n",
        "        print(response)\n",
        "\n",
        "    return response.text"
      ]
    },
    {
      "cell_type": "markdown",
      "metadata": {
        "id": "Wy75sLb-yjNn"
      },
      "source": [
        "## Entity Extraction\n",
        "\n",
        "[Named Entity Extraction](https://en.wikipedia.org/wiki/Named-entity_recognition) is a technique of Natural Language Processing to identify specific fields and values from unstructured text. For example, you can find key-value pairs from a filled out form, or get all of the important data from an invoice categorized by the type."
      ]
    },
    {
      "cell_type": "markdown",
      "metadata": {
        "id": "7a75f6e4bd54"
      },
      "source": [
        "### Extract entities from an invoice\n",
        "\n",
        "In this example, you will use a sample invoice and get all of the information in JSON format.\n",
        "\n",
        "This is the prompt to be sent to Gemini along with the PDF document. Feel free to edit this for your specific use case."
      ]
    },
    {
      "cell_type": "code",
      "execution_count": 6,
      "metadata": {
        "id": "0841cb312d46"
      },
      "outputs": [],
      "source": [
        "extraction_prompt = \"\"\"You are a document entity extraction specialist. Given a document, your task is to extract the text value of the following entities:\n",
        "{\n",
        "\t\"chief_complaint\": \"\",\n",
        "\t\"medications\": [\n",
        "\t\t{\n",
        "\t\t\t\"dose\": \"\",\n",
        "\t\t\t\"description\": \"\",\n",
        "\t\t\t\"medication\": \"\",\n",
        "\t\t\t\"quantity\": \"\"\n",
        "\t\t}\n",
        "\t],\n",
        "\n",
        "\t\"review_of_symptoms\": [\n",
        "\t\t{\n",
        "\t\t\t\"symptom\": \"\",\n",
        "\t\t\t\"description\": \"\"\n",
        "\t\t}\n",
        "\t]\n",
        "}\n",
        "\n",
        "- The JSON schema must be followed during the extraction.\n",
        "- The values must only include text found in the document\n",
        "- Do not normalize any entity value.\n",
        "- If an entity is not found in the document, set the entity value to null.\n",
        "\"\"\""
      ]
    },
    {
      "cell_type": "code",
      "execution_count": 7,
      "metadata": {
        "id": "42b044f767e3"
      },
      "outputs": [],
      "source": [
        "# Download a PDF from Google Cloud Storage\n",
        "# ! gsutil cp \"gs://cloud-samples-data/generative-ai/pdf/invoice.pdf\" ./invoice.pdf"
      ]
    },
    {
      "cell_type": "code",
      "execution_count": 8,
      "metadata": {},
      "outputs": [],
      "source": [
        "# download pdf from public site \n",
        "import requests \n",
        "\n",
        "url = \"https://www.med.unc.edu/medclerk/wp-content/uploads/sites/877/2018/10/hp1.pdf\"\n",
        "filename = \"./hp1.pdf\"\n",
        "\n",
        "response = requests.get(url)\n",
        "\n",
        "with open(filename, 'wb') as f:\n",
        "    f.write(response.content)"
      ]
    },
    {
      "cell_type": "code",
      "execution_count": 9,
      "metadata": {
        "id": "KzqjpEiryjNo"
      },
      "outputs": [],
      "source": [
        "# Load file bytes\n",
        "with open(\"hp1.pdf\", \"rb\") as f:\n",
        "    file_part = Part.from_data(data=f.read(), mime_type=\"application/pdf\")\n",
        "\n",
        "# Load contents\n",
        "contents = [file_part, extraction_prompt]\n",
        "\n",
        "# Send to Gemini with GenerationConfig\n",
        "response = model.generate_content(contents, generation_config=generation_config)"
      ]
    },
    {
      "cell_type": "code",
      "execution_count": 10,
      "metadata": {
        "id": "63f7f16fabc7"
      },
      "outputs": [],
      "source": [
        "# print(\"-------Prompt--------\")\n",
        "# print_multimodal_prompt(contents)\n",
        "\n",
        "# print(\"\\n-------Raw Response--------\")\n",
        "# print(response.text)"
      ]
    },
    {
      "cell_type": "markdown",
      "metadata": {
        "id": "c82b9d10e9d1"
      },
      "source": [
        "This response can then be parsed as JSON into a Python dictionary for use in other applications."
      ]
    },
    {
      "cell_type": "code",
      "execution_count": 11,
      "metadata": {
        "id": "ce9731cb0a84"
      },
      "outputs": [
        {
          "name": "stdout",
          "output_type": "stream",
          "text": [
            "\n",
            "-------Parsed Entities--------\n",
            "{\n",
            "    \"chief_complaint\": \"swelling of tongue and difficulty breathing and swallowing\",\n",
            "    \"medications\": [\n",
            "        {\n",
            "            \"dose\": \"600 mg\",\n",
            "            \"description\": \"bronchodilator by increasing cAMP used for treating asthma\",\n",
            "            \"medication\": \"Theophyline (Uniphyl)\",\n",
            "            \"quantity\": \"qhs\"\n",
            "        },\n",
            "        {\n",
            "            \"dose\": \"300 mg\",\n",
            "            \"description\": \"Ca channel blocker used to control hypertension\",\n",
            "            \"medication\": \"Diltiazem\",\n",
            "            \"quantity\": \"qhs\"\n",
            "        },\n",
            "        {\n",
            "            \"dose\": \"20 mg\",\n",
            "            \"description\": \"HMGCo Reductase inhibitor for hypercholesterolemia\",\n",
            "            \"medication\": \"Simvistatin (Zocor)\",\n",
            "            \"quantity\": \"qhs\"\n",
            "        },\n",
            "        {\n",
            "            \"dose\": \"10 mg\",\n",
            "            \"description\": \"ACEI for hypertension and diabetes for renal protective effect\",\n",
            "            \"medication\": \"Ramipril (Altace)\",\n",
            "            \"quantity\": \"BID\"\n",
            "        },\n",
            "        {\n",
            "            \"dose\": \"5 mg\",\n",
            "            \"description\": \"sulfonylurea for treatment of diabetes\",\n",
            "            \"medication\": \"Glipizide\",\n",
            "            \"quantity\": \"BID\"\n",
            "        },\n",
            "        {\n",
            "            \"dose\": \"20 mg\",\n",
            "            \"description\": \"PPI for treatment of ulcers\",\n",
            "            \"medication\": \"Omecprazole (Prilosec)\",\n",
            "            \"quantity\": \"daily\"\n",
            "        },\n",
            "        {\n",
            "            \"dose\": \"100 mg\",\n",
            "            \"description\": \"modulates release of neurotransmitters to treat diabetic neuropathy\",\n",
            "            \"medication\": \"Gabapentin (Neurontin)\",\n",
            "            \"quantity\": \"qhs\"\n",
            "        },\n",
            "        {\n",
            "            \"dose\": \"500 mg\",\n",
            "            \"description\": \"biguanide used to treat diabetes\",\n",
            "            \"medication\": \"Metformin\",\n",
            "            \"quantity\": \"qam\"\n",
            "        },\n",
            "        {\n",
            "            \"dose\": \"81 mg\",\n",
            "            \"description\": \"prophylaxis for MI and TIA\",\n",
            "            \"medication\": \"Aspirin\",\n",
            "            \"quantity\": \"qam\"\n",
            "        },\n",
            "        {\n",
            "            \"dose\": \"1 puff\",\n",
            "            \"description\": null,\n",
            "            \"medication\": \"Servant\",\n",
            "            \"quantity\": \"bid\"\n",
            "        },\n",
            "        {\n",
            "            \"dose\": \"2 puff\",\n",
            "            \"description\": \"corticosteroid to treat airways in asthma/copd\",\n",
            "            \"medication\": \"Fluticasone (Flovent)\",\n",
            "            \"quantity\": \"bid\"\n",
            "        },\n",
            "        {\n",
            "            \"dose\": \"1.25mg\",\n",
            "            \"description\": \"anticholinergic to treat airways in COPD\",\n",
            "            \"medication\": \"xoperex\",\n",
            "            \"quantity\": \"qam\"\n",
            "        },\n",
            "        {\n",
            "            \"dose\": \"2.5 ml\",\n",
            "            \"description\": \"anticholinergic to treat airways in COPD\",\n",
            "            \"medication\": \"Ipratropium\",\n",
            "            \"quantity\": \"nebulized qam\"\n",
            "        }\n",
            "    ],\n",
            "    \"review_of_symptoms\": [\n",
            "        {\n",
            "            \"symptom\": \"Constitutional\",\n",
            "            \"description\": \"NAD, has been generally feeling well the last couple of weeks\"\n",
            "        },\n",
            "        {\n",
            "            \"symptom\": \"Eyes\",\n",
            "            \"description\": \"no changes in vision, double vision, blurry vision, wears glasses\"\n",
            "        },\n",
            "        {\n",
            "            \"symptom\": \"ENT\",\n",
            "            \"description\": \"No congestion, changes in hearing, does not wear hearing aids\"\n",
            "        },\n",
            "        {\n",
            "            \"symptom\": \"Skin/Breast\",\n",
            "            \"description\": \"no rashes\"\n",
            "        },\n",
            "        {\n",
            "            \"symptom\": \"Cardiovascular\",\n",
            "            \"description\": \"No SOB, chest pain, heart palpitations\"\n",
            "        },\n",
            "        {\n",
            "            \"symptom\": \"Pulmonary\",\n",
            "            \"description\": \"hard to get a breath in but not short of breath, no cough\"\n",
            "        },\n",
            "        {\n",
            "            \"symptom\": \"Endocrine\",\n",
            "            \"description\": \"No changes in appetite\"\n",
            "        },\n",
            "        {\n",
            "            \"symptom\": \"Gastro Intestinal\",\n",
            "            \"description\": \"No n/v/d or constipation. Has not eaten because can't swallow solid foods.\"\n",
            "        },\n",
            "        {\n",
            "            \"symptom\": \"Genito Urinary\",\n",
            "            \"description\": \"No increased frequency or pain on urination. Some urge incontinence with history of prolapse.\"\n",
            "        },\n",
            "        {\n",
            "            \"symptom\": \"Musculo Skeletal\",\n",
            "            \"description\": \"no changes in strengths, no joint tenderness or swelling\"\n",
            "        },\n",
            "        {\n",
            "            \"symptom\": \"Neurologic\",\n",
            "            \"description\": \"No changes in memory\"\n",
            "        },\n",
            "        {\n",
            "            \"symptom\": \"Psychology\",\n",
            "            \"description\": \"No changes in mood\"\n",
            "        },\n",
            "        {\n",
            "            \"symptom\": \"Heme/Lymph\",\n",
            "            \"description\": \"Denies easy bruising\"\n",
            "        }\n",
            "    ]\n",
            "}\n"
          ]
        }
      ],
      "source": [
        "print(\"\\n-------Parsed Entities--------\")\n",
        "json_object = json.loads(response.text)\n",
        "print(json.dumps(json_object, indent=4))"
      ]
    },
    {
      "cell_type": "markdown",
      "metadata": {
        "id": "c7cdda6aa720"
      },
      "source": [
        "You can see that Gemini extracted all of the relevant fields from the document."
      ]
    },
    {
      "cell_type": "markdown",
      "metadata": {},
      "source": [
        "### create sample form to populate with extracted details"
      ]
    },
    {
      "cell_type": "code",
      "execution_count": 54,
      "metadata": {},
      "outputs": [
        {
          "data": {
            "text/plain": [
              "True"
            ]
          },
          "execution_count": 54,
          "metadata": {},
          "output_type": "execute_result"
        }
      ],
      "source": [
        "import markdown\n",
        "import pdfkit\n",
        "\n",
        "filename = \"example-patient-form-text.md\"\n",
        "outfilename = \"example-patient-form.pdf\"\n",
        "\n",
        "with open(filename, \"r\") as file:\n",
        "    markdown_text = file.read()\n",
        "\n",
        "# Convert Markdown to HTML using the `markdown` library\n",
        "html_text = markdown.markdown(markdown_text, extensions=['tables'])  # Enable the 'tables' extension\n",
        "\n",
        "# Add CSS for table styling\n",
        "css = \"\"\"\n",
        "<style>\n",
        "table {\n",
        "    border-collapse: collapse;\n",
        "    width: 100%;\n",
        "}\n",
        "\n",
        "th, td {\n",
        "    border: 1px solid #ddd;\n",
        "    padding: 8px;\n",
        "    text-align: left;\n",
        "}\n",
        "\n",
        "th {\n",
        "    background-color: #f2f2f2;   \n",
        "}\n",
        "</style>\n",
        "\"\"\"\n",
        "\n",
        "# Combine HTML and CSS\n",
        "full_html = f\"<html><head>{css}</head><body>{html_text}</body></html>\"\n",
        "\n",
        "# # Convert HTML to PDF\n",
        "pdfkit.from_string(full_html, outfilename)"
      ]
    },
    {
      "cell_type": "code",
      "execution_count": 57,
      "metadata": {},
      "outputs": [
        {
          "name": "stdout",
          "output_type": "stream",
          "text": [
            "None\n"
          ]
        }
      ],
      "source": [
        "from pypdf import PdfReader\n",
        "\n",
        "reader = PdfReader(outfilename)\n",
        "\n",
        "# You can also get all fields:\n",
        "fields = reader.get_fields()\n",
        "print(fields)"
      ]
    },
    {
      "cell_type": "markdown",
      "metadata": {},
      "source": [
        "### Fill out form with extracted details \n",
        "\n",
        "refs \n",
        "\n",
        "* https://cloud.google.com/vertex-ai/generative-ai/docs/multimodal/document-understanding\n",
        "* https://cloud.google.com/vertex-ai/generative-ai/docs/multimodal/control-generated-output \n",
        "* https://pypdf.readthedocs.io/en/latest/user/forms.html#filling-out-forms"
      ]
    },
    {
      "cell_type": "markdown",
      "metadata": {},
      "source": []
    },
    {
      "cell_type": "markdown",
      "metadata": {},
      "source": [
        "## validate object \n",
        "\n"
      ]
    },
    {
      "cell_type": "code",
      "execution_count": 26,
      "metadata": {},
      "outputs": [],
      "source": [
        "## TODO - validate JSON object correct \n",
        "# json_object"
      ]
    },
    {
      "cell_type": "markdown",
      "metadata": {},
      "source": [
        "### complete form"
      ]
    },
    {
      "cell_type": "code",
      "execution_count": 58,
      "metadata": {},
      "outputs": [],
      "source": [
        "# from pypdf import PdfReader, PdfWriter\n",
        "\n",
        "# reader = PdfReader(\"form.pdf\")\n",
        "# writer = PdfWriter()\n",
        "\n",
        "# page = reader.pages[0]\n",
        "# fields = reader.get_fields()\n",
        "\n",
        "# writer.append(reader)\n",
        "\n",
        "# writer.update_page_form_field_values(\n",
        "#     writer.pages[0],\n",
        "#     {\"fieldname\": \"some filled in text\"}, <- gemini output here\n",
        "#     auto_regenerate=False,\n",
        "# )\n",
        "\n",
        "# with open(\"filled-out.pdf\", \"wb\") as output_stream:\n",
        "#     writer.write(output_stream)"
      ]
    }
  ],
  "metadata": {
    "colab": {
      "name": "document_processing.ipynb",
      "toc_visible": true
    },
    "kernelspec": {
      "display_name": "Python 3",
      "name": "python3"
    },
    "language_info": {
      "codemirror_mode": {
        "name": "ipython",
        "version": 3
      },
      "file_extension": ".py",
      "mimetype": "text/x-python",
      "name": "python",
      "nbconvert_exporter": "python",
      "pygments_lexer": "ipython3",
      "version": "3.10.10"
    }
  },
  "nbformat": 4,
  "nbformat_minor": 0
}
