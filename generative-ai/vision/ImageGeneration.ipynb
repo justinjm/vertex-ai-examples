{
 "cells": [
  {
   "cell_type": "markdown",
   "id": "ede25211",
   "metadata": {},
   "source": [
    "# Codelab - GenAI - Image Generation from keywords\n",
    "\n",
    "A copy of the notebook / code from the Codelab: [GenAI - Image Generation from keywords](https://codelabs.developers.google.com/image-generation-using-keywords#0)"
   ]
  },
  {
   "cell_type": "markdown",
   "id": "d33ba510-34eb-45e3-b440-da73b5a0556b",
   "metadata": {},
   "source": [
    "<h1> Install All Dependencies </h1>"
   ]
  },
  {
   "cell_type": "code",
   "execution_count": null,
   "id": "c4f5f8ba-374f-4b3b-a92b-dae0e92c620d",
   "metadata": {},
   "outputs": [],
   "source": [
    "#Install All Required Modules and latest vertex ai version\n",
    "# !pip install gradio\n",
    "# !pip install google-cloud-aiplatform --upgrade"
   ]
  },
  {
   "cell_type": "markdown",
   "id": "9760240d-ccc6-4fe1-90b5-9a710466ed5a",
   "metadata": {},
   "source": [
    "<h1> Image Generation Using Imagen </h1>"
   ]
  },
  {
   "cell_type": "code",
   "execution_count": null,
   "id": "8a2d9594-cf57-41da-b4a7-49f565e1bc2d",
   "metadata": {},
   "outputs": [],
   "source": [
    "from vertexai.preview.vision_models import ImageGenerationModel\n",
    "from PIL import Image\n",
    "import base64 \n",
    "from io import BytesIO\n",
    "import gradio as gr\n",
    "\n",
    "# Function to Generate Images from the Input Prompt and Negative Prompt (Optional)\n",
    "def image_generation_completion(input, negative_prompt):  \n",
    "    input_prompt = input\n",
    "    model = ImageGenerationModel.from_pretrained(\"imagegeneration@002\")\n",
    "    response = model.generate_images(\n",
    "        prompt=input_prompt,\n",
    "        number_of_images=4, #kept to static value of 4\n",
    "        negative_prompt=negative_prompt\n",
    "    )\n",
    "    images = response.images  \n",
    "    image_return_list = []\n",
    "    for i in range(4):\n",
    "        image_return_list.append(gr.update(\n",
    "            value = images[i]._pil_image,  visible = True))\n",
    "    #Returns Generated Images\n",
    "    return image_return_list"
   ]
  },
  {
   "cell_type": "markdown",
   "id": "a98f5bbb-80fc-4491-b4a5-13a1270392e3",
   "metadata": {},
   "source": [
    "<h1> Prompt Generation Using Text-Bison </h1>"
   ]
  },
  {
   "cell_type": "code",
   "execution_count": null,
   "id": "45a14092-8494-4f7a-b92b-8dd3a5a6c590",
   "metadata": {},
   "outputs": [],
   "source": [
    "import vertexai\n",
    "from vertexai.language_models import TextGenerationModel\n",
    "def prompt_generation(persona,signal,theme, lighting, quality, extra_desc):\n",
    "    params_list = [persona,signal,theme, lighting, quality, extra_desc]\n",
    "    params_list_str = \"\"\n",
    "    for param in params_list:\n",
    "        if len(param) > 0 and param is not None:\n",
    "            params_list_str = params_list_str + param + \", \"\n",
    "    params_list_str = params_list_str[:-2]\n",
    "    \n",
    "    vertexai.init(\n",
    "        # project=\"my-project-1-361607\", \n",
    "                  location=\"us-central1\")\n",
    "    parameters = {\n",
    "        \"max_output_tokens\": 256,\n",
    "        \"temperature\": 0.2,\n",
    "        \"top_p\": 0.8,\n",
    "        \"top_k\": 40\n",
    "    }\n",
    "    few_shot_prompt = f\"\"\"You are an expert in writing prompts for Image Generation Models. Using the provided phrases and keywords, concatenate them and add on some realistic details to generate logical and Meaningful prompt that can be used for image generation.\n",
    "\n",
    "    input: people, gardening, house garden, colorful plants, Real, HD image, Photo.\n",
    "    output: A Photo of people gardening in a house garden landscape with few coloured flowering plants. Realistic FULL HD Images, Elegant and natural facial and eye features taken by professional photographer\n",
    "\n",
    "    input: plumber, faucet, kitchen, high quality, natural lighting, Photo\n",
    "    output: A Photo of a plumber fixing a faucet in the kitchen. High quality image with natural indoor lighting.\n",
    "\n",
    "    input: house and garden, halloween, warm lighting, high quality image, Sketch\n",
    "    output: A Sketch of Beautiful House and Garden with Halloween Decorations. Warm lighting, High Quality, 4K photograph taken by professional photographer from front.\n",
    "\n",
    "    input: nice living room, warm lighting,Professional Photographer from far, Photo\n",
    "    output: A photo of a Well designed Living Room. Warm lighting, High Quality, 4K photograph taken by Professional Photographer from far\n",
    "\n",
    "    input: {params_list_str}\n",
    "    output:\n",
    "    \"\"\"\n",
    "    \n",
    "    prompt = f\"\"\"You are an expert in writing prompts for Image Generation Models. Help me write a list of meaningful prompts for Image Generation Model specifically including the words: \"{params_list_str}\". Remember to include these words in the prompt and make the prompt meaningful.\"\"\"\n",
    "    model = TextGenerationModel.from_pretrained(\"text-bison\")\n",
    "    response_few_shot = model.predict(\n",
    "        few_shot_prompt,\n",
    "        **parameters\n",
    "    )\n",
    "    response_single_shot = model.predict(\n",
    "        prompt,\n",
    "        **parameters\n",
    "    )\n",
    "    \n",
    "    output_prompt = \"Result Prompt: \\n\" + response_few_shot.text + \"\\n\\n\" + \"Similar Prompts: \\n\" + response_single_shot.text\n",
    "    return output_prompt\n"
   ]
  },
  {
   "cell_type": "markdown",
   "id": "baa15294-2599-4ca1-9859-6a3e07c31629",
   "metadata": {},
   "source": [
    "<h1> Gradio Application - Consolidation of Prompts and Images Generation via Gradio UI</h1>"
   ]
  },
  {
   "cell_type": "code",
   "execution_count": null,
   "id": "ada06b49-7083-4105-8362-86e8203d923b",
   "metadata": {},
   "outputs": [],
   "source": [
    "import gradio as gr\n",
    "\n",
    "\n",
    "def populate_image_prompt(prompt, selectEvent: gr.SelectData):\n",
    "    return gr.update(value = selectEvent.value)\n",
    "    \n",
    "\n",
    "gr.close_all()\n",
    "with gr.Blocks() as demo:\n",
    "    \n",
    "    #Prompt Generation Part\n",
    "    with gr.Row():\n",
    "        with gr.Column(scale=1):\n",
    "            Persona = gr.Textbox(label=\"Persona\", info = \"Customer segment such as Plumber, Electrician etc.\")\n",
    "        with gr.Column(scale=1):\n",
    "            Signals = gr.Textbox(label=\"Signals\", info = \"Main content of banner such as Faucet, Lamp etc.\")\n",
    "        with gr.Column(scale=1):\n",
    "            Theme = gr.Textbox(label=\"Theme\", info = \"Context of the banner such as Halloween, Kitchen etc.\")\n",
    "    with gr.Row():\n",
    "        with gr.Column(scale=1):\n",
    "            photo_modifiers = gr.Textbox(label=\"Photography Modifiers\", info = \"Photography specific modifiers and parameters such as Lighting(Dramatic/Natural/Warm/Cold), Camera Proximity etc.\")\n",
    "        with gr.Column(scale=1):\n",
    "            quality_modifiers =  gr.Textbox(label=\"Image Quality Modifier\", info = \"Quality Modifiers like high-quality, beautiful, stylized. 4K, HDR, By a professional etc\")\n",
    "        with gr.Column(scale=1):\n",
    "            other_desc =  gr.Textbox(label=\"Any Other Description\", info = \"Other Descriptions for Image such as Style (Painting/Photo/Sketch), Bakground/Foreground Context\")\n",
    "                \n",
    "    with gr.Row():\n",
    "        btn = gr.Button(\"Submit\")\n",
    "    with gr.Row():\n",
    "        returned_prompts = gr.Textbox(label=\"Result Prompts\", interactive = True)    \n",
    "    btn.click(fn=prompt_generation, inputs=[Persona, Signals,Theme, photo_modifiers, quality_modifiers, other_desc], outputs = returned_prompts)\n",
    "    \n",
    "    \n",
    "    \n",
    "    #Image Generation part\n",
    "    with gr.Row():\n",
    "        with gr.Column(scale=1):\n",
    "            image_prompt = gr.Textbox(label=\"Image Generation Prompt\")\n",
    "    with gr.Accordion(\"Advanced options\", open=False): #Let's hide the advanced options!\n",
    "        with gr.Row():\n",
    "            negative_prompt = gr.Textbox(label=\"Negative prompt\", info = \"Specify What not to Include in Image ex. Bad Quality Image\")\n",
    "    with gr.Row():\n",
    "        with gr.Column(scale=1):    \n",
    "            img_btn = gr.Button(\"Generate Images\")\n",
    "    with gr.Row():\n",
    "        with gr.Column():\n",
    "            output_image_1 = gr.Image(label = \"Result Image 1\", visible = False)\n",
    "        with gr.Column():\n",
    "            output_image_2 = gr.Image(label = \"Result Image 2\", visible = False)\n",
    "    with gr.Row():\n",
    "        with gr.Column():\n",
    "            output_image_3 = gr.Image(label = \"Result Image 3\", visible = False)\n",
    "        with gr.Column():\n",
    "            output_image_4 = gr.Image(label = \"Result Image 4\", visible = False)\n",
    "            \n",
    "    returned_prompts.select(populate_image_prompt, inputs = [returned_prompts], outputs = image_prompt)\n",
    "\n",
    "    img_btn.click(fn=image_generation_completion, inputs=[image_prompt,negative_prompt], outputs = [output_image_1,output_image_2,output_image_3,output_image_4])       \n",
    "\n",
    "    \n",
    "gr.close_all()\n",
    "demo.close()\n",
    "demo.launch(share=False)"
   ]
  },
  {
   "cell_type": "markdown",
   "id": "d9f52199-6e98-4c70-84fd-4692bdc994d6",
   "metadata": {},
   "source": [
    "<h1> Image Generation in Notebook Using in-code Prompts </h1>"
   ]
  },
  {
   "cell_type": "code",
   "execution_count": null,
   "id": "e8b28adb-5964-40d3-b4fc-852390f3c4ec",
   "metadata": {},
   "outputs": [],
   "source": [
    "def image_generation(input, negative_prompt):  \n",
    "    input_prompt = input\n",
    "    model = ImageGenerationModel.from_pretrained(\"imagegeneration@002\")\n",
    "    response = model.generate_images(\n",
    "        prompt=input_prompt,\n",
    "        number_of_images=4, #kept to static value of 4.. can be a max value of 8\n",
    "        negative_prompt=negative_prompt\n",
    "    )\n",
    "    images = response.images\n",
    "    return images\n",
    "\n",
    "\n",
    "user_prompt = \"A Candid photo of a Young Professional Gardener wearing a green Gardener Uniform mowing a big lawn with plants \\\n",
    "               and flowers outside a house. Natural Lighting, High Quality, Natural and Elegant Facial Features Photo.\"\n",
    "negative_prompt = \"Distorted and unattractive faces\"\n",
    "generated_images_list = image_generation(user_prompt,negative_prompt)"
   ]
  },
  {
   "cell_type": "code",
   "execution_count": null,
   "id": "258bc6da-9780-4459-93b8-3763517f6b2f",
   "metadata": {},
   "outputs": [],
   "source": [
    "#show one of the generated image\n",
    "generated_images_list[1].show()"
   ]
  },
  {
   "cell_type": "code",
   "execution_count": null,
   "id": "fb6f1447-2f71-4027-b40e-aded1e2810b8",
   "metadata": {},
   "outputs": [],
   "source": []
  }
 ],
 "metadata": {
  "environment": {
   "kernel": "python3",
   "name": "common-cpu.m111",
   "type": "gcloud",
   "uri": "gcr.io/deeplearning-platform-release/base-cpu:m111"
  },
  "kernelspec": {
   "display_name": "Python 3",
   "language": "python",
   "name": "python3"
  },
  "language_info": {
   "codemirror_mode": {
    "name": "ipython",
    "version": 3
   },
   "file_extension": ".py",
   "mimetype": "text/x-python",
   "name": "python",
   "nbconvert_exporter": "python",
   "pygments_lexer": "ipython3",
   "version": "3.10.10"
  }
 },
 "nbformat": 4,
 "nbformat_minor": 5
}
