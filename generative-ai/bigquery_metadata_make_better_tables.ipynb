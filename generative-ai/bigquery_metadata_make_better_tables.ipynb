{
 "cells": [
  {
   "cell_type": "markdown",
   "id": "f8e0eaf5",
   "metadata": {},
   "source": [
    "<!--- header table --->\n",
    "<table align=\"left\">\n",
    "  <td style=\"text-align: center\">\n",
    "    <a href=\"https://colab.research.google.com/github/statmike/vertex-ai-mlops/blob/main/Applied%20GenAI/Vertex%20AI%20GenAI%20For%20BigQuery%20Metadata%20-%20Make%20Better%20Tables.ipynb\">\n",
    "      <img src=\"https://cloud.google.com/ml-engine/images/colab-logo-32px.png\" alt=\"Google Colaboratory logo\">\n",
    "      <br>Run in<br>Colab\n",
    "    </a>\n",
    "  </td>\n",
    "  <td style=\"text-align: center\">\n",
    "    <a href=\"https://console.cloud.google.com/vertex-ai/colab/import/https%3A%2F%2Fraw.githubusercontent.com%2Fstatmike%2Fvertex-ai-mlops%2Fmain%2FApplied%2520GenAI%2FVertex%2520AI%2520GenAI%2520For%2520BigQuery%2520Metadata%2520-%2520Make%2520Better%2520Tables.ipynb\">\n",
    "      <img width=\"32px\" src=\"https://lh3.googleusercontent.com/JmcxdQi-qOpctIvWKgPtrzZdJJK-J3sWE1RsfjZNwshCFgE_9fULcNpuXYTilIR2hjwN\" alt=\"Google Cloud Colab Enterprise logo\">\n",
    "      <br>Run in<br>Colab Enterprise\n",
    "    </a>\n",
    "  </td>      \n",
    "  <td style=\"text-align: center\">\n",
    "    <a href=\"https://github.com/statmike/vertex-ai-mlops/blob/main/Applied%20GenAI/Vertex%20AI%20GenAI%20For%20BigQuery%20Metadata%20-%20Make%20Better%20Tables.ipynb\">\n",
    "      <img src=\"https://cloud.google.com/ml-engine/images/github-logo-32px.png\" alt=\"GitHub logo\">\n",
    "      <br>View on<br>GitHub\n",
    "    </a>\n",
    "  </td>\n",
    "  <td style=\"text-align: center\">\n",
    "    <a href=\"https://console.cloud.google.com/vertex-ai/workbench/deploy-notebook?download_url=https://raw.githubusercontent.com/statmike/vertex-ai-mlops/main/Applied%20GenAI/Vertex%20AI%20GenAI%20For%20BigQuery%20Metadata%20-%20Make%20Better%20Tables.ipynb\">\n",
    "      <img src=\"https://lh3.googleusercontent.com/UiNooY4LUgW_oTvpsNhPpQzsstV5W8F7rYgxgGBD85cWJoLmrOzhVs_ksK_vgx40SHs7jCqkTkCk=e14-rj-sc0xffffff-h130-w32\" alt=\"Vertex AI logo\">\n",
    "      <br>Open in<br>Vertex AI Workbench\n",
    "    </a>\n",
    "  </td>\n",
    "</table>"
   ]
  },
  {
   "cell_type": "markdown",
   "id": "b5287e1c-0b49-4521-ac8f-cc82db7d24a1",
   "metadata": {},
   "source": [
    "# Vertex AI GenAI For BigQuery Metadata - Make Better Tables\n",
    "\n",
    "BigQuery tables are a great source of information for generative AI applications.  Retrieving information is a multi-step process as covered in [Vertex AI GenAI For BigQuery Q&A - Overview](./Vertex%20AI%20GenAI%20For%20BigQuery%20Q&A%20-%20Overview.ipynb).  The ability of a large language model to understand the contents of tables directly relies on the descriptiveness of the metadata: column names, column descriptions, table names, table descriptions.  \n",
    "\n",
    "This workflow shows the potential for creating better, more descriptive metadata for BigQuery tables by using the existing metadata as well as common values from the tables columns.\n",
    "\n",
    "This notebooks uses the BigFrames API for BigQuery to make local work in the form of a Pandas like API while keeping the execution remote, within BigQuery.  The LLM used here is Vertex AI [text-bison](https://cloud.google.com/vertex-ai/docs/generative-ai/model-reference/text) called directly from BigQuery using [ML.GENERATE_TEXT](https://cloud.google.com/bigquery/docs/reference/standard-sql/bigqueryml-syntax-generate-text) using the api [bigframes.ml.llm.PaLM2TextGenerator()](https://cloud.google.com/python/docs/reference/bigframes/latest/bigframes.ml.llm.PaLM2TextGenerator).\n"
   ]
  },
  {
   "cell_type": "markdown",
   "id": "f523a8d1-b749-4d2f-89f4-e6cab1f42320",
   "metadata": {
    "id": "od_UkDpvRmgD",
    "tags": []
   },
   "source": [
    "---\n",
    "## Colab Setup\n",
    "\n",
    "To run this notebook in Colab click [![Open In Colab](https://colab.research.google.com/assets/colab-badge.svg)](https://colab.research.google.com/github/statmike/vertex-ai-mlops/blob/main/Applied%20GenAI/Vertex%20AI%20GenAI%20For%20BigQuery%20Metadata%20-%20Make%20Better%20Tables.ipynb) and run the cells in this section.  Otherwise, skip this section.\n",
    "\n",
    "This cell will authenticate to GCP (follow prompts in the popup)."
   ]
  },
  {
   "cell_type": "code",
   "execution_count": 1,
   "id": "00a34ae6-d147-49d4-8fc4-22d63345c45d",
   "metadata": {
    "executionInfo": {
     "elapsed": 195,
     "status": "ok",
     "timestamp": 1683726184843,
     "user": {
      "displayName": "Mike Henderson",
      "userId": "07691629187611687318"
     },
     "user_tz": 240
    },
    "id": "8UO9FnqyKBlF",
    "tags": []
   },
   "outputs": [],
   "source": [
    "PROJECT_ID = 'demos-vertex-ai' # replace with project ID"
   ]
  },
  {
   "cell_type": "code",
   "execution_count": 2,
   "id": "6e176e30-fef3-48a7-ba98-3350fd51e578",
   "metadata": {
    "colab": {
     "base_uri": "https://localhost:8080/"
    },
    "executionInfo": {
     "elapsed": 68869,
     "status": "ok",
     "timestamp": 1683726253709,
     "user": {
      "displayName": "Mike Henderson",
      "userId": "07691629187611687318"
     },
     "user_tz": 240
    },
    "id": "N98-KK7LRkjm",
    "outputId": "09ec5008-0def-4e1a-c349-c598ee752f78"
   },
   "outputs": [],
   "source": [
    "try:\n",
    "    import google.colab\n",
    "    from google.colab import auth\n",
    "    auth.authenticate_user()\n",
    "    !gcloud config set project {PROJECT_ID}\n",
    "except Exception:\n",
    "    pass"
   ]
  },
  {
   "cell_type": "markdown",
   "id": "8dfe7b10-e9fb-4a58-8da8-cd82c194be00",
   "metadata": {},
   "source": [
    "---\n",
    "## Installs and API Enablement\n",
    "\n",
    "The clients packages may need installing in this environment.  Also, the API for Artifact Registry needs to be enabled (if not already enabled)."
   ]
  },
  {
   "cell_type": "markdown",
   "id": "6f6803d0-124a-4d53-967f-7e051cb68f96",
   "metadata": {},
   "source": [
    "### Installs (If Needed)\n",
    "The list `packages` contains tuples of package import names and install names.  If the import name is not found then the install name is used to install quitely for the current user."
   ]
  },
  {
   "cell_type": "code",
   "execution_count": 2,
   "id": "3327b53e-942b-4143-bee4-b2703a331bd5",
   "metadata": {
    "tags": []
   },
   "outputs": [
    {
     "name": "stdout",
     "output_type": "stream",
     "text": [
      "installing package bigframes\n",
      "\u001b[33m  WARNING: The script pyproj is installed in '/home/jupyter/.local/bin' which is not on PATH.\n",
      "  Consider adding this directory to PATH or, if you prefer to suppress this warning, use --no-warn-script-location.\u001b[0m\u001b[33m\n",
      "\u001b[0m\u001b[33m  WARNING: The script fio is installed in '/home/jupyter/.local/bin' which is not on PATH.\n",
      "  Consider adding this directory to PATH or, if you prefer to suppress this warning, use --no-warn-script-location.\u001b[0m\u001b[33m\n",
      "\u001b[0m"
     ]
    }
   ],
   "source": [
    "# tuples of (import name, install name)\n",
    "packages = [\n",
    "    ('bigframes', 'bigframes'),\n",
    "    ('google.cloud.bigquery_connection_v1', 'google-cloud-bigquery-connection')\n",
    "]\n",
    "\n",
    "import importlib\n",
    "install = False\n",
    "for package in packages:\n",
    "    if not importlib.util.find_spec(package[0]):\n",
    "        print(f'installing package {package[1]}')\n",
    "        install = True\n",
    "        !pip install {package[1]} -U -q --user"
   ]
  },
  {
   "cell_type": "markdown",
   "id": "6c9d85d8-79f4-405b-9f44-eddf0ddd2dbd",
   "metadata": {},
   "source": [
    "### API Enablement\n",
    "\n",
    "Make sure the [BigQuery Connection API](https://cloud.google.com/bigquery/docs/create-cloud-resource-connection) is enabled:"
   ]
  },
  {
   "cell_type": "code",
   "execution_count": 3,
   "id": "e59d343a-98de-4ddd-8fd1-210b84746139",
   "metadata": {
    "tags": []
   },
   "outputs": [],
   "source": [
    "!gcloud services enable bigqueryconnection.googleapis.com"
   ]
  },
  {
   "cell_type": "markdown",
   "id": "a61a5784-3a5e-46ce-88b9-3443dc30750f",
   "metadata": {},
   "source": [
    "### Restart Kernel (If Installs Occured)\n",
    "\n",
    "After a kernel restart the code submission can start with the next cell after this one."
   ]
  },
  {
   "cell_type": "code",
   "execution_count": 4,
   "id": "293a6dbf-26d0-44ae-8788-80d0e08fa3a1",
   "metadata": {
    "tags": []
   },
   "outputs": [],
   "source": [
    "if install:\n",
    "    import IPython\n",
    "    app = IPython.Application.instance()\n",
    "    app.kernel.do_shutdown(True)"
   ]
  },
  {
   "cell_type": "markdown",
   "id": "7e2587e1-ff14-4b55-8baf-29a9be2667aa",
   "metadata": {},
   "source": [
    "---\n",
    "## Setup"
   ]
  },
  {
   "cell_type": "code",
   "execution_count": 1,
   "id": "331dd33d-d8d4-4f2c-a10c-97da0bf913e6",
   "metadata": {
    "tags": []
   },
   "outputs": [
    {
     "data": {
      "text/plain": [
       "'demos-vertex-ai'"
      ]
     },
     "execution_count": 1,
     "metadata": {},
     "output_type": "execute_result"
    }
   ],
   "source": [
    "project = !gcloud config get-value project\n",
    "PROJECT_ID = project[0]\n",
    "PROJECT_ID"
   ]
  },
  {
   "cell_type": "code",
   "execution_count": 2,
   "id": "9128787b-0678-4a81-ab54-6679a1d6fceb",
   "metadata": {
    "tags": []
   },
   "outputs": [],
   "source": [
    "REGION = 'us-central1'\n",
    "SERIES = 'applied-genai'\n",
    "EXPERIMENT = 'bq-metadata'"
   ]
  },
  {
   "cell_type": "code",
   "execution_count": 3,
   "id": "9940f9d0-808a-43ec-b85a-385a8cd73e7f",
   "metadata": {
    "tags": []
   },
   "outputs": [],
   "source": [
    "# make this the BQ Project / Dataset / Table prefix to store results\n",
    "BQ_PROJECT = PROJECT_ID\n",
    "BQ_DATASET = SERIES.replace('-', '_')\n",
    "BQ_TABLE = EXPERIMENT\n",
    "BQ_REGION = REGION[0:2] # subset to first two characters for multi-region"
   ]
  },
  {
   "cell_type": "code",
   "execution_count": 4,
   "id": "8c225fba-150f-4e5c-b8ed-7ed006c43c4d",
   "metadata": {
    "tags": []
   },
   "outputs": [],
   "source": [
    "from IPython.display import Markdown\n",
    "import bigframes.pandas as bf\n",
    "import bigframes.ml as bfml\n",
    "from bigframes.ml import llm\n",
    "from bigframes.ml import ensemble\n",
    "from google.cloud import bigquery_connection_v1 as bq_connection"
   ]
  },
  {
   "cell_type": "code",
   "execution_count": 5,
   "id": "c8f2e79e-5d98-4f27-ac78-5a11d237f2ea",
   "metadata": {
    "tags": []
   },
   "outputs": [],
   "source": [
    "bf.reset_session()\n",
    "bf.options.bigquery.project = BQ_PROJECT\n",
    "bf.options.bigquery.location = BQ_REGION\n",
    "bf_session = bf.get_global_session()"
   ]
  },
  {
   "cell_type": "markdown",
   "id": "e10fe19f-2c94-4fbe-a505-bf1afaafed63",
   "metadata": {},
   "source": [
    "---\n",
    "## Review Data Source\n",
    "\n",
    "The data source here is a product catalog with source:\n",
    "- BigQuery Public table `bigquery-public-data.thelook_ecommerce.products`.\n",
    "\n"
   ]
  },
  {
   "cell_type": "code",
   "execution_count": 6,
   "id": "2c2a1177-5034-47a7-a959-d6e04793537c",
   "metadata": {
    "tags": []
   },
   "outputs": [],
   "source": [
    "BQ_SOURCE = 'bigquery-public-data.thelook_ecommerce.products'"
   ]
  },
  {
   "cell_type": "markdown",
   "id": "85013ea2-131c-435b-afc0-0a7125b327c3",
   "metadata": {},
   "source": [
    "### Get Table: BigQuery Public Table"
   ]
  },
  {
   "cell_type": "code",
   "execution_count": 7,
   "id": "719b7875-05b8-4608-997c-3cf9e76ecfcc",
   "metadata": {
    "tags": []
   },
   "outputs": [],
   "source": [
    "products = bf.read_gbq(BQ_SOURCE)"
   ]
  },
  {
   "cell_type": "code",
   "execution_count": 8,
   "id": "2ee112a0-df54-44cd-bea3-78879b15f22d",
   "metadata": {
    "tags": []
   },
   "outputs": [
    {
     "data": {
      "text/plain": [
       "id                                  Int64\n",
       "cost                              Float64\n",
       "category                  string[pyarrow]\n",
       "name                      string[pyarrow]\n",
       "brand                     string[pyarrow]\n",
       "retail_price                      Float64\n",
       "department                string[pyarrow]\n",
       "sku                       string[pyarrow]\n",
       "distribution_center_id              Int64\n",
       "dtype: object"
      ]
     },
     "execution_count": 8,
     "metadata": {},
     "output_type": "execute_result"
    }
   ],
   "source": [
    "products.dtypes"
   ]
  },
  {
   "cell_type": "code",
   "execution_count": 9,
   "id": "4b4baa44-463e-455d-b83c-0d9d3811d7de",
   "metadata": {
    "tags": []
   },
   "outputs": [
    {
     "data": {
      "text/html": [
       "Query job 4eeeba55-5606-4642-8c16-ce8849195187 is DONE. 931.8 kB processed. <a target=\"_blank\" href=\"https://console.cloud.google.com/bigquery?project=demos-vertex-ai&j=bq:US:4eeeba55-5606-4642-8c16-ce8849195187&page=queryresults\">Open Job</a>"
      ],
      "text/plain": [
       "<IPython.core.display.HTML object>"
      ]
     },
     "metadata": {},
     "output_type": "display_data"
    },
    {
     "data": {
      "text/html": [
       "Query job 60ff9d86-bbd9-4ce5-afa8-41485e1bd61a is DONE. 0 Bytes processed. <a target=\"_blank\" href=\"https://console.cloud.google.com/bigquery?project=demos-vertex-ai&j=bq:US:60ff9d86-bbd9-4ce5-afa8-41485e1bd61a&page=queryresults\">Open Job</a>"
      ],
      "text/plain": [
       "<IPython.core.display.HTML object>"
      ]
     },
     "metadata": {},
     "output_type": "display_data"
    },
    {
     "data": {
      "text/html": [
       "Query job 34a84b7b-e054-45df-bcb6-de4f5a494fa8 is DONE. 363 Bytes processed. <a target=\"_blank\" href=\"https://console.cloud.google.com/bigquery?project=demos-vertex-ai&j=bq:US:34a84b7b-e054-45df-bcb6-de4f5a494fa8&page=queryresults\">Open Job</a>"
      ],
      "text/plain": [
       "<IPython.core.display.HTML object>"
      ]
     },
     "metadata": {},
     "output_type": "display_data"
    },
    {
     "data": {
      "text/html": [
       "<div>\n",
       "<style scoped>\n",
       "    .dataframe tbody tr th:only-of-type {\n",
       "        vertical-align: middle;\n",
       "    }\n",
       "\n",
       "    .dataframe tbody tr th {\n",
       "        vertical-align: top;\n",
       "    }\n",
       "\n",
       "    .dataframe thead th {\n",
       "        text-align: right;\n",
       "    }\n",
       "</style>\n",
       "<table border=\"1\" class=\"dataframe\">\n",
       "  <thead>\n",
       "    <tr style=\"text-align: right;\">\n",
       "      <th></th>\n",
       "      <th>id</th>\n",
       "      <th>cost</th>\n",
       "      <th>retail_price</th>\n",
       "      <th>distribution_center_id</th>\n",
       "    </tr>\n",
       "  </thead>\n",
       "  <tbody>\n",
       "    <tr>\n",
       "      <th>count</th>\n",
       "      <td>29120.0</td>\n",
       "      <td>29120.0</td>\n",
       "      <td>29120.0</td>\n",
       "      <td>29120.0</td>\n",
       "    </tr>\n",
       "    <tr>\n",
       "      <th>mean</th>\n",
       "      <td>14560.5</td>\n",
       "      <td>28.481774</td>\n",
       "      <td>59.220164</td>\n",
       "      <td>4.982898</td>\n",
       "    </tr>\n",
       "    <tr>\n",
       "      <th>std</th>\n",
       "      <td>8406.364256</td>\n",
       "      <td>30.624681</td>\n",
       "      <td>65.888927</td>\n",
       "      <td>2.901153</td>\n",
       "    </tr>\n",
       "    <tr>\n",
       "      <th>min</th>\n",
       "      <td>1.0</td>\n",
       "      <td>0.0083</td>\n",
       "      <td>0.02</td>\n",
       "      <td>1.0</td>\n",
       "    </tr>\n",
       "    <tr>\n",
       "      <th>25%</th>\n",
       "      <td>7256.0</td>\n",
       "      <td>11.24484</td>\n",
       "      <td>24.0</td>\n",
       "      <td>2.0</td>\n",
       "    </tr>\n",
       "    <tr>\n",
       "      <th>50%</th>\n",
       "      <td>14448.0</td>\n",
       "      <td>19.72495</td>\n",
       "      <td>39.990002</td>\n",
       "      <td>5.0</td>\n",
       "    </tr>\n",
       "    <tr>\n",
       "      <th>75%</th>\n",
       "      <td>21874.0</td>\n",
       "      <td>34.43</td>\n",
       "      <td>69.949997</td>\n",
       "      <td>8.0</td>\n",
       "    </tr>\n",
       "    <tr>\n",
       "      <th>max</th>\n",
       "      <td>29120.0</td>\n",
       "      <td>557.151002</td>\n",
       "      <td>999.0</td>\n",
       "      <td>10.0</td>\n",
       "    </tr>\n",
       "  </tbody>\n",
       "</table>\n",
       "<p>8 rows × 4 columns</p>\n",
       "</div>[8 rows x 4 columns in total]"
      ],
      "text/plain": [
       "                id        cost  retail_price  distribution_center_id\n",
       "count      29120.0     29120.0       29120.0                 29120.0\n",
       "mean       14560.5   28.481774     59.220164                4.982898\n",
       "std    8406.364256   30.624681     65.888927                2.901153\n",
       "min            1.0      0.0083          0.02                     1.0\n",
       "25%         7256.0    11.24484          24.0                     2.0\n",
       "50%        14448.0    19.72495     39.990002                     5.0\n",
       "75%        21874.0       34.43     69.949997                     8.0\n",
       "max        29120.0  557.151002         999.0                    10.0\n",
       "\n",
       "[8 rows x 4 columns]"
      ]
     },
     "execution_count": 9,
     "metadata": {},
     "output_type": "execute_result"
    }
   ],
   "source": [
    "products.describe()"
   ]
  },
  {
   "cell_type": "code",
   "execution_count": 10,
   "id": "0fba61cd-a404-4bd6-a750-d9a55dd3972f",
   "metadata": {
    "tags": []
   },
   "outputs": [
    {
     "data": {
      "text/html": [
       "Query job 89db7f03-469f-4148-8912-5567991971ca is DONE. 4.3 MB processed. <a target=\"_blank\" href=\"https://console.cloud.google.com/bigquery?project=demos-vertex-ai&j=bq:US:89db7f03-469f-4148-8912-5567991971ca&page=queryresults\">Open Job</a>"
      ],
      "text/plain": [
       "<IPython.core.display.HTML object>"
      ]
     },
     "metadata": {},
     "output_type": "display_data"
    },
    {
     "data": {
      "text/html": [
       "Query job c23f566b-cbf5-4dde-9012-080ae1e3c565 is DONE. 0 Bytes processed. <a target=\"_blank\" href=\"https://console.cloud.google.com/bigquery?project=demos-vertex-ai&j=bq:US:c23f566b-cbf5-4dde-9012-080ae1e3c565&page=queryresults\">Open Job</a>"
      ],
      "text/plain": [
       "<IPython.core.display.HTML object>"
      ]
     },
     "metadata": {},
     "output_type": "display_data"
    },
    {
     "data": {
      "text/html": [
       "Query job 05119d48-8415-4b03-a670-6a14b1ed0099 is DONE. 772 Bytes processed. <a target=\"_blank\" href=\"https://console.cloud.google.com/bigquery?project=demos-vertex-ai&j=bq:US:05119d48-8415-4b03-a670-6a14b1ed0099&page=queryresults\">Open Job</a>"
      ],
      "text/plain": [
       "<IPython.core.display.HTML object>"
      ]
     },
     "metadata": {},
     "output_type": "display_data"
    },
    {
     "data": {
      "text/html": [
       "<div>\n",
       "<style scoped>\n",
       "    .dataframe tbody tr th:only-of-type {\n",
       "        vertical-align: middle;\n",
       "    }\n",
       "\n",
       "    .dataframe tbody tr th {\n",
       "        vertical-align: top;\n",
       "    }\n",
       "\n",
       "    .dataframe thead th {\n",
       "        text-align: right;\n",
       "    }\n",
       "</style>\n",
       "<table border=\"1\" class=\"dataframe\">\n",
       "  <thead>\n",
       "    <tr style=\"text-align: right;\">\n",
       "      <th></th>\n",
       "      <th>id</th>\n",
       "      <th>cost</th>\n",
       "      <th>category</th>\n",
       "      <th>name</th>\n",
       "      <th>brand</th>\n",
       "      <th>retail_price</th>\n",
       "      <th>department</th>\n",
       "      <th>sku</th>\n",
       "      <th>distribution_center_id</th>\n",
       "    </tr>\n",
       "  </thead>\n",
       "  <tbody>\n",
       "    <tr>\n",
       "      <th>0</th>\n",
       "      <td>13021</td>\n",
       "      <td>23.295341</td>\n",
       "      <td>Swim</td>\n",
       "      <td>Coolibar UPF 50+ Women's Stash Pocket Swim Shi...</td>\n",
       "      <td>Coolibar</td>\n",
       "      <td>49.990002</td>\n",
       "      <td>Women</td>\n",
       "      <td>83A46F92EEC62C8EE20F7F38514607D2</td>\n",
       "      <td>5</td>\n",
       "    </tr>\n",
       "    <tr>\n",
       "      <th>1</th>\n",
       "      <td>25133</td>\n",
       "      <td>11.1649</td>\n",
       "      <td>Socks</td>\n",
       "      <td>Bridgedale Men's Xhale Light Hiker Socks</td>\n",
       "      <td>Bridgedale</td>\n",
       "      <td>17.950001</td>\n",
       "      <td>Men</td>\n",
       "      <td>B7F0B1C1761095727BB5513DF24A3302</td>\n",
       "      <td>1</td>\n",
       "    </tr>\n",
       "    <tr>\n",
       "      <th>2</th>\n",
       "      <td>7352</td>\n",
       "      <td>19.751511</td>\n",
       "      <td>Skirts</td>\n",
       "      <td>Anne Klein Women's Classic Skirt</td>\n",
       "      <td>Anne Klein</td>\n",
       "      <td>43.990002</td>\n",
       "      <td>Women</td>\n",
       "      <td>AB73F542B6D60C4DE151800B8ABC0A6C</td>\n",
       "      <td>2</td>\n",
       "    </tr>\n",
       "    <tr>\n",
       "      <th>3</th>\n",
       "      <td>3647</td>\n",
       "      <td>16.480291</td>\n",
       "      <td>Dresses</td>\n",
       "      <td>Plus size Sexy Black Single Shoulder Mini Dress</td>\n",
       "      <td>eVogues Apparel</td>\n",
       "      <td>34.990002</td>\n",
       "      <td>Women</td>\n",
       "      <td>0D8080853A54F8985276B0130266A657</td>\n",
       "      <td>5</td>\n",
       "    </tr>\n",
       "    <tr>\n",
       "      <th>4</th>\n",
       "      <td>8167</td>\n",
       "      <td>88.953</td>\n",
       "      <td>Suits</td>\n",
       "      <td>LE SUIT Harvest Berry Jacket/Pant Suit</td>\n",
       "      <td>Le Suit</td>\n",
       "      <td>149.0</td>\n",
       "      <td>Women</td>\n",
       "      <td>FEB93033A7AB04EA442B08103EC019A4</td>\n",
       "      <td>7</td>\n",
       "    </tr>\n",
       "  </tbody>\n",
       "</table>\n",
       "<p>5 rows × 9 columns</p>\n",
       "</div>[5 rows x 9 columns in total]"
      ],
      "text/plain": [
       "      id       cost category  \\\n",
       "0  13021  23.295341     Swim   \n",
       "1  25133    11.1649    Socks   \n",
       "2   7352  19.751511   Skirts   \n",
       "3   3647  16.480291  Dresses   \n",
       "4   8167     88.953    Suits   \n",
       "\n",
       "                                                name            brand  \\\n",
       "0  Coolibar UPF 50+ Women's Stash Pocket Swim Shi...         Coolibar   \n",
       "1           Bridgedale Men's Xhale Light Hiker Socks       Bridgedale   \n",
       "2                   Anne Klein Women's Classic Skirt       Anne Klein   \n",
       "3    Plus size Sexy Black Single Shoulder Mini Dress  eVogues Apparel   \n",
       "4             LE SUIT Harvest Berry Jacket/Pant Suit          Le Suit   \n",
       "\n",
       "   retail_price department                               sku  \\\n",
       "0     49.990002      Women  83A46F92EEC62C8EE20F7F38514607D2   \n",
       "1     17.950001        Men  B7F0B1C1761095727BB5513DF24A3302   \n",
       "2     43.990002      Women  AB73F542B6D60C4DE151800B8ABC0A6C   \n",
       "3     34.990002      Women  0D8080853A54F8985276B0130266A657   \n",
       "4         149.0      Women  FEB93033A7AB04EA442B08103EC019A4   \n",
       "\n",
       "   distribution_center_id  \n",
       "0                       5  \n",
       "1                       1  \n",
       "2                       2  \n",
       "3                       5  \n",
       "4                       7  \n",
       "\n",
       "[5 rows x 9 columns]"
      ]
     },
     "execution_count": 10,
     "metadata": {},
     "output_type": "execute_result"
    }
   ],
   "source": [
    "products.head()"
   ]
  },
  {
   "cell_type": "markdown",
   "id": "5ff2a360-9fc6-4885-adaa-41f93f39dbaa",
   "metadata": {},
   "source": [
    "### Get Table Info From BigQuery Information Schema: Columns\n",
    "\n",
    "Retrieve the metadata for the table from Information Schema views like [INFORMATION_SCHEMA.COLUMN_FIELD_PATHS](https://cloud.google.com/bigquery/docs/information-schema-column-field-paths)\n",
    "\n",
    "**NOTE** When `column_name` is not equal to `field_path` it is because the column is nested withing a RECORD (think array, or list) or STRUCT (think dictionary of key:value pairs).  This example does not have examples of these but could be extended to handle these as well."
   ]
  },
  {
   "cell_type": "code",
   "execution_count": 11,
   "id": "41d4d4c0-65f5-4548-b28a-88eda06a75f6",
   "metadata": {
    "tags": []
   },
   "outputs": [
    {
     "data": {
      "text/html": [
       "Query job cc194b4b-9d94-4ac5-af95-c6091c11be91 is DONE. 10.5 MB processed. <a target=\"_blank\" href=\"https://console.cloud.google.com/bigquery?project=demos-vertex-ai&j=bq:US:cc194b4b-9d94-4ac5-af95-c6091c11be91&page=queryresults\">Open Job</a>"
      ],
      "text/plain": [
       "<IPython.core.display.HTML object>"
      ]
     },
     "metadata": {},
     "output_type": "display_data"
    }
   ],
   "source": [
    "products_columns = bf.read_gbq(f\"\"\"\n",
    "    SELECT *\n",
    "    FROM `bigquery-public-data.thelook_ecommerce.INFORMATION_SCHEMA.COLUMN_FIELD_PATHS`\n",
    "    WHERE TABLE_NAME = 'products'\n",
    "        AND column_name = field_path\n",
    "\"\"\")"
   ]
  },
  {
   "cell_type": "code",
   "execution_count": 12,
   "id": "6dfb1de2-2581-498a-b227-225d92724a20",
   "metadata": {
    "tags": []
   },
   "outputs": [
    {
     "data": {
      "text/html": [
       "Query job a1be978c-d007-4c2d-b2ca-f676d948a135 is DONE. 761 Bytes processed. <a target=\"_blank\" href=\"https://console.cloud.google.com/bigquery?project=demos-vertex-ai&j=bq:US:a1be978c-d007-4c2d-b2ca-f676d948a135&page=queryresults\">Open Job</a>"
      ],
      "text/plain": [
       "<IPython.core.display.HTML object>"
      ]
     },
     "metadata": {},
     "output_type": "display_data"
    },
    {
     "data": {
      "text/html": [
       "Query job 0c6b209f-8cc6-4c96-bde5-34da5f858d0c is DONE. 0 Bytes processed. <a target=\"_blank\" href=\"https://console.cloud.google.com/bigquery?project=demos-vertex-ai&j=bq:US:0c6b209f-8cc6-4c96-bde5-34da5f858d0c&page=queryresults\">Open Job</a>"
      ],
      "text/plain": [
       "<IPython.core.display.HTML object>"
      ]
     },
     "metadata": {},
     "output_type": "display_data"
    },
    {
     "data": {
      "text/html": [
       "Query job e9ffb569-8e15-4455-ac82-668debe40d3d is DONE. 905 Bytes processed. <a target=\"_blank\" href=\"https://console.cloud.google.com/bigquery?project=demos-vertex-ai&j=bq:US:e9ffb569-8e15-4455-ac82-668debe40d3d&page=queryresults\">Open Job</a>"
      ],
      "text/plain": [
       "<IPython.core.display.HTML object>"
      ]
     },
     "metadata": {},
     "output_type": "display_data"
    },
    {
     "data": {
      "text/html": [
       "<div>\n",
       "<style scoped>\n",
       "    .dataframe tbody tr th:only-of-type {\n",
       "        vertical-align: middle;\n",
       "    }\n",
       "\n",
       "    .dataframe tbody tr th {\n",
       "        vertical-align: top;\n",
       "    }\n",
       "\n",
       "    .dataframe thead th {\n",
       "        text-align: right;\n",
       "    }\n",
       "</style>\n",
       "<table border=\"1\" class=\"dataframe\">\n",
       "  <thead>\n",
       "    <tr style=\"text-align: right;\">\n",
       "      <th></th>\n",
       "      <th>table_catalog</th>\n",
       "      <th>table_schema</th>\n",
       "      <th>table_name</th>\n",
       "      <th>column_name</th>\n",
       "      <th>field_path</th>\n",
       "      <th>data_type</th>\n",
       "      <th>description</th>\n",
       "      <th>collation_name</th>\n",
       "      <th>rounding_mode</th>\n",
       "    </tr>\n",
       "  </thead>\n",
       "  <tbody>\n",
       "    <tr>\n",
       "      <th>0</th>\n",
       "      <td>bigquery-public-data</td>\n",
       "      <td>thelook_ecommerce</td>\n",
       "      <td>products</td>\n",
       "      <td>cost</td>\n",
       "      <td>cost</td>\n",
       "      <td>FLOAT64</td>\n",
       "      <td>&lt;NA&gt;</td>\n",
       "      <td>NULL</td>\n",
       "      <td>&lt;NA&gt;</td>\n",
       "    </tr>\n",
       "    <tr>\n",
       "      <th>1</th>\n",
       "      <td>bigquery-public-data</td>\n",
       "      <td>thelook_ecommerce</td>\n",
       "      <td>products</td>\n",
       "      <td>retail_price</td>\n",
       "      <td>retail_price</td>\n",
       "      <td>FLOAT64</td>\n",
       "      <td>&lt;NA&gt;</td>\n",
       "      <td>NULL</td>\n",
       "      <td>&lt;NA&gt;</td>\n",
       "    </tr>\n",
       "    <tr>\n",
       "      <th>2</th>\n",
       "      <td>bigquery-public-data</td>\n",
       "      <td>thelook_ecommerce</td>\n",
       "      <td>products</td>\n",
       "      <td>sku</td>\n",
       "      <td>sku</td>\n",
       "      <td>STRING</td>\n",
       "      <td>&lt;NA&gt;</td>\n",
       "      <td>NULL</td>\n",
       "      <td>&lt;NA&gt;</td>\n",
       "    </tr>\n",
       "    <tr>\n",
       "      <th>3</th>\n",
       "      <td>bigquery-public-data</td>\n",
       "      <td>thelook_ecommerce</td>\n",
       "      <td>products</td>\n",
       "      <td>distribution_center_id</td>\n",
       "      <td>distribution_center_id</td>\n",
       "      <td>INT64</td>\n",
       "      <td>&lt;NA&gt;</td>\n",
       "      <td>NULL</td>\n",
       "      <td>&lt;NA&gt;</td>\n",
       "    </tr>\n",
       "    <tr>\n",
       "      <th>4</th>\n",
       "      <td>bigquery-public-data</td>\n",
       "      <td>thelook_ecommerce</td>\n",
       "      <td>products</td>\n",
       "      <td>name</td>\n",
       "      <td>name</td>\n",
       "      <td>STRING</td>\n",
       "      <td>&lt;NA&gt;</td>\n",
       "      <td>NULL</td>\n",
       "      <td>&lt;NA&gt;</td>\n",
       "    </tr>\n",
       "    <tr>\n",
       "      <th>5</th>\n",
       "      <td>bigquery-public-data</td>\n",
       "      <td>thelook_ecommerce</td>\n",
       "      <td>products</td>\n",
       "      <td>category</td>\n",
       "      <td>category</td>\n",
       "      <td>STRING</td>\n",
       "      <td>&lt;NA&gt;</td>\n",
       "      <td>NULL</td>\n",
       "      <td>&lt;NA&gt;</td>\n",
       "    </tr>\n",
       "    <tr>\n",
       "      <th>6</th>\n",
       "      <td>bigquery-public-data</td>\n",
       "      <td>thelook_ecommerce</td>\n",
       "      <td>products</td>\n",
       "      <td>brand</td>\n",
       "      <td>brand</td>\n",
       "      <td>STRING</td>\n",
       "      <td>&lt;NA&gt;</td>\n",
       "      <td>NULL</td>\n",
       "      <td>&lt;NA&gt;</td>\n",
       "    </tr>\n",
       "    <tr>\n",
       "      <th>7</th>\n",
       "      <td>bigquery-public-data</td>\n",
       "      <td>thelook_ecommerce</td>\n",
       "      <td>products</td>\n",
       "      <td>department</td>\n",
       "      <td>department</td>\n",
       "      <td>STRING</td>\n",
       "      <td>&lt;NA&gt;</td>\n",
       "      <td>NULL</td>\n",
       "      <td>&lt;NA&gt;</td>\n",
       "    </tr>\n",
       "    <tr>\n",
       "      <th>8</th>\n",
       "      <td>bigquery-public-data</td>\n",
       "      <td>thelook_ecommerce</td>\n",
       "      <td>products</td>\n",
       "      <td>id</td>\n",
       "      <td>id</td>\n",
       "      <td>INT64</td>\n",
       "      <td>&lt;NA&gt;</td>\n",
       "      <td>NULL</td>\n",
       "      <td>&lt;NA&gt;</td>\n",
       "    </tr>\n",
       "  </tbody>\n",
       "</table>\n",
       "<p>9 rows × 9 columns</p>\n",
       "</div>[9 rows x 9 columns in total]"
      ],
      "text/plain": [
       "          table_catalog       table_schema table_name             column_name  \\\n",
       "0  bigquery-public-data  thelook_ecommerce   products                    cost   \n",
       "1  bigquery-public-data  thelook_ecommerce   products            retail_price   \n",
       "2  bigquery-public-data  thelook_ecommerce   products                     sku   \n",
       "3  bigquery-public-data  thelook_ecommerce   products  distribution_center_id   \n",
       "4  bigquery-public-data  thelook_ecommerce   products                    name   \n",
       "5  bigquery-public-data  thelook_ecommerce   products                category   \n",
       "6  bigquery-public-data  thelook_ecommerce   products                   brand   \n",
       "7  bigquery-public-data  thelook_ecommerce   products              department   \n",
       "8  bigquery-public-data  thelook_ecommerce   products                      id   \n",
       "\n",
       "               field_path data_type description collation_name rounding_mode  \n",
       "0                    cost   FLOAT64        <NA>           NULL          <NA>  \n",
       "1            retail_price   FLOAT64        <NA>           NULL          <NA>  \n",
       "2                     sku    STRING        <NA>           NULL          <NA>  \n",
       "3  distribution_center_id     INT64        <NA>           NULL          <NA>  \n",
       "4                    name    STRING        <NA>           NULL          <NA>  \n",
       "5                category    STRING        <NA>           NULL          <NA>  \n",
       "6                   brand    STRING        <NA>           NULL          <NA>  \n",
       "7              department    STRING        <NA>           NULL          <NA>  \n",
       "8                      id     INT64        <NA>           NULL          <NA>  \n",
       "\n",
       "[9 rows x 9 columns]"
      ]
     },
     "execution_count": 12,
     "metadata": {},
     "output_type": "execute_result"
    }
   ],
   "source": [
    "products_columns"
   ]
  },
  {
   "cell_type": "markdown",
   "id": "cca1200b-af3e-4c68-bab5-97c1f24bb21f",
   "metadata": {},
   "source": [
    "### Get Table Info From BigQuery Information Schema: Table\n",
    "\n",
    "Retrieve the metadata for the table from Information Schema views like [INFORMATION_SCHEMA.TABLE_OPTIONS](https://cloud.google.com/bigquery/docs/information-schema-table-options)\n",
    "\n",
    "This view has one row for each option within each table.  Here, only the `OPTION_NAME = 'description'` is needed."
   ]
  },
  {
   "cell_type": "code",
   "execution_count": 13,
   "id": "c153f7ee-39ac-4e88-8e0b-3b862c7f6689",
   "metadata": {
    "tags": []
   },
   "outputs": [
    {
     "data": {
      "text/html": [
       "Query job 512747ec-f801-46d0-b438-146141bd479f is DONE. 10.5 MB processed. <a target=\"_blank\" href=\"https://console.cloud.google.com/bigquery?project=demos-vertex-ai&j=bq:US:512747ec-f801-46d0-b438-146141bd479f&page=queryresults\">Open Job</a>"
      ],
      "text/plain": [
       "<IPython.core.display.HTML object>"
      ]
     },
     "metadata": {},
     "output_type": "display_data"
    }
   ],
   "source": [
    "products_table = bf.read_gbq(f\"\"\"\n",
    "    SELECT *\n",
    "    FROM `bigquery-public-data.thelook_ecommerce.INFORMATION_SCHEMA.TABLE_OPTIONS`\n",
    "    WHERE TABLE_NAME = 'products'\n",
    "        AND OPTION_NAME = 'description'\n",
    "\"\"\")"
   ]
  },
  {
   "cell_type": "code",
   "execution_count": 14,
   "id": "e8368ad3-cfd6-416b-9ead-7f659259627a",
   "metadata": {
    "tags": []
   },
   "outputs": [
    {
     "data": {
      "text/html": [
       "Query job 0d996fd1-cb59-4aee-a8ea-aae6faec4004 is DONE. 131 Bytes processed. <a target=\"_blank\" href=\"https://console.cloud.google.com/bigquery?project=demos-vertex-ai&j=bq:US:0d996fd1-cb59-4aee-a8ea-aae6faec4004&page=queryresults\">Open Job</a>"
      ],
      "text/plain": [
       "<IPython.core.display.HTML object>"
      ]
     },
     "metadata": {},
     "output_type": "display_data"
    },
    {
     "data": {
      "text/html": [
       "Query job 817b93b2-f1f5-49dc-b404-6b9db9191b39 is DONE. 0 Bytes processed. <a target=\"_blank\" href=\"https://console.cloud.google.com/bigquery?project=demos-vertex-ai&j=bq:US:817b93b2-f1f5-49dc-b404-6b9db9191b39&page=queryresults\">Open Job</a>"
      ],
      "text/plain": [
       "<IPython.core.display.HTML object>"
      ]
     },
     "metadata": {},
     "output_type": "display_data"
    },
    {
     "data": {
      "text/html": [
       "Query job b474665d-2013-408a-81c1-16195c00ab6c is DONE. 147 Bytes processed. <a target=\"_blank\" href=\"https://console.cloud.google.com/bigquery?project=demos-vertex-ai&j=bq:US:b474665d-2013-408a-81c1-16195c00ab6c&page=queryresults\">Open Job</a>"
      ],
      "text/plain": [
       "<IPython.core.display.HTML object>"
      ]
     },
     "metadata": {},
     "output_type": "display_data"
    },
    {
     "data": {
      "text/html": [
       "<div>\n",
       "<style scoped>\n",
       "    .dataframe tbody tr th:only-of-type {\n",
       "        vertical-align: middle;\n",
       "    }\n",
       "\n",
       "    .dataframe tbody tr th {\n",
       "        vertical-align: top;\n",
       "    }\n",
       "\n",
       "    .dataframe thead th {\n",
       "        text-align: right;\n",
       "    }\n",
       "</style>\n",
       "<table border=\"1\" class=\"dataframe\">\n",
       "  <thead>\n",
       "    <tr style=\"text-align: right;\">\n",
       "      <th></th>\n",
       "      <th>table_catalog</th>\n",
       "      <th>table_schema</th>\n",
       "      <th>table_name</th>\n",
       "      <th>option_name</th>\n",
       "      <th>option_type</th>\n",
       "      <th>option_value</th>\n",
       "    </tr>\n",
       "  </thead>\n",
       "  <tbody>\n",
       "    <tr>\n",
       "      <th>0</th>\n",
       "      <td>bigquery-public-data</td>\n",
       "      <td>thelook_ecommerce</td>\n",
       "      <td>products</td>\n",
       "      <td>description</td>\n",
       "      <td>STRING</td>\n",
       "      <td>\"The Look fictitious e-commerce dataset - prod...</td>\n",
       "    </tr>\n",
       "  </tbody>\n",
       "</table>\n",
       "<p>1 rows × 6 columns</p>\n",
       "</div>[1 rows x 6 columns in total]"
      ],
      "text/plain": [
       "          table_catalog       table_schema table_name  option_name  \\\n",
       "0  bigquery-public-data  thelook_ecommerce   products  description   \n",
       "\n",
       "  option_type                                       option_value  \n",
       "0      STRING  \"The Look fictitious e-commerce dataset - prod...  \n",
       "\n",
       "[1 rows x 6 columns]"
      ]
     },
     "execution_count": 14,
     "metadata": {},
     "output_type": "execute_result"
    }
   ],
   "source": [
    "products_table"
   ]
  },
  {
   "cell_type": "markdown",
   "id": "38c01756-07c6-491e-aa73-aedb2a41420e",
   "metadata": {},
   "source": [
    "### Get Values From Columns: Most common values as examples\n",
    "\n",
    "Retrieve a sample of common values from each column to use as examples for an LLM to create names and descriptions."
   ]
  },
  {
   "cell_type": "markdown",
   "id": "7a3bce37-7a4e-408b-b502-568c6cf4881b",
   "metadata": {},
   "source": [
    "Create syntax for query that will create a row per column with a sample of values from the column."
   ]
  },
  {
   "cell_type": "code",
   "execution_count": 16,
   "id": "8d5ef277-f3d1-4328-9fac-61c1afa41086",
   "metadata": {
    "tags": []
   },
   "outputs": [
    {
     "data": {
      "text/html": [
       "Query job bcc360ca-6ccb-4ef3-a093-fc4ff1dad5f6 is DONE. 232 Bytes processed. <a target=\"_blank\" href=\"https://console.cloud.google.com/bigquery?project=demos-vertex-ai&j=bq:US:bcc360ca-6ccb-4ef3-a093-fc4ff1dad5f6&page=queryresults\">Open Job</a>"
      ],
      "text/plain": [
       "<IPython.core.display.HTML object>"
      ]
     },
     "metadata": {},
     "output_type": "display_data"
    },
    {
     "name": "stdout",
     "output_type": "stream",
     "text": [
      "SELECT 'cost' AS column_name, STRING_AGG(CAST(value AS STRING)) as column_sample FROM UNNEST((SELECT APPROX_TOP_COUNT(cost, 10) as osn FROM `bigquery-public-data.thelook_ecommerce.products`))\n",
      "UNION ALL\n",
      "SELECT 'retail_price' AS column_name, STRING_AGG(CAST(value AS STRING)) as column_sample FROM UNNEST((SELECT APPROX_TOP_COUNT(retail_price, 10) as osn FROM `bigquery-public-data.thelook_ecommerce.products`))\n",
      "UNION ALL\n",
      "SELECT 'sku' AS column_name, STRING_AGG(CAST(value AS STRING)) as column_sample FROM UNNEST((SELECT APPROX_TOP_COUNT(sku, 10) as osn FROM `bigquery-public-data.thelook_ecommerce.products`))\n",
      "UNION ALL\n",
      "SELECT 'distribution_center_id' AS column_name, STRING_AGG(CAST(value AS STRING)) as column_sample FROM UNNEST((SELECT APPROX_TOP_COUNT(distribution_center_id, 10) as osn FROM `bigquery-public-data.thelook_ecommerce.products`))\n",
      "UNION ALL\n",
      "SELECT 'name' AS column_name, STRING_AGG(CAST(value AS STRING)) as column_sample FROM UNNEST((SELECT APPROX_TOP_COUNT(name, 10) as osn FROM `bigquery-public-data.thelook_ecommerce.products`))\n",
      "UNION ALL\n",
      "SELECT 'category' AS column_name, STRING_AGG(CAST(value AS STRING)) as column_sample FROM UNNEST((SELECT APPROX_TOP_COUNT(category, 10) as osn FROM `bigquery-public-data.thelook_ecommerce.products`))\n",
      "UNION ALL\n",
      "SELECT 'brand' AS column_name, STRING_AGG(CAST(value AS STRING)) as column_sample FROM UNNEST((SELECT APPROX_TOP_COUNT(brand, 10) as osn FROM `bigquery-public-data.thelook_ecommerce.products`))\n",
      "UNION ALL\n",
      "SELECT 'department' AS column_name, STRING_AGG(CAST(value AS STRING)) as column_sample FROM UNNEST((SELECT APPROX_TOP_COUNT(department, 10) as osn FROM `bigquery-public-data.thelook_ecommerce.products`))\n",
      "UNION ALL\n",
      "SELECT 'id' AS column_name, STRING_AGG(CAST(value AS STRING)) as column_sample FROM UNNEST((SELECT APPROX_TOP_COUNT(id, 10) as osn FROM `bigquery-public-data.thelook_ecommerce.products`))\n"
     ]
    }
   ],
   "source": [
    "for c, col in enumerate(products_columns.column_name.unique().tolist()):\n",
    "    if c == 0: \n",
    "        cte = f\"\"\"SELECT '{col}' AS column_name, STRING_AGG(CAST(value AS STRING)) as column_sample FROM UNNEST((SELECT APPROX_TOP_COUNT({col}, 10) as osn FROM `bigquery-public-data.thelook_ecommerce.products`))\"\"\"\n",
    "    else:\n",
    "        cte += f\"\"\"\\nUNION ALL\\nSELECT '{col}' AS column_name, STRING_AGG(CAST(value AS STRING)) as column_sample FROM UNNEST((SELECT APPROX_TOP_COUNT({col}, 10) as osn FROM `bigquery-public-data.thelook_ecommerce.products`))\"\"\"\n",
    "print(cte)"
   ]
  },
  {
   "cell_type": "code",
   "execution_count": 17,
   "id": "02a98c7e-20de-4b8e-b1a9-80e5790f80ab",
   "metadata": {
    "tags": []
   },
   "outputs": [
    {
     "data": {
      "text/html": [
       "Query job b955b494-3e0e-4038-bedf-22daf83b0c8f is DONE. 4.3 MB processed. <a target=\"_blank\" href=\"https://console.cloud.google.com/bigquery?project=demos-vertex-ai&j=bq:US:b955b494-3e0e-4038-bedf-22daf83b0c8f&page=queryresults\">Open Job</a>"
      ],
      "text/plain": [
       "<IPython.core.display.HTML object>"
      ]
     },
     "metadata": {},
     "output_type": "display_data"
    }
   ],
   "source": [
    "products_sample = bf.read_gbq(cte)"
   ]
  },
  {
   "cell_type": "code",
   "execution_count": 18,
   "id": "db86a242-d5e3-451b-bc70-c22816834cba",
   "metadata": {
    "tags": []
   },
   "outputs": [
    {
     "data": {
      "text/html": [
       "Query job a7fe7bef-861d-41a5-9889-34be294777c5 is DONE. 1.4 kB processed. <a target=\"_blank\" href=\"https://console.cloud.google.com/bigquery?project=demos-vertex-ai&j=bq:US:a7fe7bef-861d-41a5-9889-34be294777c5&page=queryresults\">Open Job</a>"
      ],
      "text/plain": [
       "<IPython.core.display.HTML object>"
      ]
     },
     "metadata": {},
     "output_type": "display_data"
    },
    {
     "data": {
      "text/html": [
       "Query job 2823b1b1-3240-456b-8c56-5bc8a3840781 is DONE. 0 Bytes processed. <a target=\"_blank\" href=\"https://console.cloud.google.com/bigquery?project=demos-vertex-ai&j=bq:US:2823b1b1-3240-456b-8c56-5bc8a3840781&page=queryresults\">Open Job</a>"
      ],
      "text/plain": [
       "<IPython.core.display.HTML object>"
      ]
     },
     "metadata": {},
     "output_type": "display_data"
    },
    {
     "data": {
      "text/html": [
       "Query job 63b8170f-b36c-408d-b46e-d30952946424 is DONE. 1.6 kB processed. <a target=\"_blank\" href=\"https://console.cloud.google.com/bigquery?project=demos-vertex-ai&j=bq:US:63b8170f-b36c-408d-b46e-d30952946424&page=queryresults\">Open Job</a>"
      ],
      "text/plain": [
       "<IPython.core.display.HTML object>"
      ]
     },
     "metadata": {},
     "output_type": "display_data"
    },
    {
     "data": {
      "text/html": [
       "<div>\n",
       "<style scoped>\n",
       "    .dataframe tbody tr th:only-of-type {\n",
       "        vertical-align: middle;\n",
       "    }\n",
       "\n",
       "    .dataframe tbody tr th {\n",
       "        vertical-align: top;\n",
       "    }\n",
       "\n",
       "    .dataframe thead th {\n",
       "        text-align: right;\n",
       "    }\n",
       "</style>\n",
       "<table border=\"1\" class=\"dataframe\">\n",
       "  <thead>\n",
       "    <tr style=\"text-align: right;\">\n",
       "      <th></th>\n",
       "      <th>column_name</th>\n",
       "      <th>column_sample</th>\n",
       "    </tr>\n",
       "  </thead>\n",
       "  <tbody>\n",
       "    <tr>\n",
       "      <th>0</th>\n",
       "      <td>cost</td>\n",
       "      <td>13.549999985843897,10.750000039115548,12.05000...</td>\n",
       "    </tr>\n",
       "    <tr>\n",
       "      <th>1</th>\n",
       "      <td>department</td>\n",
       "      <td>Women,Men</td>\n",
       "    </tr>\n",
       "    <tr>\n",
       "      <th>2</th>\n",
       "      <td>retail_price</td>\n",
       "      <td>25,29.989999771118164,19.989999771118164,39.99...</td>\n",
       "    </tr>\n",
       "    <tr>\n",
       "      <th>3</th>\n",
       "      <td>category</td>\n",
       "      <td>Intimates,Jeans,Tops &amp; Tees,Fashion Hoodies &amp; ...</td>\n",
       "    </tr>\n",
       "    <tr>\n",
       "      <th>4</th>\n",
       "      <td>brand</td>\n",
       "      <td>Allegra K,Calvin Klein,Carhartt,Hanes,Volcom,N...</td>\n",
       "    </tr>\n",
       "    <tr>\n",
       "      <th>5</th>\n",
       "      <td>id</td>\n",
       "      <td>29120,29119,29118,29117,29116,29115,29114,2911...</td>\n",
       "    </tr>\n",
       "    <tr>\n",
       "      <th>6</th>\n",
       "      <td>sku</td>\n",
       "      <td>FFFCC1A3964B4AD665FA2F07D7BFD086,FFFB8EF15DE06...</td>\n",
       "    </tr>\n",
       "    <tr>\n",
       "      <th>7</th>\n",
       "      <td>distribution_center_id</td>\n",
       "      <td>2,1,3,8,4,9,7,6,5,10</td>\n",
       "    </tr>\n",
       "    <tr>\n",
       "      <th>8</th>\n",
       "      <td>name</td>\n",
       "      <td>Wrangler Men's Premium Performance Cowboy Cut ...</td>\n",
       "    </tr>\n",
       "  </tbody>\n",
       "</table>\n",
       "<p>9 rows × 2 columns</p>\n",
       "</div>[9 rows x 2 columns in total]"
      ],
      "text/plain": [
       "              column_name                                      column_sample\n",
       "0                    cost  13.549999985843897,10.750000039115548,12.05000...\n",
       "1              department                                          Women,Men\n",
       "2            retail_price  25,29.989999771118164,19.989999771118164,39.99...\n",
       "3                category  Intimates,Jeans,Tops & Tees,Fashion Hoodies & ...\n",
       "4                   brand  Allegra K,Calvin Klein,Carhartt,Hanes,Volcom,N...\n",
       "5                      id  29120,29119,29118,29117,29116,29115,29114,2911...\n",
       "6                     sku  FFFCC1A3964B4AD665FA2F07D7BFD086,FFFB8EF15DE06...\n",
       "7  distribution_center_id                               2,1,3,8,4,9,7,6,5,10\n",
       "8                    name  Wrangler Men's Premium Performance Cowboy Cut ...\n",
       "\n",
       "[9 rows x 2 columns]"
      ]
     },
     "execution_count": 18,
     "metadata": {},
     "output_type": "execute_result"
    }
   ],
   "source": [
    "products_sample"
   ]
  },
  {
   "cell_type": "markdown",
   "id": "eb2677a7-fc04-4016-862a-9e79d26e5e05",
   "metadata": {},
   "source": [
    "---\n",
    "## BigQuery ML: Connect To Vertex AI LLMs with ML.GENERATE_TEXT\n",
    "\n",
    "BigQuery ML can `Create Model`s that are actually connections to Remote Models. [Reference](https://cloud.google.com/bigquery/docs/reference/standard-sql/bigqueryml-syntax-create-remote-model)\n",
    "\n",
    "Using the `REMOTE_SERVICE_TYPE = \"CLOUD_AI_LARGE_LANGUAGE_MODEL_V1\"` option will link to LLMs in Vertex AI!"
   ]
  },
  {
   "cell_type": "markdown",
   "id": "6bfe6cc1-84fc-48e3-9720-e864547406d0",
   "metadata": {},
   "source": [
    "### Connection Requirement\n",
    "\n",
    "To make a remote connection using BigQuery ML, BigQuery uses a CLOUD_RESOURCE connection. [Reference](https://cloud.google.com/bigquery/docs/reference/standard-sql/bigqueryml-syntax-create-remote-model#connection)\n",
    "\n",
    "Create a new connection with type `CLOUD_RESOURCE`: First, check for existing connection."
   ]
  },
  {
   "cell_type": "code",
   "execution_count": 20,
   "id": "794068db-3f6b-4278-adb0-6f607b412c11",
   "metadata": {
    "scrolled": true,
    "tags": []
   },
   "outputs": [
    {
     "name": "stdout",
     "output_type": "stream",
     "text": [
      "Found existing connection with service account: bqcx-746038361521-dl2h@gcp-sa-bigquery-condel.iam.gserviceaccount.com\n"
     ]
    }
   ],
   "source": [
    "try:\n",
    "    response = bq_connection.ConnectionServiceClient().get_connection(\n",
    "            request = bq_connection.GetConnectionRequest(\n",
    "                name = f\"projects/{BQ_PROJECT}/locations/{BQ_REGION}/connections/{SERIES}_{EXPERIMENT}\"\n",
    "            )\n",
    "    )\n",
    "    print(f'Found existing connection with service account: {response.cloud_resource.service_account_id}')\n",
    "    service_account = response.cloud_resource.service_account_id\n",
    "except Exception:\n",
    "    request = bq_connection.CreateConnectionRequest(\n",
    "        {\n",
    "            \"parent\": f\"projects/{BQ_PROJECT}/locations/{BQ_REGION}\",\n",
    "            \"connection_id\": f\"{SERIES}_{EXPERIMENT}\",\n",
    "            \"connection\": bq_connection.types.Connection(\n",
    "                {\n",
    "                    \"friendly_name\": f\"{SERIES}_{EXPERIMENT}\",\n",
    "                    \"cloud_resource\": bq_connection.CloudResourceProperties({})\n",
    "                }\n",
    "            )\n",
    "        }\n",
    "    )\n",
    "    response = bq_connection.ConnectionServiceClient().create_connection(request)\n",
    "    print(f'Created new connection with service account: {response.cloud_resource.service_account_id}')\n",
    "    service_account = response.cloud_resource.service_account_id\n",
    "    # assign the service account the Vertex AI User Role:\n",
    "    !gcloud projects add-iam-policy-binding {BQ_PROJECT} --member=serviceAccount:{service_account} --role=roles/aiplatform.user"
   ]
  },
  {
   "cell_type": "markdown",
   "id": "bb2d50c3-d8ec-4616-97b8-88cb61beadae",
   "metadata": {},
   "source": [
    "**NOTE**: The step above created a service account and assigned it the Vertex AI User Role.  This may take a moment to be recognized in the steps below.  If you get an error in one of the cells below try rerunning it."
   ]
  },
  {
   "cell_type": "markdown",
   "id": "eed5a21e-92f2-4388-b33a-b633f4553122",
   "metadata": {},
   "source": [
    "### Create The Remote Model In BigQuery"
   ]
  },
  {
   "cell_type": "markdown",
   "id": "7e99eb8d-8761-477d-a799-a74c4591f3fc",
   "metadata": {},
   "source": [
    "Create a temp model that connects to text generation model on Vertex AI - [Reference](https://cloud.google.com/python/docs/reference/bigframes/latest/bigframes.ml.llm.PaLM2TextGenerator)"
   ]
  },
  {
   "cell_type": "code",
   "execution_count": 22,
   "id": "aee512f6-0ea0-4d81-a0f8-a9c3f81c62ac",
   "metadata": {
    "tags": []
   },
   "outputs": [
    {
     "data": {
      "text/html": [
       "Query job 3113087e-c3e5-4ce3-9e85-7de71e09996b is DONE. 0 Bytes processed. <a target=\"_blank\" href=\"https://console.cloud.google.com/bigquery?project=demos-vertex-ai&j=bq:US:3113087e-c3e5-4ce3-9e85-7de71e09996b&page=queryresults\">Open Job</a>"
      ],
      "text/plain": [
       "<IPython.core.display.HTML object>"
      ]
     },
     "metadata": {},
     "output_type": "display_data"
    }
   ],
   "source": [
    "textgen_model = bfml.llm.PaLM2TextGenerator(\n",
    "    session = bf_session,\n",
    "    connection_name = f'{BQ_PROJECT}.{BQ_REGION}.{SERIES}_{EXPERIMENT}'\n",
    ")"
   ]
  },
  {
   "cell_type": "markdown",
   "id": "e5062779-5f9e-4b28-a742-5b9a46e67559",
   "metadata": {},
   "source": [
    "---\n",
    "## Generate Table Metadata"
   ]
  },
  {
   "cell_type": "markdown",
   "id": "bbd8cf41-69da-4bba-ae38-ad35e98f6eb8",
   "metadata": {},
   "source": [
    "### Bring Together Column Information"
   ]
  },
  {
   "cell_type": "code",
   "execution_count": 23,
   "id": "754a5882-e506-4590-b8d0-86dec382bdd3",
   "metadata": {
    "tags": []
   },
   "outputs": [
    {
     "data": {
      "text/plain": [
       "Index(['table_catalog', 'table_schema', 'table_name', 'column_name',\n",
       "       'field_path', 'data_type', 'description', 'collation_name',\n",
       "       'rounding_mode'],\n",
       "      dtype='object')"
      ]
     },
     "execution_count": 23,
     "metadata": {},
     "output_type": "execute_result"
    }
   ],
   "source": [
    "products_columns.columns"
   ]
  },
  {
   "cell_type": "code",
   "execution_count": 24,
   "id": "b6157b21-25a3-4a09-bd0a-a90ace4d7256",
   "metadata": {
    "tags": []
   },
   "outputs": [
    {
     "data": {
      "text/plain": [
       "Index(['column_name', 'column_sample'], dtype='object')"
      ]
     },
     "execution_count": 24,
     "metadata": {},
     "output_type": "execute_result"
    }
   ],
   "source": [
    "products_sample.columns"
   ]
  },
  {
   "cell_type": "code",
   "execution_count": 25,
   "id": "45b48a4c-4681-4590-b004-916d0c5d316e",
   "metadata": {
    "tags": []
   },
   "outputs": [],
   "source": [
    "products_columns = products_columns[['column_name', 'data_type', 'description']].merge(products_sample, on = 'column_name')"
   ]
  },
  {
   "cell_type": "code",
   "execution_count": 26,
   "id": "31b98fe9-d44f-4715-a1b0-9d12e6334f17",
   "metadata": {
    "tags": []
   },
   "outputs": [
    {
     "data": {
      "text/html": [
       "Query job f08bc70f-e181-44c5-a139-6077e68f421f is DONE. 1.7 kB processed. <a target=\"_blank\" href=\"https://console.cloud.google.com/bigquery?project=demos-vertex-ai&j=bq:US:f08bc70f-e181-44c5-a139-6077e68f421f&page=queryresults\">Open Job</a>"
      ],
      "text/plain": [
       "<IPython.core.display.HTML object>"
      ]
     },
     "metadata": {},
     "output_type": "display_data"
    },
    {
     "data": {
      "text/html": [
       "Query job 45709425-abad-4fc8-8263-8e6f3b2aa7fc is DONE. 0 Bytes processed. <a target=\"_blank\" href=\"https://console.cloud.google.com/bigquery?project=demos-vertex-ai&j=bq:US:45709425-abad-4fc8-8263-8e6f3b2aa7fc&page=queryresults\">Open Job</a>"
      ],
      "text/plain": [
       "<IPython.core.display.HTML object>"
      ]
     },
     "metadata": {},
     "output_type": "display_data"
    },
    {
     "data": {
      "text/html": [
       "Query job 6a511ebb-8b35-4e01-ac2e-92ea25280044 is DONE. 1.7 kB processed. <a target=\"_blank\" href=\"https://console.cloud.google.com/bigquery?project=demos-vertex-ai&j=bq:US:6a511ebb-8b35-4e01-ac2e-92ea25280044&page=queryresults\">Open Job</a>"
      ],
      "text/plain": [
       "<IPython.core.display.HTML object>"
      ]
     },
     "metadata": {},
     "output_type": "display_data"
    },
    {
     "data": {
      "text/html": [
       "<div>\n",
       "<style scoped>\n",
       "    .dataframe tbody tr th:only-of-type {\n",
       "        vertical-align: middle;\n",
       "    }\n",
       "\n",
       "    .dataframe tbody tr th {\n",
       "        vertical-align: top;\n",
       "    }\n",
       "\n",
       "    .dataframe thead th {\n",
       "        text-align: right;\n",
       "    }\n",
       "</style>\n",
       "<table border=\"1\" class=\"dataframe\">\n",
       "  <thead>\n",
       "    <tr style=\"text-align: right;\">\n",
       "      <th></th>\n",
       "      <th>column_name</th>\n",
       "      <th>data_type</th>\n",
       "      <th>description</th>\n",
       "      <th>column_sample</th>\n",
       "    </tr>\n",
       "  </thead>\n",
       "  <tbody>\n",
       "    <tr>\n",
       "      <th>0</th>\n",
       "      <td>cost</td>\n",
       "      <td>FLOAT64</td>\n",
       "      <td>&lt;NA&gt;</td>\n",
       "      <td>13.549999985843897,10.750000039115548,12.05000...</td>\n",
       "    </tr>\n",
       "    <tr>\n",
       "      <th>1</th>\n",
       "      <td>retail_price</td>\n",
       "      <td>FLOAT64</td>\n",
       "      <td>&lt;NA&gt;</td>\n",
       "      <td>25,29.989999771118164,19.989999771118164,39.99...</td>\n",
       "    </tr>\n",
       "    <tr>\n",
       "      <th>2</th>\n",
       "      <td>sku</td>\n",
       "      <td>STRING</td>\n",
       "      <td>&lt;NA&gt;</td>\n",
       "      <td>FFFCC1A3964B4AD665FA2F07D7BFD086,FFFB8EF15DE06...</td>\n",
       "    </tr>\n",
       "    <tr>\n",
       "      <th>3</th>\n",
       "      <td>distribution_center_id</td>\n",
       "      <td>INT64</td>\n",
       "      <td>&lt;NA&gt;</td>\n",
       "      <td>2,1,3,8,4,9,7,6,5,10</td>\n",
       "    </tr>\n",
       "    <tr>\n",
       "      <th>4</th>\n",
       "      <td>name</td>\n",
       "      <td>STRING</td>\n",
       "      <td>&lt;NA&gt;</td>\n",
       "      <td>Wrangler Men's Premium Performance Cowboy Cut ...</td>\n",
       "    </tr>\n",
       "    <tr>\n",
       "      <th>5</th>\n",
       "      <td>category</td>\n",
       "      <td>STRING</td>\n",
       "      <td>&lt;NA&gt;</td>\n",
       "      <td>Intimates,Jeans,Tops &amp; Tees,Fashion Hoodies &amp; ...</td>\n",
       "    </tr>\n",
       "    <tr>\n",
       "      <th>6</th>\n",
       "      <td>brand</td>\n",
       "      <td>STRING</td>\n",
       "      <td>&lt;NA&gt;</td>\n",
       "      <td>Allegra K,Calvin Klein,Carhartt,Hanes,Volcom,N...</td>\n",
       "    </tr>\n",
       "    <tr>\n",
       "      <th>7</th>\n",
       "      <td>department</td>\n",
       "      <td>STRING</td>\n",
       "      <td>&lt;NA&gt;</td>\n",
       "      <td>Women,Men</td>\n",
       "    </tr>\n",
       "    <tr>\n",
       "      <th>8</th>\n",
       "      <td>id</td>\n",
       "      <td>INT64</td>\n",
       "      <td>&lt;NA&gt;</td>\n",
       "      <td>29120,29119,29118,29117,29116,29115,29114,2911...</td>\n",
       "    </tr>\n",
       "  </tbody>\n",
       "</table>\n",
       "<p>9 rows × 4 columns</p>\n",
       "</div>[9 rows x 4 columns in total]"
      ],
      "text/plain": [
       "              column_name data_type description  \\\n",
       "0                    cost   FLOAT64        <NA>   \n",
       "1            retail_price   FLOAT64        <NA>   \n",
       "2                     sku    STRING        <NA>   \n",
       "3  distribution_center_id     INT64        <NA>   \n",
       "4                    name    STRING        <NA>   \n",
       "5                category    STRING        <NA>   \n",
       "6                   brand    STRING        <NA>   \n",
       "7              department    STRING        <NA>   \n",
       "8                      id     INT64        <NA>   \n",
       "\n",
       "                                       column_sample  \n",
       "0  13.549999985843897,10.750000039115548,12.05000...  \n",
       "1  25,29.989999771118164,19.989999771118164,39.99...  \n",
       "2  FFFCC1A3964B4AD665FA2F07D7BFD086,FFFB8EF15DE06...  \n",
       "3                               2,1,3,8,4,9,7,6,5,10  \n",
       "4  Wrangler Men's Premium Performance Cowboy Cut ...  \n",
       "5  Intimates,Jeans,Tops & Tees,Fashion Hoodies & ...  \n",
       "6  Allegra K,Calvin Klein,Carhartt,Hanes,Volcom,N...  \n",
       "7                                          Women,Men  \n",
       "8  29120,29119,29118,29117,29116,29115,29114,2911...  \n",
       "\n",
       "[9 rows x 4 columns]"
      ]
     },
     "execution_count": 26,
     "metadata": {},
     "output_type": "execute_result"
    }
   ],
   "source": [
    "products_columns"
   ]
  },
  {
   "cell_type": "markdown",
   "id": "d492c28c-7218-45a2-87bc-5cdd264d035f",
   "metadata": {},
   "source": [
    "### Add Table Information"
   ]
  },
  {
   "cell_type": "code",
   "execution_count": 27,
   "id": "bd10de64-b9ee-44a0-ad0f-20f877359177",
   "metadata": {
    "tags": []
   },
   "outputs": [
    {
     "data": {
      "text/html": [
       "Query job b2f12bf8-a157-49bc-a37a-8821f7d0b40d is DONE. 26 Bytes processed. <a target=\"_blank\" href=\"https://console.cloud.google.com/bigquery?project=demos-vertex-ai&j=bq:US:b2f12bf8-a157-49bc-a37a-8821f7d0b40d&page=queryresults\">Open Job</a>"
      ],
      "text/plain": [
       "<IPython.core.display.HTML object>"
      ]
     },
     "metadata": {},
     "output_type": "display_data"
    },
    {
     "data": {
      "text/html": [
       "Query job 3ad99f83-a130-4a5f-afe9-a15306b72112 is DONE. 75 Bytes processed. <a target=\"_blank\" href=\"https://console.cloud.google.com/bigquery?project=demos-vertex-ai&j=bq:US:3ad99f83-a130-4a5f-afe9-a15306b72112&page=queryresults\">Open Job</a>"
      ],
      "text/plain": [
       "<IPython.core.display.HTML object>"
      ]
     },
     "metadata": {},
     "output_type": "display_data"
    }
   ],
   "source": [
    "products_columns['table_name'] = products_table['table_name'].iloc[0]\n",
    "products_columns['table_description'] = products_table['option_value'].iloc[0]"
   ]
  },
  {
   "cell_type": "code",
   "execution_count": 28,
   "id": "8235a42f-4db8-4afd-8014-2d1bb0ef9fb6",
   "metadata": {
    "tags": []
   },
   "outputs": [
    {
     "data": {
      "text/html": [
       "Query job 882f95df-6d8f-4d7c-a7d1-c68d110596e3 is DONE. 0 Bytes processed. <a target=\"_blank\" href=\"https://console.cloud.google.com/bigquery?project=demos-vertex-ai&j=bq:US:882f95df-6d8f-4d7c-a7d1-c68d110596e3&page=queryresults\">Open Job</a>"
      ],
      "text/plain": [
       "<IPython.core.display.HTML object>"
      ]
     },
     "metadata": {},
     "output_type": "display_data"
    },
    {
     "data": {
      "text/html": [
       "Query job 434f6933-c20c-4450-9e01-58ca74c6c4f2 is DONE. 1.7 kB processed. <a target=\"_blank\" href=\"https://console.cloud.google.com/bigquery?project=demos-vertex-ai&j=bq:US:434f6933-c20c-4450-9e01-58ca74c6c4f2&page=queryresults\">Open Job</a>"
      ],
      "text/plain": [
       "<IPython.core.display.HTML object>"
      ]
     },
     "metadata": {},
     "output_type": "display_data"
    },
    {
     "data": {
      "text/html": [
       "<div>\n",
       "<style scoped>\n",
       "    .dataframe tbody tr th:only-of-type {\n",
       "        vertical-align: middle;\n",
       "    }\n",
       "\n",
       "    .dataframe tbody tr th {\n",
       "        vertical-align: top;\n",
       "    }\n",
       "\n",
       "    .dataframe thead th {\n",
       "        text-align: right;\n",
       "    }\n",
       "</style>\n",
       "<table border=\"1\" class=\"dataframe\">\n",
       "  <thead>\n",
       "    <tr style=\"text-align: right;\">\n",
       "      <th></th>\n",
       "      <th>column_name</th>\n",
       "      <th>data_type</th>\n",
       "      <th>description</th>\n",
       "      <th>column_sample</th>\n",
       "      <th>table_name</th>\n",
       "      <th>table_description</th>\n",
       "    </tr>\n",
       "  </thead>\n",
       "  <tbody>\n",
       "    <tr>\n",
       "      <th>0</th>\n",
       "      <td>cost</td>\n",
       "      <td>FLOAT64</td>\n",
       "      <td>&lt;NA&gt;</td>\n",
       "      <td>13.549999985843897,10.750000039115548,12.05000...</td>\n",
       "      <td>products</td>\n",
       "      <td>\"The Look fictitious e-commerce dataset - prod...</td>\n",
       "    </tr>\n",
       "    <tr>\n",
       "      <th>1</th>\n",
       "      <td>retail_price</td>\n",
       "      <td>FLOAT64</td>\n",
       "      <td>&lt;NA&gt;</td>\n",
       "      <td>25,29.989999771118164,19.989999771118164,39.99...</td>\n",
       "      <td>products</td>\n",
       "      <td>\"The Look fictitious e-commerce dataset - prod...</td>\n",
       "    </tr>\n",
       "    <tr>\n",
       "      <th>2</th>\n",
       "      <td>sku</td>\n",
       "      <td>STRING</td>\n",
       "      <td>&lt;NA&gt;</td>\n",
       "      <td>FFFCC1A3964B4AD665FA2F07D7BFD086,FFFB8EF15DE06...</td>\n",
       "      <td>products</td>\n",
       "      <td>\"The Look fictitious e-commerce dataset - prod...</td>\n",
       "    </tr>\n",
       "    <tr>\n",
       "      <th>3</th>\n",
       "      <td>distribution_center_id</td>\n",
       "      <td>INT64</td>\n",
       "      <td>&lt;NA&gt;</td>\n",
       "      <td>2,1,3,8,4,9,7,6,5,10</td>\n",
       "      <td>products</td>\n",
       "      <td>\"The Look fictitious e-commerce dataset - prod...</td>\n",
       "    </tr>\n",
       "    <tr>\n",
       "      <th>4</th>\n",
       "      <td>name</td>\n",
       "      <td>STRING</td>\n",
       "      <td>&lt;NA&gt;</td>\n",
       "      <td>Wrangler Men's Premium Performance Cowboy Cut ...</td>\n",
       "      <td>products</td>\n",
       "      <td>\"The Look fictitious e-commerce dataset - prod...</td>\n",
       "    </tr>\n",
       "    <tr>\n",
       "      <th>5</th>\n",
       "      <td>category</td>\n",
       "      <td>STRING</td>\n",
       "      <td>&lt;NA&gt;</td>\n",
       "      <td>Intimates,Jeans,Tops &amp; Tees,Fashion Hoodies &amp; ...</td>\n",
       "      <td>products</td>\n",
       "      <td>\"The Look fictitious e-commerce dataset - prod...</td>\n",
       "    </tr>\n",
       "    <tr>\n",
       "      <th>6</th>\n",
       "      <td>brand</td>\n",
       "      <td>STRING</td>\n",
       "      <td>&lt;NA&gt;</td>\n",
       "      <td>Allegra K,Calvin Klein,Carhartt,Hanes,Volcom,N...</td>\n",
       "      <td>products</td>\n",
       "      <td>\"The Look fictitious e-commerce dataset - prod...</td>\n",
       "    </tr>\n",
       "    <tr>\n",
       "      <th>7</th>\n",
       "      <td>department</td>\n",
       "      <td>STRING</td>\n",
       "      <td>&lt;NA&gt;</td>\n",
       "      <td>Women,Men</td>\n",
       "      <td>products</td>\n",
       "      <td>\"The Look fictitious e-commerce dataset - prod...</td>\n",
       "    </tr>\n",
       "    <tr>\n",
       "      <th>8</th>\n",
       "      <td>id</td>\n",
       "      <td>INT64</td>\n",
       "      <td>&lt;NA&gt;</td>\n",
       "      <td>29120,29119,29118,29117,29116,29115,29114,2911...</td>\n",
       "      <td>products</td>\n",
       "      <td>\"The Look fictitious e-commerce dataset - prod...</td>\n",
       "    </tr>\n",
       "  </tbody>\n",
       "</table>\n",
       "<p>9 rows × 6 columns</p>\n",
       "</div>[9 rows x 6 columns in total]"
      ],
      "text/plain": [
       "              column_name data_type description  \\\n",
       "0                    cost   FLOAT64        <NA>   \n",
       "1            retail_price   FLOAT64        <NA>   \n",
       "2                     sku    STRING        <NA>   \n",
       "3  distribution_center_id     INT64        <NA>   \n",
       "4                    name    STRING        <NA>   \n",
       "5                category    STRING        <NA>   \n",
       "6                   brand    STRING        <NA>   \n",
       "7              department    STRING        <NA>   \n",
       "8                      id     INT64        <NA>   \n",
       "\n",
       "                                       column_sample table_name  \\\n",
       "0  13.549999985843897,10.750000039115548,12.05000...   products   \n",
       "1  25,29.989999771118164,19.989999771118164,39.99...   products   \n",
       "2  FFFCC1A3964B4AD665FA2F07D7BFD086,FFFB8EF15DE06...   products   \n",
       "3                               2,1,3,8,4,9,7,6,5,10   products   \n",
       "4  Wrangler Men's Premium Performance Cowboy Cut ...   products   \n",
       "5  Intimates,Jeans,Tops & Tees,Fashion Hoodies & ...   products   \n",
       "6  Allegra K,Calvin Klein,Carhartt,Hanes,Volcom,N...   products   \n",
       "7                                          Women,Men   products   \n",
       "8  29120,29119,29118,29117,29116,29115,29114,2911...   products   \n",
       "\n",
       "                                   table_description  \n",
       "0  \"The Look fictitious e-commerce dataset - prod...  \n",
       "1  \"The Look fictitious e-commerce dataset - prod...  \n",
       "2  \"The Look fictitious e-commerce dataset - prod...  \n",
       "3  \"The Look fictitious e-commerce dataset - prod...  \n",
       "4  \"The Look fictitious e-commerce dataset - prod...  \n",
       "5  \"The Look fictitious e-commerce dataset - prod...  \n",
       "6  \"The Look fictitious e-commerce dataset - prod...  \n",
       "7  \"The Look fictitious e-commerce dataset - prod...  \n",
       "8  \"The Look fictitious e-commerce dataset - prod...  \n",
       "\n",
       "[9 rows x 6 columns]"
      ]
     },
     "execution_count": 28,
     "metadata": {},
     "output_type": "execute_result"
    }
   ],
   "source": [
    "products_columns"
   ]
  },
  {
   "cell_type": "markdown",
   "id": "1036bea9-a3d8-4e94-bca3-ac650f6d4dfe",
   "metadata": {},
   "source": [
    "### Create Column Naming Prompt"
   ]
  },
  {
   "cell_type": "code",
   "execution_count": 29,
   "id": "a389bb39-cc29-4740-8c45-cf7b3357bfd7",
   "metadata": {
    "tags": []
   },
   "outputs": [],
   "source": [
    "products_columns['name_prompt'] = (\n",
    "    'Generate a new column name for a BigQuery column with the following information. '\n",
    "    + 'The current column name is ' + products_columns['column_name'] + '. '\n",
    "    + 'The table has the name ' + products_columns['table_name'] + '. '\n",
    "    + 'The column has a datatype of ' + products_columns['data_type'] + ' with common values like: ' + products_columns['column_sample'] + '.'\n",
    ")"
   ]
  },
  {
   "cell_type": "code",
   "execution_count": 30,
   "id": "d63fdbb8-d1cc-4842-9192-321bcb36eab4",
   "metadata": {
    "tags": []
   },
   "outputs": [
    {
     "data": {
      "text/html": [
       "Query job c12c3862-9c56-4073-b82b-1b4bf447b4db is DONE. 1.7 kB processed. <a target=\"_blank\" href=\"https://console.cloud.google.com/bigquery?project=demos-vertex-ai&j=bq:US:c12c3862-9c56-4073-b82b-1b4bf447b4db&page=queryresults\">Open Job</a>"
      ],
      "text/plain": [
       "<IPython.core.display.HTML object>"
      ]
     },
     "metadata": {},
     "output_type": "display_data"
    },
    {
     "data": {
      "text/html": [
       "Query job 4538620c-3ba4-4830-aad0-2f89259551c8 is DONE. 0 Bytes processed. <a target=\"_blank\" href=\"https://console.cloud.google.com/bigquery?project=demos-vertex-ai&j=bq:US:4538620c-3ba4-4830-aad0-2f89259551c8&page=queryresults\">Open Job</a>"
      ],
      "text/plain": [
       "<IPython.core.display.HTML object>"
      ]
     },
     "metadata": {},
     "output_type": "display_data"
    },
    {
     "data": {
      "text/html": [
       "Query job 815732a8-7238-4534-a62e-3d90edc35df2 is DONE. 5.8 kB processed. <a target=\"_blank\" href=\"https://console.cloud.google.com/bigquery?project=demos-vertex-ai&j=bq:US:815732a8-7238-4534-a62e-3d90edc35df2&page=queryresults\">Open Job</a>"
      ],
      "text/plain": [
       "<IPython.core.display.HTML object>"
      ]
     },
     "metadata": {},
     "output_type": "display_data"
    },
    {
     "data": {
      "text/html": [
       "<div>\n",
       "<style scoped>\n",
       "    .dataframe tbody tr th:only-of-type {\n",
       "        vertical-align: middle;\n",
       "    }\n",
       "\n",
       "    .dataframe tbody tr th {\n",
       "        vertical-align: top;\n",
       "    }\n",
       "\n",
       "    .dataframe thead th {\n",
       "        text-align: right;\n",
       "    }\n",
       "</style>\n",
       "<table border=\"1\" class=\"dataframe\">\n",
       "  <thead>\n",
       "    <tr style=\"text-align: right;\">\n",
       "      <th></th>\n",
       "      <th>column_name</th>\n",
       "      <th>data_type</th>\n",
       "      <th>description</th>\n",
       "      <th>column_sample</th>\n",
       "      <th>table_name</th>\n",
       "      <th>table_description</th>\n",
       "      <th>name_prompt</th>\n",
       "    </tr>\n",
       "  </thead>\n",
       "  <tbody>\n",
       "    <tr>\n",
       "      <th>0</th>\n",
       "      <td>cost</td>\n",
       "      <td>FLOAT64</td>\n",
       "      <td>&lt;NA&gt;</td>\n",
       "      <td>13.549999985843897,10.750000039115548,12.05000...</td>\n",
       "      <td>products</td>\n",
       "      <td>\"The Look fictitious e-commerce dataset - prod...</td>\n",
       "      <td>Generate a new column name for a BigQuery colu...</td>\n",
       "    </tr>\n",
       "    <tr>\n",
       "      <th>1</th>\n",
       "      <td>retail_price</td>\n",
       "      <td>FLOAT64</td>\n",
       "      <td>&lt;NA&gt;</td>\n",
       "      <td>25,29.989999771118164,19.989999771118164,39.99...</td>\n",
       "      <td>products</td>\n",
       "      <td>\"The Look fictitious e-commerce dataset - prod...</td>\n",
       "      <td>Generate a new column name for a BigQuery colu...</td>\n",
       "    </tr>\n",
       "    <tr>\n",
       "      <th>2</th>\n",
       "      <td>sku</td>\n",
       "      <td>STRING</td>\n",
       "      <td>&lt;NA&gt;</td>\n",
       "      <td>FFFCC1A3964B4AD665FA2F07D7BFD086,FFFB8EF15DE06...</td>\n",
       "      <td>products</td>\n",
       "      <td>\"The Look fictitious e-commerce dataset - prod...</td>\n",
       "      <td>Generate a new column name for a BigQuery colu...</td>\n",
       "    </tr>\n",
       "    <tr>\n",
       "      <th>3</th>\n",
       "      <td>distribution_center_id</td>\n",
       "      <td>INT64</td>\n",
       "      <td>&lt;NA&gt;</td>\n",
       "      <td>2,1,3,8,4,9,7,6,5,10</td>\n",
       "      <td>products</td>\n",
       "      <td>\"The Look fictitious e-commerce dataset - prod...</td>\n",
       "      <td>Generate a new column name for a BigQuery colu...</td>\n",
       "    </tr>\n",
       "    <tr>\n",
       "      <th>4</th>\n",
       "      <td>name</td>\n",
       "      <td>STRING</td>\n",
       "      <td>&lt;NA&gt;</td>\n",
       "      <td>Wrangler Men's Premium Performance Cowboy Cut ...</td>\n",
       "      <td>products</td>\n",
       "      <td>\"The Look fictitious e-commerce dataset - prod...</td>\n",
       "      <td>Generate a new column name for a BigQuery colu...</td>\n",
       "    </tr>\n",
       "    <tr>\n",
       "      <th>5</th>\n",
       "      <td>category</td>\n",
       "      <td>STRING</td>\n",
       "      <td>&lt;NA&gt;</td>\n",
       "      <td>Intimates,Jeans,Tops &amp; Tees,Fashion Hoodies &amp; ...</td>\n",
       "      <td>products</td>\n",
       "      <td>\"The Look fictitious e-commerce dataset - prod...</td>\n",
       "      <td>Generate a new column name for a BigQuery colu...</td>\n",
       "    </tr>\n",
       "    <tr>\n",
       "      <th>6</th>\n",
       "      <td>brand</td>\n",
       "      <td>STRING</td>\n",
       "      <td>&lt;NA&gt;</td>\n",
       "      <td>Allegra K,Calvin Klein,Carhartt,Hanes,Volcom,N...</td>\n",
       "      <td>products</td>\n",
       "      <td>\"The Look fictitious e-commerce dataset - prod...</td>\n",
       "      <td>Generate a new column name for a BigQuery colu...</td>\n",
       "    </tr>\n",
       "    <tr>\n",
       "      <th>7</th>\n",
       "      <td>department</td>\n",
       "      <td>STRING</td>\n",
       "      <td>&lt;NA&gt;</td>\n",
       "      <td>Women,Men</td>\n",
       "      <td>products</td>\n",
       "      <td>\"The Look fictitious e-commerce dataset - prod...</td>\n",
       "      <td>Generate a new column name for a BigQuery colu...</td>\n",
       "    </tr>\n",
       "    <tr>\n",
       "      <th>8</th>\n",
       "      <td>id</td>\n",
       "      <td>INT64</td>\n",
       "      <td>&lt;NA&gt;</td>\n",
       "      <td>29120,29119,29118,29117,29116,29115,29114,2911...</td>\n",
       "      <td>products</td>\n",
       "      <td>\"The Look fictitious e-commerce dataset - prod...</td>\n",
       "      <td>Generate a new column name for a BigQuery colu...</td>\n",
       "    </tr>\n",
       "  </tbody>\n",
       "</table>\n",
       "<p>9 rows × 7 columns</p>\n",
       "</div>[9 rows x 7 columns in total]"
      ],
      "text/plain": [
       "              column_name data_type description  \\\n",
       "0                    cost   FLOAT64        <NA>   \n",
       "1            retail_price   FLOAT64        <NA>   \n",
       "2                     sku    STRING        <NA>   \n",
       "3  distribution_center_id     INT64        <NA>   \n",
       "4                    name    STRING        <NA>   \n",
       "5                category    STRING        <NA>   \n",
       "6                   brand    STRING        <NA>   \n",
       "7              department    STRING        <NA>   \n",
       "8                      id     INT64        <NA>   \n",
       "\n",
       "                                       column_sample table_name  \\\n",
       "0  13.549999985843897,10.750000039115548,12.05000...   products   \n",
       "1  25,29.989999771118164,19.989999771118164,39.99...   products   \n",
       "2  FFFCC1A3964B4AD665FA2F07D7BFD086,FFFB8EF15DE06...   products   \n",
       "3                               2,1,3,8,4,9,7,6,5,10   products   \n",
       "4  Wrangler Men's Premium Performance Cowboy Cut ...   products   \n",
       "5  Intimates,Jeans,Tops & Tees,Fashion Hoodies & ...   products   \n",
       "6  Allegra K,Calvin Klein,Carhartt,Hanes,Volcom,N...   products   \n",
       "7                                          Women,Men   products   \n",
       "8  29120,29119,29118,29117,29116,29115,29114,2911...   products   \n",
       "\n",
       "                                   table_description  \\\n",
       "0  \"The Look fictitious e-commerce dataset - prod...   \n",
       "1  \"The Look fictitious e-commerce dataset - prod...   \n",
       "2  \"The Look fictitious e-commerce dataset - prod...   \n",
       "3  \"The Look fictitious e-commerce dataset - prod...   \n",
       "4  \"The Look fictitious e-commerce dataset - prod...   \n",
       "5  \"The Look fictitious e-commerce dataset - prod...   \n",
       "6  \"The Look fictitious e-commerce dataset - prod...   \n",
       "7  \"The Look fictitious e-commerce dataset - prod...   \n",
       "8  \"The Look fictitious e-commerce dataset - prod...   \n",
       "\n",
       "                                         name_prompt  \n",
       "0  Generate a new column name for a BigQuery colu...  \n",
       "1  Generate a new column name for a BigQuery colu...  \n",
       "2  Generate a new column name for a BigQuery colu...  \n",
       "3  Generate a new column name for a BigQuery colu...  \n",
       "4  Generate a new column name for a BigQuery colu...  \n",
       "5  Generate a new column name for a BigQuery colu...  \n",
       "6  Generate a new column name for a BigQuery colu...  \n",
       "7  Generate a new column name for a BigQuery colu...  \n",
       "8  Generate a new column name for a BigQuery colu...  \n",
       "\n",
       "[9 rows x 7 columns]"
      ]
     },
     "execution_count": 30,
     "metadata": {},
     "output_type": "execute_result"
    }
   ],
   "source": [
    "products_columns"
   ]
  },
  {
   "cell_type": "code",
   "execution_count": 31,
   "id": "4991ffc7-a1eb-4d98-896e-e59d37f80932",
   "metadata": {
    "tags": []
   },
   "outputs": [
    {
     "data": {
      "text/html": [
       "Query job be798993-035c-408b-9384-16540647c5a9 is DONE. 3.6 kB processed. <a target=\"_blank\" href=\"https://console.cloud.google.com/bigquery?project=demos-vertex-ai&j=bq:US:be798993-035c-408b-9384-16540647c5a9&page=queryresults\">Open Job</a>"
      ],
      "text/plain": [
       "<IPython.core.display.HTML object>"
      ]
     },
     "metadata": {},
     "output_type": "display_data"
    },
    {
     "data": {
      "text/plain": [
       "'Generate a new column name for a BigQuery column with the following information. The current column name is sku. The table has the name products. The column has a datatype of STRING with common values like: FFFCC1A3964B4AD665FA2F07D7BFD086,FFFB8EF15DE06D87E6BA6C830F3B6284,FFF75F52998A477F6E7B00E58AF8D64A,FFF6F444C0FD08F8CCA7EB254A216565,FFF574293A6252F4029A9413F364B2E6,FFF38493F5A1643EE8EF247750540EE2,FFF079091FAB64095F9CAD3298F1057A,FFEED84C7CB1AE7BF4EC4BD78275BB98,FFEDF5BE3A86E2EE281D54CDC97BC1CF,FFEC51567543679F01CE65724ADCA743.'"
      ]
     },
     "execution_count": 31,
     "metadata": {},
     "output_type": "execute_result"
    }
   ],
   "source": [
    "products_columns['name_prompt'].iloc[2]"
   ]
  },
  {
   "cell_type": "markdown",
   "id": "59d8ff05-13d8-42cd-89a8-377133cf45a7",
   "metadata": {},
   "source": [
    "### Generate New Column Names"
   ]
  },
  {
   "cell_type": "code",
   "execution_count": 32,
   "id": "8f52afe9-5316-41e4-b2e2-35e000673fdf",
   "metadata": {
    "tags": []
   },
   "outputs": [
    {
     "data": {
      "text/html": [
       "Query job a8a9f7af-6d81-4841-835b-d1c743fc8d3e is DONE. 3.3 kB processed. <a target=\"_blank\" href=\"https://console.cloud.google.com/bigquery?project=demos-vertex-ai&j=bq:US:a8a9f7af-6d81-4841-835b-d1c743fc8d3e&page=queryresults\">Open Job</a>"
      ],
      "text/plain": [
       "<IPython.core.display.HTML object>"
      ]
     },
     "metadata": {},
     "output_type": "display_data"
    },
    {
     "data": {
      "text/html": [
       "Query job 068e9ad8-f6b9-4237-9497-7e1494e15003 is DONE. 72 Bytes processed. <a target=\"_blank\" href=\"https://console.cloud.google.com/bigquery?project=demos-vertex-ai&j=bq:US:068e9ad8-f6b9-4237-9497-7e1494e15003&page=queryresults\">Open Job</a>"
      ],
      "text/plain": [
       "<IPython.core.display.HTML object>"
      ]
     },
     "metadata": {},
     "output_type": "display_data"
    },
    {
     "data": {
      "text/html": [
       "Query job 08a865e5-bb2c-4367-aa5c-07f56d99d3bf is DONE. 18 Bytes processed. <a target=\"_blank\" href=\"https://console.cloud.google.com/bigquery?project=demos-vertex-ai&j=bq:US:08a865e5-bb2c-4367-aa5c-07f56d99d3bf&page=queryresults\">Open Job</a>"
      ],
      "text/plain": [
       "<IPython.core.display.HTML object>"
      ]
     },
     "metadata": {},
     "output_type": "display_data"
    }
   ],
   "source": [
    "products_columns = products_columns.join(textgen_model.predict(products_columns['name_prompt']).rename(columns={'ml_generate_text_llm_result':'new_column_name'}))"
   ]
  },
  {
   "cell_type": "code",
   "execution_count": 33,
   "id": "5312d5de-f5f9-4ad5-829a-36b3a4968d96",
   "metadata": {
    "tags": []
   },
   "outputs": [
    {
     "data": {
      "text/html": [
       "Query job f317eb0f-4e38-49fb-857b-ad409955cee5 is DONE. 14.0 kB processed. <a target=\"_blank\" href=\"https://console.cloud.google.com/bigquery?project=demos-vertex-ai&j=bq:US:f317eb0f-4e38-49fb-857b-ad409955cee5&page=queryresults\">Open Job</a>"
      ],
      "text/plain": [
       "<IPython.core.display.HTML object>"
      ]
     },
     "metadata": {},
     "output_type": "display_data"
    },
    {
     "data": {
      "text/html": [
       "Query job dbfaa5df-f314-428b-b2d8-3dc34aa73ff7 is DONE. 0 Bytes processed. <a target=\"_blank\" href=\"https://console.cloud.google.com/bigquery?project=demos-vertex-ai&j=bq:US:dbfaa5df-f314-428b-b2d8-3dc34aa73ff7&page=queryresults\">Open Job</a>"
      ],
      "text/plain": [
       "<IPython.core.display.HTML object>"
      ]
     },
     "metadata": {},
     "output_type": "display_data"
    },
    {
     "data": {
      "text/html": [
       "Query job 7ff7eecf-7f3a-482e-a1ac-7255b4ac8885 is DONE. 16.3 kB processed. <a target=\"_blank\" href=\"https://console.cloud.google.com/bigquery?project=demos-vertex-ai&j=bq:US:7ff7eecf-7f3a-482e-a1ac-7255b4ac8885&page=queryresults\">Open Job</a>"
      ],
      "text/plain": [
       "<IPython.core.display.HTML object>"
      ]
     },
     "metadata": {},
     "output_type": "display_data"
    },
    {
     "data": {
      "text/html": [
       "<div>\n",
       "<style scoped>\n",
       "    .dataframe tbody tr th:only-of-type {\n",
       "        vertical-align: middle;\n",
       "    }\n",
       "\n",
       "    .dataframe tbody tr th {\n",
       "        vertical-align: top;\n",
       "    }\n",
       "\n",
       "    .dataframe thead th {\n",
       "        text-align: right;\n",
       "    }\n",
       "</style>\n",
       "<table border=\"1\" class=\"dataframe\">\n",
       "  <thead>\n",
       "    <tr style=\"text-align: right;\">\n",
       "      <th></th>\n",
       "      <th>column_name</th>\n",
       "      <th>data_type</th>\n",
       "      <th>description</th>\n",
       "      <th>column_sample</th>\n",
       "      <th>table_name</th>\n",
       "      <th>table_description</th>\n",
       "      <th>name_prompt</th>\n",
       "      <th>new_column_name</th>\n",
       "      <th>ml_generate_text_rai_result</th>\n",
       "      <th>ml_generate_text_status</th>\n",
       "      <th>prompt</th>\n",
       "    </tr>\n",
       "  </thead>\n",
       "  <tbody>\n",
       "    <tr>\n",
       "      <th>0</th>\n",
       "      <td>cost</td>\n",
       "      <td>FLOAT64</td>\n",
       "      <td>&lt;NA&gt;</td>\n",
       "      <td>13.549999985843897,10.750000039115548,12.05000...</td>\n",
       "      <td>products</td>\n",
       "      <td>\"The Look fictitious e-commerce dataset - prod...</td>\n",
       "      <td>Generate a new column name for a BigQuery colu...</td>\n",
       "      <td>The new column name could be products_cost_us...</td>\n",
       "      <td>{\"blocked\":false,\"categories\":[\"Derogatory\",\"F...</td>\n",
       "      <td></td>\n",
       "      <td>Generate a new column name for a BigQuery colu...</td>\n",
       "    </tr>\n",
       "    <tr>\n",
       "      <th>1</th>\n",
       "      <td>retail_price</td>\n",
       "      <td>FLOAT64</td>\n",
       "      <td>&lt;NA&gt;</td>\n",
       "      <td>25,29.989999771118164,19.989999771118164,39.99...</td>\n",
       "      <td>products</td>\n",
       "      <td>\"The Look fictitious e-commerce dataset - prod...</td>\n",
       "      <td>Generate a new column name for a BigQuery colu...</td>\n",
       "      <td>The new column name could be products_retail_...</td>\n",
       "      <td>{\"blocked\":false,\"categories\":[\"Finance\",\"Heal...</td>\n",
       "      <td></td>\n",
       "      <td>Generate a new column name for a BigQuery colu...</td>\n",
       "    </tr>\n",
       "    <tr>\n",
       "      <th>2</th>\n",
       "      <td>sku</td>\n",
       "      <td>STRING</td>\n",
       "      <td>&lt;NA&gt;</td>\n",
       "      <td>FFFCC1A3964B4AD665FA2F07D7BFD086,FFFB8EF15DE06...</td>\n",
       "      <td>products</td>\n",
       "      <td>\"The Look fictitious e-commerce dataset - prod...</td>\n",
       "      <td>Generate a new column name for a BigQuery colu...</td>\n",
       "      <td>A good new column name for the sku column in ...</td>\n",
       "      <td>{\"blocked\":false,\"categories\":[\"Derogatory\",\"F...</td>\n",
       "      <td></td>\n",
       "      <td>Generate a new column name for a BigQuery colu...</td>\n",
       "    </tr>\n",
       "    <tr>\n",
       "      <th>3</th>\n",
       "      <td>distribution_center_id</td>\n",
       "      <td>INT64</td>\n",
       "      <td>&lt;NA&gt;</td>\n",
       "      <td>2,1,3,8,4,9,7,6,5,10</td>\n",
       "      <td>products</td>\n",
       "      <td>\"The Look fictitious e-commerce dataset - prod...</td>\n",
       "      <td>Generate a new column name for a BigQuery colu...</td>\n",
       "      <td>distribution_center_id_products</td>\n",
       "      <td>{\"blocked\":false,\"categories\":[\"Derogatory\",\"F...</td>\n",
       "      <td></td>\n",
       "      <td>Generate a new column name for a BigQuery colu...</td>\n",
       "    </tr>\n",
       "    <tr>\n",
       "      <th>4</th>\n",
       "      <td>name</td>\n",
       "      <td>STRING</td>\n",
       "      <td>&lt;NA&gt;</td>\n",
       "      <td>Wrangler Men's Premium Performance Cowboy Cut ...</td>\n",
       "      <td>products</td>\n",
       "      <td>\"The Look fictitious e-commerce dataset - prod...</td>\n",
       "      <td>Generate a new column name for a BigQuery colu...</td>\n",
       "      <td>Based on the information provided, here are a...</td>\n",
       "      <td>{\"blocked\":false,\"categories\":[\"Derogatory\",\"F...</td>\n",
       "      <td></td>\n",
       "      <td>Generate a new column name for a BigQuery colu...</td>\n",
       "    </tr>\n",
       "    <tr>\n",
       "      <th>5</th>\n",
       "      <td>category</td>\n",
       "      <td>STRING</td>\n",
       "      <td>&lt;NA&gt;</td>\n",
       "      <td>Intimates,Jeans,Tops &amp; Tees,Fashion Hoodies &amp; ...</td>\n",
       "      <td>products</td>\n",
       "      <td>\"The Look fictitious e-commerce dataset - prod...</td>\n",
       "      <td>Generate a new column name for a BigQuery colu...</td>\n",
       "      <td>The new column name could be **product_catego...</td>\n",
       "      <td>{\"blocked\":false,\"categories\":[\"Derogatory\",\"F...</td>\n",
       "      <td></td>\n",
       "      <td>Generate a new column name for a BigQuery colu...</td>\n",
       "    </tr>\n",
       "    <tr>\n",
       "      <th>6</th>\n",
       "      <td>brand</td>\n",
       "      <td>STRING</td>\n",
       "      <td>&lt;NA&gt;</td>\n",
       "      <td>Allegra K,Calvin Klein,Carhartt,Hanes,Volcom,N...</td>\n",
       "      <td>products</td>\n",
       "      <td>\"The Look fictitious e-commerce dataset - prod...</td>\n",
       "      <td>Generate a new column name for a BigQuery colu...</td>\n",
       "      <td>Here are some possible new column names for t...</td>\n",
       "      <td>{\"blocked\":false,\"categories\":[\"Derogatory\",\"F...</td>\n",
       "      <td></td>\n",
       "      <td>Generate a new column name for a BigQuery colu...</td>\n",
       "    </tr>\n",
       "    <tr>\n",
       "      <th>7</th>\n",
       "      <td>department</td>\n",
       "      <td>STRING</td>\n",
       "      <td>&lt;NA&gt;</td>\n",
       "      <td>Women,Men</td>\n",
       "      <td>products</td>\n",
       "      <td>\"The Look fictitious e-commerce dataset - prod...</td>\n",
       "      <td>Generate a new column name for a BigQuery colu...</td>\n",
       "      <td>The new column name could be `product_departm...</td>\n",
       "      <td>{\"blocked\":false,\"categories\":[\"Derogatory\",\"F...</td>\n",
       "      <td></td>\n",
       "      <td>Generate a new column name for a BigQuery colu...</td>\n",
       "    </tr>\n",
       "    <tr>\n",
       "      <th>8</th>\n",
       "      <td>id</td>\n",
       "      <td>INT64</td>\n",
       "      <td>&lt;NA&gt;</td>\n",
       "      <td>29120,29119,29118,29117,29116,29115,29114,2911...</td>\n",
       "      <td>products</td>\n",
       "      <td>\"The Look fictitious e-commerce dataset - prod...</td>\n",
       "      <td>Generate a new column name for a BigQuery colu...</td>\n",
       "      <td>The new column name could be product_id. This...</td>\n",
       "      <td>{\"blocked\":false,\"categories\":[\"Derogatory\",\"F...</td>\n",
       "      <td></td>\n",
       "      <td>Generate a new column name for a BigQuery colu...</td>\n",
       "    </tr>\n",
       "  </tbody>\n",
       "</table>\n",
       "<p>9 rows × 11 columns</p>\n",
       "</div>[9 rows x 11 columns in total]"
      ],
      "text/plain": [
       "              column_name data_type description  \\\n",
       "0                    cost   FLOAT64        <NA>   \n",
       "1            retail_price   FLOAT64        <NA>   \n",
       "2                     sku    STRING        <NA>   \n",
       "3  distribution_center_id     INT64        <NA>   \n",
       "4                    name    STRING        <NA>   \n",
       "5                category    STRING        <NA>   \n",
       "6                   brand    STRING        <NA>   \n",
       "7              department    STRING        <NA>   \n",
       "8                      id     INT64        <NA>   \n",
       "\n",
       "                                       column_sample table_name  \\\n",
       "0  13.549999985843897,10.750000039115548,12.05000...   products   \n",
       "1  25,29.989999771118164,19.989999771118164,39.99...   products   \n",
       "2  FFFCC1A3964B4AD665FA2F07D7BFD086,FFFB8EF15DE06...   products   \n",
       "3                               2,1,3,8,4,9,7,6,5,10   products   \n",
       "4  Wrangler Men's Premium Performance Cowboy Cut ...   products   \n",
       "5  Intimates,Jeans,Tops & Tees,Fashion Hoodies & ...   products   \n",
       "6  Allegra K,Calvin Klein,Carhartt,Hanes,Volcom,N...   products   \n",
       "7                                          Women,Men   products   \n",
       "8  29120,29119,29118,29117,29116,29115,29114,2911...   products   \n",
       "\n",
       "                                   table_description  \\\n",
       "0  \"The Look fictitious e-commerce dataset - prod...   \n",
       "1  \"The Look fictitious e-commerce dataset - prod...   \n",
       "2  \"The Look fictitious e-commerce dataset - prod...   \n",
       "3  \"The Look fictitious e-commerce dataset - prod...   \n",
       "4  \"The Look fictitious e-commerce dataset - prod...   \n",
       "5  \"The Look fictitious e-commerce dataset - prod...   \n",
       "6  \"The Look fictitious e-commerce dataset - prod...   \n",
       "7  \"The Look fictitious e-commerce dataset - prod...   \n",
       "8  \"The Look fictitious e-commerce dataset - prod...   \n",
       "\n",
       "                                         name_prompt  \\\n",
       "0  Generate a new column name for a BigQuery colu...   \n",
       "1  Generate a new column name for a BigQuery colu...   \n",
       "2  Generate a new column name for a BigQuery colu...   \n",
       "3  Generate a new column name for a BigQuery colu...   \n",
       "4  Generate a new column name for a BigQuery colu...   \n",
       "5  Generate a new column name for a BigQuery colu...   \n",
       "6  Generate a new column name for a BigQuery colu...   \n",
       "7  Generate a new column name for a BigQuery colu...   \n",
       "8  Generate a new column name for a BigQuery colu...   \n",
       "\n",
       "                                     new_column_name  \\\n",
       "0   The new column name could be products_cost_us...   \n",
       "1   The new column name could be products_retail_...   \n",
       "2   A good new column name for the sku column in ...   \n",
       "3                    distribution_center_id_products   \n",
       "4   Based on the information provided, here are a...   \n",
       "5   The new column name could be **product_catego...   \n",
       "6   Here are some possible new column names for t...   \n",
       "7   The new column name could be `product_departm...   \n",
       "8   The new column name could be product_id. This...   \n",
       "\n",
       "                         ml_generate_text_rai_result ml_generate_text_status  \\\n",
       "0  {\"blocked\":false,\"categories\":[\"Derogatory\",\"F...                           \n",
       "1  {\"blocked\":false,\"categories\":[\"Finance\",\"Heal...                           \n",
       "2  {\"blocked\":false,\"categories\":[\"Derogatory\",\"F...                           \n",
       "3  {\"blocked\":false,\"categories\":[\"Derogatory\",\"F...                           \n",
       "4  {\"blocked\":false,\"categories\":[\"Derogatory\",\"F...                           \n",
       "5  {\"blocked\":false,\"categories\":[\"Derogatory\",\"F...                           \n",
       "6  {\"blocked\":false,\"categories\":[\"Derogatory\",\"F...                           \n",
       "7  {\"blocked\":false,\"categories\":[\"Derogatory\",\"F...                           \n",
       "8  {\"blocked\":false,\"categories\":[\"Derogatory\",\"F...                           \n",
       "\n",
       "                                              prompt  \n",
       "0  Generate a new column name for a BigQuery colu...  \n",
       "1  Generate a new column name for a BigQuery colu...  \n",
       "2  Generate a new column name for a BigQuery colu...  \n",
       "3  Generate a new column name for a BigQuery colu...  \n",
       "4  Generate a new column name for a BigQuery colu...  \n",
       "5  Generate a new column name for a BigQuery colu...  \n",
       "6  Generate a new column name for a BigQuery colu...  \n",
       "7  Generate a new column name for a BigQuery colu...  \n",
       "8  Generate a new column name for a BigQuery colu...  \n",
       "\n",
       "[9 rows x 11 columns]"
      ]
     },
     "execution_count": 33,
     "metadata": {},
     "output_type": "execute_result"
    }
   ],
   "source": [
    "products_columns"
   ]
  },
  {
   "cell_type": "markdown",
   "id": "1a702e5e-b3c7-49c5-b0c5-cc2d6f1a495f",
   "metadata": {},
   "source": [
    "### Generate New Column Description"
   ]
  },
  {
   "cell_type": "code",
   "execution_count": 41,
   "id": "8c18a2e1-c3c7-4dc1-beef-1aa5ba43da47",
   "metadata": {
    "tags": []
   },
   "outputs": [],
   "source": [
    "# products_columns = products_columns.drop(columns = 'new_column_description')"
   ]
  },
  {
   "cell_type": "code",
   "execution_count": 42,
   "id": "d73a7c7e-0765-4c7a-a523-c0fb4436a7bf",
   "metadata": {
    "tags": []
   },
   "outputs": [
    {
     "data": {
      "text/html": [
       "Query job b6ded8b9-4d56-4859-8611-2ec7a4a6bfe0 is DONE. 4.0 kB processed. <a target=\"_blank\" href=\"https://console.cloud.google.com/bigquery?project=demos-vertex-ai&j=bq:US:b6ded8b9-4d56-4859-8611-2ec7a4a6bfe0&page=queryresults\">Open Job</a>"
      ],
      "text/plain": [
       "<IPython.core.display.HTML object>"
      ]
     },
     "metadata": {},
     "output_type": "display_data"
    },
    {
     "data": {
      "text/html": [
       "Query job a5fba131-fe38-4516-84be-62468814715c is DONE. 72 Bytes processed. <a target=\"_blank\" href=\"https://console.cloud.google.com/bigquery?project=demos-vertex-ai&j=bq:US:a5fba131-fe38-4516-84be-62468814715c&page=queryresults\">Open Job</a>"
      ],
      "text/plain": [
       "<IPython.core.display.HTML object>"
      ]
     },
     "metadata": {},
     "output_type": "display_data"
    },
    {
     "data": {
      "text/html": [
       "Query job 1c1dee23-90a7-4d96-9e6e-344eec89d2ae is DONE. 18 Bytes processed. <a target=\"_blank\" href=\"https://console.cloud.google.com/bigquery?project=demos-vertex-ai&j=bq:US:1c1dee23-90a7-4d96-9e6e-344eec89d2ae&page=queryresults\">Open Job</a>"
      ],
      "text/plain": [
       "<IPython.core.display.HTML object>"
      ]
     },
     "metadata": {},
     "output_type": "display_data"
    },
    {
     "ename": "NotImplementedError",
     "evalue": "Deduping column names is not implemented. Share your usecase with the BigQuery DataFrames team at the https://bit.ly/bigframes-feedback survey.",
     "output_type": "error",
     "traceback": [
      "\u001b[0;31m---------------------------------------------------------------------------\u001b[0m",
      "\u001b[0;31mNotImplementedError\u001b[0m                       Traceback (most recent call last)",
      "Cell \u001b[0;32mIn[42], line 1\u001b[0m\n\u001b[0;32m----> 1\u001b[0m products_columns \u001b[38;5;241m=\u001b[39m \u001b[43mproducts_columns\u001b[49m\u001b[38;5;241;43m.\u001b[39;49m\u001b[43mjoin\u001b[49m\u001b[43m(\u001b[49m\u001b[43mtextgen_model\u001b[49m\u001b[38;5;241;43m.\u001b[39;49m\u001b[43mpredict\u001b[49m\u001b[43m(\u001b[49m\n\u001b[1;32m      2\u001b[0m \u001b[43m    \u001b[49m\u001b[38;5;124;43m'\u001b[39;49m\u001b[38;5;124;43mThe context for a BigQuery table column follows. \u001b[39;49m\u001b[38;5;124;43m'\u001b[39;49m\n\u001b[1;32m      3\u001b[0m \u001b[43m    \u001b[49m\u001b[38;5;241;43m+\u001b[39;49m\u001b[43m \u001b[49m\u001b[38;5;124;43m'\u001b[39;49m\u001b[38;5;124;43mThe column name is \u001b[39;49m\u001b[38;5;124;43m'\u001b[39;49m\u001b[43m \u001b[49m\u001b[38;5;241;43m+\u001b[39;49m\u001b[43m \u001b[49m\u001b[43mproducts_columns\u001b[49m\u001b[43m[\u001b[49m\u001b[38;5;124;43m'\u001b[39;49m\u001b[38;5;124;43mnew_column_name\u001b[39;49m\u001b[38;5;124;43m'\u001b[39;49m\u001b[43m]\u001b[49m\u001b[43m \u001b[49m\u001b[38;5;241;43m+\u001b[39;49m\u001b[43m \u001b[49m\u001b[38;5;124;43m'\u001b[39;49m\u001b[38;5;124;43m. \u001b[39;49m\u001b[38;5;124;43m'\u001b[39;49m\n\u001b[1;32m      4\u001b[0m \u001b[43m    \u001b[49m\u001b[38;5;241;43m+\u001b[39;49m\u001b[43m \u001b[49m\u001b[38;5;124;43m'\u001b[39;49m\u001b[38;5;124;43mThe table has the name \u001b[39;49m\u001b[38;5;124;43m'\u001b[39;49m\u001b[43m \u001b[49m\u001b[38;5;241;43m+\u001b[39;49m\u001b[43m \u001b[49m\u001b[43mproducts_columns\u001b[49m\u001b[43m[\u001b[49m\u001b[38;5;124;43m'\u001b[39;49m\u001b[38;5;124;43mtable_name\u001b[39;49m\u001b[38;5;124;43m'\u001b[39;49m\u001b[43m]\u001b[49m\u001b[43m \u001b[49m\u001b[38;5;241;43m+\u001b[39;49m\u001b[43m \u001b[49m\u001b[38;5;124;43m'\u001b[39;49m\u001b[38;5;124;43m. \u001b[39;49m\u001b[38;5;124;43m'\u001b[39;49m\n\u001b[1;32m      5\u001b[0m \u001b[43m    \u001b[49m\u001b[38;5;241;43m+\u001b[39;49m\u001b[43m \u001b[49m\u001b[38;5;124;43m'\u001b[39;49m\u001b[38;5;124;43mThe column has a datatype of \u001b[39;49m\u001b[38;5;124;43m'\u001b[39;49m\u001b[43m \u001b[49m\u001b[38;5;241;43m+\u001b[39;49m\u001b[43m \u001b[49m\u001b[43mproducts_columns\u001b[49m\u001b[43m[\u001b[49m\u001b[38;5;124;43m'\u001b[39;49m\u001b[38;5;124;43mdata_type\u001b[39;49m\u001b[38;5;124;43m'\u001b[39;49m\u001b[43m]\u001b[49m\u001b[43m \u001b[49m\u001b[38;5;241;43m+\u001b[39;49m\u001b[43m \u001b[49m\u001b[38;5;124;43m'\u001b[39;49m\u001b[38;5;124;43m with common values like: \u001b[39;49m\u001b[38;5;124;43m'\u001b[39;49m\u001b[43m \u001b[49m\u001b[38;5;241;43m+\u001b[39;49m\u001b[43m \u001b[49m\u001b[43mproducts_columns\u001b[49m\u001b[43m[\u001b[49m\u001b[38;5;124;43m'\u001b[39;49m\u001b[38;5;124;43mcolumn_sample\u001b[39;49m\u001b[38;5;124;43m'\u001b[39;49m\u001b[43m]\u001b[49m\u001b[43m \u001b[49m\u001b[38;5;241;43m+\u001b[39;49m\u001b[43m \u001b[49m\u001b[38;5;124;43m'\u001b[39;49m\u001b[38;5;124;43m. \u001b[39;49m\u001b[38;5;124;43m'\u001b[39;49m\n\u001b[1;32m      6\u001b[0m \u001b[43m    \u001b[49m\u001b[38;5;241;43m+\u001b[39;49m\u001b[43m \u001b[49m\u001b[38;5;124;43m'\u001b[39;49m\u001b[38;5;124;43mGenerate a description the column.\u001b[39;49m\u001b[38;5;124;43m'\u001b[39;49m\n\u001b[1;32m      7\u001b[0m \u001b[43m)\u001b[49m\u001b[38;5;241;43m.\u001b[39;49m\u001b[43mrename\u001b[49m\u001b[43m(\u001b[49m\u001b[43mcolumns\u001b[49m\u001b[38;5;241;43m=\u001b[39;49m\u001b[43m{\u001b[49m\u001b[38;5;124;43m'\u001b[39;49m\u001b[38;5;124;43mml_generate_text_llm_result\u001b[39;49m\u001b[38;5;124;43m'\u001b[39;49m\u001b[43m:\u001b[49m\u001b[38;5;124;43m'\u001b[39;49m\u001b[38;5;124;43mnew_column_description\u001b[39;49m\u001b[38;5;124;43m'\u001b[39;49m\u001b[43m}\u001b[49m\u001b[43m)\u001b[49m\u001b[43m)\u001b[49m\n",
      "File \u001b[0;32m~/.local/lib/python3.10/site-packages/bigframes/core/log_adapter.py:44\u001b[0m, in \u001b[0;36mmethod_logger.<locals>.wrapper\u001b[0;34m(*args, **kwargs)\u001b[0m\n\u001b[1;32m     42\u001b[0m \u001b[38;5;28;01mif\u001b[39;00m api_method_name\u001b[38;5;241m.\u001b[39mstartswith(\u001b[38;5;124m\"\u001b[39m\u001b[38;5;124m__\u001b[39m\u001b[38;5;124m\"\u001b[39m) \u001b[38;5;129;01mor\u001b[39;00m \u001b[38;5;129;01mnot\u001b[39;00m api_method_name\u001b[38;5;241m.\u001b[39mstartswith(\u001b[38;5;124m\"\u001b[39m\u001b[38;5;124m_\u001b[39m\u001b[38;5;124m\"\u001b[39m):\n\u001b[1;32m     43\u001b[0m     add_api_method(full_method_name)\n\u001b[0;32m---> 44\u001b[0m \u001b[38;5;28;01mreturn\u001b[39;00m \u001b[43mmethod\u001b[49m\u001b[43m(\u001b[49m\u001b[38;5;241;43m*\u001b[39;49m\u001b[43margs\u001b[49m\u001b[43m,\u001b[49m\u001b[43m \u001b[49m\u001b[38;5;241;43m*\u001b[39;49m\u001b[38;5;241;43m*\u001b[39;49m\u001b[43mkwargs\u001b[49m\u001b[43m)\u001b[49m\n",
      "File \u001b[0;32m~/.local/lib/python3.10/site-packages/bigframes/dataframe.py:2328\u001b[0m, in \u001b[0;36mDataFrame.join\u001b[0;34m(self, other, on, how)\u001b[0m\n\u001b[1;32m   2326\u001b[0m left, right \u001b[38;5;241m=\u001b[39m \u001b[38;5;28mself\u001b[39m, other\n\u001b[1;32m   2327\u001b[0m \u001b[38;5;28;01mif\u001b[39;00m \u001b[38;5;129;01mnot\u001b[39;00m left\u001b[38;5;241m.\u001b[39mcolumns\u001b[38;5;241m.\u001b[39mintersection(right\u001b[38;5;241m.\u001b[39mcolumns)\u001b[38;5;241m.\u001b[39mempty:\n\u001b[0;32m-> 2328\u001b[0m     \u001b[38;5;28;01mraise\u001b[39;00m \u001b[38;5;167;01mNotImplementedError\u001b[39;00m(\n\u001b[1;32m   2329\u001b[0m         \u001b[38;5;124mf\u001b[39m\u001b[38;5;124m\"\u001b[39m\u001b[38;5;124mDeduping column names is not implemented. \u001b[39m\u001b[38;5;132;01m{\u001b[39;00mconstants\u001b[38;5;241m.\u001b[39mFEEDBACK_LINK\u001b[38;5;132;01m}\u001b[39;00m\u001b[38;5;124m\"\u001b[39m\n\u001b[1;32m   2330\u001b[0m     )\n\u001b[1;32m   2331\u001b[0m \u001b[38;5;28;01mif\u001b[39;00m how \u001b[38;5;241m==\u001b[39m \u001b[38;5;124m\"\u001b[39m\u001b[38;5;124mcross\u001b[39m\u001b[38;5;124m\"\u001b[39m:\n\u001b[1;32m   2332\u001b[0m     \u001b[38;5;28;01mif\u001b[39;00m on \u001b[38;5;129;01mis\u001b[39;00m \u001b[38;5;129;01mnot\u001b[39;00m \u001b[38;5;28;01mNone\u001b[39;00m:\n",
      "\u001b[0;31mNotImplementedError\u001b[0m: Deduping column names is not implemented. Share your usecase with the BigQuery DataFrames team at the https://bit.ly/bigframes-feedback survey."
     ]
    }
   ],
   "source": [
    "products_columns = products_columns.join(textgen_model.predict(\n",
    "    'The context for a BigQuery table column follows. '\n",
    "    + 'The column name is ' + products_columns['new_column_name'] + '. '\n",
    "    + 'The table has the name ' + products_columns['table_name'] + '. '\n",
    "    + 'The column has a datatype of ' + products_columns['data_type'] + ' with common values like: ' + products_columns['column_sample'] + '. '\n",
    "    + 'Generate a description the column.'\n",
    ").rename(columns={'ml_generate_text_llm_result':'new_column_description'}))"
   ]
  },
  {
   "cell_type": "code",
   "execution_count": 43,
   "id": "810336ae-8841-4a06-8e90-96b446ad722f",
   "metadata": {
    "tags": []
   },
   "outputs": [
    {
     "data": {
      "text/html": [
       "<div>\n",
       "<style scoped>\n",
       "    .dataframe tbody tr th:only-of-type {\n",
       "        vertical-align: middle;\n",
       "    }\n",
       "\n",
       "    .dataframe tbody tr th {\n",
       "        vertical-align: top;\n",
       "    }\n",
       "\n",
       "    .dataframe thead th {\n",
       "        text-align: right;\n",
       "    }\n",
       "</style>\n",
       "<table border=\"1\" class=\"dataframe\">\n",
       "  <thead>\n",
       "    <tr style=\"text-align: right;\">\n",
       "      <th></th>\n",
       "      <th>column_name</th>\n",
       "      <th>data_type</th>\n",
       "      <th>description</th>\n",
       "      <th>column_sample</th>\n",
       "      <th>table_name</th>\n",
       "      <th>table_description</th>\n",
       "      <th>name_prompt</th>\n",
       "      <th>new_column_name</th>\n",
       "      <th>ml_generate_text_rai_result</th>\n",
       "      <th>ml_generate_text_status</th>\n",
       "      <th>prompt</th>\n",
       "    </tr>\n",
       "  </thead>\n",
       "  <tbody>\n",
       "    <tr>\n",
       "      <th>0</th>\n",
       "      <td>cost</td>\n",
       "      <td>FLOAT64</td>\n",
       "      <td>&lt;NA&gt;</td>\n",
       "      <td>13.549999985843897,10.750000039115548,12.05000...</td>\n",
       "      <td>products</td>\n",
       "      <td>\"The Look fictitious e-commerce dataset - prod...</td>\n",
       "      <td>Generate a new column name for a BigQuery colu...</td>\n",
       "      <td>The new column name could be products_cost_us...</td>\n",
       "      <td>{\"blocked\":false,\"categories\":[\"Derogatory\",\"F...</td>\n",
       "      <td></td>\n",
       "      <td>Generate a new column name for a BigQuery colu...</td>\n",
       "    </tr>\n",
       "    <tr>\n",
       "      <th>1</th>\n",
       "      <td>retail_price</td>\n",
       "      <td>FLOAT64</td>\n",
       "      <td>&lt;NA&gt;</td>\n",
       "      <td>25,29.989999771118164,19.989999771118164,39.99...</td>\n",
       "      <td>products</td>\n",
       "      <td>\"The Look fictitious e-commerce dataset - prod...</td>\n",
       "      <td>Generate a new column name for a BigQuery colu...</td>\n",
       "      <td>The new column name could be products_retail_...</td>\n",
       "      <td>{\"blocked\":false,\"categories\":[\"Finance\",\"Heal...</td>\n",
       "      <td></td>\n",
       "      <td>Generate a new column name for a BigQuery colu...</td>\n",
       "    </tr>\n",
       "    <tr>\n",
       "      <th>2</th>\n",
       "      <td>sku</td>\n",
       "      <td>STRING</td>\n",
       "      <td>&lt;NA&gt;</td>\n",
       "      <td>FFFCC1A3964B4AD665FA2F07D7BFD086,FFFB8EF15DE06...</td>\n",
       "      <td>products</td>\n",
       "      <td>\"The Look fictitious e-commerce dataset - prod...</td>\n",
       "      <td>Generate a new column name for a BigQuery colu...</td>\n",
       "      <td>A good new column name for the sku column in ...</td>\n",
       "      <td>{\"blocked\":false,\"categories\":[\"Derogatory\",\"F...</td>\n",
       "      <td></td>\n",
       "      <td>Generate a new column name for a BigQuery colu...</td>\n",
       "    </tr>\n",
       "    <tr>\n",
       "      <th>3</th>\n",
       "      <td>distribution_center_id</td>\n",
       "      <td>INT64</td>\n",
       "      <td>&lt;NA&gt;</td>\n",
       "      <td>2,1,3,8,4,9,7,6,5,10</td>\n",
       "      <td>products</td>\n",
       "      <td>\"The Look fictitious e-commerce dataset - prod...</td>\n",
       "      <td>Generate a new column name for a BigQuery colu...</td>\n",
       "      <td>distribution_center_id_products</td>\n",
       "      <td>{\"blocked\":false,\"categories\":[\"Derogatory\",\"F...</td>\n",
       "      <td></td>\n",
       "      <td>Generate a new column name for a BigQuery colu...</td>\n",
       "    </tr>\n",
       "    <tr>\n",
       "      <th>4</th>\n",
       "      <td>name</td>\n",
       "      <td>STRING</td>\n",
       "      <td>&lt;NA&gt;</td>\n",
       "      <td>Wrangler Men's Premium Performance Cowboy Cut ...</td>\n",
       "      <td>products</td>\n",
       "      <td>\"The Look fictitious e-commerce dataset - prod...</td>\n",
       "      <td>Generate a new column name for a BigQuery colu...</td>\n",
       "      <td>Based on the information provided, here are a...</td>\n",
       "      <td>{\"blocked\":false,\"categories\":[\"Derogatory\",\"F...</td>\n",
       "      <td></td>\n",
       "      <td>Generate a new column name for a BigQuery colu...</td>\n",
       "    </tr>\n",
       "    <tr>\n",
       "      <th>5</th>\n",
       "      <td>category</td>\n",
       "      <td>STRING</td>\n",
       "      <td>&lt;NA&gt;</td>\n",
       "      <td>Intimates,Jeans,Tops &amp; Tees,Fashion Hoodies &amp; ...</td>\n",
       "      <td>products</td>\n",
       "      <td>\"The Look fictitious e-commerce dataset - prod...</td>\n",
       "      <td>Generate a new column name for a BigQuery colu...</td>\n",
       "      <td>The new column name could be **product_catego...</td>\n",
       "      <td>{\"blocked\":false,\"categories\":[\"Derogatory\",\"F...</td>\n",
       "      <td></td>\n",
       "      <td>Generate a new column name for a BigQuery colu...</td>\n",
       "    </tr>\n",
       "    <tr>\n",
       "      <th>6</th>\n",
       "      <td>brand</td>\n",
       "      <td>STRING</td>\n",
       "      <td>&lt;NA&gt;</td>\n",
       "      <td>Allegra K,Calvin Klein,Carhartt,Hanes,Volcom,N...</td>\n",
       "      <td>products</td>\n",
       "      <td>\"The Look fictitious e-commerce dataset - prod...</td>\n",
       "      <td>Generate a new column name for a BigQuery colu...</td>\n",
       "      <td>Here are some possible new column names for t...</td>\n",
       "      <td>{\"blocked\":false,\"categories\":[\"Derogatory\",\"F...</td>\n",
       "      <td></td>\n",
       "      <td>Generate a new column name for a BigQuery colu...</td>\n",
       "    </tr>\n",
       "    <tr>\n",
       "      <th>7</th>\n",
       "      <td>department</td>\n",
       "      <td>STRING</td>\n",
       "      <td>&lt;NA&gt;</td>\n",
       "      <td>Women,Men</td>\n",
       "      <td>products</td>\n",
       "      <td>\"The Look fictitious e-commerce dataset - prod...</td>\n",
       "      <td>Generate a new column name for a BigQuery colu...</td>\n",
       "      <td>The new column name could be `product_departm...</td>\n",
       "      <td>{\"blocked\":false,\"categories\":[\"Derogatory\",\"F...</td>\n",
       "      <td></td>\n",
       "      <td>Generate a new column name for a BigQuery colu...</td>\n",
       "    </tr>\n",
       "    <tr>\n",
       "      <th>8</th>\n",
       "      <td>id</td>\n",
       "      <td>INT64</td>\n",
       "      <td>&lt;NA&gt;</td>\n",
       "      <td>29120,29119,29118,29117,29116,29115,29114,2911...</td>\n",
       "      <td>products</td>\n",
       "      <td>\"The Look fictitious e-commerce dataset - prod...</td>\n",
       "      <td>Generate a new column name for a BigQuery colu...</td>\n",
       "      <td>The new column name could be product_id. This...</td>\n",
       "      <td>{\"blocked\":false,\"categories\":[\"Derogatory\",\"F...</td>\n",
       "      <td></td>\n",
       "      <td>Generate a new column name for a BigQuery colu...</td>\n",
       "    </tr>\n",
       "  </tbody>\n",
       "</table>\n",
       "<p>9 rows × 11 columns</p>\n",
       "</div>[9 rows x 11 columns in total]"
      ],
      "text/plain": [
       "              column_name data_type description  \\\n",
       "0                    cost   FLOAT64        <NA>   \n",
       "1            retail_price   FLOAT64        <NA>   \n",
       "2                     sku    STRING        <NA>   \n",
       "3  distribution_center_id     INT64        <NA>   \n",
       "4                    name    STRING        <NA>   \n",
       "5                category    STRING        <NA>   \n",
       "6                   brand    STRING        <NA>   \n",
       "7              department    STRING        <NA>   \n",
       "8                      id     INT64        <NA>   \n",
       "\n",
       "                                       column_sample table_name  \\\n",
       "0  13.549999985843897,10.750000039115548,12.05000...   products   \n",
       "1  25,29.989999771118164,19.989999771118164,39.99...   products   \n",
       "2  FFFCC1A3964B4AD665FA2F07D7BFD086,FFFB8EF15DE06...   products   \n",
       "3                               2,1,3,8,4,9,7,6,5,10   products   \n",
       "4  Wrangler Men's Premium Performance Cowboy Cut ...   products   \n",
       "5  Intimates,Jeans,Tops & Tees,Fashion Hoodies & ...   products   \n",
       "6  Allegra K,Calvin Klein,Carhartt,Hanes,Volcom,N...   products   \n",
       "7                                          Women,Men   products   \n",
       "8  29120,29119,29118,29117,29116,29115,29114,2911...   products   \n",
       "\n",
       "                                   table_description  \\\n",
       "0  \"The Look fictitious e-commerce dataset - prod...   \n",
       "1  \"The Look fictitious e-commerce dataset - prod...   \n",
       "2  \"The Look fictitious e-commerce dataset - prod...   \n",
       "3  \"The Look fictitious e-commerce dataset - prod...   \n",
       "4  \"The Look fictitious e-commerce dataset - prod...   \n",
       "5  \"The Look fictitious e-commerce dataset - prod...   \n",
       "6  \"The Look fictitious e-commerce dataset - prod...   \n",
       "7  \"The Look fictitious e-commerce dataset - prod...   \n",
       "8  \"The Look fictitious e-commerce dataset - prod...   \n",
       "\n",
       "                                         name_prompt  \\\n",
       "0  Generate a new column name for a BigQuery colu...   \n",
       "1  Generate a new column name for a BigQuery colu...   \n",
       "2  Generate a new column name for a BigQuery colu...   \n",
       "3  Generate a new column name for a BigQuery colu...   \n",
       "4  Generate a new column name for a BigQuery colu...   \n",
       "5  Generate a new column name for a BigQuery colu...   \n",
       "6  Generate a new column name for a BigQuery colu...   \n",
       "7  Generate a new column name for a BigQuery colu...   \n",
       "8  Generate a new column name for a BigQuery colu...   \n",
       "\n",
       "                                     new_column_name  \\\n",
       "0   The new column name could be products_cost_us...   \n",
       "1   The new column name could be products_retail_...   \n",
       "2   A good new column name for the sku column in ...   \n",
       "3                    distribution_center_id_products   \n",
       "4   Based on the information provided, here are a...   \n",
       "5   The new column name could be **product_catego...   \n",
       "6   Here are some possible new column names for t...   \n",
       "7   The new column name could be `product_departm...   \n",
       "8   The new column name could be product_id. This...   \n",
       "\n",
       "                         ml_generate_text_rai_result ml_generate_text_status  \\\n",
       "0  {\"blocked\":false,\"categories\":[\"Derogatory\",\"F...                           \n",
       "1  {\"blocked\":false,\"categories\":[\"Finance\",\"Heal...                           \n",
       "2  {\"blocked\":false,\"categories\":[\"Derogatory\",\"F...                           \n",
       "3  {\"blocked\":false,\"categories\":[\"Derogatory\",\"F...                           \n",
       "4  {\"blocked\":false,\"categories\":[\"Derogatory\",\"F...                           \n",
       "5  {\"blocked\":false,\"categories\":[\"Derogatory\",\"F...                           \n",
       "6  {\"blocked\":false,\"categories\":[\"Derogatory\",\"F...                           \n",
       "7  {\"blocked\":false,\"categories\":[\"Derogatory\",\"F...                           \n",
       "8  {\"blocked\":false,\"categories\":[\"Derogatory\",\"F...                           \n",
       "\n",
       "                                              prompt  \n",
       "0  Generate a new column name for a BigQuery colu...  \n",
       "1  Generate a new column name for a BigQuery colu...  \n",
       "2  Generate a new column name for a BigQuery colu...  \n",
       "3  Generate a new column name for a BigQuery colu...  \n",
       "4  Generate a new column name for a BigQuery colu...  \n",
       "5  Generate a new column name for a BigQuery colu...  \n",
       "6  Generate a new column name for a BigQuery colu...  \n",
       "7  Generate a new column name for a BigQuery colu...  \n",
       "8  Generate a new column name for a BigQuery colu...  \n",
       "\n",
       "[9 rows x 11 columns]"
      ]
     },
     "execution_count": 43,
     "metadata": {},
     "output_type": "execute_result"
    }
   ],
   "source": [
    "products_columns"
   ]
  },
  {
   "cell_type": "markdown",
   "id": "629cac18-fc30-420f-8ebc-095e313b62b1",
   "metadata": {},
   "source": [
    "### Generate New Table Description"
   ]
  },
  {
   "cell_type": "markdown",
   "id": "d6ad2ae7-ed1f-4bbc-a892-deaadd1fd726",
   "metadata": {},
   "source": [
    "Convert selected column for schema into a markdown table for including in the prompt:"
   ]
  },
  {
   "cell_type": "code",
   "execution_count": 37,
   "id": "c3c9d2c1-1eb0-4c40-9dde-3e88ab2753c1",
   "metadata": {
    "tags": []
   },
   "outputs": [
    {
     "ename": "KeyError",
     "evalue": "'new_column_description'",
     "output_type": "error",
     "traceback": [
      "\u001b[0;31m---------------------------------------------------------------------------\u001b[0m",
      "\u001b[0;31mKeyError\u001b[0m                                  Traceback (most recent call last)",
      "Cell \u001b[0;32mIn[37], line 1\u001b[0m\n\u001b[0;32m----> 1\u001b[0m markdown_products_columns \u001b[38;5;241m=\u001b[39m \u001b[43mproducts_columns\u001b[49m\u001b[43m[\u001b[49m\u001b[43m[\u001b[49m\u001b[38;5;124;43m'\u001b[39;49m\u001b[38;5;124;43mnew_column_name\u001b[39;49m\u001b[38;5;124;43m'\u001b[39;49m\u001b[43m,\u001b[49m\u001b[43m \u001b[49m\u001b[38;5;124;43m'\u001b[39;49m\u001b[38;5;124;43mnew_column_description\u001b[39;49m\u001b[38;5;124;43m'\u001b[39;49m\u001b[43m,\u001b[49m\u001b[43m \u001b[49m\u001b[38;5;124;43m'\u001b[39;49m\u001b[38;5;124;43mdata_type\u001b[39;49m\u001b[38;5;124;43m'\u001b[39;49m\u001b[43m]\u001b[49m\u001b[43m]\u001b[49m\u001b[38;5;241m.\u001b[39mrename(columns \u001b[38;5;241m=\u001b[39m {\u001b[38;5;124m'\u001b[39m\u001b[38;5;124mnew_column_name\u001b[39m\u001b[38;5;124m'\u001b[39m:\u001b[38;5;124m'\u001b[39m\u001b[38;5;124mcolumn_name\u001b[39m\u001b[38;5;124m'\u001b[39m, \u001b[38;5;124m'\u001b[39m\u001b[38;5;124mnew_column_description\u001b[39m\u001b[38;5;124m'\u001b[39m:\u001b[38;5;124m'\u001b[39m\u001b[38;5;124mdescription\u001b[39m\u001b[38;5;124m'\u001b[39m})\u001b[38;5;241m.\u001b[39mto_pandas()\u001b[38;5;241m.\u001b[39mto_markdown(index \u001b[38;5;241m=\u001b[39m \u001b[38;5;28;01mFalse\u001b[39;00m)\n",
      "File \u001b[0;32m~/.local/lib/python3.10/site-packages/bigframes/core/log_adapter.py:44\u001b[0m, in \u001b[0;36mmethod_logger.<locals>.wrapper\u001b[0;34m(*args, **kwargs)\u001b[0m\n\u001b[1;32m     42\u001b[0m \u001b[38;5;28;01mif\u001b[39;00m api_method_name\u001b[38;5;241m.\u001b[39mstartswith(\u001b[38;5;124m\"\u001b[39m\u001b[38;5;124m__\u001b[39m\u001b[38;5;124m\"\u001b[39m) \u001b[38;5;129;01mor\u001b[39;00m \u001b[38;5;129;01mnot\u001b[39;00m api_method_name\u001b[38;5;241m.\u001b[39mstartswith(\u001b[38;5;124m\"\u001b[39m\u001b[38;5;124m_\u001b[39m\u001b[38;5;124m\"\u001b[39m):\n\u001b[1;32m     43\u001b[0m     add_api_method(full_method_name)\n\u001b[0;32m---> 44\u001b[0m \u001b[38;5;28;01mreturn\u001b[39;00m \u001b[43mmethod\u001b[49m\u001b[43m(\u001b[49m\u001b[38;5;241;43m*\u001b[39;49m\u001b[43margs\u001b[49m\u001b[43m,\u001b[49m\u001b[43m \u001b[49m\u001b[38;5;241;43m*\u001b[39;49m\u001b[38;5;241;43m*\u001b[39;49m\u001b[43mkwargs\u001b[49m\u001b[43m)\u001b[49m\n",
      "File \u001b[0;32m~/.local/lib/python3.10/site-packages/bigframes/dataframe.py:502\u001b[0m, in \u001b[0;36mDataFrame.__getitem__\u001b[0;34m(self, key)\u001b[0m\n\u001b[1;32m    500\u001b[0m selected_ids: Tuple[\u001b[38;5;28mstr\u001b[39m, \u001b[38;5;241m.\u001b[39m\u001b[38;5;241m.\u001b[39m\u001b[38;5;241m.\u001b[39m] \u001b[38;5;241m=\u001b[39m ()\n\u001b[1;32m    501\u001b[0m \u001b[38;5;28;01mfor\u001b[39;00m label \u001b[38;5;129;01min\u001b[39;00m key:\n\u001b[0;32m--> 502\u001b[0m     col_ids \u001b[38;5;241m=\u001b[39m \u001b[38;5;28;43mself\u001b[39;49m\u001b[38;5;241;43m.\u001b[39;49m\u001b[43m_block\u001b[49m\u001b[38;5;241;43m.\u001b[39;49m\u001b[43mlabel_to_col_id\u001b[49m\u001b[43m[\u001b[49m\u001b[43mlabel\u001b[49m\u001b[43m]\u001b[49m\n\u001b[1;32m    503\u001b[0m     selected_ids \u001b[38;5;241m=\u001b[39m (\u001b[38;5;241m*\u001b[39mselected_ids, \u001b[38;5;241m*\u001b[39mcol_ids)\n\u001b[1;32m    505\u001b[0m \u001b[38;5;28;01mreturn\u001b[39;00m DataFrame(\u001b[38;5;28mself\u001b[39m\u001b[38;5;241m.\u001b[39m_block\u001b[38;5;241m.\u001b[39mselect_columns(selected_ids))\n",
      "\u001b[0;31mKeyError\u001b[0m: 'new_column_description'"
     ]
    }
   ],
   "source": [
    "markdown_products_columns = products_columns[['new_column_name', 'new_column_description', 'data_type']].rename(columns = {'new_column_name':'column_name', 'new_column_description':'description'}).to_pandas().to_markdown(index = False)"
   ]
  },
  {
   "cell_type": "markdown",
   "id": "cf9f3e7b-055c-4aca-a89d-4ad806a9dae7",
   "metadata": {},
   "source": [
    "Review the markdown table:"
   ]
  },
  {
   "cell_type": "code",
   "execution_count": 38,
   "id": "18d44c57-db8b-4b03-8b7c-8afb47e68917",
   "metadata": {
    "tags": []
   },
   "outputs": [
    {
     "ename": "NameError",
     "evalue": "name 'markdown_products_columns' is not defined",
     "output_type": "error",
     "traceback": [
      "\u001b[0;31m---------------------------------------------------------------------------\u001b[0m",
      "\u001b[0;31mNameError\u001b[0m                                 Traceback (most recent call last)",
      "Cell \u001b[0;32mIn[38], line 1\u001b[0m\n\u001b[0;32m----> 1\u001b[0m Markdown(\u001b[43mmarkdown_products_columns\u001b[49m)\n",
      "\u001b[0;31mNameError\u001b[0m: name 'markdown_products_columns' is not defined"
     ]
    }
   ],
   "source": [
    "Markdown(markdown_products_columns)"
   ]
  },
  {
   "cell_type": "markdown",
   "id": "5bee2e0c-b2a6-48bf-9e69-9ac963080ba6",
   "metadata": {},
   "source": [
    "Generate the table description:"
   ]
  },
  {
   "cell_type": "code",
   "execution_count": 39,
   "id": "64b73260-bb68-4ddd-b938-4a25a8fe9760",
   "metadata": {},
   "outputs": [
    {
     "data": {
      "application/vnd.jupyter.widget-view+json": {
       "model_id": "90622898f7644a9185f260b977cb4f7d",
       "version_major": 2,
       "version_minor": 0
      },
      "text/plain": [
       "HTML(value='Load job 938cc49d-175c-41ee-a922-064f420f128c is RUNNING. <a target=\"_blank\" href=\"https://console…"
      ]
     },
     "metadata": {},
     "output_type": "display_data"
    },
    {
     "data": {
      "application/vnd.jupyter.widget-view+json": {
       "model_id": "367047baf97140eeb03b16389ad2fc70",
       "version_major": 2,
       "version_minor": 0
      },
      "text/plain": [
       "HTML(value='Query job 6579a3c4-6816-45c4-8fe3-19762cc8e68b is RUNNING. <a target=\"_blank\" href=\"https://consol…"
      ]
     },
     "metadata": {},
     "output_type": "display_data"
    },
    {
     "data": {
      "application/vnd.jupyter.widget-view+json": {
       "model_id": "62a0a7ddeadd4c34a3f4cc74f431e2ef",
       "version_major": 2,
       "version_minor": 0
      },
      "text/plain": [
       "HTML(value='Query job 9875befd-9b58-4f84-9851-d6e9a3c1f7d6 is DONE. 8 Bytes processed. <a target=\"_blank\" href…"
      ]
     },
     "metadata": {},
     "output_type": "display_data"
    },
    {
     "data": {
      "application/vnd.jupyter.widget-view+json": {
       "model_id": "0f1e3c2b1e7e420b86e0537d18b015df",
       "version_major": 2,
       "version_minor": 0
      },
      "text/plain": [
       "HTML(value='Query job b6316d92-431a-44d1-abd8-f0ffbf603cd5 is DONE. 285 Bytes processed. <a target=\"_blank\" hr…"
      ]
     },
     "metadata": {},
     "output_type": "display_data"
    },
    {
     "data": {
      "text/markdown": [
       " The products table contains information about products, including product id, cost, category, name, brand, retail price, department and gender, SKU, and distribution center ID. The table can be used to analyze product sales, track inventory, and manage product distribution."
      ],
      "text/plain": [
       "<IPython.core.display.Markdown object>"
      ]
     },
     "execution_count": 39,
     "metadata": {},
     "output_type": "execute_result"
    }
   ],
   "source": [
    "table_description = textgen_model.predict(bf.DataFrame({ \"prompt\": [\n",
    "f\"\"\"Generate a description for the BigQuery table with schema:\n",
    "{markdown_products_columns}\n",
    "\"\"\"\n",
    "],})).ml_generate_text_llm_result.iloc[0]\n",
    "\n",
    "Markdown(table_description)"
   ]
  },
  {
   "cell_type": "markdown",
   "id": "e4686305-0ba7-473c-96df-ce6bbe1474a7",
   "metadata": {},
   "source": [
    "---\n",
    "## Update Metadata For A Table\n",
    "\n",
    "To show how to do an inplace update of column names and descriptions for tables and columns, the source table will be copied to a new dataset first.\n",
    "\n",
    "\n",
    "**NOTE: SWITCHING TO BIGQUERY API**\n",
    "\n",
    "Some of the tasks in this section require using feature of BigQuery DDL to alter tables that are not yet available in the BigFrames API."
   ]
  },
  {
   "cell_type": "markdown",
   "id": "894a107a-796e-413a-9e16-1a14a01408dc",
   "metadata": {},
   "source": [
    "### Setup BigQuery Client"
   ]
  },
  {
   "cell_type": "code",
   "execution_count": 40,
   "id": "f054bab3-6a07-4417-b270-29ce78eec3fa",
   "metadata": {},
   "outputs": [],
   "source": [
    "from google.cloud import bigquery\n",
    "# bigquery client\n",
    "bq = bigquery.Client(project = PROJECT_ID)"
   ]
  },
  {
   "cell_type": "markdown",
   "id": "47a0a06d-abfb-47a9-99b6-7a83228b02b0",
   "metadata": {},
   "source": [
    "### Create BigQuery Dataset"
   ]
  },
  {
   "cell_type": "code",
   "execution_count": 41,
   "id": "0d67a673-2bcc-4b22-84a2-749e0d137022",
   "metadata": {},
   "outputs": [],
   "source": [
    "# create/link to dataset\n",
    "ds = bigquery.DatasetReference(BQ_PROJECT, BQ_DATASET)\n",
    "ds.location = BQ_REGION\n",
    "ds.labels = {'series': f'{SERIES}'}\n",
    "ds = bq.create_dataset(dataset = ds, exists_ok = True) "
   ]
  },
  {
   "cell_type": "markdown",
   "id": "1f15edf1-7c8d-4f19-8fe4-1cad71177d70",
   "metadata": {},
   "source": [
    "### Copy Source Table To User Dataset"
   ]
  },
  {
   "cell_type": "code",
   "execution_count": 42,
   "id": "f585b749-672f-4e27-ab5d-c2a6f0b3e809",
   "metadata": {},
   "outputs": [
    {
     "name": "stdout",
     "output_type": "stream",
     "text": [
      "\n",
      "CREATE OR REPLACE TABLE `statmike-mlops-349915.applied_genai.bq-metadata` AS\n",
      "SELECT *\n",
      "FROM `bigquery-public-data.thelook_ecommerce.products`\n",
      "\n"
     ]
    }
   ],
   "source": [
    "query = f\"\"\"\n",
    "CREATE OR REPLACE TABLE `{BQ_PROJECT}.{BQ_DATASET}.{BQ_TABLE}` AS\n",
    "SELECT *\n",
    "FROM `{BQ_SOURCE}`\n",
    "\"\"\"\n",
    "print(query)"
   ]
  },
  {
   "cell_type": "code",
   "execution_count": 43,
   "id": "70024989-0f0e-444f-81da-f534fb67a0d1",
   "metadata": {},
   "outputs": [
    {
     "data": {
      "text/plain": [
       "'DONE'"
      ]
     },
     "execution_count": 43,
     "metadata": {},
     "output_type": "execute_result"
    }
   ],
   "source": [
    "job = bq.query(query = query)\n",
    "job.result()\n",
    "job.state"
   ]
  },
  {
   "cell_type": "markdown",
   "id": "25841457-5ee6-46f3-8034-3fe8143b787c",
   "metadata": {},
   "source": [
    "### Review Schema Before Update"
   ]
  },
  {
   "cell_type": "code",
   "execution_count": 44,
   "id": "3ce123f8-853e-4f6e-b834-c4805db5a508",
   "metadata": {},
   "outputs": [
    {
     "data": {
      "text/html": [
       "<div>\n",
       "<style scoped>\n",
       "    .dataframe tbody tr th:only-of-type {\n",
       "        vertical-align: middle;\n",
       "    }\n",
       "\n",
       "    .dataframe tbody tr th {\n",
       "        vertical-align: top;\n",
       "    }\n",
       "\n",
       "    .dataframe thead th {\n",
       "        text-align: right;\n",
       "    }\n",
       "</style>\n",
       "<table border=\"1\" class=\"dataframe\">\n",
       "  <thead>\n",
       "    <tr style=\"text-align: right;\">\n",
       "      <th></th>\n",
       "      <th>table_catalog</th>\n",
       "      <th>table_schema</th>\n",
       "      <th>table_name</th>\n",
       "      <th>column_name</th>\n",
       "      <th>field_path</th>\n",
       "      <th>data_type</th>\n",
       "      <th>description</th>\n",
       "      <th>collation_name</th>\n",
       "      <th>rounding_mode</th>\n",
       "    </tr>\n",
       "  </thead>\n",
       "  <tbody>\n",
       "    <tr>\n",
       "      <th>0</th>\n",
       "      <td>statmike-mlops-349915</td>\n",
       "      <td>applied_genai</td>\n",
       "      <td>bq-metadata</td>\n",
       "      <td>id</td>\n",
       "      <td>id</td>\n",
       "      <td>INT64</td>\n",
       "      <td>None</td>\n",
       "      <td>NULL</td>\n",
       "      <td>None</td>\n",
       "    </tr>\n",
       "    <tr>\n",
       "      <th>1</th>\n",
       "      <td>statmike-mlops-349915</td>\n",
       "      <td>applied_genai</td>\n",
       "      <td>bq-metadata</td>\n",
       "      <td>cost</td>\n",
       "      <td>cost</td>\n",
       "      <td>FLOAT64</td>\n",
       "      <td>None</td>\n",
       "      <td>NULL</td>\n",
       "      <td>None</td>\n",
       "    </tr>\n",
       "    <tr>\n",
       "      <th>2</th>\n",
       "      <td>statmike-mlops-349915</td>\n",
       "      <td>applied_genai</td>\n",
       "      <td>bq-metadata</td>\n",
       "      <td>category</td>\n",
       "      <td>category</td>\n",
       "      <td>STRING</td>\n",
       "      <td>None</td>\n",
       "      <td>NULL</td>\n",
       "      <td>None</td>\n",
       "    </tr>\n",
       "    <tr>\n",
       "      <th>3</th>\n",
       "      <td>statmike-mlops-349915</td>\n",
       "      <td>applied_genai</td>\n",
       "      <td>bq-metadata</td>\n",
       "      <td>name</td>\n",
       "      <td>name</td>\n",
       "      <td>STRING</td>\n",
       "      <td>None</td>\n",
       "      <td>NULL</td>\n",
       "      <td>None</td>\n",
       "    </tr>\n",
       "    <tr>\n",
       "      <th>4</th>\n",
       "      <td>statmike-mlops-349915</td>\n",
       "      <td>applied_genai</td>\n",
       "      <td>bq-metadata</td>\n",
       "      <td>brand</td>\n",
       "      <td>brand</td>\n",
       "      <td>STRING</td>\n",
       "      <td>None</td>\n",
       "      <td>NULL</td>\n",
       "      <td>None</td>\n",
       "    </tr>\n",
       "    <tr>\n",
       "      <th>5</th>\n",
       "      <td>statmike-mlops-349915</td>\n",
       "      <td>applied_genai</td>\n",
       "      <td>bq-metadata</td>\n",
       "      <td>retail_price</td>\n",
       "      <td>retail_price</td>\n",
       "      <td>FLOAT64</td>\n",
       "      <td>None</td>\n",
       "      <td>NULL</td>\n",
       "      <td>None</td>\n",
       "    </tr>\n",
       "    <tr>\n",
       "      <th>6</th>\n",
       "      <td>statmike-mlops-349915</td>\n",
       "      <td>applied_genai</td>\n",
       "      <td>bq-metadata</td>\n",
       "      <td>department</td>\n",
       "      <td>department</td>\n",
       "      <td>STRING</td>\n",
       "      <td>None</td>\n",
       "      <td>NULL</td>\n",
       "      <td>None</td>\n",
       "    </tr>\n",
       "    <tr>\n",
       "      <th>7</th>\n",
       "      <td>statmike-mlops-349915</td>\n",
       "      <td>applied_genai</td>\n",
       "      <td>bq-metadata</td>\n",
       "      <td>sku</td>\n",
       "      <td>sku</td>\n",
       "      <td>STRING</td>\n",
       "      <td>None</td>\n",
       "      <td>NULL</td>\n",
       "      <td>None</td>\n",
       "    </tr>\n",
       "    <tr>\n",
       "      <th>8</th>\n",
       "      <td>statmike-mlops-349915</td>\n",
       "      <td>applied_genai</td>\n",
       "      <td>bq-metadata</td>\n",
       "      <td>distribution_center_id</td>\n",
       "      <td>distribution_center_id</td>\n",
       "      <td>INT64</td>\n",
       "      <td>None</td>\n",
       "      <td>NULL</td>\n",
       "      <td>None</td>\n",
       "    </tr>\n",
       "  </tbody>\n",
       "</table>\n",
       "</div>"
      ],
      "text/plain": [
       "           table_catalog   table_schema   table_name             column_name  \\\n",
       "0  statmike-mlops-349915  applied_genai  bq-metadata                      id   \n",
       "1  statmike-mlops-349915  applied_genai  bq-metadata                    cost   \n",
       "2  statmike-mlops-349915  applied_genai  bq-metadata                category   \n",
       "3  statmike-mlops-349915  applied_genai  bq-metadata                    name   \n",
       "4  statmike-mlops-349915  applied_genai  bq-metadata                   brand   \n",
       "5  statmike-mlops-349915  applied_genai  bq-metadata            retail_price   \n",
       "6  statmike-mlops-349915  applied_genai  bq-metadata              department   \n",
       "7  statmike-mlops-349915  applied_genai  bq-metadata                     sku   \n",
       "8  statmike-mlops-349915  applied_genai  bq-metadata  distribution_center_id   \n",
       "\n",
       "               field_path data_type description collation_name rounding_mode  \n",
       "0                      id     INT64        None           NULL          None  \n",
       "1                    cost   FLOAT64        None           NULL          None  \n",
       "2                category    STRING        None           NULL          None  \n",
       "3                    name    STRING        None           NULL          None  \n",
       "4                   brand    STRING        None           NULL          None  \n",
       "5            retail_price   FLOAT64        None           NULL          None  \n",
       "6              department    STRING        None           NULL          None  \n",
       "7                     sku    STRING        None           NULL          None  \n",
       "8  distribution_center_id     INT64        None           NULL          None  "
      ]
     },
     "execution_count": 44,
     "metadata": {},
     "output_type": "execute_result"
    }
   ],
   "source": [
    "query = f\"\"\"\n",
    "    SELECT *\n",
    "    FROM `{BQ_PROJECT}.{BQ_DATASET}.INFORMATION_SCHEMA.COLUMN_FIELD_PATHS`\n",
    "    WHERE TABLE_NAME = '{BQ_TABLE}'\n",
    "        AND column_name = field_path\n",
    "\"\"\"\n",
    "bq.query(query = query).to_dataframe()"
   ]
  },
  {
   "cell_type": "code",
   "execution_count": 45,
   "id": "1879fb6c-5c4b-42c1-8e25-02ae5eb5c8bc",
   "metadata": {},
   "outputs": [
    {
     "data": {
      "text/html": [
       "<div>\n",
       "<style scoped>\n",
       "    .dataframe tbody tr th:only-of-type {\n",
       "        vertical-align: middle;\n",
       "    }\n",
       "\n",
       "    .dataframe tbody tr th {\n",
       "        vertical-align: top;\n",
       "    }\n",
       "\n",
       "    .dataframe thead th {\n",
       "        text-align: right;\n",
       "    }\n",
       "</style>\n",
       "<table border=\"1\" class=\"dataframe\">\n",
       "  <thead>\n",
       "    <tr style=\"text-align: right;\">\n",
       "      <th></th>\n",
       "      <th>table_catalog</th>\n",
       "      <th>table_schema</th>\n",
       "      <th>table_name</th>\n",
       "      <th>option_name</th>\n",
       "      <th>option_type</th>\n",
       "      <th>option_value</th>\n",
       "    </tr>\n",
       "  </thead>\n",
       "  <tbody>\n",
       "  </tbody>\n",
       "</table>\n",
       "</div>"
      ],
      "text/plain": [
       "Empty DataFrame\n",
       "Columns: [table_catalog, table_schema, table_name, option_name, option_type, option_value]\n",
       "Index: []"
      ]
     },
     "execution_count": 45,
     "metadata": {},
     "output_type": "execute_result"
    }
   ],
   "source": [
    "query = f\"\"\"\n",
    "    SELECT *\n",
    "    FROM `{BQ_PROJECT}.{BQ_DATASET}.INFORMATION_SCHEMA.TABLE_OPTIONS`\n",
    "    WHERE TABLE_NAME = '{BQ_TABLE}'\n",
    "        AND OPTION_NAME = 'description'\n",
    "\"\"\"\n",
    "bq.query(query = query).to_dataframe()"
   ]
  },
  {
   "cell_type": "markdown",
   "id": "9806ff84-ca4d-43ab-8567-c520cdcb9bce",
   "metadata": {},
   "source": [
    "### Change Column Names"
   ]
  },
  {
   "cell_type": "markdown",
   "id": "f497255e-480f-434c-a9da-3338a94b9de3",
   "metadata": {},
   "source": [
    "Construct DDL to Alter Table:"
   ]
  },
  {
   "cell_type": "code",
   "execution_count": 59,
   "id": "be2f18cf-d78f-420a-becf-8deed6a171f7",
   "metadata": {},
   "outputs": [
    {
     "data": {
      "application/vnd.jupyter.widget-view+json": {
       "model_id": "393fa03aa60f4ec99b06e63a344725eb",
       "version_major": 2,
       "version_minor": 0
      },
      "text/plain": [
       "HTML(value='Query job 5c6eaaa3-097d-4e96-97f0-c0f9ffcee87a is DONE. 0 Bytes processed. <a target=\"_blank\" href…"
      ]
     },
     "metadata": {},
     "output_type": "display_data"
    },
    {
     "name": "stdout",
     "output_type": "stream",
     "text": [
      "ALTER TABLE `statmike-mlops-349915.applied_genai.bq-metadata`\n",
      "\tRENAME COLUMN id TO  product_id,\n",
      "\tRENAME COLUMN cost TO  product_cost,\n",
      "\tRENAME COLUMN category TO  products_category_v2,\n",
      "\tRENAME COLUMN name TO  product_name,\n",
      "\tRENAME COLUMN brand TO  product_brand,\n",
      "\tRENAME COLUMN retail_price TO  products_retail_price_float64,\n",
      "\tRENAME COLUMN department TO  products_department_gender,\n",
      "\tRENAME COLUMN sku TO  product_sku,\n",
      "\tRENAME COLUMN distribution_center_id TO  products_distribution_center_id\n"
     ]
    }
   ],
   "source": [
    "for r, row in enumerate(products_columns[['column_name', 'new_column_name', 'new_column_description']].values.tolist()):\n",
    "    if r == 0:\n",
    "        query = f\"ALTER TABLE `{BQ_PROJECT}.{BQ_DATASET}.{BQ_TABLE}`\"\n",
    "        query += f\"\"\"\\n\\tRENAME COLUMN {row[0]} TO {row[1]}\"\"\"\n",
    "    else:\n",
    "        query += f\"\"\",\\n\\tRENAME COLUMN {row[0]} TO {row[1]}\"\"\"\n",
    "print(query)"
   ]
  },
  {
   "cell_type": "code",
   "execution_count": 60,
   "id": "5b53f729-4087-42e4-b15d-82344415e55e",
   "metadata": {},
   "outputs": [
    {
     "data": {
      "text/plain": [
       "'DONE'"
      ]
     },
     "execution_count": 60,
     "metadata": {},
     "output_type": "execute_result"
    }
   ],
   "source": [
    "job = bq.query(query = query)\n",
    "job.result()\n",
    "job.state"
   ]
  },
  {
   "cell_type": "markdown",
   "id": "f9a560c2-9041-45a1-a6be-aaa7cfba0d00",
   "metadata": {},
   "source": [
    "### Change Column Descriptions"
   ]
  },
  {
   "cell_type": "markdown",
   "id": "14438d47-32b7-4e7b-9c69-46fabc570532",
   "metadata": {},
   "source": [
    "Construct DDL to Alter Table:"
   ]
  },
  {
   "cell_type": "code",
   "execution_count": 61,
   "id": "1d379f54-06bf-425e-8868-c92a567d1821",
   "metadata": {},
   "outputs": [
    {
     "data": {
      "application/vnd.jupyter.widget-view+json": {
       "model_id": "8c2371ca3d864330817c62fd08377977",
       "version_major": 2,
       "version_minor": 0
      },
      "text/plain": [
       "HTML(value='Query job 603e15d9-18ce-4db1-8469-78b794713f69 is DONE. 0 Bytes processed. <a target=\"_blank\" href…"
      ]
     },
     "metadata": {},
     "output_type": "display_data"
    },
    {
     "name": "stdout",
     "output_type": "stream",
     "text": [
      "ALTER TABLE `statmike-mlops-349915.applied_genai.bq-metadata`\n",
      "\tALTER COLUMN  product_id SET OPTIONS (description = \" product_id is a column in the products table. The column is of type INT64 and has values like 29120,29119,29118,29117,29116,29115,29114,29113,29112,29111. The column likely represents the unique identifier for each product in the table.\"),\n",
      "\tALTER COLUMN  product_cost SET OPTIONS (description = \" product_cost is a column in the products table. The column contains FLOAT64 values representing the cost of each product. Example values include 13.549999985843897, 10.750000039115548, and 12.05000001937151.\"),\n",
      "\tALTER COLUMN  products_category_v2 SET OPTIONS (description = \" products_category_v2 column in the products table contains product category information. The column is of type STRING and contains values such as Intimates, Jeans, Tops & Tees, Fashion Hoodies & Sweatshirts, Swim, Sleep & Lounge, Shorts, Sweaters, Accessories, and Active.\"),\n",
      "\tALTER COLUMN  product_name SET OPTIONS (description = \" product_name: The name of the product. Examples: Wrangler Men's Premium Performance Cowboy Cut Jean,Wrangler Men's Rugged Wear Classic Fit Jean,True Religion Men's Ricky Straight Jean,Thorlo Unisex Experia Running Sock,Puma Men's Socks,Pearl iZUMi Attack Sock 3-Pack,Fruit of the Loom Women's 6-Pack Crew Socks,7 For All Mankind Men's Standard Classic Straight Leg Jean,Wrangler Men's Wrancher Dress Jean,Wrangler Men's Original Cowboy Cut Relaxed Fit Jean\"),\n",
      "\tALTER COLUMN  product_brand SET OPTIONS (description = \" product_brand column in the products table contains STRING data and captures the brand name of the product. Example values include: Allegra K, Calvin Klein, Carhartt, Hanes, Volcom, Nautica, Levi's, Quiksilver, Tommy Hilfiger, Columbia.\"),\n",
      "\tALTER COLUMN  products_retail_price_float64 SET OPTIONS (description = \" The products_retail_price_float64 column in the products table contains the retail price of each product in US dollars. The column has a datatype of FLOAT64 and contains values like 25, 29.99, 19.99, 39.99, 49.99, 24.99, 34.99, 49.5, 50, and 55.\"),\n",
      "\tALTER COLUMN  products_department_gender SET OPTIONS (description = \" The products_department_gender column in the products table stores the department and gender that a product belongs to. The column has a datatype of STRING and common values include 'Women' and 'Men'. This column can be used to filter products by department or gender, or to create reports on product sales by department or gender.\"),\n",
      "\tALTER COLUMN  product_sku SET OPTIONS (description = \" product_sku is a column in the products table. It is a string column with values that are product SKUs.\"),\n",
      "\tALTER COLUMN  products_distribution_center_id SET OPTIONS (description = \" The products_distribution_center_id column in the products table is an INT64 data type. The column contains the ID of the distribution center where the product is stored. The most common values for this column are 2, 1, 3, 8, 4, 9, 7, 6, 5, and 10.\")\n"
     ]
    }
   ],
   "source": [
    "for r, row in enumerate(products_columns[['column_name', 'new_column_name', 'new_column_description']].values.tolist()):\n",
    "    if r == 0:\n",
    "        query = f\"ALTER TABLE `{BQ_PROJECT}.{BQ_DATASET}.{BQ_TABLE}`\"\n",
    "        query += f\"\"\"\\n\\tALTER COLUMN {row[1]} SET OPTIONS (description = \"{row[2].replace('\"', \"'\")}\")\"\"\"\n",
    "    else:\n",
    "        query += f\"\"\",\\n\\tALTER COLUMN {row[1]} SET OPTIONS (description = \"{row[2].replace('\"', \"'\")}\")\"\"\"\n",
    "print(query)"
   ]
  },
  {
   "cell_type": "code",
   "execution_count": 62,
   "id": "3a73ae30-875b-45f3-bb1c-12ca48dd33b3",
   "metadata": {},
   "outputs": [
    {
     "data": {
      "text/plain": [
       "'DONE'"
      ]
     },
     "execution_count": 62,
     "metadata": {},
     "output_type": "execute_result"
    }
   ],
   "source": [
    "job = bq.query(query = query)\n",
    "job.result()\n",
    "job.state"
   ]
  },
  {
   "cell_type": "markdown",
   "id": "39cddc15-71f4-4e3c-8bdd-eabeb8d518c9",
   "metadata": {},
   "source": [
    "### Change Table Description"
   ]
  },
  {
   "cell_type": "code",
   "execution_count": 65,
   "id": "1d3cfb80-8ba8-4b3f-8100-94f55a68d2c6",
   "metadata": {},
   "outputs": [
    {
     "name": "stdout",
     "output_type": "stream",
     "text": [
      "ALTER TABLE `statmike-mlops-349915.applied_genai.bq-metadata`\n",
      "\tSET OPTIONS(description = \" The products table contains information about products, including product id, cost, category, name, brand, retail price, department and gender, SKU, and distribution center ID. The table can be used to analyze product sales, track inventory, and manage product distribution.\")\n"
     ]
    }
   ],
   "source": [
    "query = f\"\"\"ALTER TABLE `{BQ_PROJECT}.{BQ_DATASET}.{BQ_TABLE}`\n",
    "\\tSET OPTIONS(description = \"{table_description.replace('\"', \"'\")}\")\"\"\"\n",
    "print(query)"
   ]
  },
  {
   "cell_type": "code",
   "execution_count": 66,
   "id": "a06c4b9e-41b5-4433-9d14-f847f257df35",
   "metadata": {},
   "outputs": [
    {
     "data": {
      "text/plain": [
       "'DONE'"
      ]
     },
     "execution_count": 66,
     "metadata": {},
     "output_type": "execute_result"
    }
   ],
   "source": [
    "job = bq.query(query = query)\n",
    "job.result()\n",
    "job.state"
   ]
  },
  {
   "cell_type": "markdown",
   "id": "d8556aa6-ff23-47b7-a0f5-ca6567303d22",
   "metadata": {},
   "source": [
    "### Review Schema After Update"
   ]
  },
  {
   "cell_type": "code",
   "execution_count": 67,
   "id": "0427051a-f7c6-42ea-a50a-4081e22a1f1a",
   "metadata": {},
   "outputs": [
    {
     "data": {
      "text/html": [
       "<div>\n",
       "<style scoped>\n",
       "    .dataframe tbody tr th:only-of-type {\n",
       "        vertical-align: middle;\n",
       "    }\n",
       "\n",
       "    .dataframe tbody tr th {\n",
       "        vertical-align: top;\n",
       "    }\n",
       "\n",
       "    .dataframe thead th {\n",
       "        text-align: right;\n",
       "    }\n",
       "</style>\n",
       "<table border=\"1\" class=\"dataframe\">\n",
       "  <thead>\n",
       "    <tr style=\"text-align: right;\">\n",
       "      <th></th>\n",
       "      <th>table_catalog</th>\n",
       "      <th>table_schema</th>\n",
       "      <th>table_name</th>\n",
       "      <th>column_name</th>\n",
       "      <th>field_path</th>\n",
       "      <th>data_type</th>\n",
       "      <th>description</th>\n",
       "      <th>collation_name</th>\n",
       "      <th>rounding_mode</th>\n",
       "    </tr>\n",
       "  </thead>\n",
       "  <tbody>\n",
       "    <tr>\n",
       "      <th>0</th>\n",
       "      <td>statmike-mlops-349915</td>\n",
       "      <td>applied_genai</td>\n",
       "      <td>bq-metadata</td>\n",
       "      <td>product_id</td>\n",
       "      <td>product_id</td>\n",
       "      <td>INT64</td>\n",
       "      <td>product_id is a column in the products table....</td>\n",
       "      <td>NULL</td>\n",
       "      <td>None</td>\n",
       "    </tr>\n",
       "    <tr>\n",
       "      <th>1</th>\n",
       "      <td>statmike-mlops-349915</td>\n",
       "      <td>applied_genai</td>\n",
       "      <td>bq-metadata</td>\n",
       "      <td>product_cost</td>\n",
       "      <td>product_cost</td>\n",
       "      <td>FLOAT64</td>\n",
       "      <td>product_cost is a column in the products tabl...</td>\n",
       "      <td>NULL</td>\n",
       "      <td>None</td>\n",
       "    </tr>\n",
       "    <tr>\n",
       "      <th>2</th>\n",
       "      <td>statmike-mlops-349915</td>\n",
       "      <td>applied_genai</td>\n",
       "      <td>bq-metadata</td>\n",
       "      <td>products_category_v2</td>\n",
       "      <td>products_category_v2</td>\n",
       "      <td>STRING</td>\n",
       "      <td>products_category_v2 column in the products t...</td>\n",
       "      <td>NULL</td>\n",
       "      <td>None</td>\n",
       "    </tr>\n",
       "    <tr>\n",
       "      <th>3</th>\n",
       "      <td>statmike-mlops-349915</td>\n",
       "      <td>applied_genai</td>\n",
       "      <td>bq-metadata</td>\n",
       "      <td>product_name</td>\n",
       "      <td>product_name</td>\n",
       "      <td>STRING</td>\n",
       "      <td>product_name: The name of the product. Exampl...</td>\n",
       "      <td>NULL</td>\n",
       "      <td>None</td>\n",
       "    </tr>\n",
       "    <tr>\n",
       "      <th>4</th>\n",
       "      <td>statmike-mlops-349915</td>\n",
       "      <td>applied_genai</td>\n",
       "      <td>bq-metadata</td>\n",
       "      <td>product_brand</td>\n",
       "      <td>product_brand</td>\n",
       "      <td>STRING</td>\n",
       "      <td>product_brand column in the products table co...</td>\n",
       "      <td>NULL</td>\n",
       "      <td>None</td>\n",
       "    </tr>\n",
       "    <tr>\n",
       "      <th>5</th>\n",
       "      <td>statmike-mlops-349915</td>\n",
       "      <td>applied_genai</td>\n",
       "      <td>bq-metadata</td>\n",
       "      <td>products_retail_price_float64</td>\n",
       "      <td>products_retail_price_float64</td>\n",
       "      <td>FLOAT64</td>\n",
       "      <td>The products_retail_price_float64 column in t...</td>\n",
       "      <td>NULL</td>\n",
       "      <td>None</td>\n",
       "    </tr>\n",
       "    <tr>\n",
       "      <th>6</th>\n",
       "      <td>statmike-mlops-349915</td>\n",
       "      <td>applied_genai</td>\n",
       "      <td>bq-metadata</td>\n",
       "      <td>products_department_gender</td>\n",
       "      <td>products_department_gender</td>\n",
       "      <td>STRING</td>\n",
       "      <td>The products_department_gender column in the ...</td>\n",
       "      <td>NULL</td>\n",
       "      <td>None</td>\n",
       "    </tr>\n",
       "    <tr>\n",
       "      <th>7</th>\n",
       "      <td>statmike-mlops-349915</td>\n",
       "      <td>applied_genai</td>\n",
       "      <td>bq-metadata</td>\n",
       "      <td>product_sku</td>\n",
       "      <td>product_sku</td>\n",
       "      <td>STRING</td>\n",
       "      <td>product_sku is a column in the products table...</td>\n",
       "      <td>NULL</td>\n",
       "      <td>None</td>\n",
       "    </tr>\n",
       "    <tr>\n",
       "      <th>8</th>\n",
       "      <td>statmike-mlops-349915</td>\n",
       "      <td>applied_genai</td>\n",
       "      <td>bq-metadata</td>\n",
       "      <td>products_distribution_center_id</td>\n",
       "      <td>products_distribution_center_id</td>\n",
       "      <td>INT64</td>\n",
       "      <td>The products_distribution_center_id column in...</td>\n",
       "      <td>NULL</td>\n",
       "      <td>None</td>\n",
       "    </tr>\n",
       "  </tbody>\n",
       "</table>\n",
       "</div>"
      ],
      "text/plain": [
       "           table_catalog   table_schema   table_name  \\\n",
       "0  statmike-mlops-349915  applied_genai  bq-metadata   \n",
       "1  statmike-mlops-349915  applied_genai  bq-metadata   \n",
       "2  statmike-mlops-349915  applied_genai  bq-metadata   \n",
       "3  statmike-mlops-349915  applied_genai  bq-metadata   \n",
       "4  statmike-mlops-349915  applied_genai  bq-metadata   \n",
       "5  statmike-mlops-349915  applied_genai  bq-metadata   \n",
       "6  statmike-mlops-349915  applied_genai  bq-metadata   \n",
       "7  statmike-mlops-349915  applied_genai  bq-metadata   \n",
       "8  statmike-mlops-349915  applied_genai  bq-metadata   \n",
       "\n",
       "                       column_name                       field_path data_type  \\\n",
       "0                       product_id                       product_id     INT64   \n",
       "1                     product_cost                     product_cost   FLOAT64   \n",
       "2             products_category_v2             products_category_v2    STRING   \n",
       "3                     product_name                     product_name    STRING   \n",
       "4                    product_brand                    product_brand    STRING   \n",
       "5    products_retail_price_float64    products_retail_price_float64   FLOAT64   \n",
       "6       products_department_gender       products_department_gender    STRING   \n",
       "7                      product_sku                      product_sku    STRING   \n",
       "8  products_distribution_center_id  products_distribution_center_id     INT64   \n",
       "\n",
       "                                         description collation_name  \\\n",
       "0   product_id is a column in the products table....           NULL   \n",
       "1   product_cost is a column in the products tabl...           NULL   \n",
       "2   products_category_v2 column in the products t...           NULL   \n",
       "3   product_name: The name of the product. Exampl...           NULL   \n",
       "4   product_brand column in the products table co...           NULL   \n",
       "5   The products_retail_price_float64 column in t...           NULL   \n",
       "6   The products_department_gender column in the ...           NULL   \n",
       "7   product_sku is a column in the products table...           NULL   \n",
       "8   The products_distribution_center_id column in...           NULL   \n",
       "\n",
       "  rounding_mode  \n",
       "0          None  \n",
       "1          None  \n",
       "2          None  \n",
       "3          None  \n",
       "4          None  \n",
       "5          None  \n",
       "6          None  \n",
       "7          None  \n",
       "8          None  "
      ]
     },
     "execution_count": 67,
     "metadata": {},
     "output_type": "execute_result"
    }
   ],
   "source": [
    "query = f\"\"\"\n",
    "    SELECT *\n",
    "    FROM `{BQ_PROJECT}.{BQ_DATASET}.INFORMATION_SCHEMA.COLUMN_FIELD_PATHS`\n",
    "    WHERE TABLE_NAME = '{BQ_TABLE}'\n",
    "        AND column_name = field_path\n",
    "\"\"\"\n",
    "bq.query(query = query).to_dataframe()"
   ]
  },
  {
   "cell_type": "code",
   "execution_count": 69,
   "id": "777eab37-ae84-4916-a564-2923d29b6403",
   "metadata": {},
   "outputs": [
    {
     "data": {
      "text/plain": [
       "'\" The products table contains information about products, including product id, cost, category, name, brand, retail price, department and gender, SKU, and distribution center ID. The table can be used to analyze product sales, track inventory, and manage product distribution.\"'"
      ]
     },
     "execution_count": 69,
     "metadata": {},
     "output_type": "execute_result"
    }
   ],
   "source": [
    "query = f\"\"\"\n",
    "    SELECT *\n",
    "    FROM `{BQ_PROJECT}.{BQ_DATASET}.INFORMATION_SCHEMA.TABLE_OPTIONS`\n",
    "    WHERE TABLE_NAME = '{BQ_TABLE}'\n",
    "        AND OPTION_NAME = 'description'\n",
    "\"\"\"\n",
    "bq.query(query = query).to_dataframe()['option_value'].iloc[0]"
   ]
  }
 ],
 "metadata": {
  "environment": {
   "kernel": "python3",
   "name": "tf2-cpu.2-11.m119",
   "type": "gcloud",
   "uri": "us-docker.pkg.dev/deeplearning-platform-release/gcr.io/tf2-cpu.2-11:m119"
  },
  "kernelspec": {
   "display_name": "Python 3",
   "language": "python",
   "name": "python3"
  },
  "language_info": {
   "codemirror_mode": {
    "name": "ipython",
    "version": 3
   },
   "file_extension": ".py",
   "mimetype": "text/x-python",
   "name": "python",
   "nbconvert_exporter": "python",
   "pygments_lexer": "ipython3",
   "version": "3.10.14"
  }
 },
 "nbformat": 4,
 "nbformat_minor": 5
}
