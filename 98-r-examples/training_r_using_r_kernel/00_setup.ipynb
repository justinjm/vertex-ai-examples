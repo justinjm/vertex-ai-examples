{
 "cells": [
  {
   "attachments": {},
   "cell_type": "markdown",
   "id": "cbacc11d",
   "metadata": {},
   "source": [
    "# 00 - Setup\n",
    "\n",
    "Run this notebook to setup Vertex AI workbench instance"
   ]
  },
  {
   "attachments": {},
   "cell_type": "markdown",
   "id": "f2efeb13",
   "metadata": {},
   "source": [
    "## Installation\n",
    "\n",
    "First, install the following packages to execute this notebook."
   ]
  },
  {
   "cell_type": "code",
   "execution_count": null,
   "id": "3329e15d",
   "metadata": {},
   "outputs": [],
   "source": [
    "required_packages < - c(\"reticulate\", \"glue\", \"httr\")\n",
    "install.packages(setdiff(required_packages, rownames(installed.packages())))"
   ]
  },
  {
   "attachments": {},
   "cell_type": "markdown",
   "id": "3dac8e21",
   "metadata": {},
   "source": [
    "### Define helper functions for this Notebook\n",
    "\n",
    "you define some helper functions used throughout this tutorial.\n",
    "\n",
    "- `sh`: Executes the specified command shell.\n",
    "- `display_file`: Displays the contents of the specified file.\n"
   ]
  },
  {
   "cell_type": "code",
   "execution_count": null,
   "id": "4fa5f51f-1df3-4e1b-8244-381e09671f9b",
   "metadata": {},
   "outputs": [],
   "source": [
    "library(glue)\n",
    "library(IRdisplay)\n",
    "\n",
    "sh <- function(cmd, args = c(), intern = FALSE) {\n",
    "    if (is.null(args)) {\n",
    "        cmd <- glue(cmd)\n",
    "        s <- strsplit(cmd, \" \")[[1]]\n",
    "        cmd <- s[1]\n",
    "        args <- s[2:length(s)]\n",
    "    }\n",
    "    ret <- system2(cmd, args, stdout = TRUE, stderr = TRUE)\n",
    "    if (\"errmsg\" %in% attributes(attributes(ret))$names) cat(attr(ret, \"errmsg\"), \"\\n\")\n",
    "    if (intern) return(ret) else cat(paste(ret, collapse = \"\\n\"))\n",
    "}\n",
    "\n",
    "display_file <- function(filename) {\n",
    "    body <- sh(glue(\"pygmentize -g {filename} -f html -P full -O style=default\"), intern = TRUE)\n",
    "    IRdisplay::display_html(paste(\"<div style='text-align: left'>\", paste(body, collapse=\"\\n\"), \"</div>\", collapse=\"\\n\"))\n",
    "}\n"
   ]
  },
  {
   "cell_type": "code",
   "execution_count": null,
   "id": "fc4cd5dd-c847-4c62-8cc2-9d56e8533b6a",
   "metadata": {},
   "outputs": [],
   "source": [
    "# Fix for reticulate\n",
    "# 1 of 2 \n",
    "install.packages(c('reticulate', 'Rcpp'))"
   ]
  },
  {
   "cell_type": "code",
   "execution_count": null,
   "id": "c754b24b-791f-4818-a1c6-fb16c0de41c2",
   "metadata": {},
   "outputs": [],
   "source": [
    "# Fix for reticulate\n",
    "# 2 of 2 \n",
    "sh(\"pip install --upgrade grpcio google-cloud-aiplatform -q\")"
   ]
  },
  {
   "cell_type": "code",
   "execution_count": null,
   "id": "c9762636-28fa-481e-b426-2cf63db6f8d6",
   "metadata": {},
   "outputs": [],
   "source": [
    "library(reticulate)\n",
    "\n",
    "use_python(Sys.which(\"python3\"))\n",
    "\n",
    "aiplatform <- import(\"google.cloud.aiplatform\")"
   ]
  },
  {
   "cell_type": "code",
   "execution_count": null,
   "id": "e32f73b1-591b-4704-bbd4-5893da17b29b",
   "metadata": {},
   "outputs": [],
   "source": [
    "sessionInfo()"
   ]
  }
 ],
 "metadata": {
  "kernelspec": {
   "display_name": "Python 3",
   "language": "python",
   "name": "python3"
  },
  "language_info": {
   "codemirror_mode": "r",
   "file_extension": ".r",
   "mimetype": "text/x-r-source",
   "name": "python",
   "pygments_lexer": "r",
   "version": "3.9.6 (default, Sep 26 2022, 11:37:49) \n[Clang 14.0.0 (clang-1400.0.29.202)]"
  },
  "vscode": {
   "interpreter": {
    "hash": "31f2aee4e71d21fbe5cf8b01ff0e069b9275f58929596ceb00d14d90e3e16cd6"
   }
  }
 },
 "nbformat": 4,
 "nbformat_minor": 5
}
