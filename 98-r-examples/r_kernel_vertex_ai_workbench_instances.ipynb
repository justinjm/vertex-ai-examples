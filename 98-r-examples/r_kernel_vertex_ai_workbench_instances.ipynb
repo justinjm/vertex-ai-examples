{
 "cells": [
  {
   "cell_type": "markdown",
   "id": "07e75deb-47d1-432b-a06e-22ff75f9d669",
   "metadata": {
    "tags": []
   },
   "source": [
    "# R Kernel on Vertex AI Workbench Instances\n",
    "\n",
    "How to use R on a Vertex AI Workbench Instance"
   ]
  },
  {
   "cell_type": "markdown",
   "id": "3c605b56-7643-450f-b69e-416a596ae424",
   "metadata": {},
   "source": [
    "## Setup\n",
    "\n",
    "1.  Create a new vertex ai workbench instance  [https://cloud.google.com/vertex-ai/docs/workbench/instances/introduction](https://cloud.google.com/vertex-ai/docs/workbench/instances/introduction)     \n",
    "2.  Open a terminal session from the Launcher     \n",
    "3.  enter commands below in the terminal (one line at a time)\n",
    " \n",
    "  \n",
    "```sh\n",
    "ENV_NAME=r-env\n",
    "conda create -n $ENV_NAME r-essentials r-base rpy2\n",
    "conda activate $ENV_NAME\n",
    "python -m ipykernel install --user --name=$ENV_NAME\n",
    "```\n",
    "  \n",
    "4.  Return to the Launcher screen and click the R kernel    \n"
   ]
  },
  {
   "cell_type": "markdown",
   "id": "25ab2d9a-01cd-458c-9a3e-4b887f835802",
   "metadata": {
    "tags": []
   },
   "source": [
    "## Install R packages"
   ]
  },
  {
   "cell_type": "code",
   "execution_count": null,
   "id": "3e7d2c30-f50d-4e87-be13-21ef05d6274e",
   "metadata": {
    "tags": [],
    "vscode": {
     "languageId": "r"
    }
   },
   "outputs": [],
   "source": [
    "required_packages <- c(\"bigrquery\", \"googleCloudStorageR\" , \"glue\", \"httr\")\n",
    "install.packages(setdiff(required_packages, rownames(installed.packages())))"
   ]
  },
  {
   "cell_type": "markdown",
   "id": "79d016c2-37d0-430d-bf19-dc5499616f46",
   "metadata": {},
   "source": [
    "## set constants "
   ]
  },
  {
   "cell_type": "code",
   "execution_count": null,
   "id": "f1520ef3-0559-4ea2-bc5c-24c2ee82863f",
   "metadata": {
    "tags": [],
    "vscode": {
     "languageId": "r"
    }
   },
   "outputs": [],
   "source": [
    "email <- \"your-email@your-company-name.com\"\n",
    "project_id <- \"your-project-id\"\n",
    "## try to set from gcloud if not specified \n",
    "if (email == \"your-email@your-company-name.com\") {\n",
    "    email <- system(\"gcloud config get-value core/account\", intern = TRUE)}\n",
    "if (project_id == \"your-project-id\"){\n",
    "    project_id <- system(\"gcloud config get-value project\", intern = TRUE)}"
   ]
  },
  {
   "cell_type": "code",
   "execution_count": null,
   "id": "a1babe85-f532-4b72-9128-b7c2d1832615",
   "metadata": {
    "tags": [],
    "vscode": {
     "languageId": "r"
    }
   },
   "outputs": [],
   "source": [
    "print(email)"
   ]
  },
  {
   "cell_type": "code",
   "execution_count": null,
   "id": "253726a2-d88e-4f60-a10b-810a16d4895c",
   "metadata": {
    "tags": [],
    "vscode": {
     "languageId": "r"
    }
   },
   "outputs": [],
   "source": [
    "print(project_id)"
   ]
  },
  {
   "cell_type": "markdown",
   "id": "c41325ec-3aa6-449c-9f55-e9e5332b7d97",
   "metadata": {},
   "source": [
    "## load R packages "
   ]
  },
  {
   "cell_type": "code",
   "execution_count": null,
   "id": "73a8807c-720f-47fd-83f2-177275df1fe2",
   "metadata": {
    "tags": [],
    "vscode": {
     "languageId": "r"
    }
   },
   "outputs": [],
   "source": [
    "library(googleCloudStorageR)\n",
    "library(bigrquery)\n",
    "library(gargle)\n",
    "# set when debugging\n",
    "# options(gargle_verbosity = \"debug\") "
   ]
  },
  {
   "cell_type": "markdown",
   "id": "98017222-7a67-4f1f-8ae5-02238cfe3c46",
   "metadata": {},
   "source": [
    "## Authenticate Clients"
   ]
  },
  {
   "cell_type": "code",
   "execution_count": null,
   "id": "f4d25eae-1f07-487b-95f5-cf00ba9a9c47",
   "metadata": {
    "tags": [],
    "vscode": {
     "languageId": "r"
    }
   },
   "outputs": [],
   "source": [
    "## set scope to enable access for each R package and use token based auth\n",
    "## to simplify\n",
    "### GCS - https://code.markedmondson.me/googleCloudStorageR/articles/googleCloudStorageR.html#token-authentication-1\n",
    "### BQ - https://bigrquery.r-dbi.org/reference/bq_auth.html\n",
    "scope <- c(\"https://www.googleapis.com/auth/cloud-platform\")\n",
    "token <- token_fetch(scopes = scope, email = email)"
   ]
  },
  {
   "cell_type": "code",
   "execution_count": null,
   "id": "972a5992-15d5-4c60-b025-b0eb77041917",
   "metadata": {
    "tags": [],
    "vscode": {
     "languageId": "r"
    }
   },
   "outputs": [],
   "source": [
    "## authenticate with each service\n",
    "gcs_auth(token = token)\n",
    "bq_auth(token = token)"
   ]
  },
  {
   "cell_type": "markdown",
   "id": "b33fd8e8-7843-48ba-b1f1-61356c86ab99",
   "metadata": {},
   "source": [
    "## Test connections"
   ]
  },
  {
   "cell_type": "markdown",
   "id": "84222d58-983d-4c85-9381-00659948072a",
   "metadata": {
    "tags": []
   },
   "source": [
    "### List Google Cloud Storage Buckets"
   ]
  },
  {
   "cell_type": "code",
   "execution_count": null,
   "id": "00b6039b-578c-4bc0-8c8b-d88b72be3fe6",
   "metadata": {
    "tags": [],
    "vscode": {
     "languageId": "r"
    }
   },
   "outputs": [],
   "source": [
    "buckets <- gcs_list_buckets(project_id)\n",
    "buckets"
   ]
  },
  {
   "cell_type": "markdown",
   "id": "eb394413-6283-4217-b211-5ab7532e01e1",
   "metadata": {
    "tags": []
   },
   "source": [
    "### List bigquery datasets "
   ]
  },
  {
   "cell_type": "code",
   "execution_count": null,
   "id": "5a7af294-3c63-48c1-961b-aa17d61c08cb",
   "metadata": {
    "tags": [],
    "vscode": {
     "languageId": "r"
    }
   },
   "outputs": [],
   "source": [
    "datasets <- as.data.frame(do.call(rbind, bq_project_datasets(project_id)))\n",
    "datasets"
   ]
  }
 ],
 "metadata": {
  "environment": {
   "kernel": "conda-env-r-env-r",
   "name": "workbench-notebooks.m121",
   "type": "gcloud",
   "uri": "us-docker.pkg.dev/deeplearning-platform-release/gcr.io/workbench-notebooks:m121"
  },
  "kernelspec": {
   "display_name": "R (Local) (Local)",
   "language": "R",
   "name": "conda-env-r-env-r"
  },
  "language_info": {
   "codemirror_mode": "r",
   "file_extension": ".r",
   "mimetype": "text/x-r-source",
   "name": "R",
   "pygments_lexer": "r",
   "version": "4.3.3"
  }
 },
 "nbformat": 4,
 "nbformat_minor": 5
}
