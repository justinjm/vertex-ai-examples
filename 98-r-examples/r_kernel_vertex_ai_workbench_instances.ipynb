{
 "cells": [
  {
   "cell_type": "markdown",
   "id": "07e75deb-47d1-432b-a06e-22ff75f9d669",
   "metadata": {
    "tags": []
   },
   "source": [
    "# R on Vertex AI Workbench Instances\n",
    "\n",
    "How to use R on a Vertex AI Workbench Instance"
   ]
  },
  {
   "cell_type": "markdown",
   "id": "3c605b56-7643-450f-b69e-416a596ae424",
   "metadata": {},
   "source": [
    "## Setup\n",
    "\n",
    "1.  Create a new vertex ai workbench instance  [https://cloud.google.com/vertex-ai/docs/workbench/instances/introduction](https://cloud.google.com/vertex-ai/docs/workbench/instances/introduction)     \n",
    "2.  Open a terminal session from the Launcher     \n",
    "3.  enter commands below in the terminal (one line at a time)\n",
    " \n",
    "  \n",
    "```sh\n",
    "ENV_NAME=r-env\n",
    "conda create -n $ENV_NAME r-essentials r-base rpy2\n",
    "conda activate $ENV_NAME\n",
    "python -m ipykernel install --user --name=$ENV_NAME\n",
    "```\n",
    "  \n",
    "4.  Return to the Launcher screen and click the R kernel    \n"
   ]
  },
  {
   "cell_type": "markdown",
   "id": "25ab2d9a-01cd-458c-9a3e-4b887f835802",
   "metadata": {
    "tags": []
   },
   "source": [
    "## Install R packages"
   ]
  },
  {
   "cell_type": "code",
   "execution_count": null,
   "id": "0e9aef4b-ea64-4894-baac-5db5f218f682",
   "metadata": {
    "tags": [],
    "vscode": {
     "languageId": "r"
    }
   },
   "outputs": [],
   "source": [
    "required_packages <- c(\"bigrquery\", \"googleCloudStorageR\" , \"glue\", \"httr\")\n",
    "install.packages(setdiff(required_packages, rownames(installed.packages())))"
   ]
  },
  {
   "cell_type": "markdown",
   "id": "1bffb643-3147-4a5a-9b19-e829f3374866",
   "metadata": {},
   "source": [
    "## set constants \n",
    "\n",
    "### Email & Project ID"
   ]
  },
  {
   "cell_type": "code",
   "execution_count": null,
   "id": "f1520ef3-0559-4ea2-bc5c-24c2ee82863f",
   "metadata": {
    "tags": [],
    "vscode": {
     "languageId": "r"
    }
   },
   "outputs": [],
   "source": [
    "email <- \"your-email@your-company-name.com\"\n",
    "project_id <- \"your-project-id\"\n",
    "## try to set from gcloud if not specified \n",
    "if (email == \"your-email@your-company-name.com\") {\n",
    "    email <- system(\"gcloud config get-value core/account\", intern = TRUE)}\n",
    "if (project_id == \"your-project-id\"){\n",
    "    project_id <- system(\"gcloud config get-value project\", intern = TRUE)}"
   ]
  },
  {
   "cell_type": "code",
   "execution_count": null,
   "id": "a1babe85-f532-4b72-9128-b7c2d1832615",
   "metadata": {
    "tags": [],
    "vscode": {
     "languageId": "r"
    }
   },
   "outputs": [],
   "source": [
    "print(email)"
   ]
  },
  {
   "cell_type": "code",
   "execution_count": null,
   "id": "253726a2-d88e-4f60-a10b-810a16d4895c",
   "metadata": {
    "tags": [],
    "vscode": {
     "languageId": "r"
    }
   },
   "outputs": [],
   "source": [
    "print(project_id)"
   ]
  },
  {
   "cell_type": "markdown",
   "id": "79d016c2-37d0-430d-bf19-dc5499616f46",
   "metadata": {
    "tags": []
   },
   "source": [
    "### Other"
   ]
  },
  {
   "cell_type": "code",
   "execution_count": null,
   "id": "6a18ef94-69b8-4d2e-95d2-1518f9e99509",
   "metadata": {
    "tags": []
   },
   "outputs": [],
   "source": [
    "experiment_name <- \"r-kernel-workbench\"\n",
    "\n",
    "bucket_name <- paste0(project_id, \"-\" , experiment_name)\n",
    "\n",
    "dataset_name <- gsub(\"-\", \"_\", experiment_name)\n",
    "\n",
    "table_name <- \"californiahousing\"\n",
    "\n",
    "location <- \"us-central1\"\n",
    "\n",
    "data_filename <- \"california-housing-tabular-regression.csv\""
   ]
  },
  {
   "cell_type": "markdown",
   "id": "c41325ec-3aa6-449c-9f55-e9e5332b7d97",
   "metadata": {},
   "source": [
    "## load R packages "
   ]
  },
  {
   "cell_type": "code",
   "execution_count": null,
   "id": "73a8807c-720f-47fd-83f2-177275df1fe2",
   "metadata": {
    "tags": [],
    "vscode": {
     "languageId": "r"
    }
   },
   "outputs": [],
   "source": [
    "library(googleCloudStorageR)\n",
    "library(bigrquery)\n",
    "library(gargle)\n",
    "library(glue)\n",
    "# set when debugging\n",
    "# options(gargle_verbosity = \"debug\") "
   ]
  },
  {
   "cell_type": "markdown",
   "id": "98017222-7a67-4f1f-8ae5-02238cfe3c46",
   "metadata": {},
   "source": [
    "## Authenticate Clients"
   ]
  },
  {
   "cell_type": "code",
   "execution_count": null,
   "id": "f4d25eae-1f07-487b-95f5-cf00ba9a9c47",
   "metadata": {
    "tags": [],
    "vscode": {
     "languageId": "r"
    }
   },
   "outputs": [],
   "source": [
    "## set scope to enable access for each R package and use token based auth\n",
    "## to simplify\n",
    "### GCS - https://code.markedmondson.me/googleCloudStorageR/articles/googleCloudStorageR.html#token-authentication-1\n",
    "### BQ - https://bigrquery.r-dbi.org/reference/bq_auth.html\n",
    "scope <- c(\"https://www.googleapis.com/auth/cloud-platform\")\n",
    "token <- token_fetch(scopes = scope, email = email)"
   ]
  },
  {
   "cell_type": "code",
   "execution_count": null,
   "id": "972a5992-15d5-4c60-b025-b0eb77041917",
   "metadata": {
    "tags": [],
    "vscode": {
     "languageId": "r"
    }
   },
   "outputs": [],
   "source": [
    "## authenticate with each service\n",
    "gcs_auth(token = token)\n",
    "bq_auth(token = token)"
   ]
  },
  {
   "cell_type": "markdown",
   "id": "b33fd8e8-7843-48ba-b1f1-61356c86ab99",
   "metadata": {},
   "source": [
    "## Test connections"
   ]
  },
  {
   "cell_type": "markdown",
   "id": "84222d58-983d-4c85-9381-00659948072a",
   "metadata": {
    "tags": []
   },
   "source": [
    "### List Google Cloud Storage Buckets"
   ]
  },
  {
   "cell_type": "code",
   "execution_count": null,
   "id": "00b6039b-578c-4bc0-8c8b-d88b72be3fe6",
   "metadata": {
    "scrolled": true,
    "tags": [],
    "vscode": {
     "languageId": "r"
    }
   },
   "outputs": [],
   "source": [
    "# buckets <- gcs_list_buckets(project_id)\n",
    "# buckets"
   ]
  },
  {
   "cell_type": "markdown",
   "id": "eb394413-6283-4217-b211-5ab7532e01e1",
   "metadata": {
    "tags": []
   },
   "source": [
    "### List Bigquery datasets "
   ]
  },
  {
   "cell_type": "code",
   "execution_count": null,
   "id": "5a7af294-3c63-48c1-961b-aa17d61c08cb",
   "metadata": {
    "scrolled": true,
    "tags": [],
    "vscode": {
     "languageId": "r"
    }
   },
   "outputs": [],
   "source": [
    "# datasets <- as.data.frame(do.call(rbind, bq_project_datasets(project_id)))\n",
    "# datasets"
   ]
  },
  {
   "cell_type": "markdown",
   "id": "5bac40e6-9741-4964-a7b0-b6548fe96821",
   "metadata": {},
   "source": [
    "## Example workflow\n",
    "\n",
    "* get public sample data (CSV) file from public GCS bucket\n",
    "* Create GCS staging bucket and destination BQ table\n",
    "* load data from GCS to BQ\n",
    "* query BQ data\n",
    "* cleanup / delete all created resources"
   ]
  },
  {
   "cell_type": "markdown",
   "id": "379d7338-6585-4baf-992c-bcefc14c844e",
   "metadata": {},
   "source": [
    "## create GCS Bucket "
   ]
  },
  {
   "cell_type": "code",
   "execution_count": null,
   "id": "9e7d92db-f181-4588-8f9b-6113fcbfd5de",
   "metadata": {
    "tags": [],
    "vscode": {
     "languageId": "r"
    }
   },
   "outputs": [],
   "source": [
    "create_bucket_if_not_exists <- function(project_id, bucket_name, location) {\n",
    "    # Check if the bucket already exists by trying to retrieve it\n",
    "    bucket_exists <- tryCatch({\n",
    "      gcs_get_bucket(bucket_name)\n",
    "      TRUE  # If no error, the bucket exists\n",
    "    }, error = function(e) {\n",
    "      message(paste(\"Bucket\", bucket_name, \"does not exist.\"))\n",
    "      FALSE # If an error is thrown, the bucket doesn't exist\n",
    "    })\n",
    "\n",
    "    if (!bucket_exists) {\n",
    "      # Create the bucket if it doesn't exist\n",
    "      gcs_create_bucket(bucket_name,\n",
    "                        projectId = project_id,\n",
    "                        storageClass = \"STANDARD\",\n",
    "                        location = location)\n",
    "      message(paste(\"Bucket\", bucket_name, \"created successfully.\"))\n",
    "    } else {\n",
    "      message(paste(\"Bucket\", bucket_name, \"already exists.\"))\n",
    "    }\n",
    "}"
   ]
  },
  {
   "cell_type": "code",
   "execution_count": null,
   "id": "880b24ba-a0ec-4e8d-b3e6-8703e7d0e032",
   "metadata": {
    "tags": [],
    "vscode": {
     "languageId": "r"
    }
   },
   "outputs": [],
   "source": [
    "create_bucket_if_not_exists(project_id = project_id, \n",
    "                            bucket_name = bucket_name,\n",
    "                            location = location)"
   ]
  },
  {
   "cell_type": "code",
   "execution_count": null,
   "id": "524aa1b0-c2ac-4811-aef6-48d901d5d0bf",
   "metadata": {
    "tags": [],
    "vscode": {
     "languageId": "r"
    }
   },
   "outputs": [],
   "source": [
    "create_dataset_if_not_exists <- function(project_id, dataset_id, location) {\n",
    "    \n",
    "    # Check if the dataset already exists\n",
    "    dataset_exists <- bq_dataset_exists(bq_dataset(project_id, dataset_id))  # Retrieve dataset information\n",
    "\n",
    "  if (dataset_exists!=TRUE) {\n",
    "    # Create the dataset if it doesn't exist\n",
    "    bq_dataset_create(bq_dataset(project_id, dataset_id), location)\n",
    "    message(paste(\"Dataset\", dataset_id, \"created successfully in project\", project_id))\n",
    "  } else {\n",
    "    message(paste(\"Dataset\", dataset_id, \"already exists in project\", project_id))\n",
    "  }\n",
    "}"
   ]
  },
  {
   "cell_type": "code",
   "execution_count": null,
   "id": "49d3a413-f737-4d0f-86e3-d6cf56b441ff",
   "metadata": {
    "tags": [],
    "vscode": {
     "languageId": "r"
    }
   },
   "outputs": [],
   "source": [
    "create_dataset_if_not_exists(project_id = project_id, \n",
    "                             dataset_id = dataset_name, \n",
    "                             location = location)"
   ]
  },
  {
   "cell_type": "code",
   "execution_count": null,
   "id": "e40229bf-344c-42ce-aaaa-10b68f0e9e32",
   "metadata": {
    "tags": [],
    "vscode": {
     "languageId": "r"
    }
   },
   "outputs": [],
   "source": [
    "## set global bucket first so we don't need to in future api calls\n",
    "gcs_global_bucket(bucket_name)\n",
    "gcs_list_objects()\n"
   ]
  },
  {
   "cell_type": "code",
   "execution_count": null,
   "id": "0cd5e30c-d0b6-4eb6-a62a-1e75b7294c37",
   "metadata": {
    "tags": [],
    "vscode": {
     "languageId": "r"
    }
   },
   "outputs": [],
   "source": [
    "## download file from bucket ------------------------------------------------\n",
    "data_uri <- \"gs://cloud-samples-data/ai-platform-unified/datasets/tabular/california-housing-tabular-regression.csv\"\n",
    "data_raw <- gcs_get_object(object_name = data_uri)"
   ]
  },
  {
   "cell_type": "code",
   "execution_count": null,
   "id": "0c0b233a-f117-4ff3-8a2e-1eae70440ab1",
   "metadata": {
    "tags": [],
    "vscode": {
     "languageId": "r"
    }
   },
   "outputs": [],
   "source": [
    "## inspect data to sanity check ---------------------------------------------\n",
    "summary(data_raw)\n",
    "head(data_raw)"
   ]
  },
  {
   "cell_type": "markdown",
   "id": "28de0a0c-9d14-4998-a194-abec9c758bb8",
   "metadata": {
    "tags": [],
    "vscode": {
     "languageId": "r"
    }
   },
   "source": [
    "## upload file to our bucket"
   ]
  },
  {
   "cell_type": "code",
   "execution_count": null,
   "id": "3b2bd770-fa1f-4cc8-9022-7f0d924c7754",
   "metadata": {
    "tags": [],
    "vscode": {
     "languageId": "r"
    }
   },
   "outputs": [],
   "source": [
    "gcs_upload(data_raw,\n",
    "           name = data_filename,\n",
    "           predefinedAcl = \"bucketLevel\")"
   ]
  },
  {
   "cell_type": "code",
   "execution_count": null,
   "id": "ac2370ba-806e-4298-bad3-7ad09f9b0bd5",
   "metadata": {
    "tags": [],
    "vscode": {
     "languageId": "r"
    }
   },
   "outputs": [],
   "source": [
    "## list to confirm upload  -----------------------------------------------\n",
    "gcs_list_objects()"
   ]
  },
  {
   "cell_type": "code",
   "execution_count": null,
   "id": "478a5dff-8357-4d26-b558-0d590691bf99",
   "metadata": {
    "tags": [],
    "vscode": {
     "languageId": "r"
    }
   },
   "outputs": [],
   "source": [
    "## Create new empty table -----------------------------------------------------\n",
    "### name of bq table to create, save as object -----------------------------\n",
    "bq_table_to_create <- bq_table(project_id, dataset_name, table_name)\n",
    "bq_table_to_create"
   ]
  },
  {
   "cell_type": "code",
   "execution_count": null,
   "id": "11156dfd-7f07-4c99-9a1b-ffa678105c3a",
   "metadata": {
    "tags": [],
    "vscode": {
     "languageId": "r"
    }
   },
   "outputs": [],
   "source": [
    "### set fields / schema -----------------------------------------------------\n",
    "bq_fields_to_create <- as_bq_fields(\n",
    "  list(\n",
    "    list(name = \"longitude\", type = \"STRING\"),\n",
    "    list(name = \"latitude\", type = \"STRING\"),\n",
    "    list(name = \"housing_median_age\", type = \"STRING\"),\n",
    "    list(name = \"total_rooms\", type = \"STRING\"),\n",
    "    list(name = \"total_bedrooms\", type = \"STRING\"),\n",
    "    list(name = \"population\", type = \"STRING\"),\n",
    "    list(name = \"households\", type = \"STRING\"),\n",
    "    list(name = \"median_income\", type = \"STRING\"),\n",
    "    list(name = \"median_house_value\", type = \"STRING\")\n",
    "    )\n",
    "  )\n"
   ]
  },
  {
   "cell_type": "code",
   "execution_count": null,
   "id": "a11d8fe5-1137-4958-b9b3-5d6d14972a56",
   "metadata": {
    "tags": [],
    "vscode": {
     "languageId": "r"
    }
   },
   "outputs": [],
   "source": [
    "## execute create table -----------------------------------------------------\n",
    "bq_table_create(bq_table_to_create,\n",
    "                bq_fields_to_create)"
   ]
  },
  {
   "cell_type": "code",
   "execution_count": null,
   "id": "4045e24f-803b-46cc-8df8-2f86ca331e29",
   "metadata": {
    "tags": []
   },
   "outputs": [],
   "source": [
    "## load data from GCS to BQ table ------------------------------------------\n",
    "bq_table_load(bq_table_to_create,\n",
    "              source_uris = sprintf(\"gs://%s/%s\",\n",
    "                                    bucket_name,\n",
    "                                    data_filename),\n",
    "              source_format = \"CSV\",\n",
    "              nskip = 1,\n",
    "              create_disposition = \"CREATE_IF_NEEDED\",\n",
    "              write_disposition = \"WRITE_TRUNCATE\")"
   ]
  },
  {
   "cell_type": "code",
   "execution_count": null,
   "id": "90a9cbf3-a01d-4898-b584-4d203f8b1cfb",
   "metadata": {
    "tags": [],
    "vscode": {
     "languageId": "r"
    }
   },
   "outputs": [],
   "source": [
    "## list tables to confirm creation ------------------------------------------\n",
    "query <- sprintf(\"SELECT * FROM `%s.%s.%s` LIMIT 100\",\n",
    "                 project_id, dataset_name, table_name)\n"
   ]
  },
  {
   "cell_type": "code",
   "execution_count": null,
   "id": "f2ba6033-29ec-40c0-b95b-c1efef29719a",
   "metadata": {
    "tags": [],
    "vscode": {
     "languageId": "r"
    }
   },
   "outputs": [],
   "source": [
    "bq_query_results <- bq_project_query(project_id, query)"
   ]
  },
  {
   "cell_type": "code",
   "execution_count": null,
   "id": "cc3ba88b-9189-4f36-acc7-926d47eed6d8",
   "metadata": {
    "tags": []
   },
   "outputs": [],
   "source": [
    "bq_data <- bq_table_download(bq_query_results)"
   ]
  },
  {
   "cell_type": "code",
   "execution_count": null,
   "id": "23987487-7c8b-4311-bab4-ee2fdd40e821",
   "metadata": {
    "tags": []
   },
   "outputs": [],
   "source": [
    "head(bq_data)"
   ]
  },
  {
   "cell_type": "markdown",
   "id": "9e0120ea-9738-43f8-a352-f09a548cc584",
   "metadata": {},
   "source": [
    "## cleanup\n"
   ]
  },
  {
   "cell_type": "markdown",
   "id": "5b73669f-34ec-4eba-8fa2-df58923ce396",
   "metadata": {},
   "source": [
    "### BQ - delete dataset and all underlying tables"
   ]
  },
  {
   "cell_type": "code",
   "execution_count": null,
   "id": "bbd0f4a5-8406-4cae-b8d6-ee792cf65cc8",
   "metadata": {
    "tags": [],
    "vscode": {
     "languageId": "r"
    }
   },
   "outputs": [],
   "source": [
    "bq_dataset_delete(bq_dataset(project_id, dataset_name), delete_contents = TRUE)"
   ]
  },
  {
   "cell_type": "markdown",
   "id": "2f78c91d-e472-44de-a949-eb0bb5408f65",
   "metadata": {},
   "source": [
    "### GCS - Delete bucket and all objects within"
   ]
  },
  {
   "cell_type": "code",
   "execution_count": null,
   "id": "96a7875d-4f02-4f6c-9eb2-9d7e3afae578",
   "metadata": {
    "tags": [],
    "vscode": {
     "languageId": "r"
    }
   },
   "outputs": [],
   "source": [
    "gcs_delete_bucket(bucket_name, force_delete = TRUE)"
   ]
  }
 ],
 "metadata": {
  "environment": {
   "kernel": "conda-env-r-env-r",
   "name": "workbench-notebooks.m121",
   "type": "gcloud",
   "uri": "us-docker.pkg.dev/deeplearning-platform-release/gcr.io/workbench-notebooks:m121"
  },
  "kernelspec": {
   "display_name": "R (Local)",
   "language": "R",
   "name": "conda-env-r-env-r"
  },
  "language_info": {
   "codemirror_mode": "r",
   "file_extension": ".r",
   "mimetype": "text/x-r-source",
   "name": "R",
   "pygments_lexer": "r",
   "version": "4.3.3"
  }
 },
 "nbformat": 4,
 "nbformat_minor": 5
}
